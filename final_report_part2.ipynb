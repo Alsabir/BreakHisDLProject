{
 "cells": [
  {
   "cell_type": "code",
   "execution_count": 95,
   "id": "ddf1dca0",
   "metadata": {},
   "outputs": [],
   "source": [
    "import torchvision\n",
    "import torch.nn as nn\n",
    "import torch\n",
    "import torch.nn.functional as F\n",
    "from torch.utils.data import DataLoader, Dataset\n",
    "from torchvision import transforms,models,datasets\n",
    "import matplotlib.pyplot as plt\n",
    "from PIL import Image\n",
    "import numpy as np\n",
    "from torch import optim\n",
    "device = 'cuda' if torch.cuda.is_available() else 'cpu'\n",
    "import cv2, glob, numpy as np, pandas as pd\n",
    "import matplotlib.pyplot as plt\n",
    "%matplotlib inline\n",
    "from glob import glob\n",
    "import os\n",
    "from torchsummary import summary\n",
    "from sklearn.metrics import f1_score, precision_score, recall_score, accuracy_score\n",
    "%matplotlib inline\n",
    "from sklearn.exceptions import UndefinedMetricWarning\n",
    "import warnings\n",
    "warnings.filterwarnings(action='ignore', category=UndefinedMetricWarning)\n",
    "import os\n",
    "from collections.abc import Iterable"
   ]
  },
  {
   "cell_type": "code",
   "execution_count": 96,
   "id": "b0284a6d",
   "metadata": {},
   "outputs": [],
   "source": [
    "DEVICE = 'cuda' if torch.cuda.is_available() else 'cpu'\n",
    "FOLD = 1"
   ]
  },
  {
   "cell_type": "markdown",
   "id": "d38c7c7f",
   "metadata": {},
   "source": [
    "## Loading data "
   ]
  },
  {
   "cell_type": "code",
   "execution_count": 97,
   "id": "c44e00ff",
   "metadata": {},
   "outputs": [],
   "source": [
    "paths_patients_malignant = glob(\"BreaKHis_v1/histology_slides/breast/malignant/*/*/*\")\n",
    "paths_patients_benign = glob(\"BreaKHis_v1/histology_slides/breast/benign/*/*/*\")\n"
   ]
  },
  {
   "cell_type": "code",
   "execution_count": 98,
   "id": "1dccc0a8",
   "metadata": {},
   "outputs": [],
   "source": [
    "from torch.utils.data import DataLoader, Dataset\n",
    "class imagesXNN(Dataset):\n",
    "  def __init__(self, paths):\n",
    "    self.fpaths = paths\n",
    "\n",
    "  def __len__(self): return len(self.fpaths)\n",
    "\n",
    "  def __getitem__(self, ix):\n",
    "    f = self.fpaths[ix]\n",
    "    res = torch.tensor(int(\"malignant\" in f)).type(torch.LongTensor)\n",
    "    im = cv2.imread(f)[:,:,::-1]\n",
    "    return transforms.Compose([transforms.RandomCrop(440), \n",
    "                               transforms.RandomHorizontalFlip(), \n",
    "                               transforms.RandomVerticalFlip()])(torch.tensor(im/255).permute(2,0,1).float()), res\n",
    "\n",
    "\n",
    "\n",
    "from torch.utils.data import DataLoader, Dataset\n",
    "class imagesTestXNN(Dataset):\n",
    "  def __init__(self, paths):\n",
    "    self.fpaths = paths\n",
    "\n",
    "  def __len__(self): return len(self.fpaths)\n",
    "\n",
    "  def __getitem__(self, ix):\n",
    "    f = self.fpaths[ix]\n",
    "    res = torch.tensor(int(\"malignant\" in f)).type(torch.LongTensor)\n",
    "    im = cv2.imread(f)[:,:,::-1]\n",
    "    return transforms.Compose([transforms.CenterCrop(440)])(torch.tensor(im/255).permute(2,0,1).float()), res\n",
    "\n"
   ]
  },
  {
   "cell_type": "code",
   "execution_count": 99,
   "id": "88c053ff",
   "metadata": {},
   "outputs": [],
   "source": [
    "from sklearn.model_selection import train_test_split\n",
    "from collections import defaultdict\n",
    "train_mali, test_mali = train_test_split(paths_patients_malignant, train_size=0.8)\n",
    "train_ben, test_ben = train_test_split(paths_patients_benign, train_size=0.8)"
   ]
  },
  {
   "cell_type": "code",
   "execution_count": 100,
   "id": "555b91d8",
   "metadata": {},
   "outputs": [],
   "source": [
    "mali_train_40 = [i for j in train_mali for i in glob(f\"{j}/40X/*.png\")]\n",
    "mali_train_100 = [i for j in train_mali for i in glob(f\"{j}/100X/*.png\")]\n",
    "mali_train_200 = [i for j in train_mali for i in glob(f\"{j}/200X/*.png\")]\n",
    "mali_train_400 = [i for j in train_mali for i in glob(f\"{j}/400X/*.png\")]\n",
    "ben_train_40 = [i for j in train_ben for i in glob(f\"{j}/40X/*.png\")]\n",
    "ben_train_100 = [i for j in train_ben for i in glob(f\"{j}/100X/*.png\")]\n",
    "ben_train_200 = [i for j in train_ben for i in glob(f\"{j}/200X/*.png\")]\n",
    "ben_train_400 = [i for j in train_ben for i in glob(f\"{j}/400X/*.png\")]"
   ]
  },
  {
   "cell_type": "code",
   "execution_count": 101,
   "id": "dbabafae",
   "metadata": {},
   "outputs": [],
   "source": [
    "mali_test_40 = [i for j in test_mali for i in glob(f\"{j}/40X/*.png\")]\n",
    "mali_test_100 = [i for j in test_mali for i in glob(f\"{j}/100X/*.png\")]\n",
    "mali_test_200 = [i for j in test_mali for i in glob(f\"{j}/200X/*.png\")]\n",
    "mali_test_400 = [i for j in test_mali for i in glob(f\"{j}/400X/*.png\")]\n",
    "ben_test_40 = [i for j in test_ben for i in glob(f\"{j}/40X/*.png\")]\n",
    "ben_test_100 = [i for j in test_ben for i in glob(f\"{j}/100X/*.png\")]\n",
    "ben_test_200 = [i for j in test_ben for i in glob(f\"{j}/200X/*.png\")]\n",
    "ben_test_400 = [i for j in test_ben for i in glob(f\"{j}/400X/*.png\")]"
   ]
  },
  {
   "cell_type": "code",
   "execution_count": 102,
   "id": "cf2a1dc7",
   "metadata": {},
   "outputs": [
    {
     "data": {
      "text/plain": [
       "7909"
      ]
     },
     "execution_count": 102,
     "metadata": {},
     "output_type": "execute_result"
    }
   ],
   "source": [
    "len(mali_train_40)+len(mali_train_100)+len(mali_train_200)+len(mali_train_400)+\\\n",
    "   len(ben_train_40)+len(ben_train_100)+len(ben_train_200)+len(ben_train_400) +\\\n",
    "len(mali_test_40)+len(mali_test_100)+len(mali_test_200)+len(mali_test_400)+\\\n",
    "   len(ben_test_40)+len(ben_test_100)+len(ben_test_200)+len(ben_test_400)"
   ]
  },
  {
   "cell_type": "code",
   "execution_count": 103,
   "id": "a2cffb1c",
   "metadata": {},
   "outputs": [],
   "source": [
    "train_40 = imagesXNN(mali_train_40 + ben_train_40)\n",
    "test_40 = imagesTestXNN(mali_test_40+ ben_test_40)"
   ]
  },
  {
   "cell_type": "code",
   "execution_count": 104,
   "id": "2d14ea84",
   "metadata": {},
   "outputs": [],
   "source": [
    "trn_dl = DataLoader(train_40, batch_size=2, shuffle=True, drop_last = True, num_workers = 0)\n",
    "test_dl = DataLoader(test_40, batch_size=2, shuffle=False, num_workers = 0)"
   ]
  },
  {
   "cell_type": "markdown",
   "id": "677ed790",
   "metadata": {},
   "source": [
    "## Basic pretrained model"
   ]
  },
  {
   "cell_type": "code",
   "execution_count": 454,
   "id": "8669ae76",
   "metadata": {},
   "outputs": [],
   "source": [
    "model = torchvision.models.efficientnet_v2_s(weights=torchvision.models.EfficientNet_V2_S_Weights.DEFAULT)\n",
    "#model = torchvision.models.efficientnet_v2_s()\n",
    "modelname=\"efficientnet_v2_s\"\n",
    "for param in model.features.parameters():\n",
    "    param.requires_grad = True"
   ]
  },
  {
   "cell_type": "code",
   "execution_count": 455,
   "id": "db2c793d",
   "metadata": {},
   "outputs": [],
   "source": [
    "model.classifier = nn.Sequential( nn.Linear(1280, 512),nn.Dropout(0.2, inplace=True),nn.ReLU(), nn.Linear(512, 2))"
   ]
  },
  {
   "cell_type": "code",
   "execution_count": 456,
   "id": "7a73c756",
   "metadata": {},
   "outputs": [],
   "source": [
    "loss_fn = nn.CrossEntropyLoss()\n",
    "optimizer = torch.optim.Adam(model.parameters(), lr= 1e-6)"
   ]
  },
  {
   "cell_type": "code",
   "execution_count": 457,
   "id": "05727043",
   "metadata": {},
   "outputs": [],
   "source": [
    "model = model.to(device)"
   ]
  },
  {
   "cell_type": "code",
   "execution_count": 458,
   "id": "f65ae759",
   "metadata": {},
   "outputs": [
    {
     "name": "stdout",
     "output_type": "stream",
     "text": [
      "----------------------------------------------------------------\n",
      "        Layer (type)               Output Shape         Param #\n",
      "================================================================\n",
      "            Conv2d-1         [-1, 24, 230, 230]             648\n",
      "       BatchNorm2d-2         [-1, 24, 230, 230]              48\n",
      "              SiLU-3         [-1, 24, 230, 230]               0\n",
      "            Conv2d-4         [-1, 24, 230, 230]           5,184\n",
      "       BatchNorm2d-5         [-1, 24, 230, 230]              48\n",
      "              SiLU-6         [-1, 24, 230, 230]               0\n",
      "   StochasticDepth-7         [-1, 24, 230, 230]               0\n",
      "       FusedMBConv-8         [-1, 24, 230, 230]               0\n",
      "            Conv2d-9         [-1, 24, 230, 230]           5,184\n",
      "      BatchNorm2d-10         [-1, 24, 230, 230]              48\n",
      "             SiLU-11         [-1, 24, 230, 230]               0\n",
      "  StochasticDepth-12         [-1, 24, 230, 230]               0\n",
      "      FusedMBConv-13         [-1, 24, 230, 230]               0\n",
      "           Conv2d-14         [-1, 96, 115, 115]          20,736\n",
      "      BatchNorm2d-15         [-1, 96, 115, 115]             192\n",
      "             SiLU-16         [-1, 96, 115, 115]               0\n",
      "           Conv2d-17         [-1, 48, 115, 115]           4,608\n",
      "      BatchNorm2d-18         [-1, 48, 115, 115]              96\n",
      "      FusedMBConv-19         [-1, 48, 115, 115]               0\n",
      "           Conv2d-20        [-1, 192, 115, 115]          82,944\n",
      "      BatchNorm2d-21        [-1, 192, 115, 115]             384\n",
      "             SiLU-22        [-1, 192, 115, 115]               0\n",
      "           Conv2d-23         [-1, 48, 115, 115]           9,216\n",
      "      BatchNorm2d-24         [-1, 48, 115, 115]              96\n",
      "  StochasticDepth-25         [-1, 48, 115, 115]               0\n",
      "      FusedMBConv-26         [-1, 48, 115, 115]               0\n",
      "           Conv2d-27        [-1, 192, 115, 115]          82,944\n",
      "      BatchNorm2d-28        [-1, 192, 115, 115]             384\n",
      "             SiLU-29        [-1, 192, 115, 115]               0\n",
      "           Conv2d-30         [-1, 48, 115, 115]           9,216\n",
      "      BatchNorm2d-31         [-1, 48, 115, 115]              96\n",
      "  StochasticDepth-32         [-1, 48, 115, 115]               0\n",
      "      FusedMBConv-33         [-1, 48, 115, 115]               0\n",
      "           Conv2d-34        [-1, 192, 115, 115]          82,944\n",
      "      BatchNorm2d-35        [-1, 192, 115, 115]             384\n",
      "             SiLU-36        [-1, 192, 115, 115]               0\n",
      "           Conv2d-37         [-1, 48, 115, 115]           9,216\n",
      "      BatchNorm2d-38         [-1, 48, 115, 115]              96\n",
      "  StochasticDepth-39         [-1, 48, 115, 115]               0\n",
      "      FusedMBConv-40         [-1, 48, 115, 115]               0\n",
      "           Conv2d-41          [-1, 192, 58, 58]          82,944\n",
      "      BatchNorm2d-42          [-1, 192, 58, 58]             384\n",
      "             SiLU-43          [-1, 192, 58, 58]               0\n",
      "           Conv2d-44           [-1, 64, 58, 58]          12,288\n",
      "      BatchNorm2d-45           [-1, 64, 58, 58]             128\n",
      "      FusedMBConv-46           [-1, 64, 58, 58]               0\n",
      "           Conv2d-47          [-1, 256, 58, 58]         147,456\n",
      "      BatchNorm2d-48          [-1, 256, 58, 58]             512\n",
      "             SiLU-49          [-1, 256, 58, 58]               0\n",
      "           Conv2d-50           [-1, 64, 58, 58]          16,384\n",
      "      BatchNorm2d-51           [-1, 64, 58, 58]             128\n",
      "  StochasticDepth-52           [-1, 64, 58, 58]               0\n",
      "      FusedMBConv-53           [-1, 64, 58, 58]               0\n",
      "           Conv2d-54          [-1, 256, 58, 58]         147,456\n",
      "      BatchNorm2d-55          [-1, 256, 58, 58]             512\n",
      "             SiLU-56          [-1, 256, 58, 58]               0\n",
      "           Conv2d-57           [-1, 64, 58, 58]          16,384\n",
      "      BatchNorm2d-58           [-1, 64, 58, 58]             128\n",
      "  StochasticDepth-59           [-1, 64, 58, 58]               0\n",
      "      FusedMBConv-60           [-1, 64, 58, 58]               0\n",
      "           Conv2d-61          [-1, 256, 58, 58]         147,456\n",
      "      BatchNorm2d-62          [-1, 256, 58, 58]             512\n",
      "             SiLU-63          [-1, 256, 58, 58]               0\n",
      "           Conv2d-64           [-1, 64, 58, 58]          16,384\n",
      "      BatchNorm2d-65           [-1, 64, 58, 58]             128\n",
      "  StochasticDepth-66           [-1, 64, 58, 58]               0\n",
      "      FusedMBConv-67           [-1, 64, 58, 58]               0\n",
      "           Conv2d-68          [-1, 256, 58, 58]          16,384\n",
      "      BatchNorm2d-69          [-1, 256, 58, 58]             512\n",
      "             SiLU-70          [-1, 256, 58, 58]               0\n",
      "           Conv2d-71          [-1, 256, 29, 29]           2,304\n",
      "      BatchNorm2d-72          [-1, 256, 29, 29]             512\n",
      "             SiLU-73          [-1, 256, 29, 29]               0\n",
      "AdaptiveAvgPool2d-74            [-1, 256, 1, 1]               0\n",
      "           Conv2d-75             [-1, 16, 1, 1]           4,112\n",
      "             SiLU-76             [-1, 16, 1, 1]               0\n",
      "           Conv2d-77            [-1, 256, 1, 1]           4,352\n",
      "          Sigmoid-78            [-1, 256, 1, 1]               0\n",
      "SqueezeExcitation-79          [-1, 256, 29, 29]               0\n",
      "           Conv2d-80          [-1, 128, 29, 29]          32,768\n",
      "      BatchNorm2d-81          [-1, 128, 29, 29]             256\n",
      "           MBConv-82          [-1, 128, 29, 29]               0\n",
      "           Conv2d-83          [-1, 512, 29, 29]          65,536\n",
      "      BatchNorm2d-84          [-1, 512, 29, 29]           1,024\n",
      "             SiLU-85          [-1, 512, 29, 29]               0\n",
      "           Conv2d-86          [-1, 512, 29, 29]           4,608\n",
      "      BatchNorm2d-87          [-1, 512, 29, 29]           1,024\n",
      "             SiLU-88          [-1, 512, 29, 29]               0\n",
      "AdaptiveAvgPool2d-89            [-1, 512, 1, 1]               0\n",
      "           Conv2d-90             [-1, 32, 1, 1]          16,416\n",
      "             SiLU-91             [-1, 32, 1, 1]               0\n",
      "           Conv2d-92            [-1, 512, 1, 1]          16,896\n",
      "          Sigmoid-93            [-1, 512, 1, 1]               0\n",
      "SqueezeExcitation-94          [-1, 512, 29, 29]               0\n",
      "           Conv2d-95          [-1, 128, 29, 29]          65,536\n",
      "      BatchNorm2d-96          [-1, 128, 29, 29]             256\n",
      "  StochasticDepth-97          [-1, 128, 29, 29]               0\n",
      "           MBConv-98          [-1, 128, 29, 29]               0\n",
      "           Conv2d-99          [-1, 512, 29, 29]          65,536\n",
      "     BatchNorm2d-100          [-1, 512, 29, 29]           1,024\n",
      "            SiLU-101          [-1, 512, 29, 29]               0\n",
      "          Conv2d-102          [-1, 512, 29, 29]           4,608\n",
      "     BatchNorm2d-103          [-1, 512, 29, 29]           1,024\n",
      "            SiLU-104          [-1, 512, 29, 29]               0\n",
      "AdaptiveAvgPool2d-105            [-1, 512, 1, 1]               0\n",
      "          Conv2d-106             [-1, 32, 1, 1]          16,416\n",
      "            SiLU-107             [-1, 32, 1, 1]               0\n",
      "          Conv2d-108            [-1, 512, 1, 1]          16,896\n",
      "         Sigmoid-109            [-1, 512, 1, 1]               0\n",
      "SqueezeExcitation-110          [-1, 512, 29, 29]               0\n",
      "          Conv2d-111          [-1, 128, 29, 29]          65,536\n",
      "     BatchNorm2d-112          [-1, 128, 29, 29]             256\n",
      " StochasticDepth-113          [-1, 128, 29, 29]               0\n",
      "          MBConv-114          [-1, 128, 29, 29]               0\n",
      "          Conv2d-115          [-1, 512, 29, 29]          65,536\n",
      "     BatchNorm2d-116          [-1, 512, 29, 29]           1,024\n",
      "            SiLU-117          [-1, 512, 29, 29]               0\n",
      "          Conv2d-118          [-1, 512, 29, 29]           4,608\n",
      "     BatchNorm2d-119          [-1, 512, 29, 29]           1,024\n",
      "            SiLU-120          [-1, 512, 29, 29]               0\n",
      "AdaptiveAvgPool2d-121            [-1, 512, 1, 1]               0\n",
      "          Conv2d-122             [-1, 32, 1, 1]          16,416\n",
      "            SiLU-123             [-1, 32, 1, 1]               0\n",
      "          Conv2d-124            [-1, 512, 1, 1]          16,896\n",
      "         Sigmoid-125            [-1, 512, 1, 1]               0\n",
      "SqueezeExcitation-126          [-1, 512, 29, 29]               0\n",
      "          Conv2d-127          [-1, 128, 29, 29]          65,536\n",
      "     BatchNorm2d-128          [-1, 128, 29, 29]             256\n",
      " StochasticDepth-129          [-1, 128, 29, 29]               0\n",
      "          MBConv-130          [-1, 128, 29, 29]               0\n",
      "          Conv2d-131          [-1, 512, 29, 29]          65,536\n",
      "     BatchNorm2d-132          [-1, 512, 29, 29]           1,024\n",
      "            SiLU-133          [-1, 512, 29, 29]               0\n",
      "          Conv2d-134          [-1, 512, 29, 29]           4,608\n",
      "     BatchNorm2d-135          [-1, 512, 29, 29]           1,024\n",
      "            SiLU-136          [-1, 512, 29, 29]               0\n",
      "AdaptiveAvgPool2d-137            [-1, 512, 1, 1]               0\n",
      "          Conv2d-138             [-1, 32, 1, 1]          16,416\n",
      "            SiLU-139             [-1, 32, 1, 1]               0\n",
      "          Conv2d-140            [-1, 512, 1, 1]          16,896\n",
      "         Sigmoid-141            [-1, 512, 1, 1]               0\n",
      "SqueezeExcitation-142          [-1, 512, 29, 29]               0\n",
      "          Conv2d-143          [-1, 128, 29, 29]          65,536\n",
      "     BatchNorm2d-144          [-1, 128, 29, 29]             256\n",
      " StochasticDepth-145          [-1, 128, 29, 29]               0\n",
      "          MBConv-146          [-1, 128, 29, 29]               0\n",
      "          Conv2d-147          [-1, 512, 29, 29]          65,536\n",
      "     BatchNorm2d-148          [-1, 512, 29, 29]           1,024\n",
      "            SiLU-149          [-1, 512, 29, 29]               0\n",
      "          Conv2d-150          [-1, 512, 29, 29]           4,608\n",
      "     BatchNorm2d-151          [-1, 512, 29, 29]           1,024\n",
      "            SiLU-152          [-1, 512, 29, 29]               0\n",
      "AdaptiveAvgPool2d-153            [-1, 512, 1, 1]               0\n",
      "          Conv2d-154             [-1, 32, 1, 1]          16,416\n",
      "            SiLU-155             [-1, 32, 1, 1]               0\n",
      "          Conv2d-156            [-1, 512, 1, 1]          16,896\n",
      "         Sigmoid-157            [-1, 512, 1, 1]               0\n",
      "SqueezeExcitation-158          [-1, 512, 29, 29]               0\n",
      "          Conv2d-159          [-1, 128, 29, 29]          65,536\n",
      "     BatchNorm2d-160          [-1, 128, 29, 29]             256\n",
      " StochasticDepth-161          [-1, 128, 29, 29]               0\n",
      "          MBConv-162          [-1, 128, 29, 29]               0\n",
      "          Conv2d-163          [-1, 768, 29, 29]          98,304\n",
      "     BatchNorm2d-164          [-1, 768, 29, 29]           1,536\n",
      "            SiLU-165          [-1, 768, 29, 29]               0\n",
      "          Conv2d-166          [-1, 768, 29, 29]           6,912\n",
      "     BatchNorm2d-167          [-1, 768, 29, 29]           1,536\n",
      "            SiLU-168          [-1, 768, 29, 29]               0\n",
      "AdaptiveAvgPool2d-169            [-1, 768, 1, 1]               0\n",
      "          Conv2d-170             [-1, 32, 1, 1]          24,608\n",
      "            SiLU-171             [-1, 32, 1, 1]               0\n",
      "          Conv2d-172            [-1, 768, 1, 1]          25,344\n",
      "         Sigmoid-173            [-1, 768, 1, 1]               0\n",
      "SqueezeExcitation-174          [-1, 768, 29, 29]               0\n",
      "          Conv2d-175          [-1, 160, 29, 29]         122,880\n",
      "     BatchNorm2d-176          [-1, 160, 29, 29]             320\n",
      "          MBConv-177          [-1, 160, 29, 29]               0\n",
      "          Conv2d-178          [-1, 960, 29, 29]         153,600\n",
      "     BatchNorm2d-179          [-1, 960, 29, 29]           1,920\n",
      "            SiLU-180          [-1, 960, 29, 29]               0\n",
      "          Conv2d-181          [-1, 960, 29, 29]           8,640\n",
      "     BatchNorm2d-182          [-1, 960, 29, 29]           1,920\n",
      "            SiLU-183          [-1, 960, 29, 29]               0\n",
      "AdaptiveAvgPool2d-184            [-1, 960, 1, 1]               0\n",
      "          Conv2d-185             [-1, 40, 1, 1]          38,440\n",
      "            SiLU-186             [-1, 40, 1, 1]               0\n",
      "          Conv2d-187            [-1, 960, 1, 1]          39,360\n",
      "         Sigmoid-188            [-1, 960, 1, 1]               0\n",
      "SqueezeExcitation-189          [-1, 960, 29, 29]               0\n",
      "          Conv2d-190          [-1, 160, 29, 29]         153,600\n",
      "     BatchNorm2d-191          [-1, 160, 29, 29]             320\n",
      " StochasticDepth-192          [-1, 160, 29, 29]               0\n",
      "          MBConv-193          [-1, 160, 29, 29]               0\n",
      "          Conv2d-194          [-1, 960, 29, 29]         153,600\n",
      "     BatchNorm2d-195          [-1, 960, 29, 29]           1,920\n",
      "            SiLU-196          [-1, 960, 29, 29]               0\n",
      "          Conv2d-197          [-1, 960, 29, 29]           8,640\n",
      "     BatchNorm2d-198          [-1, 960, 29, 29]           1,920\n",
      "            SiLU-199          [-1, 960, 29, 29]               0\n",
      "AdaptiveAvgPool2d-200            [-1, 960, 1, 1]               0\n",
      "          Conv2d-201             [-1, 40, 1, 1]          38,440\n",
      "            SiLU-202             [-1, 40, 1, 1]               0\n",
      "          Conv2d-203            [-1, 960, 1, 1]          39,360\n",
      "         Sigmoid-204            [-1, 960, 1, 1]               0\n",
      "SqueezeExcitation-205          [-1, 960, 29, 29]               0\n",
      "          Conv2d-206          [-1, 160, 29, 29]         153,600\n",
      "     BatchNorm2d-207          [-1, 160, 29, 29]             320\n",
      " StochasticDepth-208          [-1, 160, 29, 29]               0\n",
      "          MBConv-209          [-1, 160, 29, 29]               0\n",
      "          Conv2d-210          [-1, 960, 29, 29]         153,600\n",
      "     BatchNorm2d-211          [-1, 960, 29, 29]           1,920\n",
      "            SiLU-212          [-1, 960, 29, 29]               0\n",
      "          Conv2d-213          [-1, 960, 29, 29]           8,640\n",
      "     BatchNorm2d-214          [-1, 960, 29, 29]           1,920\n",
      "            SiLU-215          [-1, 960, 29, 29]               0\n",
      "AdaptiveAvgPool2d-216            [-1, 960, 1, 1]               0\n",
      "          Conv2d-217             [-1, 40, 1, 1]          38,440\n",
      "            SiLU-218             [-1, 40, 1, 1]               0\n",
      "          Conv2d-219            [-1, 960, 1, 1]          39,360\n",
      "         Sigmoid-220            [-1, 960, 1, 1]               0\n",
      "SqueezeExcitation-221          [-1, 960, 29, 29]               0\n",
      "          Conv2d-222          [-1, 160, 29, 29]         153,600\n",
      "     BatchNorm2d-223          [-1, 160, 29, 29]             320\n",
      " StochasticDepth-224          [-1, 160, 29, 29]               0\n",
      "          MBConv-225          [-1, 160, 29, 29]               0\n",
      "          Conv2d-226          [-1, 960, 29, 29]         153,600\n",
      "     BatchNorm2d-227          [-1, 960, 29, 29]           1,920\n",
      "            SiLU-228          [-1, 960, 29, 29]               0\n",
      "          Conv2d-229          [-1, 960, 29, 29]           8,640\n",
      "     BatchNorm2d-230          [-1, 960, 29, 29]           1,920\n",
      "            SiLU-231          [-1, 960, 29, 29]               0\n",
      "AdaptiveAvgPool2d-232            [-1, 960, 1, 1]               0\n",
      "          Conv2d-233             [-1, 40, 1, 1]          38,440\n",
      "            SiLU-234             [-1, 40, 1, 1]               0\n",
      "          Conv2d-235            [-1, 960, 1, 1]          39,360\n",
      "         Sigmoid-236            [-1, 960, 1, 1]               0\n",
      "SqueezeExcitation-237          [-1, 960, 29, 29]               0\n",
      "          Conv2d-238          [-1, 160, 29, 29]         153,600\n",
      "     BatchNorm2d-239          [-1, 160, 29, 29]             320\n",
      " StochasticDepth-240          [-1, 160, 29, 29]               0\n",
      "          MBConv-241          [-1, 160, 29, 29]               0\n",
      "          Conv2d-242          [-1, 960, 29, 29]         153,600\n",
      "     BatchNorm2d-243          [-1, 960, 29, 29]           1,920\n",
      "            SiLU-244          [-1, 960, 29, 29]               0\n",
      "          Conv2d-245          [-1, 960, 29, 29]           8,640\n",
      "     BatchNorm2d-246          [-1, 960, 29, 29]           1,920\n",
      "            SiLU-247          [-1, 960, 29, 29]               0\n",
      "AdaptiveAvgPool2d-248            [-1, 960, 1, 1]               0\n",
      "          Conv2d-249             [-1, 40, 1, 1]          38,440\n",
      "            SiLU-250             [-1, 40, 1, 1]               0\n",
      "          Conv2d-251            [-1, 960, 1, 1]          39,360\n",
      "         Sigmoid-252            [-1, 960, 1, 1]               0\n",
      "SqueezeExcitation-253          [-1, 960, 29, 29]               0\n",
      "          Conv2d-254          [-1, 160, 29, 29]         153,600\n",
      "     BatchNorm2d-255          [-1, 160, 29, 29]             320\n",
      " StochasticDepth-256          [-1, 160, 29, 29]               0\n",
      "          MBConv-257          [-1, 160, 29, 29]               0\n",
      "          Conv2d-258          [-1, 960, 29, 29]         153,600\n",
      "     BatchNorm2d-259          [-1, 960, 29, 29]           1,920\n",
      "            SiLU-260          [-1, 960, 29, 29]               0\n",
      "          Conv2d-261          [-1, 960, 29, 29]           8,640\n",
      "     BatchNorm2d-262          [-1, 960, 29, 29]           1,920\n",
      "            SiLU-263          [-1, 960, 29, 29]               0\n",
      "AdaptiveAvgPool2d-264            [-1, 960, 1, 1]               0\n",
      "          Conv2d-265             [-1, 40, 1, 1]          38,440\n",
      "            SiLU-266             [-1, 40, 1, 1]               0\n",
      "          Conv2d-267            [-1, 960, 1, 1]          39,360\n",
      "         Sigmoid-268            [-1, 960, 1, 1]               0\n",
      "SqueezeExcitation-269          [-1, 960, 29, 29]               0\n",
      "          Conv2d-270          [-1, 160, 29, 29]         153,600\n",
      "     BatchNorm2d-271          [-1, 160, 29, 29]             320\n",
      " StochasticDepth-272          [-1, 160, 29, 29]               0\n",
      "          MBConv-273          [-1, 160, 29, 29]               0\n",
      "          Conv2d-274          [-1, 960, 29, 29]         153,600\n",
      "     BatchNorm2d-275          [-1, 960, 29, 29]           1,920\n",
      "            SiLU-276          [-1, 960, 29, 29]               0\n",
      "          Conv2d-277          [-1, 960, 29, 29]           8,640\n",
      "     BatchNorm2d-278          [-1, 960, 29, 29]           1,920\n",
      "            SiLU-279          [-1, 960, 29, 29]               0\n",
      "AdaptiveAvgPool2d-280            [-1, 960, 1, 1]               0\n",
      "          Conv2d-281             [-1, 40, 1, 1]          38,440\n",
      "            SiLU-282             [-1, 40, 1, 1]               0\n",
      "          Conv2d-283            [-1, 960, 1, 1]          39,360\n",
      "         Sigmoid-284            [-1, 960, 1, 1]               0\n",
      "SqueezeExcitation-285          [-1, 960, 29, 29]               0\n",
      "          Conv2d-286          [-1, 160, 29, 29]         153,600\n",
      "     BatchNorm2d-287          [-1, 160, 29, 29]             320\n",
      " StochasticDepth-288          [-1, 160, 29, 29]               0\n",
      "          MBConv-289          [-1, 160, 29, 29]               0\n",
      "          Conv2d-290          [-1, 960, 29, 29]         153,600\n",
      "     BatchNorm2d-291          [-1, 960, 29, 29]           1,920\n",
      "            SiLU-292          [-1, 960, 29, 29]               0\n",
      "          Conv2d-293          [-1, 960, 29, 29]           8,640\n",
      "     BatchNorm2d-294          [-1, 960, 29, 29]           1,920\n",
      "            SiLU-295          [-1, 960, 29, 29]               0\n",
      "AdaptiveAvgPool2d-296            [-1, 960, 1, 1]               0\n",
      "          Conv2d-297             [-1, 40, 1, 1]          38,440\n",
      "            SiLU-298             [-1, 40, 1, 1]               0\n",
      "          Conv2d-299            [-1, 960, 1, 1]          39,360\n",
      "         Sigmoid-300            [-1, 960, 1, 1]               0\n",
      "SqueezeExcitation-301          [-1, 960, 29, 29]               0\n",
      "          Conv2d-302          [-1, 160, 29, 29]         153,600\n",
      "     BatchNorm2d-303          [-1, 160, 29, 29]             320\n",
      " StochasticDepth-304          [-1, 160, 29, 29]               0\n",
      "          MBConv-305          [-1, 160, 29, 29]               0\n",
      "          Conv2d-306          [-1, 960, 29, 29]         153,600\n",
      "     BatchNorm2d-307          [-1, 960, 29, 29]           1,920\n",
      "            SiLU-308          [-1, 960, 29, 29]               0\n",
      "          Conv2d-309          [-1, 960, 15, 15]           8,640\n",
      "     BatchNorm2d-310          [-1, 960, 15, 15]           1,920\n",
      "            SiLU-311          [-1, 960, 15, 15]               0\n",
      "AdaptiveAvgPool2d-312            [-1, 960, 1, 1]               0\n",
      "          Conv2d-313             [-1, 40, 1, 1]          38,440\n",
      "            SiLU-314             [-1, 40, 1, 1]               0\n",
      "          Conv2d-315            [-1, 960, 1, 1]          39,360\n",
      "         Sigmoid-316            [-1, 960, 1, 1]               0\n",
      "SqueezeExcitation-317          [-1, 960, 15, 15]               0\n",
      "          Conv2d-318          [-1, 256, 15, 15]         245,760\n",
      "     BatchNorm2d-319          [-1, 256, 15, 15]             512\n",
      "          MBConv-320          [-1, 256, 15, 15]               0\n",
      "          Conv2d-321         [-1, 1536, 15, 15]         393,216\n",
      "     BatchNorm2d-322         [-1, 1536, 15, 15]           3,072\n",
      "            SiLU-323         [-1, 1536, 15, 15]               0\n",
      "          Conv2d-324         [-1, 1536, 15, 15]          13,824\n",
      "     BatchNorm2d-325         [-1, 1536, 15, 15]           3,072\n",
      "            SiLU-326         [-1, 1536, 15, 15]               0\n",
      "AdaptiveAvgPool2d-327           [-1, 1536, 1, 1]               0\n",
      "          Conv2d-328             [-1, 64, 1, 1]          98,368\n",
      "            SiLU-329             [-1, 64, 1, 1]               0\n",
      "          Conv2d-330           [-1, 1536, 1, 1]          99,840\n",
      "         Sigmoid-331           [-1, 1536, 1, 1]               0\n",
      "SqueezeExcitation-332         [-1, 1536, 15, 15]               0\n",
      "          Conv2d-333          [-1, 256, 15, 15]         393,216\n",
      "     BatchNorm2d-334          [-1, 256, 15, 15]             512\n",
      " StochasticDepth-335          [-1, 256, 15, 15]               0\n",
      "          MBConv-336          [-1, 256, 15, 15]               0\n",
      "          Conv2d-337         [-1, 1536, 15, 15]         393,216\n",
      "     BatchNorm2d-338         [-1, 1536, 15, 15]           3,072\n",
      "            SiLU-339         [-1, 1536, 15, 15]               0\n",
      "          Conv2d-340         [-1, 1536, 15, 15]          13,824\n",
      "     BatchNorm2d-341         [-1, 1536, 15, 15]           3,072\n",
      "            SiLU-342         [-1, 1536, 15, 15]               0\n",
      "AdaptiveAvgPool2d-343           [-1, 1536, 1, 1]               0\n",
      "          Conv2d-344             [-1, 64, 1, 1]          98,368\n",
      "            SiLU-345             [-1, 64, 1, 1]               0\n",
      "          Conv2d-346           [-1, 1536, 1, 1]          99,840\n",
      "         Sigmoid-347           [-1, 1536, 1, 1]               0\n",
      "SqueezeExcitation-348         [-1, 1536, 15, 15]               0\n",
      "          Conv2d-349          [-1, 256, 15, 15]         393,216\n",
      "     BatchNorm2d-350          [-1, 256, 15, 15]             512\n",
      " StochasticDepth-351          [-1, 256, 15, 15]               0\n",
      "          MBConv-352          [-1, 256, 15, 15]               0\n",
      "          Conv2d-353         [-1, 1536, 15, 15]         393,216\n",
      "     BatchNorm2d-354         [-1, 1536, 15, 15]           3,072\n",
      "            SiLU-355         [-1, 1536, 15, 15]               0\n",
      "          Conv2d-356         [-1, 1536, 15, 15]          13,824\n",
      "     BatchNorm2d-357         [-1, 1536, 15, 15]           3,072\n",
      "            SiLU-358         [-1, 1536, 15, 15]               0\n",
      "AdaptiveAvgPool2d-359           [-1, 1536, 1, 1]               0\n",
      "          Conv2d-360             [-1, 64, 1, 1]          98,368\n",
      "            SiLU-361             [-1, 64, 1, 1]               0\n",
      "          Conv2d-362           [-1, 1536, 1, 1]          99,840\n",
      "         Sigmoid-363           [-1, 1536, 1, 1]               0\n",
      "SqueezeExcitation-364         [-1, 1536, 15, 15]               0\n",
      "          Conv2d-365          [-1, 256, 15, 15]         393,216\n",
      "     BatchNorm2d-366          [-1, 256, 15, 15]             512\n",
      " StochasticDepth-367          [-1, 256, 15, 15]               0\n",
      "          MBConv-368          [-1, 256, 15, 15]               0\n",
      "          Conv2d-369         [-1, 1536, 15, 15]         393,216\n",
      "     BatchNorm2d-370         [-1, 1536, 15, 15]           3,072\n",
      "            SiLU-371         [-1, 1536, 15, 15]               0\n",
      "          Conv2d-372         [-1, 1536, 15, 15]          13,824\n",
      "     BatchNorm2d-373         [-1, 1536, 15, 15]           3,072\n",
      "            SiLU-374         [-1, 1536, 15, 15]               0\n",
      "AdaptiveAvgPool2d-375           [-1, 1536, 1, 1]               0\n",
      "          Conv2d-376             [-1, 64, 1, 1]          98,368\n",
      "            SiLU-377             [-1, 64, 1, 1]               0\n",
      "          Conv2d-378           [-1, 1536, 1, 1]          99,840\n",
      "         Sigmoid-379           [-1, 1536, 1, 1]               0\n",
      "SqueezeExcitation-380         [-1, 1536, 15, 15]               0\n",
      "          Conv2d-381          [-1, 256, 15, 15]         393,216\n",
      "     BatchNorm2d-382          [-1, 256, 15, 15]             512\n",
      " StochasticDepth-383          [-1, 256, 15, 15]               0\n",
      "          MBConv-384          [-1, 256, 15, 15]               0\n",
      "          Conv2d-385         [-1, 1536, 15, 15]         393,216\n",
      "     BatchNorm2d-386         [-1, 1536, 15, 15]           3,072\n",
      "            SiLU-387         [-1, 1536, 15, 15]               0\n",
      "          Conv2d-388         [-1, 1536, 15, 15]          13,824\n",
      "     BatchNorm2d-389         [-1, 1536, 15, 15]           3,072\n",
      "            SiLU-390         [-1, 1536, 15, 15]               0\n",
      "AdaptiveAvgPool2d-391           [-1, 1536, 1, 1]               0\n",
      "          Conv2d-392             [-1, 64, 1, 1]          98,368\n",
      "            SiLU-393             [-1, 64, 1, 1]               0\n",
      "          Conv2d-394           [-1, 1536, 1, 1]          99,840\n",
      "         Sigmoid-395           [-1, 1536, 1, 1]               0\n",
      "SqueezeExcitation-396         [-1, 1536, 15, 15]               0\n",
      "          Conv2d-397          [-1, 256, 15, 15]         393,216\n",
      "     BatchNorm2d-398          [-1, 256, 15, 15]             512\n",
      " StochasticDepth-399          [-1, 256, 15, 15]               0\n",
      "          MBConv-400          [-1, 256, 15, 15]               0\n",
      "          Conv2d-401         [-1, 1536, 15, 15]         393,216\n",
      "     BatchNorm2d-402         [-1, 1536, 15, 15]           3,072\n",
      "            SiLU-403         [-1, 1536, 15, 15]               0\n",
      "          Conv2d-404         [-1, 1536, 15, 15]          13,824\n",
      "     BatchNorm2d-405         [-1, 1536, 15, 15]           3,072\n",
      "            SiLU-406         [-1, 1536, 15, 15]               0\n",
      "AdaptiveAvgPool2d-407           [-1, 1536, 1, 1]               0\n",
      "          Conv2d-408             [-1, 64, 1, 1]          98,368\n",
      "            SiLU-409             [-1, 64, 1, 1]               0\n",
      "          Conv2d-410           [-1, 1536, 1, 1]          99,840\n",
      "         Sigmoid-411           [-1, 1536, 1, 1]               0\n",
      "SqueezeExcitation-412         [-1, 1536, 15, 15]               0\n",
      "          Conv2d-413          [-1, 256, 15, 15]         393,216\n",
      "     BatchNorm2d-414          [-1, 256, 15, 15]             512\n",
      " StochasticDepth-415          [-1, 256, 15, 15]               0\n",
      "          MBConv-416          [-1, 256, 15, 15]               0\n",
      "          Conv2d-417         [-1, 1536, 15, 15]         393,216\n",
      "     BatchNorm2d-418         [-1, 1536, 15, 15]           3,072\n",
      "            SiLU-419         [-1, 1536, 15, 15]               0\n",
      "          Conv2d-420         [-1, 1536, 15, 15]          13,824\n",
      "     BatchNorm2d-421         [-1, 1536, 15, 15]           3,072\n",
      "            SiLU-422         [-1, 1536, 15, 15]               0\n",
      "AdaptiveAvgPool2d-423           [-1, 1536, 1, 1]               0\n",
      "          Conv2d-424             [-1, 64, 1, 1]          98,368\n",
      "            SiLU-425             [-1, 64, 1, 1]               0\n",
      "          Conv2d-426           [-1, 1536, 1, 1]          99,840\n",
      "         Sigmoid-427           [-1, 1536, 1, 1]               0\n",
      "SqueezeExcitation-428         [-1, 1536, 15, 15]               0\n",
      "          Conv2d-429          [-1, 256, 15, 15]         393,216\n",
      "     BatchNorm2d-430          [-1, 256, 15, 15]             512\n",
      " StochasticDepth-431          [-1, 256, 15, 15]               0\n",
      "          MBConv-432          [-1, 256, 15, 15]               0\n",
      "          Conv2d-433         [-1, 1536, 15, 15]         393,216\n",
      "     BatchNorm2d-434         [-1, 1536, 15, 15]           3,072\n",
      "            SiLU-435         [-1, 1536, 15, 15]               0\n",
      "          Conv2d-436         [-1, 1536, 15, 15]          13,824\n",
      "     BatchNorm2d-437         [-1, 1536, 15, 15]           3,072\n",
      "            SiLU-438         [-1, 1536, 15, 15]               0\n",
      "AdaptiveAvgPool2d-439           [-1, 1536, 1, 1]               0\n",
      "          Conv2d-440             [-1, 64, 1, 1]          98,368\n",
      "            SiLU-441             [-1, 64, 1, 1]               0\n",
      "          Conv2d-442           [-1, 1536, 1, 1]          99,840\n",
      "         Sigmoid-443           [-1, 1536, 1, 1]               0\n",
      "SqueezeExcitation-444         [-1, 1536, 15, 15]               0\n",
      "          Conv2d-445          [-1, 256, 15, 15]         393,216\n",
      "     BatchNorm2d-446          [-1, 256, 15, 15]             512\n",
      " StochasticDepth-447          [-1, 256, 15, 15]               0\n",
      "          MBConv-448          [-1, 256, 15, 15]               0\n",
      "          Conv2d-449         [-1, 1536, 15, 15]         393,216\n",
      "     BatchNorm2d-450         [-1, 1536, 15, 15]           3,072\n",
      "            SiLU-451         [-1, 1536, 15, 15]               0\n",
      "          Conv2d-452         [-1, 1536, 15, 15]          13,824\n",
      "     BatchNorm2d-453         [-1, 1536, 15, 15]           3,072\n",
      "            SiLU-454         [-1, 1536, 15, 15]               0\n",
      "AdaptiveAvgPool2d-455           [-1, 1536, 1, 1]               0\n",
      "          Conv2d-456             [-1, 64, 1, 1]          98,368\n",
      "            SiLU-457             [-1, 64, 1, 1]               0\n",
      "          Conv2d-458           [-1, 1536, 1, 1]          99,840\n",
      "         Sigmoid-459           [-1, 1536, 1, 1]               0\n",
      "SqueezeExcitation-460         [-1, 1536, 15, 15]               0\n",
      "          Conv2d-461          [-1, 256, 15, 15]         393,216\n",
      "     BatchNorm2d-462          [-1, 256, 15, 15]             512\n",
      " StochasticDepth-463          [-1, 256, 15, 15]               0\n",
      "          MBConv-464          [-1, 256, 15, 15]               0\n",
      "          Conv2d-465         [-1, 1536, 15, 15]         393,216\n",
      "     BatchNorm2d-466         [-1, 1536, 15, 15]           3,072\n",
      "            SiLU-467         [-1, 1536, 15, 15]               0\n",
      "          Conv2d-468         [-1, 1536, 15, 15]          13,824\n",
      "     BatchNorm2d-469         [-1, 1536, 15, 15]           3,072\n",
      "            SiLU-470         [-1, 1536, 15, 15]               0\n",
      "AdaptiveAvgPool2d-471           [-1, 1536, 1, 1]               0\n",
      "          Conv2d-472             [-1, 64, 1, 1]          98,368\n",
      "            SiLU-473             [-1, 64, 1, 1]               0\n",
      "          Conv2d-474           [-1, 1536, 1, 1]          99,840\n",
      "         Sigmoid-475           [-1, 1536, 1, 1]               0\n",
      "SqueezeExcitation-476         [-1, 1536, 15, 15]               0\n",
      "          Conv2d-477          [-1, 256, 15, 15]         393,216\n",
      "     BatchNorm2d-478          [-1, 256, 15, 15]             512\n",
      " StochasticDepth-479          [-1, 256, 15, 15]               0\n",
      "          MBConv-480          [-1, 256, 15, 15]               0\n",
      "          Conv2d-481         [-1, 1536, 15, 15]         393,216\n",
      "     BatchNorm2d-482         [-1, 1536, 15, 15]           3,072\n",
      "            SiLU-483         [-1, 1536, 15, 15]               0\n",
      "          Conv2d-484         [-1, 1536, 15, 15]          13,824\n",
      "     BatchNorm2d-485         [-1, 1536, 15, 15]           3,072\n",
      "            SiLU-486         [-1, 1536, 15, 15]               0\n",
      "AdaptiveAvgPool2d-487           [-1, 1536, 1, 1]               0\n",
      "          Conv2d-488             [-1, 64, 1, 1]          98,368\n",
      "            SiLU-489             [-1, 64, 1, 1]               0\n",
      "          Conv2d-490           [-1, 1536, 1, 1]          99,840\n",
      "         Sigmoid-491           [-1, 1536, 1, 1]               0\n",
      "SqueezeExcitation-492         [-1, 1536, 15, 15]               0\n",
      "          Conv2d-493          [-1, 256, 15, 15]         393,216\n",
      "     BatchNorm2d-494          [-1, 256, 15, 15]             512\n",
      " StochasticDepth-495          [-1, 256, 15, 15]               0\n",
      "          MBConv-496          [-1, 256, 15, 15]               0\n",
      "          Conv2d-497         [-1, 1536, 15, 15]         393,216\n",
      "     BatchNorm2d-498         [-1, 1536, 15, 15]           3,072\n",
      "            SiLU-499         [-1, 1536, 15, 15]               0\n",
      "          Conv2d-500         [-1, 1536, 15, 15]          13,824\n",
      "     BatchNorm2d-501         [-1, 1536, 15, 15]           3,072\n",
      "            SiLU-502         [-1, 1536, 15, 15]               0\n",
      "AdaptiveAvgPool2d-503           [-1, 1536, 1, 1]               0\n",
      "          Conv2d-504             [-1, 64, 1, 1]          98,368\n",
      "            SiLU-505             [-1, 64, 1, 1]               0\n",
      "          Conv2d-506           [-1, 1536, 1, 1]          99,840\n",
      "         Sigmoid-507           [-1, 1536, 1, 1]               0\n",
      "SqueezeExcitation-508         [-1, 1536, 15, 15]               0\n",
      "          Conv2d-509          [-1, 256, 15, 15]         393,216\n",
      "     BatchNorm2d-510          [-1, 256, 15, 15]             512\n",
      " StochasticDepth-511          [-1, 256, 15, 15]               0\n",
      "          MBConv-512          [-1, 256, 15, 15]               0\n",
      "          Conv2d-513         [-1, 1536, 15, 15]         393,216\n",
      "     BatchNorm2d-514         [-1, 1536, 15, 15]           3,072\n",
      "            SiLU-515         [-1, 1536, 15, 15]               0\n",
      "          Conv2d-516         [-1, 1536, 15, 15]          13,824\n",
      "     BatchNorm2d-517         [-1, 1536, 15, 15]           3,072\n",
      "            SiLU-518         [-1, 1536, 15, 15]               0\n",
      "AdaptiveAvgPool2d-519           [-1, 1536, 1, 1]               0\n",
      "          Conv2d-520             [-1, 64, 1, 1]          98,368\n",
      "            SiLU-521             [-1, 64, 1, 1]               0\n",
      "          Conv2d-522           [-1, 1536, 1, 1]          99,840\n",
      "         Sigmoid-523           [-1, 1536, 1, 1]               0\n",
      "SqueezeExcitation-524         [-1, 1536, 15, 15]               0\n",
      "          Conv2d-525          [-1, 256, 15, 15]         393,216\n",
      "     BatchNorm2d-526          [-1, 256, 15, 15]             512\n",
      " StochasticDepth-527          [-1, 256, 15, 15]               0\n",
      "          MBConv-528          [-1, 256, 15, 15]               0\n",
      "          Conv2d-529         [-1, 1536, 15, 15]         393,216\n",
      "     BatchNorm2d-530         [-1, 1536, 15, 15]           3,072\n",
      "            SiLU-531         [-1, 1536, 15, 15]               0\n",
      "          Conv2d-532         [-1, 1536, 15, 15]          13,824\n",
      "     BatchNorm2d-533         [-1, 1536, 15, 15]           3,072\n",
      "            SiLU-534         [-1, 1536, 15, 15]               0\n",
      "AdaptiveAvgPool2d-535           [-1, 1536, 1, 1]               0\n",
      "          Conv2d-536             [-1, 64, 1, 1]          98,368\n",
      "            SiLU-537             [-1, 64, 1, 1]               0\n",
      "          Conv2d-538           [-1, 1536, 1, 1]          99,840\n",
      "         Sigmoid-539           [-1, 1536, 1, 1]               0\n",
      "SqueezeExcitation-540         [-1, 1536, 15, 15]               0\n",
      "          Conv2d-541          [-1, 256, 15, 15]         393,216\n",
      "     BatchNorm2d-542          [-1, 256, 15, 15]             512\n",
      " StochasticDepth-543          [-1, 256, 15, 15]               0\n",
      "          MBConv-544          [-1, 256, 15, 15]               0\n",
      "          Conv2d-545         [-1, 1280, 15, 15]         327,680\n",
      "     BatchNorm2d-546         [-1, 1280, 15, 15]           2,560\n",
      "            SiLU-547         [-1, 1280, 15, 15]               0\n",
      "AdaptiveAvgPool2d-548           [-1, 1280, 1, 1]               0\n",
      "          Linear-549                  [-1, 512]         655,872\n",
      "         Dropout-550                  [-1, 512]               0\n",
      "            ReLU-551                  [-1, 512]               0\n",
      "          Linear-552                    [-1, 2]           1,026\n",
      "================================================================\n",
      "Total params: 20,834,386\n",
      "Trainable params: 20,834,386\n",
      "Non-trainable params: 0\n",
      "----------------------------------------------------------------\n",
      "Input size (MB): 2.42\n",
      "Forward/backward pass size (MB): 1392.86\n",
      "Params size (MB): 79.48\n",
      "Estimated Total Size (MB): 1474.76\n",
      "----------------------------------------------------------------\n"
     ]
    }
   ],
   "source": [
    "summary(model, ( 3, 460,460))"
   ]
  },
  {
   "cell_type": "code",
   "execution_count": 459,
   "id": "4b557a2e",
   "metadata": {},
   "outputs": [
    {
     "name": "stdout",
     "output_type": "stream",
     "text": [
      "Epoch 1 accuracy: 0.6077 val_accuracy: 0.6776\n",
      "Epoch 2 accuracy: 0.6667 val_accuracy: 0.7371\n",
      "Epoch 3 accuracy: 0.6858 val_accuracy: 0.7199\n",
      "Epoch 4 accuracy: 0.6836 val_accuracy: 0.7402\n",
      "Epoch 5 accuracy: 0.6873 val_accuracy: 0.7402\n",
      "Epoch 6 accuracy: 0.6917 val_accuracy: 0.7418\n",
      "Epoch 7 accuracy: 0.6940 val_accuracy: 0.7465\n",
      "Epoch 8 accuracy: 0.6940 val_accuracy: 0.7512\n",
      "Epoch 9 accuracy: 0.7013 val_accuracy: 0.7809\n",
      "Epoch 10 accuracy: 0.7183 val_accuracy: 0.7919\n",
      "Epoch 11 accuracy: 0.7168 val_accuracy: 0.7950\n",
      "Epoch 12 accuracy: 0.7183 val_accuracy: 0.8185\n",
      "Epoch 13 accuracy: 0.7345 val_accuracy: 0.8435\n",
      "Epoch 14 accuracy: 0.7441 val_accuracy: 0.8419\n",
      "Epoch 15 accuracy: 0.7625 val_accuracy: 0.8513\n",
      "Epoch 16 accuracy: 0.7655 val_accuracy: 0.8592\n",
      "Epoch 17 accuracy: 0.7876 val_accuracy: 0.8560\n",
      "Epoch 18 accuracy: 0.7861 val_accuracy: 0.8545\n",
      "Epoch 19 accuracy: 0.8112 val_accuracy: 0.8576\n",
      "Epoch 20 accuracy: 0.8083 val_accuracy: 0.8670\n",
      "Epoch 21 accuracy: 0.8267 val_accuracy: 0.8638\n",
      "Epoch 22 accuracy: 0.8400 val_accuracy: 0.8654\n",
      "Epoch 23 accuracy: 0.8348 val_accuracy: 0.8670\n",
      "Epoch 24 accuracy: 0.8437 val_accuracy: 0.8623\n",
      "Epoch 25 accuracy: 0.8422 val_accuracy: 0.8576\n",
      "Epoch 26 accuracy: 0.8525 val_accuracy: 0.8670\n",
      "Epoch 27 accuracy: 0.8643 val_accuracy: 0.8654\n",
      "Epoch 28 accuracy: 0.8614 val_accuracy: 0.8654\n",
      "Epoch 29 accuracy: 0.8724 val_accuracy: 0.8545\n",
      "Epoch 30 accuracy: 0.8746 val_accuracy: 0.8654\n",
      "Epoch 31 accuracy: 0.8820 val_accuracy: 0.8670\n",
      "Epoch 32 accuracy: 0.8827 val_accuracy: 0.8623\n",
      "Epoch 33 accuracy: 0.8798 val_accuracy: 0.8638\n",
      "Epoch 34 accuracy: 0.8938 val_accuracy: 0.8545\n",
      "Epoch 35 accuracy: 0.9049 val_accuracy: 0.8592\n",
      "Epoch 36 accuracy: 0.9071 val_accuracy: 0.8560\n",
      "Epoch 37 accuracy: 0.9071 val_accuracy: 0.8685\n",
      "Epoch 38 accuracy: 0.9115 val_accuracy: 0.8451\n",
      "Epoch 39 accuracy: 0.9167 val_accuracy: 0.8795\n",
      "Epoch 40 accuracy: 0.9152 val_accuracy: 0.8795\n"
     ]
    }
   ],
   "source": [
    "tolerance = 0.83\n",
    "def train(model, num_epochs, train_dl, valid_dl):\n",
    "    loss_hist_train = [0] * num_epochs\n",
    "    accuracy_hist_train = [0] * num_epochs\n",
    "    loss_hist_valid = [0] * num_epochs\n",
    "    accuracy_hist_valid = [0] * num_epochs\n",
    "    for epoch in range(num_epochs):\n",
    "        model.train()\n",
    "        for x_batch, y_batch in train_dl:\n",
    "            x_batch = x_batch.to(device) \n",
    "            y_batch = y_batch.to(device).squeeze()\n",
    "            pred = model(x_batch)\n",
    "            loss = loss_fn(pred, y_batch)\n",
    "            loss.backward()\n",
    "            optimizer.step()\n",
    "            optimizer.zero_grad()\n",
    "            loss_hist_train[epoch] += loss.item()*y_batch.size(0)\n",
    "            is_correct = (torch.argmax(pred, dim=1) == y_batch).float()\n",
    "            accuracy_hist_train[epoch] += is_correct.sum().cpu()\n",
    "\n",
    "        loss_hist_train[epoch] /= len(train_dl.dataset)\n",
    "        accuracy_hist_train[epoch] /= len(train_dl.dataset)\n",
    "        \n",
    "        model.eval()\n",
    "        with torch.no_grad():\n",
    "            for x_batch, y_batch in valid_dl:\n",
    "                x_batch = x_batch.to(device) \n",
    "                y_batch = y_batch.to(device).squeeze() \n",
    "                pred = model(x_batch)\n",
    "                loss = loss_fn(pred, y_batch)\n",
    "                loss_hist_valid[epoch] += loss.item()*y_batch.size(0) \n",
    "                is_correct = (torch.argmax(pred, dim=1) == y_batch).float() \n",
    "                accuracy_hist_valid[epoch] += is_correct.sum().cpu()\n",
    "        loss_hist_valid[epoch] /= len(valid_dl.dataset)\n",
    "        accuracy_hist_valid[epoch] /= len(valid_dl.dataset)\n",
    "        if epoch == 0:\n",
    "            bestAccVal = accuracy_hist_valid[epoch]\n",
    "        else:\n",
    "            if accuracy_hist_valid[epoch] > max(bestAccVal, tolerance):\n",
    "                bestAccVal = accuracy_hist_valid[epoch]\n",
    "                torch.save(model.state_dict(), f'{modelname}_val{bestAccVal}_ep{epoch}.pt')\n",
    "\n",
    "        print(f'Epoch {epoch+1} accuracy: {accuracy_hist_train[epoch]:.4f} val_accuracy: {accuracy_hist_valid[epoch]:.4f}')\n",
    "    return loss_hist_train, loss_hist_valid, accuracy_hist_train, accuracy_hist_valid\n",
    "\n",
    "torch.manual_seed(42)\n",
    "num_epochs = 40\n",
    "hist = train(model, num_epochs, trn_dl, test_dl)"
   ]
  },
  {
   "cell_type": "code",
   "execution_count": 468,
   "id": "eb60ef36",
   "metadata": {},
   "outputs": [
    {
     "data": {
      "image/png": "[encoded data removed]",
      "text/plain": [
       "<Figure size 1200x400 with 1 Axes>"
      ]
     },
     "metadata": {},
     "output_type": "display_data"
    }
   ],
   "source": [
    "import matplotlib.pyplot as plt\n",
    "\n",
    "\n",
    "x_arr = np.arange(len(hist[0])) + 1\n",
    "\n",
    "fig = plt.figure(figsize=(12, 4))\n",
    "\n",
    "ax = fig.add_subplot(1, 2, 2)\n",
    "ax.plot(x_arr[:40], hist[2], '-o', label='Train acc.')\n",
    "ax.plot(x_arr[:40], hist[3], '--<', label='Validation acc.')\n",
    "ax.legend(fontsize=15)\n",
    "ax.set_title(\"Magnification scale x40 \")\n",
    "ax.set_xlabel('Epoch', size=15)\n",
    "ax.set_ylabel('Accuracy', size=15)\n",
    "#plt.savefig('figures/14_13.png')\n",
    "plt.show()"
   ]
  },
  {
   "cell_type": "code",
   "execution_count": 68,
   "id": "6110a56d",
   "metadata": {},
   "outputs": [],
   "source": [
    "from glob import glob\n",
    "from collections import defaultdict\n",
    "model = torchvision.models.efficientnet_v2_s()\n",
    "modelname=\"efficientnet_v2_s\"\n",
    "model.classifier = nn.Sequential( nn.Linear(1280, 512),nn.Dropout(0.2, inplace=True),nn.ReLU(), nn.Linear(512, 2))\n",
    "model.load_state_dict(torch.load('efficientnet_v2_s_val0.8616071343421936_ep7.pt'))\n",
    "loss_fn = nn.CrossEntropyLoss()\n",
    "optimizer = torch.optim.Adam(model.parameters(), lr= 1e-5)"
   ]
  },
  {
   "cell_type": "code",
   "execution_count": 188,
   "id": "9d2594b7",
   "metadata": {},
   "outputs": [
    {
     "name": "stdout",
     "output_type": "stream",
     "text": [
      "Epoch 1 test accuracy: 0.8616\n"
     ]
    }
   ],
   "source": [
    "loss_hist_valid = [0] * 1\n",
    "accuracy_hist_valid = [0] * 1\n",
    "valid_dl = test_dl\n",
    "model = model.to(device)\n",
    "model.eval()\n",
    "with torch.no_grad():\n",
    "    for x_batch, y_batch in valid_dl:\n",
    "        x_batch = x_batch.to(device) \n",
    "        y_batch = y_batch.to(device).squeeze() \n",
    "        pred = model(x_batch)\n",
    "        loss = loss_fn(pred, y_batch)\n",
    "        loss_hist_valid[0] += loss.item()*y_batch.size(0) \n",
    "        is_correct = (torch.argmax(pred, dim=1) == y_batch).float() \n",
    "        accuracy_hist_valid[0] += is_correct.sum().cpu()\n",
    "loss_hist_valid[0] /= len(valid_dl.dataset)\n",
    "accuracy_hist_valid[0] /= len(valid_dl.dataset)\n",
    "\n",
    "\n",
    "print(f'Epoch {0+1} test accuracy: {accuracy_hist_valid[0]:.4f}')"
   ]
  },
  {
   "cell_type": "markdown",
   "id": "4845684e",
   "metadata": {},
   "source": [
    "### Patient wise accuracies"
   ]
  },
  {
   "cell_type": "code",
   "execution_count": 14,
   "id": "fee6e7b9",
   "metadata": {},
   "outputs": [
    {
     "name": "stdout",
     "output_type": "stream",
     "text": [
      "dict_keys(['SOB_B_A_14-22549AB', 'SOB_B_A_14-22549CD', 'SOB_B_A_14-22549G', 'SOB_B_A_14-29960CD', 'SOB_B_F_14-14134', 'SOB_B_F_14-14134E', 'SOB_B_F_14-21998CD', 'SOB_B_F_14-21998EF', 'SOB_B_F_14-23060AB', 'SOB_B_F_14-23060CD', 'SOB_B_F_14-23222AB', 'SOB_B_F_14-25197', 'SOB_B_F_14-29960AB', 'SOB_B_F_14-9133', 'SOB_B_PT_14-21998AB', 'SOB_B_PT_14-22704', 'SOB_B_PT_14-29315EF', 'SOB_B_TA_14-13200', 'SOB_B_TA_14-15275', 'SOB_B_TA_14-16184', 'SOB_B_TA_14-16184CD', 'SOB_B_TA_14-19854C', 'SOB_B_TA_14-21978AB', 'SOB_B_TA_14-3411F'])\n"
     ]
    }
   ],
   "source": [
    "patients_benign_ids = [x.split(\"\\\\\")[-1] for x in glob(\"BreaKHis_v1/histology_slides/breast/benign/SOB/*/*\")]\n",
    "patients_benign_paths_by_id_x40 = {x:glob(f\"BreaKHis_v1/histology_slides/breast/benign/SOB/*/{x}/40X/*\") for x in patients_benign_ids}\n",
    "patients_benign_paths_by_id_x100 = {x:glob(f\"BreaKHis_v1/histology_slides/breast/benign/SOB/*/{x}/100X/*\") for x in patients_benign_ids}\n",
    "patients_benign_paths_by_id_x200 = {x:glob(f\"BreaKHis_v1/histology_slides/breast/benign/SOB/*/{x}/200X/*\") for x in patients_benign_ids}\n",
    "patients_benign_paths_by_id_x400 = {x:glob(f\"BreaKHis_v1/histology_slides/breast/benign/SOB/*/{x}/400X/*\") for x in patients_benign_ids}\n",
    "print(patients_benign_paths_by_id_x40.keys())"
   ]
  },
  {
   "cell_type": "code",
   "execution_count": 15,
   "id": "e747fa01",
   "metadata": {},
   "outputs": [
    {
     "name": "stdout",
     "output_type": "stream",
     "text": [
      "dict_keys(['SOB_M_DC_14-10926', 'SOB_M_DC_14-11031', 'SOB_M_DC_14-11520', 'SOB_M_DC_14-11951', 'SOB_M_DC_14-12312', 'SOB_M_DC_14-13412', 'SOB_M_DC_14-13993', 'SOB_M_DC_14-14015', 'SOB_M_DC_14-14926', 'SOB_M_DC_14-14946', 'SOB_M_DC_14-15572', 'SOB_M_DC_14-15696', 'SOB_M_DC_14-15792', 'SOB_M_DC_14-16188', 'SOB_M_DC_14-16336', 'SOB_M_DC_14-16448', 'SOB_M_DC_14-16601', 'SOB_M_DC_14-16716', 'SOB_M_DC_14-16875', 'SOB_M_DC_14-17614', 'SOB_M_DC_14-17901', 'SOB_M_DC_14-17915', 'SOB_M_DC_14-18650', 'SOB_M_DC_14-20629', 'SOB_M_DC_14-20636', 'SOB_M_DC_14-2523', 'SOB_M_DC_14-2773', 'SOB_M_DC_14-2980', 'SOB_M_DC_14-2985', 'SOB_M_DC_14-3909', 'SOB_M_DC_14-4364', 'SOB_M_DC_14-4372', 'SOB_M_DC_14-5287', 'SOB_M_DC_14-5694', 'SOB_M_DC_14-5695', 'SOB_M_DC_14-6241', 'SOB_M_DC_14-8168', 'SOB_M_DC_14-9461', 'SOB_M_LC_14-12204', 'SOB_M_LC_14-13412', 'SOB_M_LC_14-15570', 'SOB_M_LC_14-15570C', 'SOB_M_LC_14-16196', 'SOB_M_MC_14-10147', 'SOB_M_MC_14-12773', 'SOB_M_MC_14-13413', 'SOB_M_MC_14-13418DE', 'SOB_M_MC_14-16456', 'SOB_M_MC_14-18842', 'SOB_M_MC_14-18842D', 'SOB_M_MC_14-19979', 'SOB_M_MC_14-19979C', 'SOB_M_PC_14-12465', 'SOB_M_PC_14-15687B', 'SOB_M_PC_14-15704', 'SOB_M_PC_14-19440', 'SOB_M_PC_14-9146', 'SOB_M_PC_15-190EF'])\n"
     ]
    }
   ],
   "source": [
    "patients_malignant_ids = [x.split(\"\\\\\")[-1] for x in glob(\"BreaKHis_v1/histology_slides/breast/malignant/SOB/*/*\")]\n",
    "patients_malignant_paths_by_id_x40 = {x:glob(f\"BreaKHis_v1/histology_slides/breast/malignant/SOB/*/{x}/40X/*\") for x in patients_malignant_ids}\n",
    "patients_malignant_paths_by_id_x100 = {x:glob(f\"BreaKHis_v1/histology_slides/breast/malignant/SOB/*/{x}/100X/*\") for x in patients_malignant_ids}\n",
    "patients_malignant_paths_by_id_x200 = {x:glob(f\"BreaKHis_v1/histology_slides/breast/malignant/SOB/*/{x}/200X/*\") for x in patients_malignant_ids}\n",
    "patients_malignant_paths_by_id_x400 = {x:glob(f\"BreaKHis_v1/histology_slides/breast/malignant/SOB/*/{x}/400X/*\") for x in patients_malignant_ids}\n",
    "print(patients_malignant_paths_by_id_x40.keys())"
   ]
  },
  {
   "cell_type": "code",
   "execution_count": 165,
   "id": "8d20829b",
   "metadata": {},
   "outputs": [
    {
     "data": {
      "text/plain": [
       "19"
      ]
     },
     "execution_count": 165,
     "metadata": {},
     "output_type": "execute_result"
    }
   ],
   "source": [
    "len(glob(f\"BreaKHis_v1/histology_slides/breast/malignant/SOB/*/SOB_M_PC_15-190EF/40X/*\"))"
   ]
  },
  {
   "cell_type": "code",
   "execution_count": 16,
   "id": "63b3ac75",
   "metadata": {},
   "outputs": [
    {
     "data": {
      "text/plain": [
       "['BreaKHis_v1/histology_slides/breast/malignant/SOB\\\\ductal_carcinoma\\\\SOB_M_DC_14-10926\\\\400X\\\\SOB_M_DC-14-10926-400-001.png',\n",
       " 'BreaKHis_v1/histology_slides/breast/malignant/SOB\\\\ductal_carcinoma\\\\SOB_M_DC_14-10926\\\\400X\\\\SOB_M_DC-14-10926-400-002.png',\n",
       " 'BreaKHis_v1/histology_slides/breast/malignant/SOB\\\\ductal_carcinoma\\\\SOB_M_DC_14-10926\\\\400X\\\\SOB_M_DC-14-10926-400-003.png',\n",
       " 'BreaKHis_v1/histology_slides/breast/malignant/SOB\\\\ductal_carcinoma\\\\SOB_M_DC_14-10926\\\\400X\\\\SOB_M_DC-14-10926-400-004.png',\n",
       " 'BreaKHis_v1/histology_slides/breast/malignant/SOB\\\\ductal_carcinoma\\\\SOB_M_DC_14-10926\\\\400X\\\\SOB_M_DC-14-10926-400-005.png',\n",
       " 'BreaKHis_v1/histology_slides/breast/malignant/SOB\\\\ductal_carcinoma\\\\SOB_M_DC_14-10926\\\\400X\\\\SOB_M_DC-14-10926-400-006.png',\n",
       " 'BreaKHis_v1/histology_slides/breast/malignant/SOB\\\\ductal_carcinoma\\\\SOB_M_DC_14-10926\\\\400X\\\\SOB_M_DC-14-10926-400-007.png',\n",
       " 'BreaKHis_v1/histology_slides/breast/malignant/SOB\\\\ductal_carcinoma\\\\SOB_M_DC_14-10926\\\\400X\\\\SOB_M_DC-14-10926-400-008.png',\n",
       " 'BreaKHis_v1/histology_slides/breast/malignant/SOB\\\\ductal_carcinoma\\\\SOB_M_DC_14-10926\\\\400X\\\\SOB_M_DC-14-10926-400-009.png',\n",
       " 'BreaKHis_v1/histology_slides/breast/malignant/SOB\\\\ductal_carcinoma\\\\SOB_M_DC_14-11031\\\\400X\\\\SOB_M_DC-14-11031-400-001.png',\n",
       " 'BreaKHis_v1/histology_slides/breast/malignant/SOB\\\\ductal_carcinoma\\\\SOB_M_DC_14-11031\\\\400X\\\\SOB_M_DC-14-11031-400-002.png',\n",
       " 'BreaKHis_v1/histology_slides/breast/malignant/SOB\\\\ductal_carcinoma\\\\SOB_M_DC_14-11031\\\\400X\\\\SOB_M_DC-14-11031-400-003.png',\n",
       " 'BreaKHis_v1/histology_slides/breast/malignant/SOB\\\\ductal_carcinoma\\\\SOB_M_DC_14-11031\\\\400X\\\\SOB_M_DC-14-11031-400-004.png',\n",
       " 'BreaKHis_v1/histology_slides/breast/malignant/SOB\\\\ductal_carcinoma\\\\SOB_M_DC_14-11031\\\\400X\\\\SOB_M_DC-14-11031-400-005.png',\n",
       " 'BreaKHis_v1/histology_slides/breast/malignant/SOB\\\\ductal_carcinoma\\\\SOB_M_DC_14-11031\\\\400X\\\\SOB_M_DC-14-11031-400-006.png',\n",
       " 'BreaKHis_v1/histology_slides/breast/malignant/SOB\\\\ductal_carcinoma\\\\SOB_M_DC_14-11031\\\\400X\\\\SOB_M_DC-14-11031-400-007.png',\n",
       " 'BreaKHis_v1/histology_slides/breast/malignant/SOB\\\\ductal_carcinoma\\\\SOB_M_DC_14-11031\\\\400X\\\\SOB_M_DC-14-11031-400-008.png',\n",
       " 'BreaKHis_v1/histology_slides/breast/malignant/SOB\\\\ductal_carcinoma\\\\SOB_M_DC_14-11031\\\\400X\\\\SOB_M_DC-14-11031-400-009.png',\n",
       " 'BreaKHis_v1/histology_slides/breast/malignant/SOB\\\\ductal_carcinoma\\\\SOB_M_DC_14-11031\\\\400X\\\\SOB_M_DC-14-11031-400-010.png',\n",
       " 'BreaKHis_v1/histology_slides/breast/malignant/SOB\\\\ductal_carcinoma\\\\SOB_M_DC_14-11031\\\\400X\\\\SOB_M_DC-14-11031-400-011.png',\n",
       " 'BreaKHis_v1/histology_slides/breast/malignant/SOB\\\\ductal_carcinoma\\\\SOB_M_DC_14-11031\\\\400X\\\\SOB_M_DC-14-11031-400-012.png',\n",
       " 'BreaKHis_v1/histology_slides/breast/malignant/SOB\\\\ductal_carcinoma\\\\SOB_M_DC_14-11031\\\\400X\\\\SOB_M_DC-14-11031-400-013.png',\n",
       " 'BreaKHis_v1/histology_slides/breast/malignant/SOB\\\\ductal_carcinoma\\\\SOB_M_DC_14-11031\\\\400X\\\\SOB_M_DC-14-11031-400-014.png',\n",
       " 'BreaKHis_v1/histology_slides/breast/malignant/SOB\\\\ductal_carcinoma\\\\SOB_M_DC_14-11031\\\\400X\\\\SOB_M_DC-14-11031-400-015.png',\n",
       " 'BreaKHis_v1/histology_slides/breast/malignant/SOB\\\\ductal_carcinoma\\\\SOB_M_DC_14-11520\\\\400X\\\\SOB_M_DC-14-11520-400-001.png',\n",
       " 'BreaKHis_v1/histology_slides/breast/malignant/SOB\\\\ductal_carcinoma\\\\SOB_M_DC_14-11520\\\\400X\\\\SOB_M_DC-14-11520-400-002.png',\n",
       " 'BreaKHis_v1/histology_slides/breast/malignant/SOB\\\\ductal_carcinoma\\\\SOB_M_DC_14-11520\\\\400X\\\\SOB_M_DC-14-11520-400-003.png',\n",
       " 'BreaKHis_v1/histology_slides/breast/malignant/SOB\\\\ductal_carcinoma\\\\SOB_M_DC_14-11520\\\\400X\\\\SOB_M_DC-14-11520-400-004.png',\n",
       " 'BreaKHis_v1/histology_slides/breast/malignant/SOB\\\\ductal_carcinoma\\\\SOB_M_DC_14-11520\\\\400X\\\\SOB_M_DC-14-11520-400-005.png',\n",
       " 'BreaKHis_v1/histology_slides/breast/malignant/SOB\\\\ductal_carcinoma\\\\SOB_M_DC_14-11520\\\\400X\\\\SOB_M_DC-14-11520-400-006.png',\n",
       " 'BreaKHis_v1/histology_slides/breast/malignant/SOB\\\\ductal_carcinoma\\\\SOB_M_DC_14-11520\\\\400X\\\\SOB_M_DC-14-11520-400-007.png',\n",
       " 'BreaKHis_v1/histology_slides/breast/malignant/SOB\\\\ductal_carcinoma\\\\SOB_M_DC_14-11520\\\\400X\\\\SOB_M_DC-14-11520-400-008.png',\n",
       " 'BreaKHis_v1/histology_slides/breast/malignant/SOB\\\\ductal_carcinoma\\\\SOB_M_DC_14-11520\\\\400X\\\\SOB_M_DC-14-11520-400-009.png',\n",
       " 'BreaKHis_v1/histology_slides/breast/malignant/SOB\\\\ductal_carcinoma\\\\SOB_M_DC_14-11520\\\\400X\\\\SOB_M_DC-14-11520-400-010.png',\n",
       " 'BreaKHis_v1/histology_slides/breast/malignant/SOB\\\\ductal_carcinoma\\\\SOB_M_DC_14-11520\\\\400X\\\\SOB_M_DC-14-11520-400-011.png',\n",
       " 'BreaKHis_v1/histology_slides/breast/malignant/SOB\\\\ductal_carcinoma\\\\SOB_M_DC_14-11520\\\\400X\\\\SOB_M_DC-14-11520-400-012.png',\n",
       " 'BreaKHis_v1/histology_slides/breast/malignant/SOB\\\\ductal_carcinoma\\\\SOB_M_DC_14-11520\\\\400X\\\\SOB_M_DC-14-11520-400-013.png',\n",
       " 'BreaKHis_v1/histology_slides/breast/malignant/SOB\\\\ductal_carcinoma\\\\SOB_M_DC_14-11520\\\\400X\\\\SOB_M_DC-14-11520-400-014.png',\n",
       " 'BreaKHis_v1/histology_slides/breast/malignant/SOB\\\\ductal_carcinoma\\\\SOB_M_DC_14-11520\\\\400X\\\\SOB_M_DC-14-11520-400-015.png',\n",
       " 'BreaKHis_v1/histology_slides/breast/malignant/SOB\\\\ductal_carcinoma\\\\SOB_M_DC_14-11520\\\\400X\\\\SOB_M_DC-14-11520-400-016.png',\n",
       " 'BreaKHis_v1/histology_slides/breast/malignant/SOB\\\\ductal_carcinoma\\\\SOB_M_DC_14-11520\\\\400X\\\\SOB_M_DC-14-11520-400-017.png',\n",
       " 'BreaKHis_v1/histology_slides/breast/malignant/SOB\\\\ductal_carcinoma\\\\SOB_M_DC_14-11520\\\\400X\\\\SOB_M_DC-14-11520-400-018.png',\n",
       " 'BreaKHis_v1/histology_slides/breast/malignant/SOB\\\\ductal_carcinoma\\\\SOB_M_DC_14-11520\\\\400X\\\\SOB_M_DC-14-11520-400-019.png',\n",
       " 'BreaKHis_v1/histology_slides/breast/malignant/SOB\\\\ductal_carcinoma\\\\SOB_M_DC_14-11520\\\\400X\\\\SOB_M_DC-14-11520-400-020.png',\n",
       " 'BreaKHis_v1/histology_slides/breast/malignant/SOB\\\\ductal_carcinoma\\\\SOB_M_DC_14-11520\\\\400X\\\\SOB_M_DC-14-11520-400-021.png',\n",
       " 'BreaKHis_v1/histology_slides/breast/malignant/SOB\\\\ductal_carcinoma\\\\SOB_M_DC_14-11520\\\\400X\\\\SOB_M_DC-14-11520-400-022.png',\n",
       " 'BreaKHis_v1/histology_slides/breast/malignant/SOB\\\\ductal_carcinoma\\\\SOB_M_DC_14-11520\\\\400X\\\\SOB_M_DC-14-11520-400-023.png',\n",
       " 'BreaKHis_v1/histology_slides/breast/malignant/SOB\\\\ductal_carcinoma\\\\SOB_M_DC_14-11951\\\\400X\\\\SOB_M_DC-14-11951-400-001.png',\n",
       " 'BreaKHis_v1/histology_slides/breast/malignant/SOB\\\\ductal_carcinoma\\\\SOB_M_DC_14-11951\\\\400X\\\\SOB_M_DC-14-11951-400-002.png',\n",
       " 'BreaKHis_v1/histology_slides/breast/malignant/SOB\\\\ductal_carcinoma\\\\SOB_M_DC_14-11951\\\\400X\\\\SOB_M_DC-14-11951-400-003.png',\n",
       " 'BreaKHis_v1/histology_slides/breast/malignant/SOB\\\\ductal_carcinoma\\\\SOB_M_DC_14-11951\\\\400X\\\\SOB_M_DC-14-11951-400-004.png',\n",
       " 'BreaKHis_v1/histology_slides/breast/malignant/SOB\\\\ductal_carcinoma\\\\SOB_M_DC_14-11951\\\\400X\\\\SOB_M_DC-14-11951-400-005.png',\n",
       " 'BreaKHis_v1/histology_slides/breast/malignant/SOB\\\\ductal_carcinoma\\\\SOB_M_DC_14-11951\\\\400X\\\\SOB_M_DC-14-11951-400-006.png',\n",
       " 'BreaKHis_v1/histology_slides/breast/malignant/SOB\\\\ductal_carcinoma\\\\SOB_M_DC_14-11951\\\\400X\\\\SOB_M_DC-14-11951-400-007.png',\n",
       " 'BreaKHis_v1/histology_slides/breast/malignant/SOB\\\\ductal_carcinoma\\\\SOB_M_DC_14-11951\\\\400X\\\\SOB_M_DC-14-11951-400-008.png',\n",
       " 'BreaKHis_v1/histology_slides/breast/malignant/SOB\\\\ductal_carcinoma\\\\SOB_M_DC_14-11951\\\\400X\\\\SOB_M_DC-14-11951-400-009.png',\n",
       " 'BreaKHis_v1/histology_slides/breast/malignant/SOB\\\\ductal_carcinoma\\\\SOB_M_DC_14-11951\\\\400X\\\\SOB_M_DC-14-11951-400-010.png',\n",
       " 'BreaKHis_v1/histology_slides/breast/malignant/SOB\\\\ductal_carcinoma\\\\SOB_M_DC_14-11951\\\\400X\\\\SOB_M_DC-14-11951-400-011.png',\n",
       " 'BreaKHis_v1/histology_slides/breast/malignant/SOB\\\\ductal_carcinoma\\\\SOB_M_DC_14-11951\\\\400X\\\\SOB_M_DC-14-11951-400-012.png',\n",
       " 'BreaKHis_v1/histology_slides/breast/malignant/SOB\\\\ductal_carcinoma\\\\SOB_M_DC_14-11951\\\\400X\\\\SOB_M_DC-14-11951-400-013.png',\n",
       " 'BreaKHis_v1/histology_slides/breast/malignant/SOB\\\\ductal_carcinoma\\\\SOB_M_DC_14-11951\\\\400X\\\\SOB_M_DC-14-11951-400-014.png',\n",
       " 'BreaKHis_v1/histology_slides/breast/malignant/SOB\\\\ductal_carcinoma\\\\SOB_M_DC_14-11951\\\\400X\\\\SOB_M_DC-14-11951-400-015.png',\n",
       " 'BreaKHis_v1/histology_slides/breast/malignant/SOB\\\\ductal_carcinoma\\\\SOB_M_DC_14-11951\\\\400X\\\\SOB_M_DC-14-11951-400-016.png',\n",
       " 'BreaKHis_v1/histology_slides/breast/malignant/SOB\\\\ductal_carcinoma\\\\SOB_M_DC_14-11951\\\\400X\\\\SOB_M_DC-14-11951-400-017.png',\n",
       " 'BreaKHis_v1/histology_slides/breast/malignant/SOB\\\\ductal_carcinoma\\\\SOB_M_DC_14-11951\\\\400X\\\\SOB_M_DC-14-11951-400-018.png',\n",
       " 'BreaKHis_v1/histology_slides/breast/malignant/SOB\\\\ductal_carcinoma\\\\SOB_M_DC_14-11951\\\\400X\\\\SOB_M_DC-14-11951-400-019.png',\n",
       " 'BreaKHis_v1/histology_slides/breast/malignant/SOB\\\\ductal_carcinoma\\\\SOB_M_DC_14-11951\\\\400X\\\\SOB_M_DC-14-11951-400-020.png',\n",
       " 'BreaKHis_v1/histology_slides/breast/malignant/SOB\\\\ductal_carcinoma\\\\SOB_M_DC_14-12312\\\\400X\\\\SOB_M_DC-14-12312-400-001.png',\n",
       " 'BreaKHis_v1/histology_slides/breast/malignant/SOB\\\\ductal_carcinoma\\\\SOB_M_DC_14-12312\\\\400X\\\\SOB_M_DC-14-12312-400-002.png',\n",
       " 'BreaKHis_v1/histology_slides/breast/malignant/SOB\\\\ductal_carcinoma\\\\SOB_M_DC_14-12312\\\\400X\\\\SOB_M_DC-14-12312-400-003.png',\n",
       " 'BreaKHis_v1/histology_slides/breast/malignant/SOB\\\\ductal_carcinoma\\\\SOB_M_DC_14-12312\\\\400X\\\\SOB_M_DC-14-12312-400-004.png',\n",
       " 'BreaKHis_v1/histology_slides/breast/malignant/SOB\\\\ductal_carcinoma\\\\SOB_M_DC_14-12312\\\\400X\\\\SOB_M_DC-14-12312-400-005.png',\n",
       " 'BreaKHis_v1/histology_slides/breast/malignant/SOB\\\\ductal_carcinoma\\\\SOB_M_DC_14-12312\\\\400X\\\\SOB_M_DC-14-12312-400-006.png',\n",
       " 'BreaKHis_v1/histology_slides/breast/malignant/SOB\\\\ductal_carcinoma\\\\SOB_M_DC_14-12312\\\\400X\\\\SOB_M_DC-14-12312-400-007.png',\n",
       " 'BreaKHis_v1/histology_slides/breast/malignant/SOB\\\\ductal_carcinoma\\\\SOB_M_DC_14-12312\\\\400X\\\\SOB_M_DC-14-12312-400-008.png',\n",
       " 'BreaKHis_v1/histology_slides/breast/malignant/SOB\\\\ductal_carcinoma\\\\SOB_M_DC_14-12312\\\\400X\\\\SOB_M_DC-14-12312-400-009.png',\n",
       " 'BreaKHis_v1/histology_slides/breast/malignant/SOB\\\\ductal_carcinoma\\\\SOB_M_DC_14-12312\\\\400X\\\\SOB_M_DC-14-12312-400-010.png',\n",
       " 'BreaKHis_v1/histology_slides/breast/malignant/SOB\\\\ductal_carcinoma\\\\SOB_M_DC_14-12312\\\\400X\\\\SOB_M_DC-14-12312-400-011.png',\n",
       " 'BreaKHis_v1/histology_slides/breast/malignant/SOB\\\\ductal_carcinoma\\\\SOB_M_DC_14-12312\\\\400X\\\\SOB_M_DC-14-12312-400-012.png',\n",
       " 'BreaKHis_v1/histology_slides/breast/malignant/SOB\\\\ductal_carcinoma\\\\SOB_M_DC_14-12312\\\\400X\\\\SOB_M_DC-14-12312-400-013.png',\n",
       " 'BreaKHis_v1/histology_slides/breast/malignant/SOB\\\\ductal_carcinoma\\\\SOB_M_DC_14-12312\\\\400X\\\\SOB_M_DC-14-12312-400-014.png',\n",
       " 'BreaKHis_v1/histology_slides/breast/malignant/SOB\\\\ductal_carcinoma\\\\SOB_M_DC_14-12312\\\\400X\\\\SOB_M_DC-14-12312-400-015.png',\n",
       " 'BreaKHis_v1/histology_slides/breast/malignant/SOB\\\\ductal_carcinoma\\\\SOB_M_DC_14-12312\\\\400X\\\\SOB_M_DC-14-12312-400-016.png',\n",
       " 'BreaKHis_v1/histology_slides/breast/malignant/SOB\\\\ductal_carcinoma\\\\SOB_M_DC_14-12312\\\\400X\\\\SOB_M_DC-14-12312-400-017.png',\n",
       " 'BreaKHis_v1/histology_slides/breast/malignant/SOB\\\\ductal_carcinoma\\\\SOB_M_DC_14-12312\\\\400X\\\\SOB_M_DC-14-12312-400-018.png',\n",
       " 'BreaKHis_v1/histology_slides/breast/malignant/SOB\\\\ductal_carcinoma\\\\SOB_M_DC_14-12312\\\\400X\\\\SOB_M_DC-14-12312-400-019.png',\n",
       " 'BreaKHis_v1/histology_slides/breast/malignant/SOB\\\\ductal_carcinoma\\\\SOB_M_DC_14-12312\\\\400X\\\\SOB_M_DC-14-12312-400-020.png',\n",
       " 'BreaKHis_v1/histology_slides/breast/malignant/SOB\\\\ductal_carcinoma\\\\SOB_M_DC_14-12312\\\\400X\\\\SOB_M_DC-14-12312-400-021.png',\n",
       " 'BreaKHis_v1/histology_slides/breast/malignant/SOB\\\\ductal_carcinoma\\\\SOB_M_DC_14-12312\\\\400X\\\\SOB_M_DC-14-12312-400-022.png',\n",
       " 'BreaKHis_v1/histology_slides/breast/malignant/SOB\\\\ductal_carcinoma\\\\SOB_M_DC_14-12312\\\\400X\\\\SOB_M_DC-14-12312-400-023.png',\n",
       " 'BreaKHis_v1/histology_slides/breast/malignant/SOB\\\\ductal_carcinoma\\\\SOB_M_DC_14-12312\\\\400X\\\\SOB_M_DC-14-12312-400-024.png',\n",
       " 'BreaKHis_v1/histology_slides/breast/malignant/SOB\\\\ductal_carcinoma\\\\SOB_M_DC_14-12312\\\\400X\\\\SOB_M_DC-14-12312-400-025.png',\n",
       " 'BreaKHis_v1/histology_slides/breast/malignant/SOB\\\\ductal_carcinoma\\\\SOB_M_DC_14-12312\\\\400X\\\\SOB_M_DC-14-12312-400-026.png',\n",
       " 'BreaKHis_v1/histology_slides/breast/malignant/SOB\\\\ductal_carcinoma\\\\SOB_M_DC_14-12312\\\\400X\\\\SOB_M_DC-14-12312-400-027.png',\n",
       " 'BreaKHis_v1/histology_slides/breast/malignant/SOB\\\\ductal_carcinoma\\\\SOB_M_DC_14-12312\\\\400X\\\\SOB_M_DC-14-12312-400-028.png',\n",
       " 'BreaKHis_v1/histology_slides/breast/malignant/SOB\\\\ductal_carcinoma\\\\SOB_M_DC_14-12312\\\\400X\\\\SOB_M_DC-14-12312-400-029.png',\n",
       " 'BreaKHis_v1/histology_slides/breast/malignant/SOB\\\\ductal_carcinoma\\\\SOB_M_DC_14-12312\\\\400X\\\\SOB_M_DC-14-12312-400-030.png',\n",
       " 'BreaKHis_v1/histology_slides/breast/malignant/SOB\\\\ductal_carcinoma\\\\SOB_M_DC_14-12312\\\\400X\\\\SOB_M_DC-14-12312-400-031.png',\n",
       " 'BreaKHis_v1/histology_slides/breast/malignant/SOB\\\\ductal_carcinoma\\\\SOB_M_DC_14-12312\\\\400X\\\\SOB_M_DC-14-12312-400-032.png',\n",
       " 'BreaKHis_v1/histology_slides/breast/malignant/SOB\\\\ductal_carcinoma\\\\SOB_M_DC_14-12312\\\\400X\\\\SOB_M_DC-14-12312-400-033.png',\n",
       " 'BreaKHis_v1/histology_slides/breast/malignant/SOB\\\\ductal_carcinoma\\\\SOB_M_DC_14-12312\\\\400X\\\\SOB_M_DC-14-12312-400-034.png',\n",
       " 'BreaKHis_v1/histology_slides/breast/malignant/SOB\\\\ductal_carcinoma\\\\SOB_M_DC_14-12312\\\\400X\\\\SOB_M_DC-14-12312-400-035.png',\n",
       " 'BreaKHis_v1/histology_slides/breast/malignant/SOB\\\\ductal_carcinoma\\\\SOB_M_DC_14-12312\\\\400X\\\\SOB_M_DC-14-12312-400-036.png',\n",
       " 'BreaKHis_v1/histology_slides/breast/malignant/SOB\\\\ductal_carcinoma\\\\SOB_M_DC_14-12312\\\\400X\\\\SOB_M_DC-14-12312-400-037.png',\n",
       " 'BreaKHis_v1/histology_slides/breast/malignant/SOB\\\\ductal_carcinoma\\\\SOB_M_DC_14-12312\\\\400X\\\\SOB_M_DC-14-12312-400-038.png',\n",
       " 'BreaKHis_v1/histology_slides/breast/malignant/SOB\\\\ductal_carcinoma\\\\SOB_M_DC_14-13412\\\\400X\\\\SOB_M_DC-14-13412-400-001.png',\n",
       " 'BreaKHis_v1/histology_slides/breast/malignant/SOB\\\\ductal_carcinoma\\\\SOB_M_DC_14-13412\\\\400X\\\\SOB_M_DC-14-13412-400-002.png',\n",
       " 'BreaKHis_v1/histology_slides/breast/malignant/SOB\\\\ductal_carcinoma\\\\SOB_M_DC_14-13412\\\\400X\\\\SOB_M_DC-14-13412-400-003.png',\n",
       " 'BreaKHis_v1/histology_slides/breast/malignant/SOB\\\\ductal_carcinoma\\\\SOB_M_DC_14-13412\\\\400X\\\\SOB_M_DC-14-13412-400-004.png',\n",
       " 'BreaKHis_v1/histology_slides/breast/malignant/SOB\\\\ductal_carcinoma\\\\SOB_M_DC_14-13412\\\\400X\\\\SOB_M_DC-14-13412-400-005.png',\n",
       " 'BreaKHis_v1/histology_slides/breast/malignant/SOB\\\\ductal_carcinoma\\\\SOB_M_DC_14-13412\\\\400X\\\\SOB_M_DC-14-13412-400-006.png',\n",
       " 'BreaKHis_v1/histology_slides/breast/malignant/SOB\\\\ductal_carcinoma\\\\SOB_M_DC_14-13412\\\\400X\\\\SOB_M_DC-14-13412-400-007.png',\n",
       " 'BreaKHis_v1/histology_slides/breast/malignant/SOB\\\\ductal_carcinoma\\\\SOB_M_DC_14-13412\\\\400X\\\\SOB_M_DC-14-13412-400-008.png',\n",
       " 'BreaKHis_v1/histology_slides/breast/malignant/SOB\\\\ductal_carcinoma\\\\SOB_M_DC_14-13412\\\\400X\\\\SOB_M_DC-14-13412-400-009.png',\n",
       " 'BreaKHis_v1/histology_slides/breast/malignant/SOB\\\\ductal_carcinoma\\\\SOB_M_DC_14-13412\\\\400X\\\\SOB_M_DC-14-13412-400-010.png',\n",
       " 'BreaKHis_v1/histology_slides/breast/malignant/SOB\\\\ductal_carcinoma\\\\SOB_M_DC_14-13412\\\\400X\\\\SOB_M_DC-14-13412-400-011.png',\n",
       " 'BreaKHis_v1/histology_slides/breast/malignant/SOB\\\\ductal_carcinoma\\\\SOB_M_DC_14-13412\\\\400X\\\\SOB_M_DC-14-13412-400-012.png',\n",
       " 'BreaKHis_v1/histology_slides/breast/malignant/SOB\\\\ductal_carcinoma\\\\SOB_M_DC_14-13412\\\\400X\\\\SOB_M_DC-14-13412-400-013.png',\n",
       " 'BreaKHis_v1/histology_slides/breast/malignant/SOB\\\\ductal_carcinoma\\\\SOB_M_DC_14-13412\\\\400X\\\\SOB_M_DC-14-13412-400-014.png',\n",
       " 'BreaKHis_v1/histology_slides/breast/malignant/SOB\\\\ductal_carcinoma\\\\SOB_M_DC_14-13412\\\\400X\\\\SOB_M_DC-14-13412-400-016.png',\n",
       " 'BreaKHis_v1/histology_slides/breast/malignant/SOB\\\\ductal_carcinoma\\\\SOB_M_DC_14-13412\\\\400X\\\\SOB_M_DC-14-13412-400-017.png',\n",
       " 'BreaKHis_v1/histology_slides/breast/malignant/SOB\\\\ductal_carcinoma\\\\SOB_M_DC_14-13412\\\\400X\\\\SOB_M_DC-14-13412-400-018.png',\n",
       " 'BreaKHis_v1/histology_slides/breast/malignant/SOB\\\\ductal_carcinoma\\\\SOB_M_DC_14-13412\\\\400X\\\\SOB_M_DC-14-13412-400-019.png',\n",
       " 'BreaKHis_v1/histology_slides/breast/malignant/SOB\\\\ductal_carcinoma\\\\SOB_M_DC_14-13412\\\\400X\\\\SOB_M_DC-14-13412-400-020.png',\n",
       " 'BreaKHis_v1/histology_slides/breast/malignant/SOB\\\\ductal_carcinoma\\\\SOB_M_DC_14-13412\\\\400X\\\\SOB_M_DC-14-13412-400-021.png',\n",
       " 'BreaKHis_v1/histology_slides/breast/malignant/SOB\\\\ductal_carcinoma\\\\SOB_M_DC_14-13412\\\\400X\\\\SOB_M_DC-14-13412-400-022.png',\n",
       " 'BreaKHis_v1/histology_slides/breast/malignant/SOB\\\\ductal_carcinoma\\\\SOB_M_DC_14-13412\\\\400X\\\\SOB_M_DC-14-13412-400-023.png',\n",
       " 'BreaKHis_v1/histology_slides/breast/malignant/SOB\\\\ductal_carcinoma\\\\SOB_M_DC_14-13412\\\\400X\\\\SOB_M_DC-14-13412-400-024.png',\n",
       " 'BreaKHis_v1/histology_slides/breast/malignant/SOB\\\\ductal_carcinoma\\\\SOB_M_DC_14-13412\\\\400X\\\\SOB_M_DC-14-13412-400-025.png',\n",
       " 'BreaKHis_v1/histology_slides/breast/malignant/SOB\\\\ductal_carcinoma\\\\SOB_M_DC_14-13412\\\\400X\\\\SOB_M_DC-14-13412-400-026.png',\n",
       " 'BreaKHis_v1/histology_slides/breast/malignant/SOB\\\\ductal_carcinoma\\\\SOB_M_DC_14-13412\\\\400X\\\\SOB_M_DC-14-13412-400-027.png',\n",
       " 'BreaKHis_v1/histology_slides/breast/malignant/SOB\\\\ductal_carcinoma\\\\SOB_M_DC_14-13993\\\\400X\\\\SOB_M_DC-14-13993-400-001.png',\n",
       " 'BreaKHis_v1/histology_slides/breast/malignant/SOB\\\\ductal_carcinoma\\\\SOB_M_DC_14-13993\\\\400X\\\\SOB_M_DC-14-13993-400-002.png',\n",
       " 'BreaKHis_v1/histology_slides/breast/malignant/SOB\\\\ductal_carcinoma\\\\SOB_M_DC_14-13993\\\\400X\\\\SOB_M_DC-14-13993-400-003.png',\n",
       " 'BreaKHis_v1/histology_slides/breast/malignant/SOB\\\\ductal_carcinoma\\\\SOB_M_DC_14-13993\\\\400X\\\\SOB_M_DC-14-13993-400-004.png',\n",
       " 'BreaKHis_v1/histology_slides/breast/malignant/SOB\\\\ductal_carcinoma\\\\SOB_M_DC_14-13993\\\\400X\\\\SOB_M_DC-14-13993-400-005.png',\n",
       " 'BreaKHis_v1/histology_slides/breast/malignant/SOB\\\\ductal_carcinoma\\\\SOB_M_DC_14-13993\\\\400X\\\\SOB_M_DC-14-13993-400-006.png',\n",
       " 'BreaKHis_v1/histology_slides/breast/malignant/SOB\\\\ductal_carcinoma\\\\SOB_M_DC_14-13993\\\\400X\\\\SOB_M_DC-14-13993-400-007.png',\n",
       " 'BreaKHis_v1/histology_slides/breast/malignant/SOB\\\\ductal_carcinoma\\\\SOB_M_DC_14-13993\\\\400X\\\\SOB_M_DC-14-13993-400-008.png',\n",
       " 'BreaKHis_v1/histology_slides/breast/malignant/SOB\\\\ductal_carcinoma\\\\SOB_M_DC_14-13993\\\\400X\\\\SOB_M_DC-14-13993-400-010.png',\n",
       " 'BreaKHis_v1/histology_slides/breast/malignant/SOB\\\\ductal_carcinoma\\\\SOB_M_DC_14-13993\\\\400X\\\\SOB_M_DC-14-13993-400-011.png',\n",
       " 'BreaKHis_v1/histology_slides/breast/malignant/SOB\\\\ductal_carcinoma\\\\SOB_M_DC_14-13993\\\\400X\\\\SOB_M_DC-14-13993-400-012.png',\n",
       " 'BreaKHis_v1/histology_slides/breast/malignant/SOB\\\\ductal_carcinoma\\\\SOB_M_DC_14-13993\\\\400X\\\\SOB_M_DC-14-13993-400-013.png',\n",
       " 'BreaKHis_v1/histology_slides/breast/malignant/SOB\\\\ductal_carcinoma\\\\SOB_M_DC_14-13993\\\\400X\\\\SOB_M_DC-14-13993-400-014.png',\n",
       " 'BreaKHis_v1/histology_slides/breast/malignant/SOB\\\\ductal_carcinoma\\\\SOB_M_DC_14-13993\\\\400X\\\\SOB_M_DC-14-13993-400-015.png',\n",
       " 'BreaKHis_v1/histology_slides/breast/malignant/SOB\\\\ductal_carcinoma\\\\SOB_M_DC_14-13993\\\\400X\\\\SOB_M_DC-14-13993-400-016.png',\n",
       " 'BreaKHis_v1/histology_slides/breast/malignant/SOB\\\\ductal_carcinoma\\\\SOB_M_DC_14-13993\\\\400X\\\\SOB_M_DC-14-13993-400-017.png',\n",
       " 'BreaKHis_v1/histology_slides/breast/malignant/SOB\\\\ductal_carcinoma\\\\SOB_M_DC_14-13993\\\\400X\\\\SOB_M_DC-14-13993-400-018.png',\n",
       " 'BreaKHis_v1/histology_slides/breast/malignant/SOB\\\\ductal_carcinoma\\\\SOB_M_DC_14-13993\\\\400X\\\\SOB_M_DC-14-13993-400-019.png',\n",
       " 'BreaKHis_v1/histology_slides/breast/malignant/SOB\\\\ductal_carcinoma\\\\SOB_M_DC_14-13993\\\\400X\\\\SOB_M_DC-14-13993-400-021.png',\n",
       " 'BreaKHis_v1/histology_slides/breast/malignant/SOB\\\\ductal_carcinoma\\\\SOB_M_DC_14-13993\\\\400X\\\\SOB_M_DC-14-13993-400-022.png',\n",
       " 'BreaKHis_v1/histology_slides/breast/malignant/SOB\\\\ductal_carcinoma\\\\SOB_M_DC_14-13993\\\\400X\\\\SOB_M_DC-14-13993-400-023.png',\n",
       " 'BreaKHis_v1/histology_slides/breast/malignant/SOB\\\\ductal_carcinoma\\\\SOB_M_DC_14-13993\\\\400X\\\\SOB_M_DC-14-13993-400-024.png',\n",
       " 'BreaKHis_v1/histology_slides/breast/malignant/SOB\\\\ductal_carcinoma\\\\SOB_M_DC_14-13993\\\\400X\\\\SOB_M_DC-14-13993-400-025.png',\n",
       " 'BreaKHis_v1/histology_slides/breast/malignant/SOB\\\\ductal_carcinoma\\\\SOB_M_DC_14-13993\\\\400X\\\\SOB_M_DC-14-13993-400-027.png',\n",
       " 'BreaKHis_v1/histology_slides/breast/malignant/SOB\\\\ductal_carcinoma\\\\SOB_M_DC_14-13993\\\\400X\\\\SOB_M_DC-14-13993-400-028.png',\n",
       " 'BreaKHis_v1/histology_slides/breast/malignant/SOB\\\\ductal_carcinoma\\\\SOB_M_DC_14-13993\\\\400X\\\\SOB_M_DC-14-13993-400-029.png',\n",
       " 'BreaKHis_v1/histology_slides/breast/malignant/SOB\\\\ductal_carcinoma\\\\SOB_M_DC_14-13993\\\\400X\\\\SOB_M_DC-14-13993-400-030.png',\n",
       " 'BreaKHis_v1/histology_slides/breast/malignant/SOB\\\\ductal_carcinoma\\\\SOB_M_DC_14-13993\\\\400X\\\\SOB_M_DC-14-13993-400-031.png',\n",
       " 'BreaKHis_v1/histology_slides/breast/malignant/SOB\\\\ductal_carcinoma\\\\SOB_M_DC_14-13993\\\\400X\\\\SOB_M_DC-14-13993-400-032.png',\n",
       " 'BreaKHis_v1/histology_slides/breast/malignant/SOB\\\\ductal_carcinoma\\\\SOB_M_DC_14-13993\\\\400X\\\\SOB_M_DC-14-13993-400-033.png',\n",
       " 'BreaKHis_v1/histology_slides/breast/malignant/SOB\\\\ductal_carcinoma\\\\SOB_M_DC_14-13993\\\\400X\\\\SOB_M_DC-14-13993-400-034.png',\n",
       " 'BreaKHis_v1/histology_slides/breast/malignant/SOB\\\\ductal_carcinoma\\\\SOB_M_DC_14-13993\\\\400X\\\\SOB_M_DC-14-13993-400-035.png',\n",
       " 'BreaKHis_v1/histology_slides/breast/malignant/SOB\\\\ductal_carcinoma\\\\SOB_M_DC_14-14015\\\\400X\\\\SOB_M_DC-14-14015-400-001.png',\n",
       " 'BreaKHis_v1/histology_slides/breast/malignant/SOB\\\\ductal_carcinoma\\\\SOB_M_DC_14-14015\\\\400X\\\\SOB_M_DC-14-14015-400-002.png',\n",
       " 'BreaKHis_v1/histology_slides/breast/malignant/SOB\\\\ductal_carcinoma\\\\SOB_M_DC_14-14015\\\\400X\\\\SOB_M_DC-14-14015-400-003.png',\n",
       " 'BreaKHis_v1/histology_slides/breast/malignant/SOB\\\\ductal_carcinoma\\\\SOB_M_DC_14-14015\\\\400X\\\\SOB_M_DC-14-14015-400-004.png',\n",
       " 'BreaKHis_v1/histology_slides/breast/malignant/SOB\\\\ductal_carcinoma\\\\SOB_M_DC_14-14015\\\\400X\\\\SOB_M_DC-14-14015-400-005.png',\n",
       " 'BreaKHis_v1/histology_slides/breast/malignant/SOB\\\\ductal_carcinoma\\\\SOB_M_DC_14-14015\\\\400X\\\\SOB_M_DC-14-14015-400-006.png',\n",
       " 'BreaKHis_v1/histology_slides/breast/malignant/SOB\\\\ductal_carcinoma\\\\SOB_M_DC_14-14015\\\\400X\\\\SOB_M_DC-14-14015-400-007.png',\n",
       " 'BreaKHis_v1/histology_slides/breast/malignant/SOB\\\\ductal_carcinoma\\\\SOB_M_DC_14-14015\\\\400X\\\\SOB_M_DC-14-14015-400-008.png',\n",
       " 'BreaKHis_v1/histology_slides/breast/malignant/SOB\\\\ductal_carcinoma\\\\SOB_M_DC_14-14015\\\\400X\\\\SOB_M_DC-14-14015-400-009.png',\n",
       " 'BreaKHis_v1/histology_slides/breast/malignant/SOB\\\\ductal_carcinoma\\\\SOB_M_DC_14-14015\\\\400X\\\\SOB_M_DC-14-14015-400-010.png',\n",
       " 'BreaKHis_v1/histology_slides/breast/malignant/SOB\\\\ductal_carcinoma\\\\SOB_M_DC_14-14015\\\\400X\\\\SOB_M_DC-14-14015-400-011.png',\n",
       " 'BreaKHis_v1/histology_slides/breast/malignant/SOB\\\\ductal_carcinoma\\\\SOB_M_DC_14-14015\\\\400X\\\\SOB_M_DC-14-14015-400-012.png',\n",
       " 'BreaKHis_v1/histology_slides/breast/malignant/SOB\\\\ductal_carcinoma\\\\SOB_M_DC_14-14015\\\\400X\\\\SOB_M_DC-14-14015-400-013.png',\n",
       " 'BreaKHis_v1/histology_slides/breast/malignant/SOB\\\\ductal_carcinoma\\\\SOB_M_DC_14-14015\\\\400X\\\\SOB_M_DC-14-14015-400-014.png',\n",
       " 'BreaKHis_v1/histology_slides/breast/malignant/SOB\\\\ductal_carcinoma\\\\SOB_M_DC_14-14015\\\\400X\\\\SOB_M_DC-14-14015-400-015.png',\n",
       " 'BreaKHis_v1/histology_slides/breast/malignant/SOB\\\\ductal_carcinoma\\\\SOB_M_DC_14-14015\\\\400X\\\\SOB_M_DC-14-14015-400-016.png',\n",
       " 'BreaKHis_v1/histology_slides/breast/malignant/SOB\\\\ductal_carcinoma\\\\SOB_M_DC_14-14015\\\\400X\\\\SOB_M_DC-14-14015-400-017.png',\n",
       " 'BreaKHis_v1/histology_slides/breast/malignant/SOB\\\\ductal_carcinoma\\\\SOB_M_DC_14-14015\\\\400X\\\\SOB_M_DC-14-14015-400-018.png',\n",
       " 'BreaKHis_v1/histology_slides/breast/malignant/SOB\\\\ductal_carcinoma\\\\SOB_M_DC_14-14015\\\\400X\\\\SOB_M_DC-14-14015-400-019.png',\n",
       " 'BreaKHis_v1/histology_slides/breast/malignant/SOB\\\\ductal_carcinoma\\\\SOB_M_DC_14-14015\\\\400X\\\\SOB_M_DC-14-14015-400-020.png',\n",
       " 'BreaKHis_v1/histology_slides/breast/malignant/SOB\\\\ductal_carcinoma\\\\SOB_M_DC_14-14926\\\\400X\\\\SOB_M_DC-14-14926-400-001.png',\n",
       " 'BreaKHis_v1/histology_slides/breast/malignant/SOB\\\\ductal_carcinoma\\\\SOB_M_DC_14-14926\\\\400X\\\\SOB_M_DC-14-14926-400-002.png',\n",
       " 'BreaKHis_v1/histology_slides/breast/malignant/SOB\\\\ductal_carcinoma\\\\SOB_M_DC_14-14926\\\\400X\\\\SOB_M_DC-14-14926-400-003.png',\n",
       " 'BreaKHis_v1/histology_slides/breast/malignant/SOB\\\\ductal_carcinoma\\\\SOB_M_DC_14-14926\\\\400X\\\\SOB_M_DC-14-14926-400-004.png',\n",
       " 'BreaKHis_v1/histology_slides/breast/malignant/SOB\\\\ductal_carcinoma\\\\SOB_M_DC_14-14926\\\\400X\\\\SOB_M_DC-14-14926-400-005.png',\n",
       " 'BreaKHis_v1/histology_slides/breast/malignant/SOB\\\\ductal_carcinoma\\\\SOB_M_DC_14-14926\\\\400X\\\\SOB_M_DC-14-14926-400-006.png',\n",
       " 'BreaKHis_v1/histology_slides/breast/malignant/SOB\\\\ductal_carcinoma\\\\SOB_M_DC_14-14926\\\\400X\\\\SOB_M_DC-14-14926-400-007.png',\n",
       " 'BreaKHis_v1/histology_slides/breast/malignant/SOB\\\\ductal_carcinoma\\\\SOB_M_DC_14-14926\\\\400X\\\\SOB_M_DC-14-14926-400-008.png',\n",
       " 'BreaKHis_v1/histology_slides/breast/malignant/SOB\\\\ductal_carcinoma\\\\SOB_M_DC_14-14926\\\\400X\\\\SOB_M_DC-14-14926-400-009.png',\n",
       " 'BreaKHis_v1/histology_slides/breast/malignant/SOB\\\\ductal_carcinoma\\\\SOB_M_DC_14-14926\\\\400X\\\\SOB_M_DC-14-14926-400-010.png',\n",
       " 'BreaKHis_v1/histology_slides/breast/malignant/SOB\\\\ductal_carcinoma\\\\SOB_M_DC_14-14926\\\\400X\\\\SOB_M_DC-14-14926-400-011.png',\n",
       " 'BreaKHis_v1/histology_slides/breast/malignant/SOB\\\\ductal_carcinoma\\\\SOB_M_DC_14-14926\\\\400X\\\\SOB_M_DC-14-14926-400-012.png',\n",
       " 'BreaKHis_v1/histology_slides/breast/malignant/SOB\\\\ductal_carcinoma\\\\SOB_M_DC_14-14926\\\\400X\\\\SOB_M_DC-14-14926-400-013.png',\n",
       " 'BreaKHis_v1/histology_slides/breast/malignant/SOB\\\\ductal_carcinoma\\\\SOB_M_DC_14-14926\\\\400X\\\\SOB_M_DC-14-14926-400-014.png',\n",
       " 'BreaKHis_v1/histology_slides/breast/malignant/SOB\\\\ductal_carcinoma\\\\SOB_M_DC_14-14926\\\\400X\\\\SOB_M_DC-14-14926-400-015.png',\n",
       " 'BreaKHis_v1/histology_slides/breast/malignant/SOB\\\\ductal_carcinoma\\\\SOB_M_DC_14-14926\\\\400X\\\\SOB_M_DC-14-14926-400-016.png',\n",
       " 'BreaKHis_v1/histology_slides/breast/malignant/SOB\\\\ductal_carcinoma\\\\SOB_M_DC_14-14946\\\\400X\\\\SOB_M_DC-14-14946-400-001.png',\n",
       " 'BreaKHis_v1/histology_slides/breast/malignant/SOB\\\\ductal_carcinoma\\\\SOB_M_DC_14-14946\\\\400X\\\\SOB_M_DC-14-14946-400-002.png',\n",
       " 'BreaKHis_v1/histology_slides/breast/malignant/SOB\\\\ductal_carcinoma\\\\SOB_M_DC_14-14946\\\\400X\\\\SOB_M_DC-14-14946-400-003.png',\n",
       " 'BreaKHis_v1/histology_slides/breast/malignant/SOB\\\\ductal_carcinoma\\\\SOB_M_DC_14-14946\\\\400X\\\\SOB_M_DC-14-14946-400-004.png',\n",
       " 'BreaKHis_v1/histology_slides/breast/malignant/SOB\\\\ductal_carcinoma\\\\SOB_M_DC_14-14946\\\\400X\\\\SOB_M_DC-14-14946-400-005.png',\n",
       " 'BreaKHis_v1/histology_slides/breast/malignant/SOB\\\\ductal_carcinoma\\\\SOB_M_DC_14-14946\\\\400X\\\\SOB_M_DC-14-14946-400-006.png',\n",
       " 'BreaKHis_v1/histology_slides/breast/malignant/SOB\\\\ductal_carcinoma\\\\SOB_M_DC_14-14946\\\\400X\\\\SOB_M_DC-14-14946-400-007.png',\n",
       " 'BreaKHis_v1/histology_slides/breast/malignant/SOB\\\\ductal_carcinoma\\\\SOB_M_DC_14-14946\\\\400X\\\\SOB_M_DC-14-14946-400-008.png',\n",
       " 'BreaKHis_v1/histology_slides/breast/malignant/SOB\\\\ductal_carcinoma\\\\SOB_M_DC_14-14946\\\\400X\\\\SOB_M_DC-14-14946-400-009.png',\n",
       " 'BreaKHis_v1/histology_slides/breast/malignant/SOB\\\\ductal_carcinoma\\\\SOB_M_DC_14-14946\\\\400X\\\\SOB_M_DC-14-14946-400-010.png',\n",
       " 'BreaKHis_v1/histology_slides/breast/malignant/SOB\\\\ductal_carcinoma\\\\SOB_M_DC_14-14946\\\\400X\\\\SOB_M_DC-14-14946-400-011.png',\n",
       " 'BreaKHis_v1/histology_slides/breast/malignant/SOB\\\\ductal_carcinoma\\\\SOB_M_DC_14-14946\\\\400X\\\\SOB_M_DC-14-14946-400-012.png',\n",
       " 'BreaKHis_v1/histology_slides/breast/malignant/SOB\\\\ductal_carcinoma\\\\SOB_M_DC_14-14946\\\\400X\\\\SOB_M_DC-14-14946-400-013.png',\n",
       " 'BreaKHis_v1/histology_slides/breast/malignant/SOB\\\\ductal_carcinoma\\\\SOB_M_DC_14-14946\\\\400X\\\\SOB_M_DC-14-14946-400-014.png',\n",
       " 'BreaKHis_v1/histology_slides/breast/malignant/SOB\\\\ductal_carcinoma\\\\SOB_M_DC_14-14946\\\\400X\\\\SOB_M_DC-14-14946-400-015.png',\n",
       " 'BreaKHis_v1/histology_slides/breast/malignant/SOB\\\\ductal_carcinoma\\\\SOB_M_DC_14-14946\\\\400X\\\\SOB_M_DC-14-14946-400-016.png',\n",
       " 'BreaKHis_v1/histology_slides/breast/malignant/SOB\\\\ductal_carcinoma\\\\SOB_M_DC_14-14946\\\\400X\\\\SOB_M_DC-14-14946-400-017.png',\n",
       " 'BreaKHis_v1/histology_slides/breast/malignant/SOB\\\\ductal_carcinoma\\\\SOB_M_DC_14-14946\\\\400X\\\\SOB_M_DC-14-14946-400-018.png',\n",
       " 'BreaKHis_v1/histology_slides/breast/malignant/SOB\\\\ductal_carcinoma\\\\SOB_M_DC_14-14946\\\\400X\\\\SOB_M_DC-14-14946-400-019.png',\n",
       " 'BreaKHis_v1/histology_slides/breast/malignant/SOB\\\\ductal_carcinoma\\\\SOB_M_DC_14-14946\\\\400X\\\\SOB_M_DC-14-14946-400-020.png',\n",
       " 'BreaKHis_v1/histology_slides/breast/malignant/SOB\\\\ductal_carcinoma\\\\SOB_M_DC_14-14946\\\\400X\\\\SOB_M_DC-14-14946-400-021.png',\n",
       " 'BreaKHis_v1/histology_slides/breast/malignant/SOB\\\\ductal_carcinoma\\\\SOB_M_DC_14-14946\\\\400X\\\\SOB_M_DC-14-14946-400-022.png',\n",
       " 'BreaKHis_v1/histology_slides/breast/malignant/SOB\\\\ductal_carcinoma\\\\SOB_M_DC_14-14946\\\\400X\\\\SOB_M_DC-14-14946-400-023.png',\n",
       " 'BreaKHis_v1/histology_slides/breast/malignant/SOB\\\\ductal_carcinoma\\\\SOB_M_DC_14-14946\\\\400X\\\\SOB_M_DC-14-14946-400-024.png',\n",
       " 'BreaKHis_v1/histology_slides/breast/malignant/SOB\\\\ductal_carcinoma\\\\SOB_M_DC_14-14946\\\\400X\\\\SOB_M_DC-14-14946-400-025.png',\n",
       " 'BreaKHis_v1/histology_slides/breast/malignant/SOB\\\\ductal_carcinoma\\\\SOB_M_DC_14-14946\\\\400X\\\\SOB_M_DC-14-14946-400-026.png',\n",
       " 'BreaKHis_v1/histology_slides/breast/malignant/SOB\\\\ductal_carcinoma\\\\SOB_M_DC_14-14946\\\\400X\\\\SOB_M_DC-14-14946-400-027.png',\n",
       " 'BreaKHis_v1/histology_slides/breast/malignant/SOB\\\\ductal_carcinoma\\\\SOB_M_DC_14-14946\\\\400X\\\\SOB_M_DC-14-14946-400-028.png',\n",
       " 'BreaKHis_v1/histology_slides/breast/malignant/SOB\\\\ductal_carcinoma\\\\SOB_M_DC_14-14946\\\\400X\\\\SOB_M_DC-14-14946-400-029.png',\n",
       " 'BreaKHis_v1/histology_slides/breast/malignant/SOB\\\\ductal_carcinoma\\\\SOB_M_DC_14-14946\\\\400X\\\\SOB_M_DC-14-14946-400-030.png',\n",
       " 'BreaKHis_v1/histology_slides/breast/malignant/SOB\\\\ductal_carcinoma\\\\SOB_M_DC_14-14946\\\\400X\\\\SOB_M_DC-14-14946-400-031.png',\n",
       " 'BreaKHis_v1/histology_slides/breast/malignant/SOB\\\\ductal_carcinoma\\\\SOB_M_DC_14-14946\\\\400X\\\\SOB_M_DC-14-14946-400-032.png',\n",
       " 'BreaKHis_v1/histology_slides/breast/malignant/SOB\\\\ductal_carcinoma\\\\SOB_M_DC_14-14946\\\\400X\\\\SOB_M_DC-14-14946-400-033.png',\n",
       " 'BreaKHis_v1/histology_slides/breast/malignant/SOB\\\\ductal_carcinoma\\\\SOB_M_DC_14-14946\\\\400X\\\\SOB_M_DC-14-14946-400-034.png',\n",
       " 'BreaKHis_v1/histology_slides/breast/malignant/SOB\\\\ductal_carcinoma\\\\SOB_M_DC_14-15572\\\\400X\\\\SOB_M_DC-14-15572-400-001.png',\n",
       " 'BreaKHis_v1/histology_slides/breast/malignant/SOB\\\\ductal_carcinoma\\\\SOB_M_DC_14-15572\\\\400X\\\\SOB_M_DC-14-15572-400-002.png',\n",
       " 'BreaKHis_v1/histology_slides/breast/malignant/SOB\\\\ductal_carcinoma\\\\SOB_M_DC_14-15572\\\\400X\\\\SOB_M_DC-14-15572-400-003.png',\n",
       " 'BreaKHis_v1/histology_slides/breast/malignant/SOB\\\\ductal_carcinoma\\\\SOB_M_DC_14-15572\\\\400X\\\\SOB_M_DC-14-15572-400-004.png',\n",
       " 'BreaKHis_v1/histology_slides/breast/malignant/SOB\\\\ductal_carcinoma\\\\SOB_M_DC_14-15572\\\\400X\\\\SOB_M_DC-14-15572-400-005.png',\n",
       " 'BreaKHis_v1/histology_slides/breast/malignant/SOB\\\\ductal_carcinoma\\\\SOB_M_DC_14-15572\\\\400X\\\\SOB_M_DC-14-15572-400-006.png',\n",
       " 'BreaKHis_v1/histology_slides/breast/malignant/SOB\\\\ductal_carcinoma\\\\SOB_M_DC_14-15572\\\\400X\\\\SOB_M_DC-14-15572-400-007.png',\n",
       " 'BreaKHis_v1/histology_slides/breast/malignant/SOB\\\\ductal_carcinoma\\\\SOB_M_DC_14-15572\\\\400X\\\\SOB_M_DC-14-15572-400-008.png',\n",
       " 'BreaKHis_v1/histology_slides/breast/malignant/SOB\\\\ductal_carcinoma\\\\SOB_M_DC_14-15572\\\\400X\\\\SOB_M_DC-14-15572-400-009.png',\n",
       " 'BreaKHis_v1/histology_slides/breast/malignant/SOB\\\\ductal_carcinoma\\\\SOB_M_DC_14-15572\\\\400X\\\\SOB_M_DC-14-15572-400-010.png',\n",
       " 'BreaKHis_v1/histology_slides/breast/malignant/SOB\\\\ductal_carcinoma\\\\SOB_M_DC_14-15572\\\\400X\\\\SOB_M_DC-14-15572-400-011.png',\n",
       " 'BreaKHis_v1/histology_slides/breast/malignant/SOB\\\\ductal_carcinoma\\\\SOB_M_DC_14-15572\\\\400X\\\\SOB_M_DC-14-15572-400-012.png',\n",
       " 'BreaKHis_v1/histology_slides/breast/malignant/SOB\\\\ductal_carcinoma\\\\SOB_M_DC_14-15572\\\\400X\\\\SOB_M_DC-14-15572-400-013.png',\n",
       " 'BreaKHis_v1/histology_slides/breast/malignant/SOB\\\\ductal_carcinoma\\\\SOB_M_DC_14-15572\\\\400X\\\\SOB_M_DC-14-15572-400-014.png',\n",
       " 'BreaKHis_v1/histology_slides/breast/malignant/SOB\\\\ductal_carcinoma\\\\SOB_M_DC_14-15572\\\\400X\\\\SOB_M_DC-14-15572-400-015.png',\n",
       " 'BreaKHis_v1/histology_slides/breast/malignant/SOB\\\\ductal_carcinoma\\\\SOB_M_DC_14-15696\\\\400X\\\\SOB_M_DC-14-15696-400-001.png',\n",
       " 'BreaKHis_v1/histology_slides/breast/malignant/SOB\\\\ductal_carcinoma\\\\SOB_M_DC_14-15696\\\\400X\\\\SOB_M_DC-14-15696-400-002.png',\n",
       " 'BreaKHis_v1/histology_slides/breast/malignant/SOB\\\\ductal_carcinoma\\\\SOB_M_DC_14-15696\\\\400X\\\\SOB_M_DC-14-15696-400-003.png',\n",
       " 'BreaKHis_v1/histology_slides/breast/malignant/SOB\\\\ductal_carcinoma\\\\SOB_M_DC_14-15696\\\\400X\\\\SOB_M_DC-14-15696-400-004.png',\n",
       " 'BreaKHis_v1/histology_slides/breast/malignant/SOB\\\\ductal_carcinoma\\\\SOB_M_DC_14-15696\\\\400X\\\\SOB_M_DC-14-15696-400-005.png',\n",
       " 'BreaKHis_v1/histology_slides/breast/malignant/SOB\\\\ductal_carcinoma\\\\SOB_M_DC_14-15696\\\\400X\\\\SOB_M_DC-14-15696-400-006.png',\n",
       " 'BreaKHis_v1/histology_slides/breast/malignant/SOB\\\\ductal_carcinoma\\\\SOB_M_DC_14-15696\\\\400X\\\\SOB_M_DC-14-15696-400-007.png',\n",
       " 'BreaKHis_v1/histology_slides/breast/malignant/SOB\\\\ductal_carcinoma\\\\SOB_M_DC_14-15696\\\\400X\\\\SOB_M_DC-14-15696-400-008.png',\n",
       " 'BreaKHis_v1/histology_slides/breast/malignant/SOB\\\\ductal_carcinoma\\\\SOB_M_DC_14-15696\\\\400X\\\\SOB_M_DC-14-15696-400-009.png',\n",
       " 'BreaKHis_v1/histology_slides/breast/malignant/SOB\\\\ductal_carcinoma\\\\SOB_M_DC_14-15696\\\\400X\\\\SOB_M_DC-14-15696-400-010.png',\n",
       " 'BreaKHis_v1/histology_slides/breast/malignant/SOB\\\\ductal_carcinoma\\\\SOB_M_DC_14-15696\\\\400X\\\\SOB_M_DC-14-15696-400-011.png',\n",
       " 'BreaKHis_v1/histology_slides/breast/malignant/SOB\\\\ductal_carcinoma\\\\SOB_M_DC_14-15696\\\\400X\\\\SOB_M_DC-14-15696-400-012.png',\n",
       " 'BreaKHis_v1/histology_slides/breast/malignant/SOB\\\\ductal_carcinoma\\\\SOB_M_DC_14-15696\\\\400X\\\\SOB_M_DC-14-15696-400-013.png',\n",
       " 'BreaKHis_v1/histology_slides/breast/malignant/SOB\\\\ductal_carcinoma\\\\SOB_M_DC_14-15696\\\\400X\\\\SOB_M_DC-14-15696-400-014.png',\n",
       " 'BreaKHis_v1/histology_slides/breast/malignant/SOB\\\\ductal_carcinoma\\\\SOB_M_DC_14-15696\\\\400X\\\\SOB_M_DC-14-15696-400-015.png',\n",
       " 'BreaKHis_v1/histology_slides/breast/malignant/SOB\\\\ductal_carcinoma\\\\SOB_M_DC_14-15792\\\\400X\\\\SOB_M_DC-14-15792-400-001.png',\n",
       " 'BreaKHis_v1/histology_slides/breast/malignant/SOB\\\\ductal_carcinoma\\\\SOB_M_DC_14-15792\\\\400X\\\\SOB_M_DC-14-15792-400-002.png',\n",
       " 'BreaKHis_v1/histology_slides/breast/malignant/SOB\\\\ductal_carcinoma\\\\SOB_M_DC_14-15792\\\\400X\\\\SOB_M_DC-14-15792-400-003.png',\n",
       " 'BreaKHis_v1/histology_slides/breast/malignant/SOB\\\\ductal_carcinoma\\\\SOB_M_DC_14-15792\\\\400X\\\\SOB_M_DC-14-15792-400-004.png',\n",
       " 'BreaKHis_v1/histology_slides/breast/malignant/SOB\\\\ductal_carcinoma\\\\SOB_M_DC_14-15792\\\\400X\\\\SOB_M_DC-14-15792-400-005.png',\n",
       " 'BreaKHis_v1/histology_slides/breast/malignant/SOB\\\\ductal_carcinoma\\\\SOB_M_DC_14-15792\\\\400X\\\\SOB_M_DC-14-15792-400-006.png',\n",
       " 'BreaKHis_v1/histology_slides/breast/malignant/SOB\\\\ductal_carcinoma\\\\SOB_M_DC_14-15792\\\\400X\\\\SOB_M_DC-14-15792-400-007.png',\n",
       " 'BreaKHis_v1/histology_slides/breast/malignant/SOB\\\\ductal_carcinoma\\\\SOB_M_DC_14-15792\\\\400X\\\\SOB_M_DC-14-15792-400-008.png',\n",
       " 'BreaKHis_v1/histology_slides/breast/malignant/SOB\\\\ductal_carcinoma\\\\SOB_M_DC_14-15792\\\\400X\\\\SOB_M_DC-14-15792-400-009.png',\n",
       " 'BreaKHis_v1/histology_slides/breast/malignant/SOB\\\\ductal_carcinoma\\\\SOB_M_DC_14-15792\\\\400X\\\\SOB_M_DC-14-15792-400-010.png',\n",
       " 'BreaKHis_v1/histology_slides/breast/malignant/SOB\\\\ductal_carcinoma\\\\SOB_M_DC_14-15792\\\\400X\\\\SOB_M_DC-14-15792-400-011.png',\n",
       " 'BreaKHis_v1/histology_slides/breast/malignant/SOB\\\\ductal_carcinoma\\\\SOB_M_DC_14-15792\\\\400X\\\\SOB_M_DC-14-15792-400-012.png',\n",
       " 'BreaKHis_v1/histology_slides/breast/malignant/SOB\\\\ductal_carcinoma\\\\SOB_M_DC_14-15792\\\\400X\\\\SOB_M_DC-14-15792-400-013.png',\n",
       " 'BreaKHis_v1/histology_slides/breast/malignant/SOB\\\\ductal_carcinoma\\\\SOB_M_DC_14-15792\\\\400X\\\\SOB_M_DC-14-15792-400-014.png',\n",
       " 'BreaKHis_v1/histology_slides/breast/malignant/SOB\\\\ductal_carcinoma\\\\SOB_M_DC_14-15792\\\\400X\\\\SOB_M_DC-14-15792-400-015.png',\n",
       " 'BreaKHis_v1/histology_slides/breast/malignant/SOB\\\\ductal_carcinoma\\\\SOB_M_DC_14-16188\\\\400X\\\\SOB_M_DC-14-16188-400-001.png',\n",
       " 'BreaKHis_v1/histology_slides/breast/malignant/SOB\\\\ductal_carcinoma\\\\SOB_M_DC_14-16188\\\\400X\\\\SOB_M_DC-14-16188-400-002.png',\n",
       " 'BreaKHis_v1/histology_slides/breast/malignant/SOB\\\\ductal_carcinoma\\\\SOB_M_DC_14-16188\\\\400X\\\\SOB_M_DC-14-16188-400-003.png',\n",
       " 'BreaKHis_v1/histology_slides/breast/malignant/SOB\\\\ductal_carcinoma\\\\SOB_M_DC_14-16188\\\\400X\\\\SOB_M_DC-14-16188-400-004.png',\n",
       " 'BreaKHis_v1/histology_slides/breast/malignant/SOB\\\\ductal_carcinoma\\\\SOB_M_DC_14-16188\\\\400X\\\\SOB_M_DC-14-16188-400-005.png',\n",
       " 'BreaKHis_v1/histology_slides/breast/malignant/SOB\\\\ductal_carcinoma\\\\SOB_M_DC_14-16188\\\\400X\\\\SOB_M_DC-14-16188-400-006.png',\n",
       " 'BreaKHis_v1/histology_slides/breast/malignant/SOB\\\\ductal_carcinoma\\\\SOB_M_DC_14-16188\\\\400X\\\\SOB_M_DC-14-16188-400-007.png',\n",
       " 'BreaKHis_v1/histology_slides/breast/malignant/SOB\\\\ductal_carcinoma\\\\SOB_M_DC_14-16188\\\\400X\\\\SOB_M_DC-14-16188-400-008.png',\n",
       " 'BreaKHis_v1/histology_slides/breast/malignant/SOB\\\\ductal_carcinoma\\\\SOB_M_DC_14-16188\\\\400X\\\\SOB_M_DC-14-16188-400-009.png',\n",
       " 'BreaKHis_v1/histology_slides/breast/malignant/SOB\\\\ductal_carcinoma\\\\SOB_M_DC_14-16188\\\\400X\\\\SOB_M_DC-14-16188-400-010.png',\n",
       " 'BreaKHis_v1/histology_slides/breast/malignant/SOB\\\\ductal_carcinoma\\\\SOB_M_DC_14-16188\\\\400X\\\\SOB_M_DC-14-16188-400-011.png',\n",
       " 'BreaKHis_v1/histology_slides/breast/malignant/SOB\\\\ductal_carcinoma\\\\SOB_M_DC_14-16188\\\\400X\\\\SOB_M_DC-14-16188-400-012.png',\n",
       " 'BreaKHis_v1/histology_slides/breast/malignant/SOB\\\\ductal_carcinoma\\\\SOB_M_DC_14-16188\\\\400X\\\\SOB_M_DC-14-16188-400-013.png',\n",
       " 'BreaKHis_v1/histology_slides/breast/malignant/SOB\\\\ductal_carcinoma\\\\SOB_M_DC_14-16188\\\\400X\\\\SOB_M_DC-14-16188-400-014.png',\n",
       " 'BreaKHis_v1/histology_slides/breast/malignant/SOB\\\\ductal_carcinoma\\\\SOB_M_DC_14-16188\\\\400X\\\\SOB_M_DC-14-16188-400-015.png',\n",
       " 'BreaKHis_v1/histology_slides/breast/malignant/SOB\\\\ductal_carcinoma\\\\SOB_M_DC_14-16188\\\\400X\\\\SOB_M_DC-14-16188-400-016.png',\n",
       " 'BreaKHis_v1/histology_slides/breast/malignant/SOB\\\\ductal_carcinoma\\\\SOB_M_DC_14-16188\\\\400X\\\\SOB_M_DC-14-16188-400-017.png',\n",
       " 'BreaKHis_v1/histology_slides/breast/malignant/SOB\\\\ductal_carcinoma\\\\SOB_M_DC_14-16188\\\\400X\\\\SOB_M_DC-14-16188-400-018.png',\n",
       " 'BreaKHis_v1/histology_slides/breast/malignant/SOB\\\\ductal_carcinoma\\\\SOB_M_DC_14-16188\\\\400X\\\\SOB_M_DC-14-16188-400-019.png',\n",
       " 'BreaKHis_v1/histology_slides/breast/malignant/SOB\\\\ductal_carcinoma\\\\SOB_M_DC_14-16188\\\\400X\\\\SOB_M_DC-14-16188-400-020.png',\n",
       " 'BreaKHis_v1/histology_slides/breast/malignant/SOB\\\\ductal_carcinoma\\\\SOB_M_DC_14-16188\\\\400X\\\\SOB_M_DC-14-16188-400-021.png',\n",
       " 'BreaKHis_v1/histology_slides/breast/malignant/SOB\\\\ductal_carcinoma\\\\SOB_M_DC_14-16188\\\\400X\\\\SOB_M_DC-14-16188-400-022.png',\n",
       " 'BreaKHis_v1/histology_slides/breast/malignant/SOB\\\\ductal_carcinoma\\\\SOB_M_DC_14-16188\\\\400X\\\\SOB_M_DC-14-16188-400-023.png',\n",
       " 'BreaKHis_v1/histology_slides/breast/malignant/SOB\\\\ductal_carcinoma\\\\SOB_M_DC_14-16336\\\\400X\\\\SOB_M_DC-14-16336-400-001.png',\n",
       " 'BreaKHis_v1/histology_slides/breast/malignant/SOB\\\\ductal_carcinoma\\\\SOB_M_DC_14-16336\\\\400X\\\\SOB_M_DC-14-16336-400-002.png',\n",
       " 'BreaKHis_v1/histology_slides/breast/malignant/SOB\\\\ductal_carcinoma\\\\SOB_M_DC_14-16336\\\\400X\\\\SOB_M_DC-14-16336-400-003.png',\n",
       " 'BreaKHis_v1/histology_slides/breast/malignant/SOB\\\\ductal_carcinoma\\\\SOB_M_DC_14-16336\\\\400X\\\\SOB_M_DC-14-16336-400-004.png',\n",
       " 'BreaKHis_v1/histology_slides/breast/malignant/SOB\\\\ductal_carcinoma\\\\SOB_M_DC_14-16336\\\\400X\\\\SOB_M_DC-14-16336-400-005.png',\n",
       " 'BreaKHis_v1/histology_slides/breast/malignant/SOB\\\\ductal_carcinoma\\\\SOB_M_DC_14-16336\\\\400X\\\\SOB_M_DC-14-16336-400-006.png',\n",
       " 'BreaKHis_v1/histology_slides/breast/malignant/SOB\\\\ductal_carcinoma\\\\SOB_M_DC_14-16336\\\\400X\\\\SOB_M_DC-14-16336-400-007.png',\n",
       " 'BreaKHis_v1/histology_slides/breast/malignant/SOB\\\\ductal_carcinoma\\\\SOB_M_DC_14-16336\\\\400X\\\\SOB_M_DC-14-16336-400-008.png',\n",
       " 'BreaKHis_v1/histology_slides/breast/malignant/SOB\\\\ductal_carcinoma\\\\SOB_M_DC_14-16336\\\\400X\\\\SOB_M_DC-14-16336-400-009.png',\n",
       " 'BreaKHis_v1/histology_slides/breast/malignant/SOB\\\\ductal_carcinoma\\\\SOB_M_DC_14-16448\\\\400X\\\\SOB_M_DC-14-16448-400-001.png',\n",
       " 'BreaKHis_v1/histology_slides/breast/malignant/SOB\\\\ductal_carcinoma\\\\SOB_M_DC_14-16448\\\\400X\\\\SOB_M_DC-14-16448-400-002.png',\n",
       " 'BreaKHis_v1/histology_slides/breast/malignant/SOB\\\\ductal_carcinoma\\\\SOB_M_DC_14-16448\\\\400X\\\\SOB_M_DC-14-16448-400-003.png',\n",
       " 'BreaKHis_v1/histology_slides/breast/malignant/SOB\\\\ductal_carcinoma\\\\SOB_M_DC_14-16448\\\\400X\\\\SOB_M_DC-14-16448-400-004.png',\n",
       " 'BreaKHis_v1/histology_slides/breast/malignant/SOB\\\\ductal_carcinoma\\\\SOB_M_DC_14-16448\\\\400X\\\\SOB_M_DC-14-16448-400-005.png',\n",
       " 'BreaKHis_v1/histology_slides/breast/malignant/SOB\\\\ductal_carcinoma\\\\SOB_M_DC_14-16448\\\\400X\\\\SOB_M_DC-14-16448-400-006.png',\n",
       " 'BreaKHis_v1/histology_slides/breast/malignant/SOB\\\\ductal_carcinoma\\\\SOB_M_DC_14-16448\\\\400X\\\\SOB_M_DC-14-16448-400-007.png',\n",
       " 'BreaKHis_v1/histology_slides/breast/malignant/SOB\\\\ductal_carcinoma\\\\SOB_M_DC_14-16448\\\\400X\\\\SOB_M_DC-14-16448-400-008.png',\n",
       " 'BreaKHis_v1/histology_slides/breast/malignant/SOB\\\\ductal_carcinoma\\\\SOB_M_DC_14-16448\\\\400X\\\\SOB_M_DC-14-16448-400-009.png',\n",
       " 'BreaKHis_v1/histology_slides/breast/malignant/SOB\\\\ductal_carcinoma\\\\SOB_M_DC_14-16448\\\\400X\\\\SOB_M_DC-14-16448-400-010.png',\n",
       " 'BreaKHis_v1/histology_slides/breast/malignant/SOB\\\\ductal_carcinoma\\\\SOB_M_DC_14-16448\\\\400X\\\\SOB_M_DC-14-16448-400-011.png',\n",
       " 'BreaKHis_v1/histology_slides/breast/malignant/SOB\\\\ductal_carcinoma\\\\SOB_M_DC_14-16448\\\\400X\\\\SOB_M_DC-14-16448-400-012.png',\n",
       " 'BreaKHis_v1/histology_slides/breast/malignant/SOB\\\\ductal_carcinoma\\\\SOB_M_DC_14-16448\\\\400X\\\\SOB_M_DC-14-16448-400-013.png',\n",
       " 'BreaKHis_v1/histology_slides/breast/malignant/SOB\\\\ductal_carcinoma\\\\SOB_M_DC_14-16448\\\\400X\\\\SOB_M_DC-14-16448-400-014.png',\n",
       " 'BreaKHis_v1/histology_slides/breast/malignant/SOB\\\\ductal_carcinoma\\\\SOB_M_DC_14-16448\\\\400X\\\\SOB_M_DC-14-16448-400-015.png',\n",
       " 'BreaKHis_v1/histology_slides/breast/malignant/SOB\\\\ductal_carcinoma\\\\SOB_M_DC_14-16601\\\\400X\\\\SOB_M_DC-14-16601-400-001.png',\n",
       " 'BreaKHis_v1/histology_slides/breast/malignant/SOB\\\\ductal_carcinoma\\\\SOB_M_DC_14-16601\\\\400X\\\\SOB_M_DC-14-16601-400-002.png',\n",
       " 'BreaKHis_v1/histology_slides/breast/malignant/SOB\\\\ductal_carcinoma\\\\SOB_M_DC_14-16601\\\\400X\\\\SOB_M_DC-14-16601-400-003.png',\n",
       " 'BreaKHis_v1/histology_slides/breast/malignant/SOB\\\\ductal_carcinoma\\\\SOB_M_DC_14-16601\\\\400X\\\\SOB_M_DC-14-16601-400-004.png',\n",
       " 'BreaKHis_v1/histology_slides/breast/malignant/SOB\\\\ductal_carcinoma\\\\SOB_M_DC_14-16601\\\\400X\\\\SOB_M_DC-14-16601-400-005.png',\n",
       " 'BreaKHis_v1/histology_slides/breast/malignant/SOB\\\\ductal_carcinoma\\\\SOB_M_DC_14-16601\\\\400X\\\\SOB_M_DC-14-16601-400-006.png',\n",
       " 'BreaKHis_v1/histology_slides/breast/malignant/SOB\\\\ductal_carcinoma\\\\SOB_M_DC_14-16601\\\\400X\\\\SOB_M_DC-14-16601-400-007.png',\n",
       " 'BreaKHis_v1/histology_slides/breast/malignant/SOB\\\\ductal_carcinoma\\\\SOB_M_DC_14-16601\\\\400X\\\\SOB_M_DC-14-16601-400-008.png',\n",
       " 'BreaKHis_v1/histology_slides/breast/malignant/SOB\\\\ductal_carcinoma\\\\SOB_M_DC_14-16601\\\\400X\\\\SOB_M_DC-14-16601-400-009.png',\n",
       " 'BreaKHis_v1/histology_slides/breast/malignant/SOB\\\\ductal_carcinoma\\\\SOB_M_DC_14-16601\\\\400X\\\\SOB_M_DC-14-16601-400-010.png',\n",
       " 'BreaKHis_v1/histology_slides/breast/malignant/SOB\\\\ductal_carcinoma\\\\SOB_M_DC_14-16601\\\\400X\\\\SOB_M_DC-14-16601-400-011.png',\n",
       " 'BreaKHis_v1/histology_slides/breast/malignant/SOB\\\\ductal_carcinoma\\\\SOB_M_DC_14-16601\\\\400X\\\\SOB_M_DC-14-16601-400-012.png',\n",
       " 'BreaKHis_v1/histology_slides/breast/malignant/SOB\\\\ductal_carcinoma\\\\SOB_M_DC_14-16601\\\\400X\\\\SOB_M_DC-14-16601-400-014.png',\n",
       " 'BreaKHis_v1/histology_slides/breast/malignant/SOB\\\\ductal_carcinoma\\\\SOB_M_DC_14-16716\\\\400X\\\\SOB_M_DC-14-16716-400-001.png',\n",
       " 'BreaKHis_v1/histology_slides/breast/malignant/SOB\\\\ductal_carcinoma\\\\SOB_M_DC_14-16716\\\\400X\\\\SOB_M_DC-14-16716-400-002.png',\n",
       " 'BreaKHis_v1/histology_slides/breast/malignant/SOB\\\\ductal_carcinoma\\\\SOB_M_DC_14-16716\\\\400X\\\\SOB_M_DC-14-16716-400-003.png',\n",
       " 'BreaKHis_v1/histology_slides/breast/malignant/SOB\\\\ductal_carcinoma\\\\SOB_M_DC_14-16716\\\\400X\\\\SOB_M_DC-14-16716-400-004.png',\n",
       " 'BreaKHis_v1/histology_slides/breast/malignant/SOB\\\\ductal_carcinoma\\\\SOB_M_DC_14-16716\\\\400X\\\\SOB_M_DC-14-16716-400-005.png',\n",
       " 'BreaKHis_v1/histology_slides/breast/malignant/SOB\\\\ductal_carcinoma\\\\SOB_M_DC_14-16716\\\\400X\\\\SOB_M_DC-14-16716-400-006.png',\n",
       " 'BreaKHis_v1/histology_slides/breast/malignant/SOB\\\\ductal_carcinoma\\\\SOB_M_DC_14-16716\\\\400X\\\\SOB_M_DC-14-16716-400-007.png',\n",
       " 'BreaKHis_v1/histology_slides/breast/malignant/SOB\\\\ductal_carcinoma\\\\SOB_M_DC_14-16716\\\\400X\\\\SOB_M_DC-14-16716-400-008.png',\n",
       " 'BreaKHis_v1/histology_slides/breast/malignant/SOB\\\\ductal_carcinoma\\\\SOB_M_DC_14-16716\\\\400X\\\\SOB_M_DC-14-16716-400-009.png',\n",
       " 'BreaKHis_v1/histology_slides/breast/malignant/SOB\\\\ductal_carcinoma\\\\SOB_M_DC_14-16716\\\\400X\\\\SOB_M_DC-14-16716-400-010.png',\n",
       " 'BreaKHis_v1/histology_slides/breast/malignant/SOB\\\\ductal_carcinoma\\\\SOB_M_DC_14-16716\\\\400X\\\\SOB_M_DC-14-16716-400-011.png',\n",
       " 'BreaKHis_v1/histology_slides/breast/malignant/SOB\\\\ductal_carcinoma\\\\SOB_M_DC_14-16716\\\\400X\\\\SOB_M_DC-14-16716-400-012.png',\n",
       " 'BreaKHis_v1/histology_slides/breast/malignant/SOB\\\\ductal_carcinoma\\\\SOB_M_DC_14-16716\\\\400X\\\\SOB_M_DC-14-16716-400-013.png',\n",
       " 'BreaKHis_v1/histology_slides/breast/malignant/SOB\\\\ductal_carcinoma\\\\SOB_M_DC_14-16716\\\\400X\\\\SOB_M_DC-14-16716-400-014.png',\n",
       " 'BreaKHis_v1/histology_slides/breast/malignant/SOB\\\\ductal_carcinoma\\\\SOB_M_DC_14-16716\\\\400X\\\\SOB_M_DC-14-16716-400-015.png',\n",
       " 'BreaKHis_v1/histology_slides/breast/malignant/SOB\\\\ductal_carcinoma\\\\SOB_M_DC_14-16716\\\\400X\\\\SOB_M_DC-14-16716-400-016.png',\n",
       " 'BreaKHis_v1/histology_slides/breast/malignant/SOB\\\\ductal_carcinoma\\\\SOB_M_DC_14-16716\\\\400X\\\\SOB_M_DC-14-16716-400-017.png',\n",
       " 'BreaKHis_v1/histology_slides/breast/malignant/SOB\\\\ductal_carcinoma\\\\SOB_M_DC_14-16716\\\\400X\\\\SOB_M_DC-14-16716-400-018.png',\n",
       " 'BreaKHis_v1/histology_slides/breast/malignant/SOB\\\\ductal_carcinoma\\\\SOB_M_DC_14-16716\\\\400X\\\\SOB_M_DC-14-16716-400-020.png',\n",
       " 'BreaKHis_v1/histology_slides/breast/malignant/SOB\\\\ductal_carcinoma\\\\SOB_M_DC_14-16716\\\\400X\\\\SOB_M_DC-14-16716-400-021.png',\n",
       " 'BreaKHis_v1/histology_slides/breast/malignant/SOB\\\\ductal_carcinoma\\\\SOB_M_DC_14-16716\\\\400X\\\\SOB_M_DC-14-16716-400-022.png',\n",
       " 'BreaKHis_v1/histology_slides/breast/malignant/SOB\\\\ductal_carcinoma\\\\SOB_M_DC_14-16716\\\\400X\\\\SOB_M_DC-14-16716-400-023.png',\n",
       " 'BreaKHis_v1/histology_slides/breast/malignant/SOB\\\\ductal_carcinoma\\\\SOB_M_DC_14-16716\\\\400X\\\\SOB_M_DC-14-16716-400-024.png',\n",
       " 'BreaKHis_v1/histology_slides/breast/malignant/SOB\\\\ductal_carcinoma\\\\SOB_M_DC_14-16716\\\\400X\\\\SOB_M_DC-14-16716-400-025.png',\n",
       " 'BreaKHis_v1/histology_slides/breast/malignant/SOB\\\\ductal_carcinoma\\\\SOB_M_DC_14-16716\\\\400X\\\\SOB_M_DC-14-16716-400-026.png',\n",
       " 'BreaKHis_v1/histology_slides/breast/malignant/SOB\\\\ductal_carcinoma\\\\SOB_M_DC_14-16716\\\\400X\\\\SOB_M_DC-14-16716-400-027.png',\n",
       " 'BreaKHis_v1/histology_slides/breast/malignant/SOB\\\\ductal_carcinoma\\\\SOB_M_DC_14-16716\\\\400X\\\\SOB_M_DC-14-16716-400-028.png',\n",
       " 'BreaKHis_v1/histology_slides/breast/malignant/SOB\\\\ductal_carcinoma\\\\SOB_M_DC_14-16716\\\\400X\\\\SOB_M_DC-14-16716-400-029.png',\n",
       " 'BreaKHis_v1/histology_slides/breast/malignant/SOB\\\\ductal_carcinoma\\\\SOB_M_DC_14-16716\\\\400X\\\\SOB_M_DC-14-16716-400-030.png',\n",
       " 'BreaKHis_v1/histology_slides/breast/malignant/SOB\\\\ductal_carcinoma\\\\SOB_M_DC_14-16875\\\\400X\\\\SOB_M_DC-14-16875-400-001.png',\n",
       " 'BreaKHis_v1/histology_slides/breast/malignant/SOB\\\\ductal_carcinoma\\\\SOB_M_DC_14-16875\\\\400X\\\\SOB_M_DC-14-16875-400-002.png',\n",
       " 'BreaKHis_v1/histology_slides/breast/malignant/SOB\\\\ductal_carcinoma\\\\SOB_M_DC_14-16875\\\\400X\\\\SOB_M_DC-14-16875-400-003.png',\n",
       " 'BreaKHis_v1/histology_slides/breast/malignant/SOB\\\\ductal_carcinoma\\\\SOB_M_DC_14-16875\\\\400X\\\\SOB_M_DC-14-16875-400-004.png',\n",
       " 'BreaKHis_v1/histology_slides/breast/malignant/SOB\\\\ductal_carcinoma\\\\SOB_M_DC_14-16875\\\\400X\\\\SOB_M_DC-14-16875-400-005.png',\n",
       " 'BreaKHis_v1/histology_slides/breast/malignant/SOB\\\\ductal_carcinoma\\\\SOB_M_DC_14-16875\\\\400X\\\\SOB_M_DC-14-16875-400-006.png',\n",
       " 'BreaKHis_v1/histology_slides/breast/malignant/SOB\\\\ductal_carcinoma\\\\SOB_M_DC_14-16875\\\\400X\\\\SOB_M_DC-14-16875-400-007.png',\n",
       " 'BreaKHis_v1/histology_slides/breast/malignant/SOB\\\\ductal_carcinoma\\\\SOB_M_DC_14-16875\\\\400X\\\\SOB_M_DC-14-16875-400-008.png',\n",
       " 'BreaKHis_v1/histology_slides/breast/malignant/SOB\\\\ductal_carcinoma\\\\SOB_M_DC_14-17614\\\\400X\\\\SOB_M_DC-14-17614-400-001.png',\n",
       " 'BreaKHis_v1/histology_slides/breast/malignant/SOB\\\\ductal_carcinoma\\\\SOB_M_DC_14-17614\\\\400X\\\\SOB_M_DC-14-17614-400-002.png',\n",
       " 'BreaKHis_v1/histology_slides/breast/malignant/SOB\\\\ductal_carcinoma\\\\SOB_M_DC_14-17614\\\\400X\\\\SOB_M_DC-14-17614-400-003.png',\n",
       " 'BreaKHis_v1/histology_slides/breast/malignant/SOB\\\\ductal_carcinoma\\\\SOB_M_DC_14-17614\\\\400X\\\\SOB_M_DC-14-17614-400-004.png',\n",
       " 'BreaKHis_v1/histology_slides/breast/malignant/SOB\\\\ductal_carcinoma\\\\SOB_M_DC_14-17614\\\\400X\\\\SOB_M_DC-14-17614-400-005.png',\n",
       " 'BreaKHis_v1/histology_slides/breast/malignant/SOB\\\\ductal_carcinoma\\\\SOB_M_DC_14-17614\\\\400X\\\\SOB_M_DC-14-17614-400-006.png',\n",
       " 'BreaKHis_v1/histology_slides/breast/malignant/SOB\\\\ductal_carcinoma\\\\SOB_M_DC_14-17614\\\\400X\\\\SOB_M_DC-14-17614-400-007.png',\n",
       " 'BreaKHis_v1/histology_slides/breast/malignant/SOB\\\\ductal_carcinoma\\\\SOB_M_DC_14-17614\\\\400X\\\\SOB_M_DC-14-17614-400-008.png',\n",
       " 'BreaKHis_v1/histology_slides/breast/malignant/SOB\\\\ductal_carcinoma\\\\SOB_M_DC_14-17614\\\\400X\\\\SOB_M_DC-14-17614-400-009.png',\n",
       " 'BreaKHis_v1/histology_slides/breast/malignant/SOB\\\\ductal_carcinoma\\\\SOB_M_DC_14-17614\\\\400X\\\\SOB_M_DC-14-17614-400-010.png',\n",
       " 'BreaKHis_v1/histology_slides/breast/malignant/SOB\\\\ductal_carcinoma\\\\SOB_M_DC_14-17614\\\\400X\\\\SOB_M_DC-14-17614-400-011.png',\n",
       " 'BreaKHis_v1/histology_slides/breast/malignant/SOB\\\\ductal_carcinoma\\\\SOB_M_DC_14-17614\\\\400X\\\\SOB_M_DC-14-17614-400-012.png',\n",
       " 'BreaKHis_v1/histology_slides/breast/malignant/SOB\\\\ductal_carcinoma\\\\SOB_M_DC_14-17614\\\\400X\\\\SOB_M_DC-14-17614-400-013.png',\n",
       " 'BreaKHis_v1/histology_slides/breast/malignant/SOB\\\\ductal_carcinoma\\\\SOB_M_DC_14-17614\\\\400X\\\\SOB_M_DC-14-17614-400-014.png',\n",
       " 'BreaKHis_v1/histology_slides/breast/malignant/SOB\\\\ductal_carcinoma\\\\SOB_M_DC_14-17614\\\\400X\\\\SOB_M_DC-14-17614-400-015.png',\n",
       " 'BreaKHis_v1/histology_slides/breast/malignant/SOB\\\\ductal_carcinoma\\\\SOB_M_DC_14-17614\\\\400X\\\\SOB_M_DC-14-17614-400-016.png',\n",
       " 'BreaKHis_v1/histology_slides/breast/malignant/SOB\\\\ductal_carcinoma\\\\SOB_M_DC_14-17614\\\\400X\\\\SOB_M_DC-14-17614-400-017.png',\n",
       " 'BreaKHis_v1/histology_slides/breast/malignant/SOB\\\\ductal_carcinoma\\\\SOB_M_DC_14-17614\\\\400X\\\\SOB_M_DC-14-17614-400-018.png',\n",
       " 'BreaKHis_v1/histology_slides/breast/malignant/SOB\\\\ductal_carcinoma\\\\SOB_M_DC_14-17614\\\\400X\\\\SOB_M_DC-14-17614-400-019.png',\n",
       " 'BreaKHis_v1/histology_slides/breast/malignant/SOB\\\\ductal_carcinoma\\\\SOB_M_DC_14-17614\\\\400X\\\\SOB_M_DC-14-17614-400-020.png',\n",
       " 'BreaKHis_v1/histology_slides/breast/malignant/SOB\\\\ductal_carcinoma\\\\SOB_M_DC_14-17614\\\\400X\\\\SOB_M_DC-14-17614-400-021.png',\n",
       " 'BreaKHis_v1/histology_slides/breast/malignant/SOB\\\\ductal_carcinoma\\\\SOB_M_DC_14-17614\\\\400X\\\\SOB_M_DC-14-17614-400-022.png',\n",
       " 'BreaKHis_v1/histology_slides/breast/malignant/SOB\\\\ductal_carcinoma\\\\SOB_M_DC_14-17614\\\\400X\\\\SOB_M_DC-14-17614-400-023.png',\n",
       " 'BreaKHis_v1/histology_slides/breast/malignant/SOB\\\\ductal_carcinoma\\\\SOB_M_DC_14-17614\\\\400X\\\\SOB_M_DC-14-17614-400-024.png',\n",
       " 'BreaKHis_v1/histology_slides/breast/malignant/SOB\\\\ductal_carcinoma\\\\SOB_M_DC_14-17614\\\\400X\\\\SOB_M_DC-14-17614-400-025.png',\n",
       " 'BreaKHis_v1/histology_slides/breast/malignant/SOB\\\\ductal_carcinoma\\\\SOB_M_DC_14-17614\\\\400X\\\\SOB_M_DC-14-17614-400-026.png',\n",
       " 'BreaKHis_v1/histology_slides/breast/malignant/SOB\\\\ductal_carcinoma\\\\SOB_M_DC_14-17614\\\\400X\\\\SOB_M_DC-14-17614-400-027.png',\n",
       " 'BreaKHis_v1/histology_slides/breast/malignant/SOB\\\\ductal_carcinoma\\\\SOB_M_DC_14-17614\\\\400X\\\\SOB_M_DC-14-17614-400-028.png',\n",
       " 'BreaKHis_v1/histology_slides/breast/malignant/SOB\\\\ductal_carcinoma\\\\SOB_M_DC_14-17901\\\\400X\\\\SOB_M_DC-14-17901-400-001.png',\n",
       " 'BreaKHis_v1/histology_slides/breast/malignant/SOB\\\\ductal_carcinoma\\\\SOB_M_DC_14-17901\\\\400X\\\\SOB_M_DC-14-17901-400-002.png',\n",
       " 'BreaKHis_v1/histology_slides/breast/malignant/SOB\\\\ductal_carcinoma\\\\SOB_M_DC_14-17901\\\\400X\\\\SOB_M_DC-14-17901-400-003.png',\n",
       " 'BreaKHis_v1/histology_slides/breast/malignant/SOB\\\\ductal_carcinoma\\\\SOB_M_DC_14-17901\\\\400X\\\\SOB_M_DC-14-17901-400-004.png',\n",
       " 'BreaKHis_v1/histology_slides/breast/malignant/SOB\\\\ductal_carcinoma\\\\SOB_M_DC_14-17901\\\\400X\\\\SOB_M_DC-14-17901-400-005.png',\n",
       " 'BreaKHis_v1/histology_slides/breast/malignant/SOB\\\\ductal_carcinoma\\\\SOB_M_DC_14-17901\\\\400X\\\\SOB_M_DC-14-17901-400-006.png',\n",
       " 'BreaKHis_v1/histology_slides/breast/malignant/SOB\\\\ductal_carcinoma\\\\SOB_M_DC_14-17901\\\\400X\\\\SOB_M_DC-14-17901-400-007.png',\n",
       " 'BreaKHis_v1/histology_slides/breast/malignant/SOB\\\\ductal_carcinoma\\\\SOB_M_DC_14-17901\\\\400X\\\\SOB_M_DC-14-17901-400-008.png',\n",
       " 'BreaKHis_v1/histology_slides/breast/malignant/SOB\\\\ductal_carcinoma\\\\SOB_M_DC_14-17901\\\\400X\\\\SOB_M_DC-14-17901-400-009.png',\n",
       " 'BreaKHis_v1/histology_slides/breast/malignant/SOB\\\\ductal_carcinoma\\\\SOB_M_DC_14-17901\\\\400X\\\\SOB_M_DC-14-17901-400-010.png',\n",
       " 'BreaKHis_v1/histology_slides/breast/malignant/SOB\\\\ductal_carcinoma\\\\SOB_M_DC_14-17901\\\\400X\\\\SOB_M_DC-14-17901-400-011.png',\n",
       " 'BreaKHis_v1/histology_slides/breast/malignant/SOB\\\\ductal_carcinoma\\\\SOB_M_DC_14-17901\\\\400X\\\\SOB_M_DC-14-17901-400-012.png',\n",
       " 'BreaKHis_v1/histology_slides/breast/malignant/SOB\\\\ductal_carcinoma\\\\SOB_M_DC_14-17901\\\\400X\\\\SOB_M_DC-14-17901-400-013.png',\n",
       " 'BreaKHis_v1/histology_slides/breast/malignant/SOB\\\\ductal_carcinoma\\\\SOB_M_DC_14-17901\\\\400X\\\\SOB_M_DC-14-17901-400-014.png',\n",
       " 'BreaKHis_v1/histology_slides/breast/malignant/SOB\\\\ductal_carcinoma\\\\SOB_M_DC_14-17901\\\\400X\\\\SOB_M_DC-14-17901-400-015.png',\n",
       " 'BreaKHis_v1/histology_slides/breast/malignant/SOB\\\\ductal_carcinoma\\\\SOB_M_DC_14-17901\\\\400X\\\\SOB_M_DC-14-17901-400-016.png',\n",
       " 'BreaKHis_v1/histology_slides/breast/malignant/SOB\\\\ductal_carcinoma\\\\SOB_M_DC_14-17901\\\\400X\\\\SOB_M_DC-14-17901-400-017.png',\n",
       " 'BreaKHis_v1/histology_slides/breast/malignant/SOB\\\\ductal_carcinoma\\\\SOB_M_DC_14-17901\\\\400X\\\\SOB_M_DC-14-17901-400-018.png',\n",
       " 'BreaKHis_v1/histology_slides/breast/malignant/SOB\\\\ductal_carcinoma\\\\SOB_M_DC_14-17901\\\\400X\\\\SOB_M_DC-14-17901-400-019.png',\n",
       " 'BreaKHis_v1/histology_slides/breast/malignant/SOB\\\\ductal_carcinoma\\\\SOB_M_DC_14-17901\\\\400X\\\\SOB_M_DC-14-17901-400-020.png',\n",
       " 'BreaKHis_v1/histology_slides/breast/malignant/SOB\\\\ductal_carcinoma\\\\SOB_M_DC_14-17901\\\\400X\\\\SOB_M_DC-14-17901-400-021.png',\n",
       " 'BreaKHis_v1/histology_slides/breast/malignant/SOB\\\\ductal_carcinoma\\\\SOB_M_DC_14-17901\\\\400X\\\\SOB_M_DC-14-17901-400-022.png',\n",
       " 'BreaKHis_v1/histology_slides/breast/malignant/SOB\\\\ductal_carcinoma\\\\SOB_M_DC_14-17901\\\\400X\\\\SOB_M_DC-14-17901-400-023.png',\n",
       " 'BreaKHis_v1/histology_slides/breast/malignant/SOB\\\\ductal_carcinoma\\\\SOB_M_DC_14-17901\\\\400X\\\\SOB_M_DC-14-17901-400-024.png',\n",
       " 'BreaKHis_v1/histology_slides/breast/malignant/SOB\\\\ductal_carcinoma\\\\SOB_M_DC_14-17901\\\\400X\\\\SOB_M_DC-14-17901-400-025.png',\n",
       " 'BreaKHis_v1/histology_slides/breast/malignant/SOB\\\\ductal_carcinoma\\\\SOB_M_DC_14-17901\\\\400X\\\\SOB_M_DC-14-17901-400-026.png',\n",
       " 'BreaKHis_v1/histology_slides/breast/malignant/SOB\\\\ductal_carcinoma\\\\SOB_M_DC_14-17901\\\\400X\\\\SOB_M_DC-14-17901-400-027.png',\n",
       " 'BreaKHis_v1/histology_slides/breast/malignant/SOB\\\\ductal_carcinoma\\\\SOB_M_DC_14-17901\\\\400X\\\\SOB_M_DC-14-17901-400-028.png',\n",
       " 'BreaKHis_v1/histology_slides/breast/malignant/SOB\\\\ductal_carcinoma\\\\SOB_M_DC_14-17915\\\\400X\\\\SOB_M_DC-14-17915-400-001.png',\n",
       " 'BreaKHis_v1/histology_slides/breast/malignant/SOB\\\\ductal_carcinoma\\\\SOB_M_DC_14-17915\\\\400X\\\\SOB_M_DC-14-17915-400-002.png',\n",
       " 'BreaKHis_v1/histology_slides/breast/malignant/SOB\\\\ductal_carcinoma\\\\SOB_M_DC_14-17915\\\\400X\\\\SOB_M_DC-14-17915-400-003.png',\n",
       " 'BreaKHis_v1/histology_slides/breast/malignant/SOB\\\\ductal_carcinoma\\\\SOB_M_DC_14-17915\\\\400X\\\\SOB_M_DC-14-17915-400-004.png',\n",
       " 'BreaKHis_v1/histology_slides/breast/malignant/SOB\\\\ductal_carcinoma\\\\SOB_M_DC_14-17915\\\\400X\\\\SOB_M_DC-14-17915-400-005.png',\n",
       " 'BreaKHis_v1/histology_slides/breast/malignant/SOB\\\\ductal_carcinoma\\\\SOB_M_DC_14-17915\\\\400X\\\\SOB_M_DC-14-17915-400-006.png',\n",
       " 'BreaKHis_v1/histology_slides/breast/malignant/SOB\\\\ductal_carcinoma\\\\SOB_M_DC_14-17915\\\\400X\\\\SOB_M_DC-14-17915-400-007.png',\n",
       " 'BreaKHis_v1/histology_slides/breast/malignant/SOB\\\\ductal_carcinoma\\\\SOB_M_DC_14-17915\\\\400X\\\\SOB_M_DC-14-17915-400-008.png',\n",
       " 'BreaKHis_v1/histology_slides/breast/malignant/SOB\\\\ductal_carcinoma\\\\SOB_M_DC_14-17915\\\\400X\\\\SOB_M_DC-14-17915-400-009.png',\n",
       " 'BreaKHis_v1/histology_slides/breast/malignant/SOB\\\\ductal_carcinoma\\\\SOB_M_DC_14-17915\\\\400X\\\\SOB_M_DC-14-17915-400-010.png',\n",
       " 'BreaKHis_v1/histology_slides/breast/malignant/SOB\\\\ductal_carcinoma\\\\SOB_M_DC_14-17915\\\\400X\\\\SOB_M_DC-14-17915-400-011.png',\n",
       " 'BreaKHis_v1/histology_slides/breast/malignant/SOB\\\\ductal_carcinoma\\\\SOB_M_DC_14-17915\\\\400X\\\\SOB_M_DC-14-17915-400-012.png',\n",
       " 'BreaKHis_v1/histology_slides/breast/malignant/SOB\\\\ductal_carcinoma\\\\SOB_M_DC_14-17915\\\\400X\\\\SOB_M_DC-14-17915-400-013.png',\n",
       " 'BreaKHis_v1/histology_slides/breast/malignant/SOB\\\\ductal_carcinoma\\\\SOB_M_DC_14-17915\\\\400X\\\\SOB_M_DC-14-17915-400-014.png',\n",
       " 'BreaKHis_v1/histology_slides/breast/malignant/SOB\\\\ductal_carcinoma\\\\SOB_M_DC_14-17915\\\\400X\\\\SOB_M_DC-14-17915-400-015.png',\n",
       " 'BreaKHis_v1/histology_slides/breast/malignant/SOB\\\\ductal_carcinoma\\\\SOB_M_DC_14-17915\\\\400X\\\\SOB_M_DC-14-17915-400-016.png',\n",
       " 'BreaKHis_v1/histology_slides/breast/malignant/SOB\\\\ductal_carcinoma\\\\SOB_M_DC_14-18650\\\\400X\\\\SOB_M_DC-14-18650-400-001.png',\n",
       " 'BreaKHis_v1/histology_slides/breast/malignant/SOB\\\\ductal_carcinoma\\\\SOB_M_DC_14-18650\\\\400X\\\\SOB_M_DC-14-18650-400-002.png',\n",
       " 'BreaKHis_v1/histology_slides/breast/malignant/SOB\\\\ductal_carcinoma\\\\SOB_M_DC_14-18650\\\\400X\\\\SOB_M_DC-14-18650-400-003.png',\n",
       " 'BreaKHis_v1/histology_slides/breast/malignant/SOB\\\\ductal_carcinoma\\\\SOB_M_DC_14-18650\\\\400X\\\\SOB_M_DC-14-18650-400-004.png',\n",
       " 'BreaKHis_v1/histology_slides/breast/malignant/SOB\\\\ductal_carcinoma\\\\SOB_M_DC_14-18650\\\\400X\\\\SOB_M_DC-14-18650-400-005.png',\n",
       " 'BreaKHis_v1/histology_slides/breast/malignant/SOB\\\\ductal_carcinoma\\\\SOB_M_DC_14-18650\\\\400X\\\\SOB_M_DC-14-18650-400-006.png',\n",
       " 'BreaKHis_v1/histology_slides/breast/malignant/SOB\\\\ductal_carcinoma\\\\SOB_M_DC_14-18650\\\\400X\\\\SOB_M_DC-14-18650-400-007.png',\n",
       " 'BreaKHis_v1/histology_slides/breast/malignant/SOB\\\\ductal_carcinoma\\\\SOB_M_DC_14-18650\\\\400X\\\\SOB_M_DC-14-18650-400-008.png',\n",
       " 'BreaKHis_v1/histology_slides/breast/malignant/SOB\\\\ductal_carcinoma\\\\SOB_M_DC_14-18650\\\\400X\\\\SOB_M_DC-14-18650-400-009.png',\n",
       " 'BreaKHis_v1/histology_slides/breast/malignant/SOB\\\\ductal_carcinoma\\\\SOB_M_DC_14-18650\\\\400X\\\\SOB_M_DC-14-18650-400-010.png',\n",
       " 'BreaKHis_v1/histology_slides/breast/malignant/SOB\\\\ductal_carcinoma\\\\SOB_M_DC_14-18650\\\\400X\\\\SOB_M_DC-14-18650-400-011.png',\n",
       " 'BreaKHis_v1/histology_slides/breast/malignant/SOB\\\\ductal_carcinoma\\\\SOB_M_DC_14-18650\\\\400X\\\\SOB_M_DC-14-18650-400-012.png',\n",
       " 'BreaKHis_v1/histology_slides/breast/malignant/SOB\\\\ductal_carcinoma\\\\SOB_M_DC_14-18650\\\\400X\\\\SOB_M_DC-14-18650-400-013.png',\n",
       " 'BreaKHis_v1/histology_slides/breast/malignant/SOB\\\\ductal_carcinoma\\\\SOB_M_DC_14-18650\\\\400X\\\\SOB_M_DC-14-18650-400-014.png',\n",
       " 'BreaKHis_v1/histology_slides/breast/malignant/SOB\\\\ductal_carcinoma\\\\SOB_M_DC_14-18650\\\\400X\\\\SOB_M_DC-14-18650-400-015.png',\n",
       " 'BreaKHis_v1/histology_slides/breast/malignant/SOB\\\\ductal_carcinoma\\\\SOB_M_DC_14-18650\\\\400X\\\\SOB_M_DC-14-18650-400-016.png',\n",
       " 'BreaKHis_v1/histology_slides/breast/malignant/SOB\\\\ductal_carcinoma\\\\SOB_M_DC_14-18650\\\\400X\\\\SOB_M_DC-14-18650-400-017.png',\n",
       " 'BreaKHis_v1/histology_slides/breast/malignant/SOB\\\\ductal_carcinoma\\\\SOB_M_DC_14-18650\\\\400X\\\\SOB_M_DC-14-18650-400-018.png',\n",
       " 'BreaKHis_v1/histology_slides/breast/malignant/SOB\\\\ductal_carcinoma\\\\SOB_M_DC_14-18650\\\\400X\\\\SOB_M_DC-14-18650-400-019.png',\n",
       " 'BreaKHis_v1/histology_slides/breast/malignant/SOB\\\\ductal_carcinoma\\\\SOB_M_DC_14-18650\\\\400X\\\\SOB_M_DC-14-18650-400-020.png',\n",
       " 'BreaKHis_v1/histology_slides/breast/malignant/SOB\\\\ductal_carcinoma\\\\SOB_M_DC_14-18650\\\\400X\\\\SOB_M_DC-14-18650-400-021.png',\n",
       " 'BreaKHis_v1/histology_slides/breast/malignant/SOB\\\\ductal_carcinoma\\\\SOB_M_DC_14-18650\\\\400X\\\\SOB_M_DC-14-18650-400-022.png',\n",
       " 'BreaKHis_v1/histology_slides/breast/malignant/SOB\\\\ductal_carcinoma\\\\SOB_M_DC_14-18650\\\\400X\\\\SOB_M_DC-14-18650-400-023.png',\n",
       " 'BreaKHis_v1/histology_slides/breast/malignant/SOB\\\\ductal_carcinoma\\\\SOB_M_DC_14-18650\\\\400X\\\\SOB_M_DC-14-18650-400-024.png',\n",
       " 'BreaKHis_v1/histology_slides/breast/malignant/SOB\\\\ductal_carcinoma\\\\SOB_M_DC_14-18650\\\\400X\\\\SOB_M_DC-14-18650-400-025.png',\n",
       " 'BreaKHis_v1/histology_slides/breast/malignant/SOB\\\\ductal_carcinoma\\\\SOB_M_DC_14-18650\\\\400X\\\\SOB_M_DC-14-18650-400-026.png',\n",
       " 'BreaKHis_v1/histology_slides/breast/malignant/SOB\\\\ductal_carcinoma\\\\SOB_M_DC_14-18650\\\\400X\\\\SOB_M_DC-14-18650-400-027.png',\n",
       " 'BreaKHis_v1/histology_slides/breast/malignant/SOB\\\\ductal_carcinoma\\\\SOB_M_DC_14-18650\\\\400X\\\\SOB_M_DC-14-18650-400-028.png',\n",
       " 'BreaKHis_v1/histology_slides/breast/malignant/SOB\\\\ductal_carcinoma\\\\SOB_M_DC_14-18650\\\\400X\\\\SOB_M_DC-14-18650-400-029.png',\n",
       " 'BreaKHis_v1/histology_slides/breast/malignant/SOB\\\\ductal_carcinoma\\\\SOB_M_DC_14-20629\\\\400X\\\\SOB_M_DC-14-20629-400-001.png',\n",
       " 'BreaKHis_v1/histology_slides/breast/malignant/SOB\\\\ductal_carcinoma\\\\SOB_M_DC_14-20629\\\\400X\\\\SOB_M_DC-14-20629-400-002.png',\n",
       " 'BreaKHis_v1/histology_slides/breast/malignant/SOB\\\\ductal_carcinoma\\\\SOB_M_DC_14-20629\\\\400X\\\\SOB_M_DC-14-20629-400-003.png',\n",
       " 'BreaKHis_v1/histology_slides/breast/malignant/SOB\\\\ductal_carcinoma\\\\SOB_M_DC_14-20629\\\\400X\\\\SOB_M_DC-14-20629-400-004.png',\n",
       " 'BreaKHis_v1/histology_slides/breast/malignant/SOB\\\\ductal_carcinoma\\\\SOB_M_DC_14-20629\\\\400X\\\\SOB_M_DC-14-20629-400-005.png',\n",
       " 'BreaKHis_v1/histology_slides/breast/malignant/SOB\\\\ductal_carcinoma\\\\SOB_M_DC_14-20629\\\\400X\\\\SOB_M_DC-14-20629-400-006.png',\n",
       " 'BreaKHis_v1/histology_slides/breast/malignant/SOB\\\\ductal_carcinoma\\\\SOB_M_DC_14-20629\\\\400X\\\\SOB_M_DC-14-20629-400-007.png',\n",
       " 'BreaKHis_v1/histology_slides/breast/malignant/SOB\\\\ductal_carcinoma\\\\SOB_M_DC_14-20629\\\\400X\\\\SOB_M_DC-14-20629-400-008.png',\n",
       " 'BreaKHis_v1/histology_slides/breast/malignant/SOB\\\\ductal_carcinoma\\\\SOB_M_DC_14-20629\\\\400X\\\\SOB_M_DC-14-20629-400-009.png',\n",
       " 'BreaKHis_v1/histology_slides/breast/malignant/SOB\\\\ductal_carcinoma\\\\SOB_M_DC_14-20629\\\\400X\\\\SOB_M_DC-14-20629-400-010.png',\n",
       " 'BreaKHis_v1/histology_slides/breast/malignant/SOB\\\\ductal_carcinoma\\\\SOB_M_DC_14-20629\\\\400X\\\\SOB_M_DC-14-20629-400-011.png',\n",
       " 'BreaKHis_v1/histology_slides/breast/malignant/SOB\\\\ductal_carcinoma\\\\SOB_M_DC_14-20629\\\\400X\\\\SOB_M_DC-14-20629-400-012.png',\n",
       " 'BreaKHis_v1/histology_slides/breast/malignant/SOB\\\\ductal_carcinoma\\\\SOB_M_DC_14-20629\\\\400X\\\\SOB_M_DC-14-20629-400-013.png',\n",
       " 'BreaKHis_v1/histology_slides/breast/malignant/SOB\\\\ductal_carcinoma\\\\SOB_M_DC_14-20629\\\\400X\\\\SOB_M_DC-14-20629-400-014.png',\n",
       " 'BreaKHis_v1/histology_slides/breast/malignant/SOB\\\\ductal_carcinoma\\\\SOB_M_DC_14-20629\\\\400X\\\\SOB_M_DC-14-20629-400-015.png',\n",
       " 'BreaKHis_v1/histology_slides/breast/malignant/SOB\\\\ductal_carcinoma\\\\SOB_M_DC_14-20629\\\\400X\\\\SOB_M_DC-14-20629-400-016.png',\n",
       " 'BreaKHis_v1/histology_slides/breast/malignant/SOB\\\\ductal_carcinoma\\\\SOB_M_DC_14-20629\\\\400X\\\\SOB_M_DC-14-20629-400-017.png',\n",
       " 'BreaKHis_v1/histology_slides/breast/malignant/SOB\\\\ductal_carcinoma\\\\SOB_M_DC_14-20629\\\\400X\\\\SOB_M_DC-14-20629-400-018.png',\n",
       " 'BreaKHis_v1/histology_slides/breast/malignant/SOB\\\\ductal_carcinoma\\\\SOB_M_DC_14-20629\\\\400X\\\\SOB_M_DC-14-20629-400-019.png',\n",
       " 'BreaKHis_v1/histology_slides/breast/malignant/SOB\\\\ductal_carcinoma\\\\SOB_M_DC_14-20629\\\\400X\\\\SOB_M_DC-14-20629-400-020.png',\n",
       " 'BreaKHis_v1/histology_slides/breast/malignant/SOB\\\\ductal_carcinoma\\\\SOB_M_DC_14-20629\\\\400X\\\\SOB_M_DC-14-20629-400-021.png',\n",
       " 'BreaKHis_v1/histology_slides/breast/malignant/SOB\\\\ductal_carcinoma\\\\SOB_M_DC_14-20629\\\\400X\\\\SOB_M_DC-14-20629-400-022.png',\n",
       " 'BreaKHis_v1/histology_slides/breast/malignant/SOB\\\\ductal_carcinoma\\\\SOB_M_DC_14-20629\\\\400X\\\\SOB_M_DC-14-20629-400-023.png',\n",
       " 'BreaKHis_v1/histology_slides/breast/malignant/SOB\\\\ductal_carcinoma\\\\SOB_M_DC_14-20629\\\\400X\\\\SOB_M_DC-14-20629-400-024.png',\n",
       " 'BreaKHis_v1/histology_slides/breast/malignant/SOB\\\\ductal_carcinoma\\\\SOB_M_DC_14-20636\\\\400X\\\\SOB_M_DC-14-20636-400-001.png',\n",
       " 'BreaKHis_v1/histology_slides/breast/malignant/SOB\\\\ductal_carcinoma\\\\SOB_M_DC_14-20636\\\\400X\\\\SOB_M_DC-14-20636-400-002.png',\n",
       " 'BreaKHis_v1/histology_slides/breast/malignant/SOB\\\\ductal_carcinoma\\\\SOB_M_DC_14-20636\\\\400X\\\\SOB_M_DC-14-20636-400-003.png',\n",
       " 'BreaKHis_v1/histology_slides/breast/malignant/SOB\\\\ductal_carcinoma\\\\SOB_M_DC_14-20636\\\\400X\\\\SOB_M_DC-14-20636-400-004.png',\n",
       " 'BreaKHis_v1/histology_slides/breast/malignant/SOB\\\\ductal_carcinoma\\\\SOB_M_DC_14-20636\\\\400X\\\\SOB_M_DC-14-20636-400-005.png',\n",
       " 'BreaKHis_v1/histology_slides/breast/malignant/SOB\\\\ductal_carcinoma\\\\SOB_M_DC_14-20636\\\\400X\\\\SOB_M_DC-14-20636-400-006.png',\n",
       " 'BreaKHis_v1/histology_slides/breast/malignant/SOB\\\\ductal_carcinoma\\\\SOB_M_DC_14-20636\\\\400X\\\\SOB_M_DC-14-20636-400-007.png',\n",
       " 'BreaKHis_v1/histology_slides/breast/malignant/SOB\\\\ductal_carcinoma\\\\SOB_M_DC_14-20636\\\\400X\\\\SOB_M_DC-14-20636-400-008.png',\n",
       " 'BreaKHis_v1/histology_slides/breast/malignant/SOB\\\\ductal_carcinoma\\\\SOB_M_DC_14-20636\\\\400X\\\\SOB_M_DC-14-20636-400-009.png',\n",
       " 'BreaKHis_v1/histology_slides/breast/malignant/SOB\\\\ductal_carcinoma\\\\SOB_M_DC_14-20636\\\\400X\\\\SOB_M_DC-14-20636-400-010.png',\n",
       " 'BreaKHis_v1/histology_slides/breast/malignant/SOB\\\\ductal_carcinoma\\\\SOB_M_DC_14-20636\\\\400X\\\\SOB_M_DC-14-20636-400-011.png',\n",
       " 'BreaKHis_v1/histology_slides/breast/malignant/SOB\\\\ductal_carcinoma\\\\SOB_M_DC_14-20636\\\\400X\\\\SOB_M_DC-14-20636-400-012.png',\n",
       " 'BreaKHis_v1/histology_slides/breast/malignant/SOB\\\\ductal_carcinoma\\\\SOB_M_DC_14-20636\\\\400X\\\\SOB_M_DC-14-20636-400-013.png',\n",
       " 'BreaKHis_v1/histology_slides/breast/malignant/SOB\\\\ductal_carcinoma\\\\SOB_M_DC_14-20636\\\\400X\\\\SOB_M_DC-14-20636-400-014.png',\n",
       " 'BreaKHis_v1/histology_slides/breast/malignant/SOB\\\\ductal_carcinoma\\\\SOB_M_DC_14-20636\\\\400X\\\\SOB_M_DC-14-20636-400-015.png',\n",
       " 'BreaKHis_v1/histology_slides/breast/malignant/SOB\\\\ductal_carcinoma\\\\SOB_M_DC_14-20636\\\\400X\\\\SOB_M_DC-14-20636-400-016.png',\n",
       " 'BreaKHis_v1/histology_slides/breast/malignant/SOB\\\\ductal_carcinoma\\\\SOB_M_DC_14-20636\\\\400X\\\\SOB_M_DC-14-20636-400-017.png',\n",
       " 'BreaKHis_v1/histology_slides/breast/malignant/SOB\\\\ductal_carcinoma\\\\SOB_M_DC_14-20636\\\\400X\\\\SOB_M_DC-14-20636-400-018.png',\n",
       " 'BreaKHis_v1/histology_slides/breast/malignant/SOB\\\\ductal_carcinoma\\\\SOB_M_DC_14-20636\\\\400X\\\\SOB_M_DC-14-20636-400-019.png',\n",
       " 'BreaKHis_v1/histology_slides/breast/malignant/SOB\\\\ductal_carcinoma\\\\SOB_M_DC_14-20636\\\\400X\\\\SOB_M_DC-14-20636-400-020.png',\n",
       " 'BreaKHis_v1/histology_slides/breast/malignant/SOB\\\\ductal_carcinoma\\\\SOB_M_DC_14-20636\\\\400X\\\\SOB_M_DC-14-20636-400-021.png',\n",
       " 'BreaKHis_v1/histology_slides/breast/malignant/SOB\\\\ductal_carcinoma\\\\SOB_M_DC_14-20636\\\\400X\\\\SOB_M_DC-14-20636-400-022.png',\n",
       " 'BreaKHis_v1/histology_slides/breast/malignant/SOB\\\\ductal_carcinoma\\\\SOB_M_DC_14-2523\\\\400X\\\\SOB_M_DC-14-2523-400-004.png',\n",
       " 'BreaKHis_v1/histology_slides/breast/malignant/SOB\\\\ductal_carcinoma\\\\SOB_M_DC_14-2523\\\\400X\\\\SOB_M_DC-14-2523-400-005.png',\n",
       " 'BreaKHis_v1/histology_slides/breast/malignant/SOB\\\\ductal_carcinoma\\\\SOB_M_DC_14-2523\\\\400X\\\\SOB_M_DC-14-2523-400-006.png',\n",
       " 'BreaKHis_v1/histology_slides/breast/malignant/SOB\\\\ductal_carcinoma\\\\SOB_M_DC_14-2523\\\\400X\\\\SOB_M_DC-14-2523-400-007.png',\n",
       " 'BreaKHis_v1/histology_slides/breast/malignant/SOB\\\\ductal_carcinoma\\\\SOB_M_DC_14-2523\\\\400X\\\\SOB_M_DC-14-2523-400-008.png',\n",
       " 'BreaKHis_v1/histology_slides/breast/malignant/SOB\\\\ductal_carcinoma\\\\SOB_M_DC_14-2523\\\\400X\\\\SOB_M_DC-14-2523-400-009.png',\n",
       " 'BreaKHis_v1/histology_slides/breast/malignant/SOB\\\\ductal_carcinoma\\\\SOB_M_DC_14-2523\\\\400X\\\\SOB_M_DC-14-2523-400-010.png',\n",
       " 'BreaKHis_v1/histology_slides/breast/malignant/SOB\\\\ductal_carcinoma\\\\SOB_M_DC_14-2523\\\\400X\\\\SOB_M_DC-14-2523-400-011.png',\n",
       " 'BreaKHis_v1/histology_slides/breast/malignant/SOB\\\\ductal_carcinoma\\\\SOB_M_DC_14-2523\\\\400X\\\\SOB_M_DC-14-2523-400-012.png',\n",
       " 'BreaKHis_v1/histology_slides/breast/malignant/SOB\\\\ductal_carcinoma\\\\SOB_M_DC_14-2523\\\\400X\\\\SOB_M_DC-14-2523-400-013.png',\n",
       " 'BreaKHis_v1/histology_slides/breast/malignant/SOB\\\\ductal_carcinoma\\\\SOB_M_DC_14-2523\\\\400X\\\\SOB_M_DC-14-2523-400-014.png',\n",
       " 'BreaKHis_v1/histology_slides/breast/malignant/SOB\\\\ductal_carcinoma\\\\SOB_M_DC_14-2523\\\\400X\\\\SOB_M_DC-14-2523-400-015.png',\n",
       " 'BreaKHis_v1/histology_slides/breast/malignant/SOB\\\\ductal_carcinoma\\\\SOB_M_DC_14-2523\\\\400X\\\\SOB_M_DC-14-2523-400-016.png',\n",
       " 'BreaKHis_v1/histology_slides/breast/malignant/SOB\\\\ductal_carcinoma\\\\SOB_M_DC_14-2523\\\\400X\\\\SOB_M_DC-14-2523-400-017.png',\n",
       " 'BreaKHis_v1/histology_slides/breast/malignant/SOB\\\\ductal_carcinoma\\\\SOB_M_DC_14-2523\\\\400X\\\\SOB_M_DC-14-2523-400-018.png',\n",
       " 'BreaKHis_v1/histology_slides/breast/malignant/SOB\\\\ductal_carcinoma\\\\SOB_M_DC_14-2523\\\\400X\\\\SOB_M_DC-14-2523-400-019.png',\n",
       " 'BreaKHis_v1/histology_slides/breast/malignant/SOB\\\\ductal_carcinoma\\\\SOB_M_DC_14-2523\\\\400X\\\\SOB_M_DC-14-2523-400-020.png',\n",
       " 'BreaKHis_v1/histology_slides/breast/malignant/SOB\\\\ductal_carcinoma\\\\SOB_M_DC_14-2523\\\\400X\\\\SOB_M_DC-14-2523-400-021.png',\n",
       " 'BreaKHis_v1/histology_slides/breast/malignant/SOB\\\\ductal_carcinoma\\\\SOB_M_DC_14-2523\\\\400X\\\\SOB_M_DC-14-2523-400-022.png',\n",
       " 'BreaKHis_v1/histology_slides/breast/malignant/SOB\\\\ductal_carcinoma\\\\SOB_M_DC_14-2523\\\\400X\\\\SOB_M_DC-14-2523-400-023.png',\n",
       " 'BreaKHis_v1/histology_slides/breast/malignant/SOB\\\\ductal_carcinoma\\\\SOB_M_DC_14-2523\\\\400X\\\\SOB_M_DC-14-2523-400-024.png',\n",
       " 'BreaKHis_v1/histology_slides/breast/malignant/SOB\\\\ductal_carcinoma\\\\SOB_M_DC_14-2523\\\\400X\\\\SOB_M_DC-14-2523-400-025.png',\n",
       " 'BreaKHis_v1/histology_slides/breast/malignant/SOB\\\\ductal_carcinoma\\\\SOB_M_DC_14-2523\\\\400X\\\\SOB_M_DC-14-2523-400-026.png',\n",
       " 'BreaKHis_v1/histology_slides/breast/malignant/SOB\\\\ductal_carcinoma\\\\SOB_M_DC_14-2523\\\\400X\\\\SOB_M_DC-14-2523-400-027.png',\n",
       " 'BreaKHis_v1/histology_slides/breast/malignant/SOB\\\\ductal_carcinoma\\\\SOB_M_DC_14-2773\\\\400X\\\\SOB_M_DC-14-2773-400-001.png',\n",
       " 'BreaKHis_v1/histology_slides/breast/malignant/SOB\\\\ductal_carcinoma\\\\SOB_M_DC_14-2773\\\\400X\\\\SOB_M_DC-14-2773-400-002.png',\n",
       " 'BreaKHis_v1/histology_slides/breast/malignant/SOB\\\\ductal_carcinoma\\\\SOB_M_DC_14-2773\\\\400X\\\\SOB_M_DC-14-2773-400-003.png',\n",
       " 'BreaKHis_v1/histology_slides/breast/malignant/SOB\\\\ductal_carcinoma\\\\SOB_M_DC_14-2773\\\\400X\\\\SOB_M_DC-14-2773-400-004.png',\n",
       " 'BreaKHis_v1/histology_slides/breast/malignant/SOB\\\\ductal_carcinoma\\\\SOB_M_DC_14-2773\\\\400X\\\\SOB_M_DC-14-2773-400-005.png',\n",
       " 'BreaKHis_v1/histology_slides/breast/malignant/SOB\\\\ductal_carcinoma\\\\SOB_M_DC_14-2773\\\\400X\\\\SOB_M_DC-14-2773-400-006.png',\n",
       " 'BreaKHis_v1/histology_slides/breast/malignant/SOB\\\\ductal_carcinoma\\\\SOB_M_DC_14-2773\\\\400X\\\\SOB_M_DC-14-2773-400-007.png',\n",
       " 'BreaKHis_v1/histology_slides/breast/malignant/SOB\\\\ductal_carcinoma\\\\SOB_M_DC_14-2773\\\\400X\\\\SOB_M_DC-14-2773-400-008.png',\n",
       " 'BreaKHis_v1/histology_slides/breast/malignant/SOB\\\\ductal_carcinoma\\\\SOB_M_DC_14-2773\\\\400X\\\\SOB_M_DC-14-2773-400-009.png',\n",
       " 'BreaKHis_v1/histology_slides/breast/malignant/SOB\\\\ductal_carcinoma\\\\SOB_M_DC_14-2773\\\\400X\\\\SOB_M_DC-14-2773-400-010.png',\n",
       " 'BreaKHis_v1/histology_slides/breast/malignant/SOB\\\\ductal_carcinoma\\\\SOB_M_DC_14-2773\\\\400X\\\\SOB_M_DC-14-2773-400-011.png',\n",
       " 'BreaKHis_v1/histology_slides/breast/malignant/SOB\\\\ductal_carcinoma\\\\SOB_M_DC_14-2773\\\\400X\\\\SOB_M_DC-14-2773-400-012.png',\n",
       " 'BreaKHis_v1/histology_slides/breast/malignant/SOB\\\\ductal_carcinoma\\\\SOB_M_DC_14-2773\\\\400X\\\\SOB_M_DC-14-2773-400-013.png',\n",
       " 'BreaKHis_v1/histology_slides/breast/malignant/SOB\\\\ductal_carcinoma\\\\SOB_M_DC_14-2773\\\\400X\\\\SOB_M_DC-14-2773-400-014.png',\n",
       " 'BreaKHis_v1/histology_slides/breast/malignant/SOB\\\\ductal_carcinoma\\\\SOB_M_DC_14-2773\\\\400X\\\\SOB_M_DC-14-2773-400-015.png',\n",
       " 'BreaKHis_v1/histology_slides/breast/malignant/SOB\\\\ductal_carcinoma\\\\SOB_M_DC_14-2773\\\\400X\\\\SOB_M_DC-14-2773-400-016.png',\n",
       " 'BreaKHis_v1/histology_slides/breast/malignant/SOB\\\\ductal_carcinoma\\\\SOB_M_DC_14-2773\\\\400X\\\\SOB_M_DC-14-2773-400-017.png',\n",
       " 'BreaKHis_v1/histology_slides/breast/malignant/SOB\\\\ductal_carcinoma\\\\SOB_M_DC_14-2773\\\\400X\\\\SOB_M_DC-14-2773-400-018.png',\n",
       " 'BreaKHis_v1/histology_slides/breast/malignant/SOB\\\\ductal_carcinoma\\\\SOB_M_DC_14-2773\\\\400X\\\\SOB_M_DC-14-2773-400-019.png',\n",
       " 'BreaKHis_v1/histology_slides/breast/malignant/SOB\\\\ductal_carcinoma\\\\SOB_M_DC_14-2773\\\\400X\\\\SOB_M_DC-14-2773-400-020.png',\n",
       " 'BreaKHis_v1/histology_slides/breast/malignant/SOB\\\\ductal_carcinoma\\\\SOB_M_DC_14-2773\\\\400X\\\\SOB_M_DC-14-2773-400-021.png',\n",
       " 'BreaKHis_v1/histology_slides/breast/malignant/SOB\\\\ductal_carcinoma\\\\SOB_M_DC_14-2773\\\\400X\\\\SOB_M_DC-14-2773-400-022.png',\n",
       " 'BreaKHis_v1/histology_slides/breast/malignant/SOB\\\\ductal_carcinoma\\\\SOB_M_DC_14-2773\\\\400X\\\\SOB_M_DC-14-2773-400-023.png',\n",
       " 'BreaKHis_v1/histology_slides/breast/malignant/SOB\\\\ductal_carcinoma\\\\SOB_M_DC_14-2773\\\\400X\\\\SOB_M_DC-14-2773-400-024.png',\n",
       " 'BreaKHis_v1/histology_slides/breast/malignant/SOB\\\\ductal_carcinoma\\\\SOB_M_DC_14-2773\\\\400X\\\\SOB_M_DC-14-2773-400-025.png',\n",
       " 'BreaKHis_v1/histology_slides/breast/malignant/SOB\\\\ductal_carcinoma\\\\SOB_M_DC_14-2773\\\\400X\\\\SOB_M_DC-14-2773-400-026.png',\n",
       " 'BreaKHis_v1/histology_slides/breast/malignant/SOB\\\\ductal_carcinoma\\\\SOB_M_DC_14-2773\\\\400X\\\\SOB_M_DC-14-2773-400-027.png',\n",
       " 'BreaKHis_v1/histology_slides/breast/malignant/SOB\\\\ductal_carcinoma\\\\SOB_M_DC_14-2773\\\\400X\\\\SOB_M_DC-14-2773-400-028.png',\n",
       " 'BreaKHis_v1/histology_slides/breast/malignant/SOB\\\\ductal_carcinoma\\\\SOB_M_DC_14-2773\\\\400X\\\\SOB_M_DC-14-2773-400-029.png',\n",
       " 'BreaKHis_v1/histology_slides/breast/malignant/SOB\\\\ductal_carcinoma\\\\SOB_M_DC_14-2773\\\\400X\\\\SOB_M_DC-14-2773-400-030.png',\n",
       " 'BreaKHis_v1/histology_slides/breast/malignant/SOB\\\\ductal_carcinoma\\\\SOB_M_DC_14-2773\\\\400X\\\\SOB_M_DC-14-2773-400-031.png',\n",
       " 'BreaKHis_v1/histology_slides/breast/malignant/SOB\\\\ductal_carcinoma\\\\SOB_M_DC_14-2773\\\\400X\\\\SOB_M_DC-14-2773-400-032.png',\n",
       " 'BreaKHis_v1/histology_slides/breast/malignant/SOB\\\\ductal_carcinoma\\\\SOB_M_DC_14-2773\\\\400X\\\\SOB_M_DC-14-2773-400-033.png',\n",
       " 'BreaKHis_v1/histology_slides/breast/malignant/SOB\\\\ductal_carcinoma\\\\SOB_M_DC_14-2773\\\\400X\\\\SOB_M_DC-14-2773-400-034.png',\n",
       " 'BreaKHis_v1/histology_slides/breast/malignant/SOB\\\\ductal_carcinoma\\\\SOB_M_DC_14-2773\\\\400X\\\\SOB_M_DC-14-2773-400-035.png',\n",
       " 'BreaKHis_v1/histology_slides/breast/malignant/SOB\\\\ductal_carcinoma\\\\SOB_M_DC_14-2773\\\\400X\\\\SOB_M_DC-14-2773-400-036.png',\n",
       " 'BreaKHis_v1/histology_slides/breast/malignant/SOB\\\\ductal_carcinoma\\\\SOB_M_DC_14-2773\\\\400X\\\\SOB_M_DC-14-2773-400-037.png',\n",
       " 'BreaKHis_v1/histology_slides/breast/malignant/SOB\\\\ductal_carcinoma\\\\SOB_M_DC_14-2773\\\\400X\\\\SOB_M_DC-14-2773-400-038.png',\n",
       " 'BreaKHis_v1/histology_slides/breast/malignant/SOB\\\\ductal_carcinoma\\\\SOB_M_DC_14-2980\\\\400X\\\\SOB_M_DC-14-2980-400-001.png',\n",
       " 'BreaKHis_v1/histology_slides/breast/malignant/SOB\\\\ductal_carcinoma\\\\SOB_M_DC_14-2980\\\\400X\\\\SOB_M_DC-14-2980-400-002.png',\n",
       " 'BreaKHis_v1/histology_slides/breast/malignant/SOB\\\\ductal_carcinoma\\\\SOB_M_DC_14-2980\\\\400X\\\\SOB_M_DC-14-2980-400-003.png',\n",
       " 'BreaKHis_v1/histology_slides/breast/malignant/SOB\\\\ductal_carcinoma\\\\SOB_M_DC_14-2980\\\\400X\\\\SOB_M_DC-14-2980-400-004.png',\n",
       " 'BreaKHis_v1/histology_slides/breast/malignant/SOB\\\\ductal_carcinoma\\\\SOB_M_DC_14-2980\\\\400X\\\\SOB_M_DC-14-2980-400-005.png',\n",
       " 'BreaKHis_v1/histology_slides/breast/malignant/SOB\\\\ductal_carcinoma\\\\SOB_M_DC_14-2980\\\\400X\\\\SOB_M_DC-14-2980-400-006.png',\n",
       " 'BreaKHis_v1/histology_slides/breast/malignant/SOB\\\\ductal_carcinoma\\\\SOB_M_DC_14-2980\\\\400X\\\\SOB_M_DC-14-2980-400-007.png',\n",
       " 'BreaKHis_v1/histology_slides/breast/malignant/SOB\\\\ductal_carcinoma\\\\SOB_M_DC_14-2980\\\\400X\\\\SOB_M_DC-14-2980-400-008.png',\n",
       " 'BreaKHis_v1/histology_slides/breast/malignant/SOB\\\\ductal_carcinoma\\\\SOB_M_DC_14-2980\\\\400X\\\\SOB_M_DC-14-2980-400-009.png',\n",
       " 'BreaKHis_v1/histology_slides/breast/malignant/SOB\\\\ductal_carcinoma\\\\SOB_M_DC_14-2980\\\\400X\\\\SOB_M_DC-14-2980-400-010.png',\n",
       " 'BreaKHis_v1/histology_slides/breast/malignant/SOB\\\\ductal_carcinoma\\\\SOB_M_DC_14-2980\\\\400X\\\\SOB_M_DC-14-2980-400-011.png',\n",
       " 'BreaKHis_v1/histology_slides/breast/malignant/SOB\\\\ductal_carcinoma\\\\SOB_M_DC_14-2980\\\\400X\\\\SOB_M_DC-14-2980-400-012.png',\n",
       " 'BreaKHis_v1/histology_slides/breast/malignant/SOB\\\\ductal_carcinoma\\\\SOB_M_DC_14-2980\\\\400X\\\\SOB_M_DC-14-2980-400-013.png',\n",
       " 'BreaKHis_v1/histology_slides/breast/malignant/SOB\\\\ductal_carcinoma\\\\SOB_M_DC_14-2980\\\\400X\\\\SOB_M_DC-14-2980-400-014.png',\n",
       " 'BreaKHis_v1/histology_slides/breast/malignant/SOB\\\\ductal_carcinoma\\\\SOB_M_DC_14-2980\\\\400X\\\\SOB_M_DC-14-2980-400-015.png',\n",
       " 'BreaKHis_v1/histology_slides/breast/malignant/SOB\\\\ductal_carcinoma\\\\SOB_M_DC_14-2980\\\\400X\\\\SOB_M_DC-14-2980-400-016.png',\n",
       " 'BreaKHis_v1/histology_slides/breast/malignant/SOB\\\\ductal_carcinoma\\\\SOB_M_DC_14-2980\\\\400X\\\\SOB_M_DC-14-2980-400-017.png',\n",
       " 'BreaKHis_v1/histology_slides/breast/malignant/SOB\\\\ductal_carcinoma\\\\SOB_M_DC_14-2980\\\\400X\\\\SOB_M_DC-14-2980-400-018.png',\n",
       " 'BreaKHis_v1/histology_slides/breast/malignant/SOB\\\\ductal_carcinoma\\\\SOB_M_DC_14-2985\\\\400X\\\\SOB_M_DC-14-2985-400-001.png',\n",
       " 'BreaKHis_v1/histology_slides/breast/malignant/SOB\\\\ductal_carcinoma\\\\SOB_M_DC_14-2985\\\\400X\\\\SOB_M_DC-14-2985-400-002.png',\n",
       " 'BreaKHis_v1/histology_slides/breast/malignant/SOB\\\\ductal_carcinoma\\\\SOB_M_DC_14-2985\\\\400X\\\\SOB_M_DC-14-2985-400-003.png',\n",
       " 'BreaKHis_v1/histology_slides/breast/malignant/SOB\\\\ductal_carcinoma\\\\SOB_M_DC_14-2985\\\\400X\\\\SOB_M_DC-14-2985-400-004.png',\n",
       " 'BreaKHis_v1/histology_slides/breast/malignant/SOB\\\\ductal_carcinoma\\\\SOB_M_DC_14-2985\\\\400X\\\\SOB_M_DC-14-2985-400-005.png',\n",
       " 'BreaKHis_v1/histology_slides/breast/malignant/SOB\\\\ductal_carcinoma\\\\SOB_M_DC_14-2985\\\\400X\\\\SOB_M_DC-14-2985-400-006.png',\n",
       " 'BreaKHis_v1/histology_slides/breast/malignant/SOB\\\\ductal_carcinoma\\\\SOB_M_DC_14-2985\\\\400X\\\\SOB_M_DC-14-2985-400-007.png',\n",
       " 'BreaKHis_v1/histology_slides/breast/malignant/SOB\\\\ductal_carcinoma\\\\SOB_M_DC_14-2985\\\\400X\\\\SOB_M_DC-14-2985-400-008.png',\n",
       " 'BreaKHis_v1/histology_slides/breast/malignant/SOB\\\\ductal_carcinoma\\\\SOB_M_DC_14-2985\\\\400X\\\\SOB_M_DC-14-2985-400-009.png',\n",
       " 'BreaKHis_v1/histology_slides/breast/malignant/SOB\\\\ductal_carcinoma\\\\SOB_M_DC_14-2985\\\\400X\\\\SOB_M_DC-14-2985-400-010.png',\n",
       " 'BreaKHis_v1/histology_slides/breast/malignant/SOB\\\\ductal_carcinoma\\\\SOB_M_DC_14-2985\\\\400X\\\\SOB_M_DC-14-2985-400-011.png',\n",
       " 'BreaKHis_v1/histology_slides/breast/malignant/SOB\\\\ductal_carcinoma\\\\SOB_M_DC_14-2985\\\\400X\\\\SOB_M_DC-14-2985-400-012.png',\n",
       " 'BreaKHis_v1/histology_slides/breast/malignant/SOB\\\\ductal_carcinoma\\\\SOB_M_DC_14-2985\\\\400X\\\\SOB_M_DC-14-2985-400-013.png',\n",
       " 'BreaKHis_v1/histology_slides/breast/malignant/SOB\\\\ductal_carcinoma\\\\SOB_M_DC_14-2985\\\\400X\\\\SOB_M_DC-14-2985-400-014.png',\n",
       " 'BreaKHis_v1/histology_slides/breast/malignant/SOB\\\\ductal_carcinoma\\\\SOB_M_DC_14-3909\\\\400X\\\\SOB_M_DC-14-3909-400-001.png',\n",
       " 'BreaKHis_v1/histology_slides/breast/malignant/SOB\\\\ductal_carcinoma\\\\SOB_M_DC_14-3909\\\\400X\\\\SOB_M_DC-14-3909-400-002.png',\n",
       " 'BreaKHis_v1/histology_slides/breast/malignant/SOB\\\\ductal_carcinoma\\\\SOB_M_DC_14-3909\\\\400X\\\\SOB_M_DC-14-3909-400-003.png',\n",
       " 'BreaKHis_v1/histology_slides/breast/malignant/SOB\\\\ductal_carcinoma\\\\SOB_M_DC_14-3909\\\\400X\\\\SOB_M_DC-14-3909-400-004.png',\n",
       " 'BreaKHis_v1/histology_slides/breast/malignant/SOB\\\\ductal_carcinoma\\\\SOB_M_DC_14-3909\\\\400X\\\\SOB_M_DC-14-3909-400-005.png',\n",
       " 'BreaKHis_v1/histology_slides/breast/malignant/SOB\\\\ductal_carcinoma\\\\SOB_M_DC_14-3909\\\\400X\\\\SOB_M_DC-14-3909-400-006.png',\n",
       " 'BreaKHis_v1/histology_slides/breast/malignant/SOB\\\\ductal_carcinoma\\\\SOB_M_DC_14-3909\\\\400X\\\\SOB_M_DC-14-3909-400-007.png',\n",
       " 'BreaKHis_v1/histology_slides/breast/malignant/SOB\\\\ductal_carcinoma\\\\SOB_M_DC_14-3909\\\\400X\\\\SOB_M_DC-14-3909-400-008.png',\n",
       " 'BreaKHis_v1/histology_slides/breast/malignant/SOB\\\\ductal_carcinoma\\\\SOB_M_DC_14-3909\\\\400X\\\\SOB_M_DC-14-3909-400-009.png',\n",
       " 'BreaKHis_v1/histology_slides/breast/malignant/SOB\\\\ductal_carcinoma\\\\SOB_M_DC_14-3909\\\\400X\\\\SOB_M_DC-14-3909-400-010.png',\n",
       " 'BreaKHis_v1/histology_slides/breast/malignant/SOB\\\\ductal_carcinoma\\\\SOB_M_DC_14-3909\\\\400X\\\\SOB_M_DC-14-3909-400-011.png',\n",
       " 'BreaKHis_v1/histology_slides/breast/malignant/SOB\\\\ductal_carcinoma\\\\SOB_M_DC_14-3909\\\\400X\\\\SOB_M_DC-14-3909-400-012.png',\n",
       " 'BreaKHis_v1/histology_slides/breast/malignant/SOB\\\\ductal_carcinoma\\\\SOB_M_DC_14-3909\\\\400X\\\\SOB_M_DC-14-3909-400-013.png',\n",
       " 'BreaKHis_v1/histology_slides/breast/malignant/SOB\\\\ductal_carcinoma\\\\SOB_M_DC_14-3909\\\\400X\\\\SOB_M_DC-14-3909-400-014.png',\n",
       " 'BreaKHis_v1/histology_slides/breast/malignant/SOB\\\\ductal_carcinoma\\\\SOB_M_DC_14-4364\\\\400X\\\\SOB_M_DC-14-4364-400-001.png',\n",
       " 'BreaKHis_v1/histology_slides/breast/malignant/SOB\\\\ductal_carcinoma\\\\SOB_M_DC_14-4364\\\\400X\\\\SOB_M_DC-14-4364-400-002.png',\n",
       " 'BreaKHis_v1/histology_slides/breast/malignant/SOB\\\\ductal_carcinoma\\\\SOB_M_DC_14-4364\\\\400X\\\\SOB_M_DC-14-4364-400-003.png',\n",
       " 'BreaKHis_v1/histology_slides/breast/malignant/SOB\\\\ductal_carcinoma\\\\SOB_M_DC_14-4364\\\\400X\\\\SOB_M_DC-14-4364-400-004.png',\n",
       " 'BreaKHis_v1/histology_slides/breast/malignant/SOB\\\\ductal_carcinoma\\\\SOB_M_DC_14-4364\\\\400X\\\\SOB_M_DC-14-4364-400-006.png',\n",
       " 'BreaKHis_v1/histology_slides/breast/malignant/SOB\\\\ductal_carcinoma\\\\SOB_M_DC_14-4364\\\\400X\\\\SOB_M_DC-14-4364-400-007.png',\n",
       " 'BreaKHis_v1/histology_slides/breast/malignant/SOB\\\\ductal_carcinoma\\\\SOB_M_DC_14-4364\\\\400X\\\\SOB_M_DC-14-4364-400-008.png',\n",
       " 'BreaKHis_v1/histology_slides/breast/malignant/SOB\\\\ductal_carcinoma\\\\SOB_M_DC_14-4364\\\\400X\\\\SOB_M_DC-14-4364-400-009.png',\n",
       " 'BreaKHis_v1/histology_slides/breast/malignant/SOB\\\\ductal_carcinoma\\\\SOB_M_DC_14-4372\\\\400X\\\\SOB_M_DC-14-4372-400-001.png',\n",
       " 'BreaKHis_v1/histology_slides/breast/malignant/SOB\\\\ductal_carcinoma\\\\SOB_M_DC_14-4372\\\\400X\\\\SOB_M_DC-14-4372-400-002.png',\n",
       " 'BreaKHis_v1/histology_slides/breast/malignant/SOB\\\\ductal_carcinoma\\\\SOB_M_DC_14-4372\\\\400X\\\\SOB_M_DC-14-4372-400-003.png',\n",
       " 'BreaKHis_v1/histology_slides/breast/malignant/SOB\\\\ductal_carcinoma\\\\SOB_M_DC_14-4372\\\\400X\\\\SOB_M_DC-14-4372-400-004.png',\n",
       " 'BreaKHis_v1/histology_slides/breast/malignant/SOB\\\\ductal_carcinoma\\\\SOB_M_DC_14-4372\\\\400X\\\\SOB_M_DC-14-4372-400-005.png',\n",
       " 'BreaKHis_v1/histology_slides/breast/malignant/SOB\\\\ductal_carcinoma\\\\SOB_M_DC_14-4372\\\\400X\\\\SOB_M_DC-14-4372-400-006.png',\n",
       " 'BreaKHis_v1/histology_slides/breast/malignant/SOB\\\\ductal_carcinoma\\\\SOB_M_DC_14-4372\\\\400X\\\\SOB_M_DC-14-4372-400-007.png',\n",
       " 'BreaKHis_v1/histology_slides/breast/malignant/SOB\\\\ductal_carcinoma\\\\SOB_M_DC_14-4372\\\\400X\\\\SOB_M_DC-14-4372-400-008.png',\n",
       " 'BreaKHis_v1/histology_slides/breast/malignant/SOB\\\\ductal_carcinoma\\\\SOB_M_DC_14-4372\\\\400X\\\\SOB_M_DC-14-4372-400-009.png',\n",
       " 'BreaKHis_v1/histology_slides/breast/malignant/SOB\\\\ductal_carcinoma\\\\SOB_M_DC_14-4372\\\\400X\\\\SOB_M_DC-14-4372-400-010.png',\n",
       " 'BreaKHis_v1/histology_slides/breast/malignant/SOB\\\\ductal_carcinoma\\\\SOB_M_DC_14-4372\\\\400X\\\\SOB_M_DC-14-4372-400-011.png',\n",
       " 'BreaKHis_v1/histology_slides/breast/malignant/SOB\\\\ductal_carcinoma\\\\SOB_M_DC_14-4372\\\\400X\\\\SOB_M_DC-14-4372-400-012.png',\n",
       " 'BreaKHis_v1/histology_slides/breast/malignant/SOB\\\\ductal_carcinoma\\\\SOB_M_DC_14-4372\\\\400X\\\\SOB_M_DC-14-4372-400-013.png',\n",
       " 'BreaKHis_v1/histology_slides/breast/malignant/SOB\\\\ductal_carcinoma\\\\SOB_M_DC_14-4372\\\\400X\\\\SOB_M_DC-14-4372-400-014.png',\n",
       " 'BreaKHis_v1/histology_slides/breast/malignant/SOB\\\\ductal_carcinoma\\\\SOB_M_DC_14-4372\\\\400X\\\\SOB_M_DC-14-4372-400-015.png',\n",
       " 'BreaKHis_v1/histology_slides/breast/malignant/SOB\\\\ductal_carcinoma\\\\SOB_M_DC_14-4372\\\\400X\\\\SOB_M_DC-14-4372-400-016.png',\n",
       " 'BreaKHis_v1/histology_slides/breast/malignant/SOB\\\\ductal_carcinoma\\\\SOB_M_DC_14-4372\\\\400X\\\\SOB_M_DC-14-4372-400-017.png',\n",
       " 'BreaKHis_v1/histology_slides/breast/malignant/SOB\\\\ductal_carcinoma\\\\SOB_M_DC_14-4372\\\\400X\\\\SOB_M_DC-14-4372-400-018.png',\n",
       " 'BreaKHis_v1/histology_slides/breast/malignant/SOB\\\\ductal_carcinoma\\\\SOB_M_DC_14-4372\\\\400X\\\\SOB_M_DC-14-4372-400-019.png',\n",
       " 'BreaKHis_v1/histology_slides/breast/malignant/SOB\\\\ductal_carcinoma\\\\SOB_M_DC_14-4372\\\\400X\\\\SOB_M_DC-14-4372-400-020.png',\n",
       " 'BreaKHis_v1/histology_slides/breast/malignant/SOB\\\\ductal_carcinoma\\\\SOB_M_DC_14-4372\\\\400X\\\\SOB_M_DC-14-4372-400-021.png',\n",
       " 'BreaKHis_v1/histology_slides/breast/malignant/SOB\\\\ductal_carcinoma\\\\SOB_M_DC_14-4372\\\\400X\\\\SOB_M_DC-14-4372-400-022.png',\n",
       " 'BreaKHis_v1/histology_slides/breast/malignant/SOB\\\\ductal_carcinoma\\\\SOB_M_DC_14-4372\\\\400X\\\\SOB_M_DC-14-4372-400-023.png',\n",
       " 'BreaKHis_v1/histology_slides/breast/malignant/SOB\\\\ductal_carcinoma\\\\SOB_M_DC_14-4372\\\\400X\\\\SOB_M_DC-14-4372-400-024.png',\n",
       " 'BreaKHis_v1/histology_slides/breast/malignant/SOB\\\\ductal_carcinoma\\\\SOB_M_DC_14-5287\\\\400X\\\\SOB_M_DC-14-5287-400-001.png',\n",
       " 'BreaKHis_v1/histology_slides/breast/malignant/SOB\\\\ductal_carcinoma\\\\SOB_M_DC_14-5287\\\\400X\\\\SOB_M_DC-14-5287-400-002.png',\n",
       " 'BreaKHis_v1/histology_slides/breast/malignant/SOB\\\\ductal_carcinoma\\\\SOB_M_DC_14-5287\\\\400X\\\\SOB_M_DC-14-5287-400-003.png',\n",
       " 'BreaKHis_v1/histology_slides/breast/malignant/SOB\\\\ductal_carcinoma\\\\SOB_M_DC_14-5287\\\\400X\\\\SOB_M_DC-14-5287-400-004.png',\n",
       " 'BreaKHis_v1/histology_slides/breast/malignant/SOB\\\\ductal_carcinoma\\\\SOB_M_DC_14-5287\\\\400X\\\\SOB_M_DC-14-5287-400-005.png',\n",
       " 'BreaKHis_v1/histology_slides/breast/malignant/SOB\\\\ductal_carcinoma\\\\SOB_M_DC_14-5287\\\\400X\\\\SOB_M_DC-14-5287-400-006.png',\n",
       " 'BreaKHis_v1/histology_slides/breast/malignant/SOB\\\\ductal_carcinoma\\\\SOB_M_DC_14-5287\\\\400X\\\\SOB_M_DC-14-5287-400-007.png',\n",
       " 'BreaKHis_v1/histology_slides/breast/malignant/SOB\\\\ductal_carcinoma\\\\SOB_M_DC_14-5287\\\\400X\\\\SOB_M_DC-14-5287-400-008.png',\n",
       " 'BreaKHis_v1/histology_slides/breast/malignant/SOB\\\\ductal_carcinoma\\\\SOB_M_DC_14-5287\\\\400X\\\\SOB_M_DC-14-5287-400-009.png',\n",
       " 'BreaKHis_v1/histology_slides/breast/malignant/SOB\\\\ductal_carcinoma\\\\SOB_M_DC_14-5287\\\\400X\\\\SOB_M_DC-14-5287-400-010.png',\n",
       " 'BreaKHis_v1/histology_slides/breast/malignant/SOB\\\\ductal_carcinoma\\\\SOB_M_DC_14-5287\\\\400X\\\\SOB_M_DC-14-5287-400-011.png',\n",
       " 'BreaKHis_v1/histology_slides/breast/malignant/SOB\\\\ductal_carcinoma\\\\SOB_M_DC_14-5287\\\\400X\\\\SOB_M_DC-14-5287-400-012.png',\n",
       " 'BreaKHis_v1/histology_slides/breast/malignant/SOB\\\\ductal_carcinoma\\\\SOB_M_DC_14-5287\\\\400X\\\\SOB_M_DC-14-5287-400-013.png',\n",
       " 'BreaKHis_v1/histology_slides/breast/malignant/SOB\\\\ductal_carcinoma\\\\SOB_M_DC_14-5287\\\\400X\\\\SOB_M_DC-14-5287-400-014.png',\n",
       " 'BreaKHis_v1/histology_slides/breast/malignant/SOB\\\\ductal_carcinoma\\\\SOB_M_DC_14-5287\\\\400X\\\\SOB_M_DC-14-5287-400-015.png',\n",
       " 'BreaKHis_v1/histology_slides/breast/malignant/SOB\\\\ductal_carcinoma\\\\SOB_M_DC_14-5287\\\\400X\\\\SOB_M_DC-14-5287-400-016.png',\n",
       " 'BreaKHis_v1/histology_slides/breast/malignant/SOB\\\\ductal_carcinoma\\\\SOB_M_DC_14-5287\\\\400X\\\\SOB_M_DC-14-5287-400-017.png',\n",
       " 'BreaKHis_v1/histology_slides/breast/malignant/SOB\\\\ductal_carcinoma\\\\SOB_M_DC_14-5287\\\\400X\\\\SOB_M_DC-14-5287-400-018.png',\n",
       " 'BreaKHis_v1/histology_slides/breast/malignant/SOB\\\\ductal_carcinoma\\\\SOB_M_DC_14-5287\\\\400X\\\\SOB_M_DC-14-5287-400-019.png',\n",
       " 'BreaKHis_v1/histology_slides/breast/malignant/SOB\\\\ductal_carcinoma\\\\SOB_M_DC_14-5287\\\\400X\\\\SOB_M_DC-14-5287-400-020.png',\n",
       " 'BreaKHis_v1/histology_slides/breast/malignant/SOB\\\\ductal_carcinoma\\\\SOB_M_DC_14-5287\\\\400X\\\\SOB_M_DC-14-5287-400-021.png',\n",
       " 'BreaKHis_v1/histology_slides/breast/malignant/SOB\\\\ductal_carcinoma\\\\SOB_M_DC_14-5287\\\\400X\\\\SOB_M_DC-14-5287-400-022.png',\n",
       " 'BreaKHis_v1/histology_slides/breast/malignant/SOB\\\\ductal_carcinoma\\\\SOB_M_DC_14-5287\\\\400X\\\\SOB_M_DC-14-5287-400-023.png',\n",
       " 'BreaKHis_v1/histology_slides/breast/malignant/SOB\\\\ductal_carcinoma\\\\SOB_M_DC_14-5694\\\\400X\\\\SOB_M_DC-14-5694-400-001.png',\n",
       " 'BreaKHis_v1/histology_slides/breast/malignant/SOB\\\\ductal_carcinoma\\\\SOB_M_DC_14-5694\\\\400X\\\\SOB_M_DC-14-5694-400-002.png',\n",
       " 'BreaKHis_v1/histology_slides/breast/malignant/SOB\\\\ductal_carcinoma\\\\SOB_M_DC_14-5694\\\\400X\\\\SOB_M_DC-14-5694-400-003.png',\n",
       " 'BreaKHis_v1/histology_slides/breast/malignant/SOB\\\\ductal_carcinoma\\\\SOB_M_DC_14-5694\\\\400X\\\\SOB_M_DC-14-5694-400-004.png',\n",
       " 'BreaKHis_v1/histology_slides/breast/malignant/SOB\\\\ductal_carcinoma\\\\SOB_M_DC_14-5694\\\\400X\\\\SOB_M_DC-14-5694-400-005.png',\n",
       " 'BreaKHis_v1/histology_slides/breast/malignant/SOB\\\\ductal_carcinoma\\\\SOB_M_DC_14-5694\\\\400X\\\\SOB_M_DC-14-5694-400-006.png',\n",
       " 'BreaKHis_v1/histology_slides/breast/malignant/SOB\\\\ductal_carcinoma\\\\SOB_M_DC_14-5694\\\\400X\\\\SOB_M_DC-14-5694-400-007.png',\n",
       " 'BreaKHis_v1/histology_slides/breast/malignant/SOB\\\\ductal_carcinoma\\\\SOB_M_DC_14-5694\\\\400X\\\\SOB_M_DC-14-5694-400-008.png',\n",
       " 'BreaKHis_v1/histology_slides/breast/malignant/SOB\\\\ductal_carcinoma\\\\SOB_M_DC_14-5694\\\\400X\\\\SOB_M_DC-14-5694-400-009.png',\n",
       " 'BreaKHis_v1/histology_slides/breast/malignant/SOB\\\\ductal_carcinoma\\\\SOB_M_DC_14-5694\\\\400X\\\\SOB_M_DC-14-5694-400-010.png',\n",
       " 'BreaKHis_v1/histology_slides/breast/malignant/SOB\\\\ductal_carcinoma\\\\SOB_M_DC_14-5694\\\\400X\\\\SOB_M_DC-14-5694-400-011.png',\n",
       " 'BreaKHis_v1/histology_slides/breast/malignant/SOB\\\\ductal_carcinoma\\\\SOB_M_DC_14-5694\\\\400X\\\\SOB_M_DC-14-5694-400-012.png',\n",
       " 'BreaKHis_v1/histology_slides/breast/malignant/SOB\\\\ductal_carcinoma\\\\SOB_M_DC_14-5694\\\\400X\\\\SOB_M_DC-14-5694-400-013.png',\n",
       " 'BreaKHis_v1/histology_slides/breast/malignant/SOB\\\\ductal_carcinoma\\\\SOB_M_DC_14-5694\\\\400X\\\\SOB_M_DC-14-5694-400-014.png',\n",
       " 'BreaKHis_v1/histology_slides/breast/malignant/SOB\\\\ductal_carcinoma\\\\SOB_M_DC_14-5694\\\\400X\\\\SOB_M_DC-14-5694-400-015.png',\n",
       " 'BreaKHis_v1/histology_slides/breast/malignant/SOB\\\\ductal_carcinoma\\\\SOB_M_DC_14-5694\\\\400X\\\\SOB_M_DC-14-5694-400-016.png',\n",
       " 'BreaKHis_v1/histology_slides/breast/malignant/SOB\\\\ductal_carcinoma\\\\SOB_M_DC_14-5694\\\\400X\\\\SOB_M_DC-14-5694-400-017.png',\n",
       " 'BreaKHis_v1/histology_slides/breast/malignant/SOB\\\\ductal_carcinoma\\\\SOB_M_DC_14-5694\\\\400X\\\\SOB_M_DC-14-5694-400-018.png',\n",
       " 'BreaKHis_v1/histology_slides/breast/malignant/SOB\\\\ductal_carcinoma\\\\SOB_M_DC_14-5694\\\\400X\\\\SOB_M_DC-14-5694-400-019.png',\n",
       " 'BreaKHis_v1/histology_slides/breast/malignant/SOB\\\\ductal_carcinoma\\\\SOB_M_DC_14-5694\\\\400X\\\\SOB_M_DC-14-5694-400-020.png',\n",
       " 'BreaKHis_v1/histology_slides/breast/malignant/SOB\\\\ductal_carcinoma\\\\SOB_M_DC_14-5694\\\\400X\\\\SOB_M_DC-14-5694-400-021.png',\n",
       " 'BreaKHis_v1/histology_slides/breast/malignant/SOB\\\\ductal_carcinoma\\\\SOB_M_DC_14-5694\\\\400X\\\\SOB_M_DC-14-5694-400-022.png',\n",
       " 'BreaKHis_v1/histology_slides/breast/malignant/SOB\\\\ductal_carcinoma\\\\SOB_M_DC_14-5694\\\\400X\\\\SOB_M_DC-14-5694-400-023.png',\n",
       " 'BreaKHis_v1/histology_slides/breast/malignant/SOB\\\\ductal_carcinoma\\\\SOB_M_DC_14-5694\\\\400X\\\\SOB_M_DC-14-5694-400-024.png',\n",
       " 'BreaKHis_v1/histology_slides/breast/malignant/SOB\\\\ductal_carcinoma\\\\SOB_M_DC_14-5694\\\\400X\\\\SOB_M_DC-14-5694-400-025.png',\n",
       " 'BreaKHis_v1/histology_slides/breast/malignant/SOB\\\\ductal_carcinoma\\\\SOB_M_DC_14-5694\\\\400X\\\\SOB_M_DC-14-5694-400-026.png',\n",
       " 'BreaKHis_v1/histology_slides/breast/malignant/SOB\\\\ductal_carcinoma\\\\SOB_M_DC_14-5695\\\\400X\\\\SOB_M_DC-14-5695-400-001.png',\n",
       " 'BreaKHis_v1/histology_slides/breast/malignant/SOB\\\\ductal_carcinoma\\\\SOB_M_DC_14-5695\\\\400X\\\\SOB_M_DC-14-5695-400-002.png',\n",
       " 'BreaKHis_v1/histology_slides/breast/malignant/SOB\\\\ductal_carcinoma\\\\SOB_M_DC_14-5695\\\\400X\\\\SOB_M_DC-14-5695-400-003.png',\n",
       " 'BreaKHis_v1/histology_slides/breast/malignant/SOB\\\\ductal_carcinoma\\\\SOB_M_DC_14-5695\\\\400X\\\\SOB_M_DC-14-5695-400-004.png',\n",
       " 'BreaKHis_v1/histology_slides/breast/malignant/SOB\\\\ductal_carcinoma\\\\SOB_M_DC_14-5695\\\\400X\\\\SOB_M_DC-14-5695-400-005.png',\n",
       " 'BreaKHis_v1/histology_slides/breast/malignant/SOB\\\\ductal_carcinoma\\\\SOB_M_DC_14-5695\\\\400X\\\\SOB_M_DC-14-5695-400-006.png',\n",
       " 'BreaKHis_v1/histology_slides/breast/malignant/SOB\\\\ductal_carcinoma\\\\SOB_M_DC_14-5695\\\\400X\\\\SOB_M_DC-14-5695-400-007.png',\n",
       " 'BreaKHis_v1/histology_slides/breast/malignant/SOB\\\\ductal_carcinoma\\\\SOB_M_DC_14-5695\\\\400X\\\\SOB_M_DC-14-5695-400-008.png',\n",
       " 'BreaKHis_v1/histology_slides/breast/malignant/SOB\\\\ductal_carcinoma\\\\SOB_M_DC_14-5695\\\\400X\\\\SOB_M_DC-14-5695-400-009.png',\n",
       " 'BreaKHis_v1/histology_slides/breast/malignant/SOB\\\\ductal_carcinoma\\\\SOB_M_DC_14-5695\\\\400X\\\\SOB_M_DC-14-5695-400-010.png',\n",
       " 'BreaKHis_v1/histology_slides/breast/malignant/SOB\\\\ductal_carcinoma\\\\SOB_M_DC_14-5695\\\\400X\\\\SOB_M_DC-14-5695-400-011.png',\n",
       " 'BreaKHis_v1/histology_slides/breast/malignant/SOB\\\\ductal_carcinoma\\\\SOB_M_DC_14-5695\\\\400X\\\\SOB_M_DC-14-5695-400-012.png',\n",
       " 'BreaKHis_v1/histology_slides/breast/malignant/SOB\\\\ductal_carcinoma\\\\SOB_M_DC_14-5695\\\\400X\\\\SOB_M_DC-14-5695-400-013.png',\n",
       " 'BreaKHis_v1/histology_slides/breast/malignant/SOB\\\\ductal_carcinoma\\\\SOB_M_DC_14-5695\\\\400X\\\\SOB_M_DC-14-5695-400-014.png',\n",
       " 'BreaKHis_v1/histology_slides/breast/malignant/SOB\\\\ductal_carcinoma\\\\SOB_M_DC_14-5695\\\\400X\\\\SOB_M_DC-14-5695-400-015.png',\n",
       " 'BreaKHis_v1/histology_slides/breast/malignant/SOB\\\\ductal_carcinoma\\\\SOB_M_DC_14-5695\\\\400X\\\\SOB_M_DC-14-5695-400-016.png',\n",
       " 'BreaKHis_v1/histology_slides/breast/malignant/SOB\\\\ductal_carcinoma\\\\SOB_M_DC_14-5695\\\\400X\\\\SOB_M_DC-14-5695-400-017.png',\n",
       " 'BreaKHis_v1/histology_slides/breast/malignant/SOB\\\\ductal_carcinoma\\\\SOB_M_DC_14-5695\\\\400X\\\\SOB_M_DC-14-5695-400-018.png',\n",
       " 'BreaKHis_v1/histology_slides/breast/malignant/SOB\\\\ductal_carcinoma\\\\SOB_M_DC_14-5695\\\\400X\\\\SOB_M_DC-14-5695-400-019.png',\n",
       " 'BreaKHis_v1/histology_slides/breast/malignant/SOB\\\\ductal_carcinoma\\\\SOB_M_DC_14-5695\\\\400X\\\\SOB_M_DC-14-5695-400-020.png',\n",
       " 'BreaKHis_v1/histology_slides/breast/malignant/SOB\\\\ductal_carcinoma\\\\SOB_M_DC_14-5695\\\\400X\\\\SOB_M_DC-14-5695-400-021.png',\n",
       " 'BreaKHis_v1/histology_slides/breast/malignant/SOB\\\\ductal_carcinoma\\\\SOB_M_DC_14-5695\\\\400X\\\\SOB_M_DC-14-5695-400-022.png',\n",
       " 'BreaKHis_v1/histology_slides/breast/malignant/SOB\\\\ductal_carcinoma\\\\SOB_M_DC_14-5695\\\\400X\\\\SOB_M_DC-14-5695-400-023.png',\n",
       " 'BreaKHis_v1/histology_slides/breast/malignant/SOB\\\\ductal_carcinoma\\\\SOB_M_DC_14-5695\\\\400X\\\\SOB_M_DC-14-5695-400-024.png',\n",
       " 'BreaKHis_v1/histology_slides/breast/malignant/SOB\\\\ductal_carcinoma\\\\SOB_M_DC_14-6241\\\\400X\\\\SOB_M_DC-14-6241-400-002.png',\n",
       " 'BreaKHis_v1/histology_slides/breast/malignant/SOB\\\\ductal_carcinoma\\\\SOB_M_DC_14-6241\\\\400X\\\\SOB_M_DC-14-6241-400-003.png',\n",
       " 'BreaKHis_v1/histology_slides/breast/malignant/SOB\\\\ductal_carcinoma\\\\SOB_M_DC_14-6241\\\\400X\\\\SOB_M_DC-14-6241-400-004.png',\n",
       " 'BreaKHis_v1/histology_slides/breast/malignant/SOB\\\\ductal_carcinoma\\\\SOB_M_DC_14-6241\\\\400X\\\\SOB_M_DC-14-6241-400-005.png',\n",
       " 'BreaKHis_v1/histology_slides/breast/malignant/SOB\\\\ductal_carcinoma\\\\SOB_M_DC_14-6241\\\\400X\\\\SOB_M_DC-14-6241-400-006.png',\n",
       " 'BreaKHis_v1/histology_slides/breast/malignant/SOB\\\\ductal_carcinoma\\\\SOB_M_DC_14-6241\\\\400X\\\\SOB_M_DC-14-6241-400-007.png',\n",
       " 'BreaKHis_v1/histology_slides/breast/malignant/SOB\\\\ductal_carcinoma\\\\SOB_M_DC_14-6241\\\\400X\\\\SOB_M_DC-14-6241-400-008.png',\n",
       " 'BreaKHis_v1/histology_slides/breast/malignant/SOB\\\\ductal_carcinoma\\\\SOB_M_DC_14-6241\\\\400X\\\\SOB_M_DC-14-6241-400-009.png',\n",
       " 'BreaKHis_v1/histology_slides/breast/malignant/SOB\\\\ductal_carcinoma\\\\SOB_M_DC_14-6241\\\\400X\\\\SOB_M_DC-14-6241-400-010.png',\n",
       " 'BreaKHis_v1/histology_slides/breast/malignant/SOB\\\\ductal_carcinoma\\\\SOB_M_DC_14-6241\\\\400X\\\\SOB_M_DC-14-6241-400-012.png',\n",
       " 'BreaKHis_v1/histology_slides/breast/malignant/SOB\\\\ductal_carcinoma\\\\SOB_M_DC_14-6241\\\\400X\\\\SOB_M_DC-14-6241-400-013.png',\n",
       " 'BreaKHis_v1/histology_slides/breast/malignant/SOB\\\\ductal_carcinoma\\\\SOB_M_DC_14-6241\\\\400X\\\\SOB_M_DC-14-6241-400-015.png',\n",
       " 'BreaKHis_v1/histology_slides/breast/malignant/SOB\\\\ductal_carcinoma\\\\SOB_M_DC_14-6241\\\\400X\\\\SOB_M_DC-14-6241-400-016.png',\n",
       " 'BreaKHis_v1/histology_slides/breast/malignant/SOB\\\\ductal_carcinoma\\\\SOB_M_DC_14-8168\\\\400X\\\\SOB_M_DC-14-8168-400-001.png',\n",
       " 'BreaKHis_v1/histology_slides/breast/malignant/SOB\\\\ductal_carcinoma\\\\SOB_M_DC_14-8168\\\\400X\\\\SOB_M_DC-14-8168-400-002.png',\n",
       " 'BreaKHis_v1/histology_slides/breast/malignant/SOB\\\\ductal_carcinoma\\\\SOB_M_DC_14-8168\\\\400X\\\\SOB_M_DC-14-8168-400-003.png',\n",
       " 'BreaKHis_v1/histology_slides/breast/malignant/SOB\\\\ductal_carcinoma\\\\SOB_M_DC_14-8168\\\\400X\\\\SOB_M_DC-14-8168-400-004.png',\n",
       " 'BreaKHis_v1/histology_slides/breast/malignant/SOB\\\\ductal_carcinoma\\\\SOB_M_DC_14-8168\\\\400X\\\\SOB_M_DC-14-8168-400-005.png',\n",
       " 'BreaKHis_v1/histology_slides/breast/malignant/SOB\\\\ductal_carcinoma\\\\SOB_M_DC_14-8168\\\\400X\\\\SOB_M_DC-14-8168-400-006.png',\n",
       " 'BreaKHis_v1/histology_slides/breast/malignant/SOB\\\\ductal_carcinoma\\\\SOB_M_DC_14-8168\\\\400X\\\\SOB_M_DC-14-8168-400-007.png',\n",
       " 'BreaKHis_v1/histology_slides/breast/malignant/SOB\\\\ductal_carcinoma\\\\SOB_M_DC_14-8168\\\\400X\\\\SOB_M_DC-14-8168-400-008.png',\n",
       " 'BreaKHis_v1/histology_slides/breast/malignant/SOB\\\\ductal_carcinoma\\\\SOB_M_DC_14-8168\\\\400X\\\\SOB_M_DC-14-8168-400-009.png',\n",
       " 'BreaKHis_v1/histology_slides/breast/malignant/SOB\\\\ductal_carcinoma\\\\SOB_M_DC_14-9461\\\\400X\\\\SOB_M_DC-14-9461-400-001.png',\n",
       " 'BreaKHis_v1/histology_slides/breast/malignant/SOB\\\\ductal_carcinoma\\\\SOB_M_DC_14-9461\\\\400X\\\\SOB_M_DC-14-9461-400-002.png',\n",
       " 'BreaKHis_v1/histology_slides/breast/malignant/SOB\\\\ductal_carcinoma\\\\SOB_M_DC_14-9461\\\\400X\\\\SOB_M_DC-14-9461-400-004.png',\n",
       " 'BreaKHis_v1/histology_slides/breast/malignant/SOB\\\\ductal_carcinoma\\\\SOB_M_DC_14-9461\\\\400X\\\\SOB_M_DC-14-9461-400-005.png',\n",
       " 'BreaKHis_v1/histology_slides/breast/malignant/SOB\\\\ductal_carcinoma\\\\SOB_M_DC_14-9461\\\\400X\\\\SOB_M_DC-14-9461-400-006.png',\n",
       " 'BreaKHis_v1/histology_slides/breast/malignant/SOB\\\\ductal_carcinoma\\\\SOB_M_DC_14-9461\\\\400X\\\\SOB_M_DC-14-9461-400-007.png',\n",
       " 'BreaKHis_v1/histology_slides/breast/malignant/SOB\\\\ductal_carcinoma\\\\SOB_M_DC_14-9461\\\\400X\\\\SOB_M_DC-14-9461-400-008.png',\n",
       " 'BreaKHis_v1/histology_slides/breast/malignant/SOB\\\\ductal_carcinoma\\\\SOB_M_DC_14-9461\\\\400X\\\\SOB_M_DC-14-9461-400-009.png',\n",
       " 'BreaKHis_v1/histology_slides/breast/malignant/SOB\\\\ductal_carcinoma\\\\SOB_M_DC_14-9461\\\\400X\\\\SOB_M_DC-14-9461-400-010.png',\n",
       " 'BreaKHis_v1/histology_slides/breast/malignant/SOB\\\\ductal_carcinoma\\\\SOB_M_DC_14-9461\\\\400X\\\\SOB_M_DC-14-9461-400-012.png',\n",
       " 'BreaKHis_v1/histology_slides/breast/malignant/SOB\\\\ductal_carcinoma\\\\SOB_M_DC_14-9461\\\\400X\\\\SOB_M_DC-14-9461-400-013.png',\n",
       " 'BreaKHis_v1/histology_slides/breast/malignant/SOB\\\\ductal_carcinoma\\\\SOB_M_DC_14-9461\\\\400X\\\\SOB_M_DC-14-9461-400-014.png',\n",
       " 'BreaKHis_v1/histology_slides/breast/malignant/SOB\\\\ductal_carcinoma\\\\SOB_M_DC_14-9461\\\\400X\\\\SOB_M_DC-14-9461-400-015.png',\n",
       " 'BreaKHis_v1/histology_slides/breast/malignant/SOB\\\\ductal_carcinoma\\\\SOB_M_DC_14-9461\\\\400X\\\\SOB_M_DC-14-9461-400-016.png',\n",
       " 'BreaKHis_v1/histology_slides/breast/malignant/SOB\\\\ductal_carcinoma\\\\SOB_M_DC_14-9461\\\\400X\\\\SOB_M_DC-14-9461-400-017.png',\n",
       " 'BreaKHis_v1/histology_slides/breast/malignant/SOB\\\\ductal_carcinoma\\\\SOB_M_DC_14-9461\\\\400X\\\\SOB_M_DC-14-9461-400-018.png',\n",
       " 'BreaKHis_v1/histology_slides/breast/malignant/SOB\\\\ductal_carcinoma\\\\SOB_M_DC_14-9461\\\\400X\\\\SOB_M_DC-14-9461-400-019.png',\n",
       " 'BreaKHis_v1/histology_slides/breast/malignant/SOB\\\\ductal_carcinoma\\\\SOB_M_DC_14-9461\\\\400X\\\\SOB_M_DC-14-9461-400-021.png',\n",
       " 'BreaKHis_v1/histology_slides/breast/malignant/SOB\\\\ductal_carcinoma\\\\SOB_M_DC_14-9461\\\\400X\\\\SOB_M_DC-14-9461-400-022.png',\n",
       " 'BreaKHis_v1/histology_slides/breast/malignant/SOB\\\\ductal_carcinoma\\\\SOB_M_DC_14-9461\\\\400X\\\\SOB_M_DC-14-9461-400-023.png',\n",
       " 'BreaKHis_v1/histology_slides/breast/malignant/SOB\\\\ductal_carcinoma\\\\SOB_M_DC_14-9461\\\\400X\\\\SOB_M_DC-14-9461-400-024.png',\n",
       " 'BreaKHis_v1/histology_slides/breast/malignant/SOB\\\\ductal_carcinoma\\\\SOB_M_DC_14-9461\\\\400X\\\\SOB_M_DC-14-9461-400-025.png',\n",
       " 'BreaKHis_v1/histology_slides/breast/malignant/SOB\\\\ductal_carcinoma\\\\SOB_M_DC_14-9461\\\\400X\\\\SOB_M_DC-14-9461-400-027.png',\n",
       " 'BreaKHis_v1/histology_slides/breast/malignant/SOB\\\\ductal_carcinoma\\\\SOB_M_DC_14-9461\\\\400X\\\\SOB_M_DC-14-9461-400-028.png',\n",
       " 'BreaKHis_v1/histology_slides/breast/malignant/SOB\\\\ductal_carcinoma\\\\SOB_M_DC_14-9461\\\\400X\\\\SOB_M_DC-14-9461-400-029.png',\n",
       " 'BreaKHis_v1/histology_slides/breast/malignant/SOB\\\\ductal_carcinoma\\\\SOB_M_DC_14-9461\\\\400X\\\\SOB_M_DC-14-9461-400-030.png',\n",
       " 'BreaKHis_v1/histology_slides/breast/malignant/SOB\\\\ductal_carcinoma\\\\SOB_M_DC_14-9461\\\\400X\\\\SOB_M_DC-14-9461-400-031.png',\n",
       " 'BreaKHis_v1/histology_slides/breast/malignant/SOB\\\\ductal_carcinoma\\\\SOB_M_DC_14-9461\\\\400X\\\\SOB_M_DC-14-9461-400-032.png',\n",
       " 'BreaKHis_v1/histology_slides/breast/malignant/SOB\\\\ductal_carcinoma\\\\SOB_M_DC_14-9461\\\\400X\\\\SOB_M_DC-14-9461-400-034.png',\n",
       " 'BreaKHis_v1/histology_slides/breast/malignant/SOB\\\\ductal_carcinoma\\\\SOB_M_DC_14-9461\\\\400X\\\\SOB_M_DC-14-9461-400-035.png',\n",
       " 'BreaKHis_v1/histology_slides/breast/malignant/SOB\\\\ductal_carcinoma\\\\SOB_M_DC_14-9461\\\\400X\\\\SOB_M_DC-14-9461-400-036.png',\n",
       " 'BreaKHis_v1/histology_slides/breast/malignant/SOB\\\\lobular_carcinoma\\\\SOB_M_LC_14-12204\\\\400X\\\\SOB_M_LC-14-12204-400-024.png',\n",
       " 'BreaKHis_v1/histology_slides/breast/malignant/SOB\\\\lobular_carcinoma\\\\SOB_M_LC_14-12204\\\\400X\\\\SOB_M_LC-14-12204-400-025.png',\n",
       " 'BreaKHis_v1/histology_slides/breast/malignant/SOB\\\\lobular_carcinoma\\\\SOB_M_LC_14-12204\\\\400X\\\\SOB_M_LC-14-12204-400-026.png',\n",
       " 'BreaKHis_v1/histology_slides/breast/malignant/SOB\\\\lobular_carcinoma\\\\SOB_M_LC_14-12204\\\\400X\\\\SOB_M_LC-14-12204-400-027.png',\n",
       " 'BreaKHis_v1/histology_slides/breast/malignant/SOB\\\\lobular_carcinoma\\\\SOB_M_LC_14-12204\\\\400X\\\\SOB_M_LC-14-12204-400-028.png',\n",
       " 'BreaKHis_v1/histology_slides/breast/malignant/SOB\\\\lobular_carcinoma\\\\SOB_M_LC_14-12204\\\\400X\\\\SOB_M_LC-14-12204-400-029.png',\n",
       " 'BreaKHis_v1/histology_slides/breast/malignant/SOB\\\\lobular_carcinoma\\\\SOB_M_LC_14-12204\\\\400X\\\\SOB_M_LC-14-12204-400-030.png',\n",
       " 'BreaKHis_v1/histology_slides/breast/malignant/SOB\\\\lobular_carcinoma\\\\SOB_M_LC_14-12204\\\\400X\\\\SOB_M_LC-14-12204-400-031.png',\n",
       " 'BreaKHis_v1/histology_slides/breast/malignant/SOB\\\\lobular_carcinoma\\\\SOB_M_LC_14-12204\\\\400X\\\\SOB_M_LC-14-12204-400-032.png',\n",
       " 'BreaKHis_v1/histology_slides/breast/malignant/SOB\\\\lobular_carcinoma\\\\SOB_M_LC_14-12204\\\\400X\\\\SOB_M_LC-14-12204-400-033.png',\n",
       " 'BreaKHis_v1/histology_slides/breast/malignant/SOB\\\\lobular_carcinoma\\\\SOB_M_LC_14-12204\\\\400X\\\\SOB_M_LC-14-12204-400-034.png',\n",
       " 'BreaKHis_v1/histology_slides/breast/malignant/SOB\\\\lobular_carcinoma\\\\SOB_M_LC_14-12204\\\\400X\\\\SOB_M_LC-14-12204-400-035.png',\n",
       " 'BreaKHis_v1/histology_slides/breast/malignant/SOB\\\\lobular_carcinoma\\\\SOB_M_LC_14-12204\\\\400X\\\\SOB_M_LC-14-12204-400-036.png',\n",
       " 'BreaKHis_v1/histology_slides/breast/malignant/SOB\\\\lobular_carcinoma\\\\SOB_M_LC_14-12204\\\\400X\\\\SOB_M_LC-14-12204-400-037.png',\n",
       " 'BreaKHis_v1/histology_slides/breast/malignant/SOB\\\\lobular_carcinoma\\\\SOB_M_LC_14-12204\\\\400X\\\\SOB_M_LC-14-12204-400-038.png',\n",
       " 'BreaKHis_v1/histology_slides/breast/malignant/SOB\\\\lobular_carcinoma\\\\SOB_M_LC_14-12204\\\\400X\\\\SOB_M_LC-14-12204-400-039.png',\n",
       " 'BreaKHis_v1/histology_slides/breast/malignant/SOB\\\\lobular_carcinoma\\\\SOB_M_LC_14-12204\\\\400X\\\\SOB_M_LC-14-12204-400-040.png',\n",
       " 'BreaKHis_v1/histology_slides/breast/malignant/SOB\\\\lobular_carcinoma\\\\SOB_M_LC_14-12204\\\\400X\\\\SOB_M_LC-14-12204-400-041.png',\n",
       " 'BreaKHis_v1/histology_slides/breast/malignant/SOB\\\\lobular_carcinoma\\\\SOB_M_LC_14-12204\\\\400X\\\\SOB_M_LC-14-12204-400-042.png',\n",
       " 'BreaKHis_v1/histology_slides/breast/malignant/SOB\\\\lobular_carcinoma\\\\SOB_M_LC_14-12204\\\\400X\\\\SOB_M_LC-14-12204-400-043.png',\n",
       " 'BreaKHis_v1/histology_slides/breast/malignant/SOB\\\\lobular_carcinoma\\\\SOB_M_LC_14-12204\\\\400X\\\\SOB_M_LC-14-12204-400-044.png',\n",
       " 'BreaKHis_v1/histology_slides/breast/malignant/SOB\\\\lobular_carcinoma\\\\SOB_M_LC_14-12204\\\\400X\\\\SOB_M_LC-14-12204-400-045.png',\n",
       " 'BreaKHis_v1/histology_slides/breast/malignant/SOB\\\\lobular_carcinoma\\\\SOB_M_LC_14-12204\\\\400X\\\\SOB_M_LC-14-12204-400-046.png',\n",
       " 'BreaKHis_v1/histology_slides/breast/malignant/SOB\\\\lobular_carcinoma\\\\SOB_M_LC_14-12204\\\\400X\\\\SOB_M_LC-14-12204-400-047.png',\n",
       " 'BreaKHis_v1/histology_slides/breast/malignant/SOB\\\\lobular_carcinoma\\\\SOB_M_LC_14-13412\\\\400X\\\\SOB_M_LC-14-13412-400-001.png',\n",
       " 'BreaKHis_v1/histology_slides/breast/malignant/SOB\\\\lobular_carcinoma\\\\SOB_M_LC_14-13412\\\\400X\\\\SOB_M_LC-14-13412-400-002.png',\n",
       " 'BreaKHis_v1/histology_slides/breast/malignant/SOB\\\\lobular_carcinoma\\\\SOB_M_LC_14-13412\\\\400X\\\\SOB_M_LC-14-13412-400-003.png',\n",
       " 'BreaKHis_v1/histology_slides/breast/malignant/SOB\\\\lobular_carcinoma\\\\SOB_M_LC_14-13412\\\\400X\\\\SOB_M_LC-14-13412-400-004.png',\n",
       " 'BreaKHis_v1/histology_slides/breast/malignant/SOB\\\\lobular_carcinoma\\\\SOB_M_LC_14-13412\\\\400X\\\\SOB_M_LC-14-13412-400-005.png',\n",
       " 'BreaKHis_v1/histology_slides/breast/malignant/SOB\\\\lobular_carcinoma\\\\SOB_M_LC_14-13412\\\\400X\\\\SOB_M_LC-14-13412-400-006.png',\n",
       " 'BreaKHis_v1/histology_slides/breast/malignant/SOB\\\\lobular_carcinoma\\\\SOB_M_LC_14-13412\\\\400X\\\\SOB_M_LC-14-13412-400-007.png',\n",
       " 'BreaKHis_v1/histology_slides/breast/malignant/SOB\\\\lobular_carcinoma\\\\SOB_M_LC_14-13412\\\\400X\\\\SOB_M_LC-14-13412-400-008.png',\n",
       " 'BreaKHis_v1/histology_slides/breast/malignant/SOB\\\\lobular_carcinoma\\\\SOB_M_LC_14-13412\\\\400X\\\\SOB_M_LC-14-13412-400-009.png',\n",
       " 'BreaKHis_v1/histology_slides/breast/malignant/SOB\\\\lobular_carcinoma\\\\SOB_M_LC_14-13412\\\\400X\\\\SOB_M_LC-14-13412-400-010.png',\n",
       " 'BreaKHis_v1/histology_slides/breast/malignant/SOB\\\\lobular_carcinoma\\\\SOB_M_LC_14-13412\\\\400X\\\\SOB_M_LC-14-13412-400-011.png',\n",
       " 'BreaKHis_v1/histology_slides/breast/malignant/SOB\\\\lobular_carcinoma\\\\SOB_M_LC_14-13412\\\\400X\\\\SOB_M_LC-14-13412-400-012.png',\n",
       " 'BreaKHis_v1/histology_slides/breast/malignant/SOB\\\\lobular_carcinoma\\\\SOB_M_LC_14-13412\\\\400X\\\\SOB_M_LC-14-13412-400-013.png',\n",
       " 'BreaKHis_v1/histology_slides/breast/malignant/SOB\\\\lobular_carcinoma\\\\SOB_M_LC_14-13412\\\\400X\\\\SOB_M_LC-14-13412-400-014.png',\n",
       " 'BreaKHis_v1/histology_slides/breast/malignant/SOB\\\\lobular_carcinoma\\\\SOB_M_LC_14-13412\\\\400X\\\\SOB_M_LC-14-13412-400-015.png',\n",
       " 'BreaKHis_v1/histology_slides/breast/malignant/SOB\\\\lobular_carcinoma\\\\SOB_M_LC_14-13412\\\\400X\\\\SOB_M_LC-14-13412-400-016.png',\n",
       " 'BreaKHis_v1/histology_slides/breast/malignant/SOB\\\\lobular_carcinoma\\\\SOB_M_LC_14-13412\\\\400X\\\\SOB_M_LC-14-13412-400-017.png',\n",
       " 'BreaKHis_v1/histology_slides/breast/malignant/SOB\\\\lobular_carcinoma\\\\SOB_M_LC_14-13412\\\\400X\\\\SOB_M_LC-14-13412-400-018.png',\n",
       " 'BreaKHis_v1/histology_slides/breast/malignant/SOB\\\\lobular_carcinoma\\\\SOB_M_LC_14-13412\\\\400X\\\\SOB_M_LC-14-13412-400-019.png',\n",
       " 'BreaKHis_v1/histology_slides/breast/malignant/SOB\\\\lobular_carcinoma\\\\SOB_M_LC_14-13412\\\\400X\\\\SOB_M_LC-14-13412-400-020.png',\n",
       " 'BreaKHis_v1/histology_slides/breast/malignant/SOB\\\\lobular_carcinoma\\\\SOB_M_LC_14-13412\\\\400X\\\\SOB_M_LC-14-13412-400-021.png',\n",
       " 'BreaKHis_v1/histology_slides/breast/malignant/SOB\\\\lobular_carcinoma\\\\SOB_M_LC_14-13412\\\\400X\\\\SOB_M_LC-14-13412-400-022.png',\n",
       " 'BreaKHis_v1/histology_slides/breast/malignant/SOB\\\\lobular_carcinoma\\\\SOB_M_LC_14-13412\\\\400X\\\\SOB_M_LC-14-13412-400-023.png',\n",
       " 'BreaKHis_v1/histology_slides/breast/malignant/SOB\\\\lobular_carcinoma\\\\SOB_M_LC_14-13412\\\\400X\\\\SOB_M_LC-14-13412-400-024.png',\n",
       " 'BreaKHis_v1/histology_slides/breast/malignant/SOB\\\\lobular_carcinoma\\\\SOB_M_LC_14-13412\\\\400X\\\\SOB_M_LC-14-13412-400-025.png',\n",
       " 'BreaKHis_v1/histology_slides/breast/malignant/SOB\\\\lobular_carcinoma\\\\SOB_M_LC_14-13412\\\\400X\\\\SOB_M_LC-14-13412-400-026.png',\n",
       " 'BreaKHis_v1/histology_slides/breast/malignant/SOB\\\\lobular_carcinoma\\\\SOB_M_LC_14-15570\\\\400X\\\\SOB_M_LC-14-15570-400-001.png',\n",
       " 'BreaKHis_v1/histology_slides/breast/malignant/SOB\\\\lobular_carcinoma\\\\SOB_M_LC_14-15570\\\\400X\\\\SOB_M_LC-14-15570-400-002.png',\n",
       " 'BreaKHis_v1/histology_slides/breast/malignant/SOB\\\\lobular_carcinoma\\\\SOB_M_LC_14-15570\\\\400X\\\\SOB_M_LC-14-15570-400-003.png',\n",
       " 'BreaKHis_v1/histology_slides/breast/malignant/SOB\\\\lobular_carcinoma\\\\SOB_M_LC_14-15570\\\\400X\\\\SOB_M_LC-14-15570-400-004.png',\n",
       " 'BreaKHis_v1/histology_slides/breast/malignant/SOB\\\\lobular_carcinoma\\\\SOB_M_LC_14-15570\\\\400X\\\\SOB_M_LC-14-15570-400-005.png',\n",
       " 'BreaKHis_v1/histology_slides/breast/malignant/SOB\\\\lobular_carcinoma\\\\SOB_M_LC_14-15570\\\\400X\\\\SOB_M_LC-14-15570-400-006.png',\n",
       " 'BreaKHis_v1/histology_slides/breast/malignant/SOB\\\\lobular_carcinoma\\\\SOB_M_LC_14-15570\\\\400X\\\\SOB_M_LC-14-15570-400-007.png',\n",
       " 'BreaKHis_v1/histology_slides/breast/malignant/SOB\\\\lobular_carcinoma\\\\SOB_M_LC_14-15570\\\\400X\\\\SOB_M_LC-14-15570-400-008.png',\n",
       " 'BreaKHis_v1/histology_slides/breast/malignant/SOB\\\\lobular_carcinoma\\\\SOB_M_LC_14-15570\\\\400X\\\\SOB_M_LC-14-15570-400-009.png',\n",
       " 'BreaKHis_v1/histology_slides/breast/malignant/SOB\\\\lobular_carcinoma\\\\SOB_M_LC_14-15570\\\\400X\\\\SOB_M_LC-14-15570-400-010.png',\n",
       " 'BreaKHis_v1/histology_slides/breast/malignant/SOB\\\\lobular_carcinoma\\\\SOB_M_LC_14-15570\\\\400X\\\\SOB_M_LC-14-15570-400-011.png',\n",
       " 'BreaKHis_v1/histology_slides/breast/malignant/SOB\\\\lobular_carcinoma\\\\SOB_M_LC_14-15570\\\\400X\\\\SOB_M_LC-14-15570-400-012.png',\n",
       " 'BreaKHis_v1/histology_slides/breast/malignant/SOB\\\\lobular_carcinoma\\\\SOB_M_LC_14-15570\\\\400X\\\\SOB_M_LC-14-15570-400-013.png',\n",
       " 'BreaKHis_v1/histology_slides/breast/malignant/SOB\\\\lobular_carcinoma\\\\SOB_M_LC_14-15570\\\\400X\\\\SOB_M_LC-14-15570-400-014.png',\n",
       " 'BreaKHis_v1/histology_slides/breast/malignant/SOB\\\\lobular_carcinoma\\\\SOB_M_LC_14-15570\\\\400X\\\\SOB_M_LC-14-15570-400-015.png',\n",
       " 'BreaKHis_v1/histology_slides/breast/malignant/SOB\\\\lobular_carcinoma\\\\SOB_M_LC_14-15570\\\\400X\\\\SOB_M_LC-14-15570-400-016.png',\n",
       " 'BreaKHis_v1/histology_slides/breast/malignant/SOB\\\\lobular_carcinoma\\\\SOB_M_LC_14-15570\\\\400X\\\\SOB_M_LC-14-15570-400-017.png',\n",
       " 'BreaKHis_v1/histology_slides/breast/malignant/SOB\\\\lobular_carcinoma\\\\SOB_M_LC_14-15570\\\\400X\\\\SOB_M_LC-14-15570-400-018.png',\n",
       " 'BreaKHis_v1/histology_slides/breast/malignant/SOB\\\\lobular_carcinoma\\\\SOB_M_LC_14-15570\\\\400X\\\\SOB_M_LC-14-15570-400-019.png',\n",
       " 'BreaKHis_v1/histology_slides/breast/malignant/SOB\\\\lobular_carcinoma\\\\SOB_M_LC_14-15570\\\\400X\\\\SOB_M_LC-14-15570-400-020.png',\n",
       " 'BreaKHis_v1/histology_slides/breast/malignant/SOB\\\\lobular_carcinoma\\\\SOB_M_LC_14-15570\\\\400X\\\\SOB_M_LC-14-15570-400-021.png',\n",
       " 'BreaKHis_v1/histology_slides/breast/malignant/SOB\\\\lobular_carcinoma\\\\SOB_M_LC_14-15570\\\\400X\\\\SOB_M_LC-14-15570-400-022.png',\n",
       " 'BreaKHis_v1/histology_slides/breast/malignant/SOB\\\\lobular_carcinoma\\\\SOB_M_LC_14-15570\\\\400X\\\\SOB_M_LC-14-15570-400-023.png',\n",
       " 'BreaKHis_v1/histology_slides/breast/malignant/SOB\\\\lobular_carcinoma\\\\SOB_M_LC_14-15570\\\\400X\\\\SOB_M_LC-14-15570-400-024.png',\n",
       " 'BreaKHis_v1/histology_slides/breast/malignant/SOB\\\\lobular_carcinoma\\\\SOB_M_LC_14-15570\\\\400X\\\\SOB_M_LC-14-15570-400-025.png',\n",
       " 'BreaKHis_v1/histology_slides/breast/malignant/SOB\\\\lobular_carcinoma\\\\SOB_M_LC_14-15570\\\\400X\\\\SOB_M_LC-14-15570-400-026.png',\n",
       " 'BreaKHis_v1/histology_slides/breast/malignant/SOB\\\\lobular_carcinoma\\\\SOB_M_LC_14-15570\\\\400X\\\\SOB_M_LC-14-15570-400-027.png',\n",
       " 'BreaKHis_v1/histology_slides/breast/malignant/SOB\\\\lobular_carcinoma\\\\SOB_M_LC_14-15570\\\\400X\\\\SOB_M_LC-14-15570-400-028.png',\n",
       " 'BreaKHis_v1/histology_slides/breast/malignant/SOB\\\\lobular_carcinoma\\\\SOB_M_LC_14-15570\\\\400X\\\\SOB_M_LC-14-15570-400-029.png',\n",
       " 'BreaKHis_v1/histology_slides/breast/malignant/SOB\\\\lobular_carcinoma\\\\SOB_M_LC_14-15570\\\\400X\\\\SOB_M_LC-14-15570-400-030.png',\n",
       " 'BreaKHis_v1/histology_slides/breast/malignant/SOB\\\\lobular_carcinoma\\\\SOB_M_LC_14-15570\\\\400X\\\\SOB_M_LC-14-15570-400-031.png',\n",
       " 'BreaKHis_v1/histology_slides/breast/malignant/SOB\\\\lobular_carcinoma\\\\SOB_M_LC_14-15570\\\\400X\\\\SOB_M_LC-14-15570-400-032.png',\n",
       " 'BreaKHis_v1/histology_slides/breast/malignant/SOB\\\\lobular_carcinoma\\\\SOB_M_LC_14-15570\\\\400X\\\\SOB_M_LC-14-15570-400-033.png',\n",
       " 'BreaKHis_v1/histology_slides/breast/malignant/SOB\\\\lobular_carcinoma\\\\SOB_M_LC_14-15570\\\\400X\\\\SOB_M_LC-14-15570-400-034.png',\n",
       " 'BreaKHis_v1/histology_slides/breast/malignant/SOB\\\\lobular_carcinoma\\\\SOB_M_LC_14-15570\\\\400X\\\\SOB_M_LC-14-15570-400-035.png',\n",
       " 'BreaKHis_v1/histology_slides/breast/malignant/SOB\\\\lobular_carcinoma\\\\SOB_M_LC_14-15570\\\\400X\\\\SOB_M_LC-14-15570-400-036.png',\n",
       " 'BreaKHis_v1/histology_slides/breast/malignant/SOB\\\\lobular_carcinoma\\\\SOB_M_LC_14-15570\\\\400X\\\\SOB_M_LC-14-15570-400-037.png',\n",
       " 'BreaKHis_v1/histology_slides/breast/malignant/SOB\\\\lobular_carcinoma\\\\SOB_M_LC_14-15570\\\\400X\\\\SOB_M_LC-14-15570-400-038.png',\n",
       " 'BreaKHis_v1/histology_slides/breast/malignant/SOB\\\\lobular_carcinoma\\\\SOB_M_LC_14-15570\\\\400X\\\\SOB_M_LC-14-15570-400-039.png',\n",
       " 'BreaKHis_v1/histology_slides/breast/malignant/SOB\\\\lobular_carcinoma\\\\SOB_M_LC_14-15570\\\\400X\\\\SOB_M_LC-14-15570-400-040.png',\n",
       " 'BreaKHis_v1/histology_slides/breast/malignant/SOB\\\\lobular_carcinoma\\\\SOB_M_LC_14-15570\\\\400X\\\\SOB_M_LC-14-15570-400-041.png',\n",
       " 'BreaKHis_v1/histology_slides/breast/malignant/SOB\\\\lobular_carcinoma\\\\SOB_M_LC_14-15570C\\\\400X\\\\SOB_M_LC-14-15570C-400-001.png',\n",
       " 'BreaKHis_v1/histology_slides/breast/malignant/SOB\\\\lobular_carcinoma\\\\SOB_M_LC_14-15570C\\\\400X\\\\SOB_M_LC-14-15570C-400-002.png',\n",
       " 'BreaKHis_v1/histology_slides/breast/malignant/SOB\\\\lobular_carcinoma\\\\SOB_M_LC_14-15570C\\\\400X\\\\SOB_M_LC-14-15570C-400-003.png',\n",
       " 'BreaKHis_v1/histology_slides/breast/malignant/SOB\\\\lobular_carcinoma\\\\SOB_M_LC_14-15570C\\\\400X\\\\SOB_M_LC-14-15570C-400-004.png',\n",
       " 'BreaKHis_v1/histology_slides/breast/malignant/SOB\\\\lobular_carcinoma\\\\SOB_M_LC_14-15570C\\\\400X\\\\SOB_M_LC-14-15570C-400-005.png',\n",
       " 'BreaKHis_v1/histology_slides/breast/malignant/SOB\\\\lobular_carcinoma\\\\SOB_M_LC_14-15570C\\\\400X\\\\SOB_M_LC-14-15570C-400-006.png',\n",
       " 'BreaKHis_v1/histology_slides/breast/malignant/SOB\\\\lobular_carcinoma\\\\SOB_M_LC_14-15570C\\\\400X\\\\SOB_M_LC-14-15570C-400-007.png',\n",
       " 'BreaKHis_v1/histology_slides/breast/malignant/SOB\\\\lobular_carcinoma\\\\SOB_M_LC_14-15570C\\\\400X\\\\SOB_M_LC-14-15570C-400-008.png',\n",
       " 'BreaKHis_v1/histology_slides/breast/malignant/SOB\\\\lobular_carcinoma\\\\SOB_M_LC_14-15570C\\\\400X\\\\SOB_M_LC-14-15570C-400-009.png',\n",
       " 'BreaKHis_v1/histology_slides/breast/malignant/SOB\\\\lobular_carcinoma\\\\SOB_M_LC_14-15570C\\\\400X\\\\SOB_M_LC-14-15570C-400-010.png',\n",
       " 'BreaKHis_v1/histology_slides/breast/malignant/SOB\\\\lobular_carcinoma\\\\SOB_M_LC_14-15570C\\\\400X\\\\SOB_M_LC-14-15570C-400-011.png',\n",
       " 'BreaKHis_v1/histology_slides/breast/malignant/SOB\\\\lobular_carcinoma\\\\SOB_M_LC_14-15570C\\\\400X\\\\SOB_M_LC-14-15570C-400-012.png',\n",
       " 'BreaKHis_v1/histology_slides/breast/malignant/SOB\\\\lobular_carcinoma\\\\SOB_M_LC_14-15570C\\\\400X\\\\SOB_M_LC-14-15570C-400-013.png',\n",
       " 'BreaKHis_v1/histology_slides/breast/malignant/SOB\\\\lobular_carcinoma\\\\SOB_M_LC_14-15570C\\\\400X\\\\SOB_M_LC-14-15570C-400-014.png',\n",
       " 'BreaKHis_v1/histology_slides/breast/malignant/SOB\\\\lobular_carcinoma\\\\SOB_M_LC_14-15570C\\\\400X\\\\SOB_M_LC-14-15570C-400-015.png',\n",
       " 'BreaKHis_v1/histology_slides/breast/malignant/SOB\\\\lobular_carcinoma\\\\SOB_M_LC_14-15570C\\\\400X\\\\SOB_M_LC-14-15570C-400-016.png',\n",
       " 'BreaKHis_v1/histology_slides/breast/malignant/SOB\\\\lobular_carcinoma\\\\SOB_M_LC_14-15570C\\\\400X\\\\SOB_M_LC-14-15570C-400-017.png',\n",
       " 'BreaKHis_v1/histology_slides/breast/malignant/SOB\\\\lobular_carcinoma\\\\SOB_M_LC_14-15570C\\\\400X\\\\SOB_M_LC-14-15570C-400-018.png',\n",
       " 'BreaKHis_v1/histology_slides/breast/malignant/SOB\\\\lobular_carcinoma\\\\SOB_M_LC_14-15570C\\\\400X\\\\SOB_M_LC-14-15570C-400-019.png',\n",
       " 'BreaKHis_v1/histology_slides/breast/malignant/SOB\\\\lobular_carcinoma\\\\SOB_M_LC_14-15570C\\\\400X\\\\SOB_M_LC-14-15570C-400-020.png',\n",
       " 'BreaKHis_v1/histology_slides/breast/malignant/SOB\\\\lobular_carcinoma\\\\SOB_M_LC_14-15570C\\\\400X\\\\SOB_M_LC-14-15570C-400-021.png',\n",
       " 'BreaKHis_v1/histology_slides/breast/malignant/SOB\\\\lobular_carcinoma\\\\SOB_M_LC_14-15570C\\\\400X\\\\SOB_M_LC-14-15570C-400-022.png',\n",
       " 'BreaKHis_v1/histology_slides/breast/malignant/SOB\\\\lobular_carcinoma\\\\SOB_M_LC_14-15570C\\\\400X\\\\SOB_M_LC-14-15570C-400-023.png',\n",
       " 'BreaKHis_v1/histology_slides/breast/malignant/SOB\\\\lobular_carcinoma\\\\SOB_M_LC_14-15570C\\\\400X\\\\SOB_M_LC-14-15570C-400-024.png',\n",
       " 'BreaKHis_v1/histology_slides/breast/malignant/SOB\\\\lobular_carcinoma\\\\SOB_M_LC_14-15570C\\\\400X\\\\SOB_M_LC-14-15570C-400-025.png',\n",
       " 'BreaKHis_v1/histology_slides/breast/malignant/SOB\\\\lobular_carcinoma\\\\SOB_M_LC_14-15570C\\\\400X\\\\SOB_M_LC-14-15570C-400-026.png',\n",
       " 'BreaKHis_v1/histology_slides/breast/malignant/SOB\\\\lobular_carcinoma\\\\SOB_M_LC_14-15570C\\\\400X\\\\SOB_M_LC-14-15570C-400-027.png',\n",
       " 'BreaKHis_v1/histology_slides/breast/malignant/SOB\\\\lobular_carcinoma\\\\SOB_M_LC_14-15570C\\\\400X\\\\SOB_M_LC-14-15570C-400-028.png',\n",
       " 'BreaKHis_v1/histology_slides/breast/malignant/SOB\\\\lobular_carcinoma\\\\SOB_M_LC_14-15570C\\\\400X\\\\SOB_M_LC-14-15570C-400-029.png',\n",
       " 'BreaKHis_v1/histology_slides/breast/malignant/SOB\\\\lobular_carcinoma\\\\SOB_M_LC_14-16196\\\\400X\\\\SOB_M_LC-14-16196-400-001.png',\n",
       " 'BreaKHis_v1/histology_slides/breast/malignant/SOB\\\\lobular_carcinoma\\\\SOB_M_LC_14-16196\\\\400X\\\\SOB_M_LC-14-16196-400-002.png',\n",
       " 'BreaKHis_v1/histology_slides/breast/malignant/SOB\\\\lobular_carcinoma\\\\SOB_M_LC_14-16196\\\\400X\\\\SOB_M_LC-14-16196-400-003.png',\n",
       " 'BreaKHis_v1/histology_slides/breast/malignant/SOB\\\\lobular_carcinoma\\\\SOB_M_LC_14-16196\\\\400X\\\\SOB_M_LC-14-16196-400-004.png',\n",
       " 'BreaKHis_v1/histology_slides/breast/malignant/SOB\\\\lobular_carcinoma\\\\SOB_M_LC_14-16196\\\\400X\\\\SOB_M_LC-14-16196-400-005.png',\n",
       " 'BreaKHis_v1/histology_slides/breast/malignant/SOB\\\\lobular_carcinoma\\\\SOB_M_LC_14-16196\\\\400X\\\\SOB_M_LC-14-16196-400-006.png',\n",
       " 'BreaKHis_v1/histology_slides/breast/malignant/SOB\\\\lobular_carcinoma\\\\SOB_M_LC_14-16196\\\\400X\\\\SOB_M_LC-14-16196-400-007.png',\n",
       " 'BreaKHis_v1/histology_slides/breast/malignant/SOB\\\\lobular_carcinoma\\\\SOB_M_LC_14-16196\\\\400X\\\\SOB_M_LC-14-16196-400-008.png',\n",
       " 'BreaKHis_v1/histology_slides/breast/malignant/SOB\\\\lobular_carcinoma\\\\SOB_M_LC_14-16196\\\\400X\\\\SOB_M_LC-14-16196-400-009.png',\n",
       " 'BreaKHis_v1/histology_slides/breast/malignant/SOB\\\\lobular_carcinoma\\\\SOB_M_LC_14-16196\\\\400X\\\\SOB_M_LC-14-16196-400-010.png',\n",
       " 'BreaKHis_v1/histology_slides/breast/malignant/SOB\\\\lobular_carcinoma\\\\SOB_M_LC_14-16196\\\\400X\\\\SOB_M_LC-14-16196-400-011.png',\n",
       " 'BreaKHis_v1/histology_slides/breast/malignant/SOB\\\\lobular_carcinoma\\\\SOB_M_LC_14-16196\\\\400X\\\\SOB_M_LC-14-16196-400-012.png',\n",
       " 'BreaKHis_v1/histology_slides/breast/malignant/SOB\\\\lobular_carcinoma\\\\SOB_M_LC_14-16196\\\\400X\\\\SOB_M_LC-14-16196-400-013.png',\n",
       " 'BreaKHis_v1/histology_slides/breast/malignant/SOB\\\\lobular_carcinoma\\\\SOB_M_LC_14-16196\\\\400X\\\\SOB_M_LC-14-16196-400-014.png',\n",
       " 'BreaKHis_v1/histology_slides/breast/malignant/SOB\\\\lobular_carcinoma\\\\SOB_M_LC_14-16196\\\\400X\\\\SOB_M_LC-14-16196-400-015.png',\n",
       " 'BreaKHis_v1/histology_slides/breast/malignant/SOB\\\\lobular_carcinoma\\\\SOB_M_LC_14-16196\\\\400X\\\\SOB_M_LC-14-16196-400-016.png',\n",
       " 'BreaKHis_v1/histology_slides/breast/malignant/SOB\\\\lobular_carcinoma\\\\SOB_M_LC_14-16196\\\\400X\\\\SOB_M_LC-14-16196-400-017.png',\n",
       " 'BreaKHis_v1/histology_slides/breast/malignant/SOB\\\\mucinous_carcinoma\\\\SOB_M_MC_14-10147\\\\400X\\\\SOB_M_MC-14-10147-400-001.png',\n",
       " 'BreaKHis_v1/histology_slides/breast/malignant/SOB\\\\mucinous_carcinoma\\\\SOB_M_MC_14-10147\\\\400X\\\\SOB_M_MC-14-10147-400-002.png',\n",
       " 'BreaKHis_v1/histology_slides/breast/malignant/SOB\\\\mucinous_carcinoma\\\\SOB_M_MC_14-10147\\\\400X\\\\SOB_M_MC-14-10147-400-003.png',\n",
       " 'BreaKHis_v1/histology_slides/breast/malignant/SOB\\\\mucinous_carcinoma\\\\SOB_M_MC_14-10147\\\\400X\\\\SOB_M_MC-14-10147-400-004.png',\n",
       " 'BreaKHis_v1/histology_slides/breast/malignant/SOB\\\\mucinous_carcinoma\\\\SOB_M_MC_14-10147\\\\400X\\\\SOB_M_MC-14-10147-400-005.png',\n",
       " 'BreaKHis_v1/histology_slides/breast/malignant/SOB\\\\mucinous_carcinoma\\\\SOB_M_MC_14-10147\\\\400X\\\\SOB_M_MC-14-10147-400-006.png',\n",
       " 'BreaKHis_v1/histology_slides/breast/malignant/SOB\\\\mucinous_carcinoma\\\\SOB_M_MC_14-10147\\\\400X\\\\SOB_M_MC-14-10147-400-007.png',\n",
       " 'BreaKHis_v1/histology_slides/breast/malignant/SOB\\\\mucinous_carcinoma\\\\SOB_M_MC_14-10147\\\\400X\\\\SOB_M_MC-14-10147-400-008.png',\n",
       " 'BreaKHis_v1/histology_slides/breast/malignant/SOB\\\\mucinous_carcinoma\\\\SOB_M_MC_14-10147\\\\400X\\\\SOB_M_MC-14-10147-400-009.png',\n",
       " 'BreaKHis_v1/histology_slides/breast/malignant/SOB\\\\mucinous_carcinoma\\\\SOB_M_MC_14-10147\\\\400X\\\\SOB_M_MC-14-10147-400-010.png',\n",
       " 'BreaKHis_v1/histology_slides/breast/malignant/SOB\\\\mucinous_carcinoma\\\\SOB_M_MC_14-10147\\\\400X\\\\SOB_M_MC-14-10147-400-011.png',\n",
       " 'BreaKHis_v1/histology_slides/breast/malignant/SOB\\\\mucinous_carcinoma\\\\SOB_M_MC_14-10147\\\\400X\\\\SOB_M_MC-14-10147-400-012.png',\n",
       " 'BreaKHis_v1/histology_slides/breast/malignant/SOB\\\\mucinous_carcinoma\\\\SOB_M_MC_14-10147\\\\400X\\\\SOB_M_MC-14-10147-400-013.png',\n",
       " 'BreaKHis_v1/histology_slides/breast/malignant/SOB\\\\mucinous_carcinoma\\\\SOB_M_MC_14-10147\\\\400X\\\\SOB_M_MC-14-10147-400-014.png',\n",
       " 'BreaKHis_v1/histology_slides/breast/malignant/SOB\\\\mucinous_carcinoma\\\\SOB_M_MC_14-10147\\\\400X\\\\SOB_M_MC-14-10147-400-015.png',\n",
       " 'BreaKHis_v1/histology_slides/breast/malignant/SOB\\\\mucinous_carcinoma\\\\SOB_M_MC_14-12773\\\\400X\\\\SOB_M_MC-14-12773-400-001.png',\n",
       " 'BreaKHis_v1/histology_slides/breast/malignant/SOB\\\\mucinous_carcinoma\\\\SOB_M_MC_14-12773\\\\400X\\\\SOB_M_MC-14-12773-400-002.png',\n",
       " 'BreaKHis_v1/histology_slides/breast/malignant/SOB\\\\mucinous_carcinoma\\\\SOB_M_MC_14-12773\\\\400X\\\\SOB_M_MC-14-12773-400-003.png',\n",
       " 'BreaKHis_v1/histology_slides/breast/malignant/SOB\\\\mucinous_carcinoma\\\\SOB_M_MC_14-12773\\\\400X\\\\SOB_M_MC-14-12773-400-004.png',\n",
       " 'BreaKHis_v1/histology_slides/breast/malignant/SOB\\\\mucinous_carcinoma\\\\SOB_M_MC_14-12773\\\\400X\\\\SOB_M_MC-14-12773-400-005.png',\n",
       " 'BreaKHis_v1/histology_slides/breast/malignant/SOB\\\\mucinous_carcinoma\\\\SOB_M_MC_14-12773\\\\400X\\\\SOB_M_MC-14-12773-400-006.png',\n",
       " 'BreaKHis_v1/histology_slides/breast/malignant/SOB\\\\mucinous_carcinoma\\\\SOB_M_MC_14-12773\\\\400X\\\\SOB_M_MC-14-12773-400-007.png',\n",
       " 'BreaKHis_v1/histology_slides/breast/malignant/SOB\\\\mucinous_carcinoma\\\\SOB_M_MC_14-12773\\\\400X\\\\SOB_M_MC-14-12773-400-008.png',\n",
       " 'BreaKHis_v1/histology_slides/breast/malignant/SOB\\\\mucinous_carcinoma\\\\SOB_M_MC_14-12773\\\\400X\\\\SOB_M_MC-14-12773-400-009.png',\n",
       " 'BreaKHis_v1/histology_slides/breast/malignant/SOB\\\\mucinous_carcinoma\\\\SOB_M_MC_14-12773\\\\400X\\\\SOB_M_MC-14-12773-400-010.png',\n",
       " 'BreaKHis_v1/histology_slides/breast/malignant/SOB\\\\mucinous_carcinoma\\\\SOB_M_MC_14-12773\\\\400X\\\\SOB_M_MC-14-12773-400-011.png',\n",
       " 'BreaKHis_v1/histology_slides/breast/malignant/SOB\\\\mucinous_carcinoma\\\\SOB_M_MC_14-12773\\\\400X\\\\SOB_M_MC-14-12773-400-012.png',\n",
       " 'BreaKHis_v1/histology_slides/breast/malignant/SOB\\\\mucinous_carcinoma\\\\SOB_M_MC_14-12773\\\\400X\\\\SOB_M_MC-14-12773-400-013.png',\n",
       " 'BreaKHis_v1/histology_slides/breast/malignant/SOB\\\\mucinous_carcinoma\\\\SOB_M_MC_14-12773\\\\400X\\\\SOB_M_MC-14-12773-400-014.png',\n",
       " 'BreaKHis_v1/histology_slides/breast/malignant/SOB\\\\mucinous_carcinoma\\\\SOB_M_MC_14-12773\\\\400X\\\\SOB_M_MC-14-12773-400-015.png',\n",
       " 'BreaKHis_v1/histology_slides/breast/malignant/SOB\\\\mucinous_carcinoma\\\\SOB_M_MC_14-12773\\\\400X\\\\SOB_M_MC-14-12773-400-016.png',\n",
       " 'BreaKHis_v1/histology_slides/breast/malignant/SOB\\\\mucinous_carcinoma\\\\SOB_M_MC_14-12773\\\\400X\\\\SOB_M_MC-14-12773-400-017.png',\n",
       " 'BreaKHis_v1/histology_slides/breast/malignant/SOB\\\\mucinous_carcinoma\\\\SOB_M_MC_14-12773\\\\400X\\\\SOB_M_MC-14-12773-400-018.png',\n",
       " 'BreaKHis_v1/histology_slides/breast/malignant/SOB\\\\mucinous_carcinoma\\\\SOB_M_MC_14-13413\\\\400X\\\\SOB_M_MC-14-13413-400-001.png',\n",
       " 'BreaKHis_v1/histology_slides/breast/malignant/SOB\\\\mucinous_carcinoma\\\\SOB_M_MC_14-13413\\\\400X\\\\SOB_M_MC-14-13413-400-002.png',\n",
       " 'BreaKHis_v1/histology_slides/breast/malignant/SOB\\\\mucinous_carcinoma\\\\SOB_M_MC_14-13413\\\\400X\\\\SOB_M_MC-14-13413-400-003.png',\n",
       " 'BreaKHis_v1/histology_slides/breast/malignant/SOB\\\\mucinous_carcinoma\\\\SOB_M_MC_14-13413\\\\400X\\\\SOB_M_MC-14-13413-400-004.png',\n",
       " 'BreaKHis_v1/histology_slides/breast/malignant/SOB\\\\mucinous_carcinoma\\\\SOB_M_MC_14-13413\\\\400X\\\\SOB_M_MC-14-13413-400-005.png',\n",
       " 'BreaKHis_v1/histology_slides/breast/malignant/SOB\\\\mucinous_carcinoma\\\\SOB_M_MC_14-13413\\\\400X\\\\SOB_M_MC-14-13413-400-006.png',\n",
       " 'BreaKHis_v1/histology_slides/breast/malignant/SOB\\\\mucinous_carcinoma\\\\SOB_M_MC_14-13413\\\\400X\\\\SOB_M_MC-14-13413-400-007.png',\n",
       " 'BreaKHis_v1/histology_slides/breast/malignant/SOB\\\\mucinous_carcinoma\\\\SOB_M_MC_14-13413\\\\400X\\\\SOB_M_MC-14-13413-400-008.png',\n",
       " 'BreaKHis_v1/histology_slides/breast/malignant/SOB\\\\mucinous_carcinoma\\\\SOB_M_MC_14-13413\\\\400X\\\\SOB_M_MC-14-13413-400-009.png',\n",
       " 'BreaKHis_v1/histology_slides/breast/malignant/SOB\\\\mucinous_carcinoma\\\\SOB_M_MC_14-13413\\\\400X\\\\SOB_M_MC-14-13413-400-010.png',\n",
       " 'BreaKHis_v1/histology_slides/breast/malignant/SOB\\\\mucinous_carcinoma\\\\SOB_M_MC_14-13413\\\\400X\\\\SOB_M_MC-14-13413-400-011.png',\n",
       " 'BreaKHis_v1/histology_slides/breast/malignant/SOB\\\\mucinous_carcinoma\\\\SOB_M_MC_14-13413\\\\400X\\\\SOB_M_MC-14-13413-400-012.png',\n",
       " 'BreaKHis_v1/histology_slides/breast/malignant/SOB\\\\mucinous_carcinoma\\\\SOB_M_MC_14-13413\\\\400X\\\\SOB_M_MC-14-13413-400-013.png',\n",
       " 'BreaKHis_v1/histology_slides/breast/malignant/SOB\\\\mucinous_carcinoma\\\\SOB_M_MC_14-13413\\\\400X\\\\SOB_M_MC-14-13413-400-014.png',\n",
       " 'BreaKHis_v1/histology_slides/breast/malignant/SOB\\\\mucinous_carcinoma\\\\SOB_M_MC_14-13413\\\\400X\\\\SOB_M_MC-14-13413-400-015.png',\n",
       " 'BreaKHis_v1/histology_slides/breast/malignant/SOB\\\\mucinous_carcinoma\\\\SOB_M_MC_14-13413\\\\400X\\\\SOB_M_MC-14-13413-400-016.png',\n",
       " 'BreaKHis_v1/histology_slides/breast/malignant/SOB\\\\mucinous_carcinoma\\\\SOB_M_MC_14-13413\\\\400X\\\\SOB_M_MC-14-13413-400-017.png',\n",
       " 'BreaKHis_v1/histology_slides/breast/malignant/SOB\\\\mucinous_carcinoma\\\\SOB_M_MC_14-13413\\\\400X\\\\SOB_M_MC-14-13413-400-018.png',\n",
       " 'BreaKHis_v1/histology_slides/breast/malignant/SOB\\\\mucinous_carcinoma\\\\SOB_M_MC_14-13413\\\\400X\\\\SOB_M_MC-14-13413-400-019.png',\n",
       " 'BreaKHis_v1/histology_slides/breast/malignant/SOB\\\\mucinous_carcinoma\\\\SOB_M_MC_14-13413\\\\400X\\\\SOB_M_MC-14-13413-400-020.png',\n",
       " 'BreaKHis_v1/histology_slides/breast/malignant/SOB\\\\mucinous_carcinoma\\\\SOB_M_MC_14-13413\\\\400X\\\\SOB_M_MC-14-13413-400-021.png',\n",
       " 'BreaKHis_v1/histology_slides/breast/malignant/SOB\\\\mucinous_carcinoma\\\\SOB_M_MC_14-13413\\\\400X\\\\SOB_M_MC-14-13413-400-022.png',\n",
       " 'BreaKHis_v1/histology_slides/breast/malignant/SOB\\\\mucinous_carcinoma\\\\SOB_M_MC_14-13413\\\\400X\\\\SOB_M_MC-14-13413-400-023.png',\n",
       " 'BreaKHis_v1/histology_slides/breast/malignant/SOB\\\\mucinous_carcinoma\\\\SOB_M_MC_14-13413\\\\400X\\\\SOB_M_MC-14-13413-400-024.png',\n",
       " 'BreaKHis_v1/histology_slides/breast/malignant/SOB\\\\mucinous_carcinoma\\\\SOB_M_MC_14-13413\\\\400X\\\\SOB_M_MC-14-13413-400-025.png',\n",
       " 'BreaKHis_v1/histology_slides/breast/malignant/SOB\\\\mucinous_carcinoma\\\\SOB_M_MC_14-13413\\\\400X\\\\SOB_M_MC-14-13413-400-026.png',\n",
       " 'BreaKHis_v1/histology_slides/breast/malignant/SOB\\\\mucinous_carcinoma\\\\SOB_M_MC_14-13418DE\\\\400X\\\\SOB_M_MC-14-13418DE-400-001.png',\n",
       " 'BreaKHis_v1/histology_slides/breast/malignant/SOB\\\\mucinous_carcinoma\\\\SOB_M_MC_14-13418DE\\\\400X\\\\SOB_M_MC-14-13418DE-400-002.png',\n",
       " 'BreaKHis_v1/histology_slides/breast/malignant/SOB\\\\mucinous_carcinoma\\\\SOB_M_MC_14-13418DE\\\\400X\\\\SOB_M_MC-14-13418DE-400-003.png',\n",
       " 'BreaKHis_v1/histology_slides/breast/malignant/SOB\\\\mucinous_carcinoma\\\\SOB_M_MC_14-13418DE\\\\400X\\\\SOB_M_MC-14-13418DE-400-004.png',\n",
       " 'BreaKHis_v1/histology_slides/breast/malignant/SOB\\\\mucinous_carcinoma\\\\SOB_M_MC_14-13418DE\\\\400X\\\\SOB_M_MC-14-13418DE-400-005.png',\n",
       " 'BreaKHis_v1/histology_slides/breast/malignant/SOB\\\\mucinous_carcinoma\\\\SOB_M_MC_14-13418DE\\\\400X\\\\SOB_M_MC-14-13418DE-400-006.png',\n",
       " 'BreaKHis_v1/histology_slides/breast/malignant/SOB\\\\mucinous_carcinoma\\\\SOB_M_MC_14-13418DE\\\\400X\\\\SOB_M_MC-14-13418DE-400-007.png',\n",
       " 'BreaKHis_v1/histology_slides/breast/malignant/SOB\\\\mucinous_carcinoma\\\\SOB_M_MC_14-13418DE\\\\400X\\\\SOB_M_MC-14-13418DE-400-008.png',\n",
       " 'BreaKHis_v1/histology_slides/breast/malignant/SOB\\\\mucinous_carcinoma\\\\SOB_M_MC_14-13418DE\\\\400X\\\\SOB_M_MC-14-13418DE-400-009.png',\n",
       " 'BreaKHis_v1/histology_slides/breast/malignant/SOB\\\\mucinous_carcinoma\\\\SOB_M_MC_14-13418DE\\\\400X\\\\SOB_M_MC-14-13418DE-400-010.png',\n",
       " 'BreaKHis_v1/histology_slides/breast/malignant/SOB\\\\mucinous_carcinoma\\\\SOB_M_MC_14-13418DE\\\\400X\\\\SOB_M_MC-14-13418DE-400-011.png',\n",
       " 'BreaKHis_v1/histology_slides/breast/malignant/SOB\\\\mucinous_carcinoma\\\\SOB_M_MC_14-16456\\\\400X\\\\SOB_M_MC-14-16456-400-001.png',\n",
       " 'BreaKHis_v1/histology_slides/breast/malignant/SOB\\\\mucinous_carcinoma\\\\SOB_M_MC_14-16456\\\\400X\\\\SOB_M_MC-14-16456-400-002.png',\n",
       " 'BreaKHis_v1/histology_slides/breast/malignant/SOB\\\\mucinous_carcinoma\\\\SOB_M_MC_14-16456\\\\400X\\\\SOB_M_MC-14-16456-400-003.png',\n",
       " 'BreaKHis_v1/histology_slides/breast/malignant/SOB\\\\mucinous_carcinoma\\\\SOB_M_MC_14-16456\\\\400X\\\\SOB_M_MC-14-16456-400-004.png',\n",
       " 'BreaKHis_v1/histology_slides/breast/malignant/SOB\\\\mucinous_carcinoma\\\\SOB_M_MC_14-16456\\\\400X\\\\SOB_M_MC-14-16456-400-005.png',\n",
       " ...]"
      ]
     },
     "execution_count": 16,
     "metadata": {},
     "output_type": "execute_result"
    }
   ],
   "source": [
    "glob(f\"BreaKHis_v1/histology_slides/breast/malignant/SOB/*/*/400X/*\")"
   ]
  },
  {
   "cell_type": "code",
   "execution_count": 17,
   "id": "b6b9902c",
   "metadata": {},
   "outputs": [
    {
     "name": "stdout",
     "output_type": "stream",
     "text": [
      "1232\n"
     ]
    }
   ],
   "source": [
    "sums = 0\n",
    "for i in patients_malignant_paths_by_id_x400:\n",
    "    sums+=len(patients_malignant_paths_by_id_x400[i])\n",
    "print(sums)"
   ]
  },
  {
   "cell_type": "code",
   "execution_count": 18,
   "id": "c9918b95",
   "metadata": {},
   "outputs": [
    {
     "name": "stdout",
     "output_type": "stream",
     "text": [
      "15\n"
     ]
    }
   ],
   "source": [
    "print(len(patients_malignant_paths_by_id_x400[\"SOB_M_MC_14-19979C\"]))"
   ]
  },
  {
   "cell_type": "code",
   "execution_count": 19,
   "id": "c4d64e33",
   "metadata": {},
   "outputs": [],
   "source": [
    "m=40\n",
    "exec(f\"\"\"patients_paths_by_id_x{m} = dict()\\n\n",
    "patients_paths_by_id_x{m}.update(patients_malignant_paths_by_id_x{m})\\n\n",
    "patients_paths_by_id_x{m}.update(patients_benign_paths_by_id_x{m})\\n\"\"\")"
   ]
  },
  {
   "cell_type": "code",
   "execution_count": 21,
   "id": "b84d6a58",
   "metadata": {},
   "outputs": [],
   "source": [
    "for m in [40,100,200,400]:\n",
    "    exec(f\"patients_paths_by_id_x{m} = dict()\", globals())\n",
    "    exec(f\"patients_paths_by_id_x{m}.update(patients_malignant_paths_by_id_x{m})\", globals())\n",
    "    exec(f\"patients_paths_by_id_x{m}.update(patients_benign_paths_by_id_x{m})\", globals())\n"
   ]
  },
  {
   "cell_type": "code",
   "execution_count": 22,
   "id": "43a444c5",
   "metadata": {},
   "outputs": [],
   "source": [
    "def accuracy_by_patient_id(model, patient_id, magnification_factor, verbose=0):\n",
    "    exec(f\"paths = patients_paths_by_id_x{magnification_factor}['{patient_id}']\", globals())\n",
    "    dataset = imagesTestXNN(paths)\n",
    "    dataloader = DataLoader(dataset, batch_size=16, shuffle=True, drop_last = False, num_workers = 0)\n",
    "    model = model.to(device)\n",
    "    model.eval()\n",
    "    correct_count = 0\n",
    "    correctly_predicted = False\n",
    "    accuracy=0\n",
    "    with torch.no_grad():\n",
    "        for x_batch, y_batch in dataloader:\n",
    "            x_batch = x_batch.to(device) \n",
    "            y_batch = y_batch.to(device).squeeze()\n",
    "            pred = model(x_batch)\n",
    "            is_correct = (torch.argmax(pred, dim=1) == y_batch).float() \n",
    "            accuracy +=  is_correct.sum().cpu()\n",
    "    accuracy /= len(dataloader.dataset)\n",
    "    if verbose>0:\n",
    "        print(\"patient_id:\",patient_id)\n",
    "        print(\"Accuracy:\", accuracy.cpu().item())\n",
    "        print()\n",
    "    if accuracy>0.5:\n",
    "        correctly_predicted = True\n",
    "    return accuracy, correctly_predicted\n",
    "    \n",
    "    "
   ]
  },
  {
   "cell_type": "code",
   "execution_count": 23,
   "id": "de1fbe30",
   "metadata": {},
   "outputs": [],
   "source": [
    "def patientwise_accuracy(model,patient_ids, magnification, verbose=0):\n",
    "    accuracy = 0\n",
    "    for patient_id in patient_ids:\n",
    "        accuracy+=accuracy_by_patient_id(model,patient_id, magnification, verbose)[0]\n",
    "    return accuracy/len(patient_ids)"
   ]
  },
  {
   "cell_type": "code",
   "execution_count": 471,
   "id": "ef3a38b5",
   "metadata": {},
   "outputs": [
    {
     "name": "stdout",
     "output_type": "stream",
     "text": [
      "patient_id: SOB_M_DC_14-10926\n",
      "Accuracy: 1.0\n",
      "\n",
      "patient_id: SOB_M_DC_14-11031\n",
      "Accuracy: 1.0\n",
      "\n",
      "patient_id: SOB_M_DC_14-11520\n",
      "Accuracy: 1.0\n",
      "\n",
      "patient_id: SOB_M_DC_14-11951\n",
      "Accuracy: 1.0\n",
      "\n",
      "patient_id: SOB_M_DC_14-12312\n",
      "Accuracy: 1.0\n",
      "\n",
      "patient_id: SOB_M_DC_14-13412\n",
      "Accuracy: 1.0\n",
      "\n",
      "patient_id: SOB_M_DC_14-13993\n",
      "Accuracy: 1.0\n",
      "\n",
      "patient_id: SOB_M_DC_14-14015\n",
      "Accuracy: 1.0\n",
      "\n",
      "patient_id: SOB_M_DC_14-14926\n",
      "Accuracy: 0.949999988079071\n",
      "\n",
      "patient_id: SOB_M_DC_14-14946\n",
      "Accuracy: 0.9354838728904724\n",
      "\n",
      "patient_id: SOB_M_DC_14-15572\n",
      "Accuracy: 1.0\n",
      "\n",
      "patient_id: SOB_M_DC_14-15696\n",
      "Accuracy: 1.0\n",
      "\n",
      "patient_id: SOB_M_DC_14-15792\n",
      "Accuracy: 1.0\n",
      "\n",
      "patient_id: SOB_M_DC_14-16188\n",
      "Accuracy: 1.0\n",
      "\n",
      "patient_id: SOB_M_DC_14-16336\n",
      "Accuracy: 1.0\n",
      "\n",
      "patient_id: SOB_M_DC_14-16448\n",
      "Accuracy: 0.9090909361839294\n",
      "\n",
      "patient_id: SOB_M_DC_14-16601\n",
      "Accuracy: 1.0\n",
      "\n",
      "patient_id: SOB_M_DC_14-16716\n",
      "Accuracy: 1.0\n",
      "\n",
      "patient_id: SOB_M_DC_14-16875\n",
      "Accuracy: 1.0\n",
      "\n",
      "patient_id: SOB_M_DC_14-17614\n",
      "Accuracy: 1.0\n",
      "\n",
      "patient_id: SOB_M_DC_14-17901\n",
      "Accuracy: 1.0\n",
      "\n",
      "patient_id: SOB_M_DC_14-17915\n",
      "Accuracy: 1.0\n",
      "\n",
      "patient_id: SOB_M_DC_14-18650\n",
      "Accuracy: 1.0\n",
      "\n",
      "patient_id: SOB_M_DC_14-20629\n",
      "Accuracy: 1.0\n",
      "\n",
      "patient_id: SOB_M_DC_14-20636\n",
      "Accuracy: 1.0\n",
      "\n",
      "patient_id: SOB_M_DC_14-2523\n",
      "Accuracy: 1.0\n",
      "\n",
      "patient_id: SOB_M_DC_14-2773\n",
      "Accuracy: 0.8333333134651184\n",
      "\n",
      "patient_id: SOB_M_DC_14-2980\n",
      "Accuracy: 1.0\n",
      "\n",
      "patient_id: SOB_M_DC_14-2985\n",
      "Accuracy: 0.800000011920929\n",
      "\n",
      "patient_id: SOB_M_DC_14-3909\n",
      "Accuracy: 0.9615384340286255\n",
      "\n",
      "patient_id: SOB_M_DC_14-4364\n",
      "Accuracy: 1.0\n",
      "\n",
      "patient_id: SOB_M_DC_14-4372\n",
      "Accuracy: 1.0\n",
      "\n",
      "patient_id: SOB_M_DC_14-5287\n",
      "Accuracy: 1.0\n",
      "\n",
      "patient_id: SOB_M_DC_14-5694\n",
      "Accuracy: 1.0\n",
      "\n",
      "patient_id: SOB_M_DC_14-5695\n",
      "Accuracy: 1.0\n",
      "\n",
      "patient_id: SOB_M_DC_14-6241\n",
      "Accuracy: 1.0\n",
      "\n",
      "patient_id: SOB_M_DC_14-8168\n",
      "Accuracy: 1.0\n",
      "\n",
      "patient_id: SOB_M_DC_14-9461\n",
      "Accuracy: 0.9615384340286255\n",
      "\n",
      "patient_id: SOB_M_LC_14-12204\n",
      "Accuracy: 1.0\n",
      "\n",
      "patient_id: SOB_M_LC_14-13412\n",
      "Accuracy: 1.0\n",
      "\n",
      "patient_id: SOB_M_LC_14-15570\n",
      "Accuracy: 0.8235294222831726\n",
      "\n",
      "patient_id: SOB_M_LC_14-15570C\n",
      "Accuracy: 1.0\n",
      "\n",
      "patient_id: SOB_M_LC_14-16196\n",
      "Accuracy: 1.0\n",
      "\n",
      "patient_id: SOB_M_MC_14-10147\n",
      "Accuracy: 0.8666666746139526\n",
      "\n",
      "patient_id: SOB_M_MC_14-12773\n",
      "Accuracy: 0.8846153616905212\n",
      "\n",
      "patient_id: SOB_M_MC_14-13413\n",
      "Accuracy: 1.0\n",
      "\n",
      "patient_id: SOB_M_MC_14-13418DE\n",
      "Accuracy: 1.0\n",
      "\n",
      "patient_id: SOB_M_MC_14-16456\n",
      "Accuracy: 0.97826087474823\n",
      "\n",
      "patient_id: SOB_M_MC_14-18842\n",
      "Accuracy: 1.0\n",
      "\n",
      "patient_id: SOB_M_MC_14-18842D\n",
      "Accuracy: 0.875\n",
      "\n",
      "patient_id: SOB_M_MC_14-19979\n",
      "Accuracy: 0.8461538553237915\n",
      "\n",
      "patient_id: SOB_M_MC_14-19979C\n",
      "Accuracy: 0.6470588445663452\n",
      "\n",
      "patient_id: SOB_M_PC_14-12465\n",
      "Accuracy: 0.9523809552192688\n",
      "\n",
      "patient_id: SOB_M_PC_14-15687B\n",
      "Accuracy: 0.05882352963089943\n",
      "\n",
      "patient_id: SOB_M_PC_14-15704\n",
      "Accuracy: 0.800000011920929\n",
      "\n",
      "patient_id: SOB_M_PC_14-19440\n",
      "Accuracy: 0.9714285731315613\n",
      "\n",
      "patient_id: SOB_M_PC_14-9146\n",
      "Accuracy: 1.0\n",
      "\n",
      "patient_id: SOB_M_PC_15-190EF\n",
      "Accuracy: 1.0\n",
      "\n",
      "patient_id: SOB_B_A_14-22549AB\n",
      "Accuracy: 1.0\n",
      "\n",
      "patient_id: SOB_B_A_14-22549CD\n",
      "Accuracy: 1.0\n",
      "\n",
      "patient_id: SOB_B_A_14-22549G\n",
      "Accuracy: 1.0\n",
      "\n",
      "patient_id: SOB_B_A_14-29960CD\n",
      "Accuracy: 1.0\n",
      "\n",
      "patient_id: SOB_B_F_14-14134\n",
      "Accuracy: 1.0\n",
      "\n",
      "patient_id: SOB_B_F_14-14134E\n",
      "Accuracy: 1.0\n",
      "\n",
      "patient_id: SOB_B_F_14-21998CD\n",
      "Accuracy: 1.0\n",
      "\n",
      "patient_id: SOB_B_F_14-21998EF\n",
      "Accuracy: 0.9677419066429138\n",
      "\n",
      "patient_id: SOB_B_F_14-23060AB\n",
      "Accuracy: 1.0\n",
      "\n",
      "patient_id: SOB_B_F_14-23060CD\n",
      "Accuracy: 1.0\n",
      "\n",
      "patient_id: SOB_B_F_14-23222AB\n",
      "Accuracy: 1.0\n",
      "\n",
      "patient_id: SOB_B_F_14-25197\n",
      "Accuracy: 1.0\n",
      "\n",
      "patient_id: SOB_B_F_14-29960AB\n",
      "Accuracy: 1.0\n",
      "\n",
      "patient_id: SOB_B_F_14-9133\n",
      "Accuracy: 1.0\n",
      "\n",
      "patient_id: SOB_B_PT_14-21998AB\n",
      "Accuracy: 1.0\n",
      "\n",
      "patient_id: SOB_B_PT_14-22704\n",
      "Accuracy: 1.0\n",
      "\n",
      "patient_id: SOB_B_PT_14-29315EF\n",
      "Accuracy: 1.0\n",
      "\n",
      "patient_id: SOB_B_TA_14-13200\n",
      "Accuracy: 1.0\n",
      "\n",
      "patient_id: SOB_B_TA_14-15275\n",
      "Accuracy: 1.0\n",
      "\n",
      "patient_id: SOB_B_TA_14-16184\n",
      "Accuracy: 1.0\n",
      "\n",
      "patient_id: SOB_B_TA_14-16184CD\n",
      "Accuracy: 0.8857142925262451\n",
      "\n",
      "patient_id: SOB_B_TA_14-19854C\n",
      "Accuracy: 0.1875\n",
      "\n",
      "patient_id: SOB_B_TA_14-21978AB\n",
      "Accuracy: 0.875\n",
      "\n",
      "patient_id: SOB_B_TA_14-3411F\n",
      "Accuracy: 1.0\n",
      "\n"
     ]
    },
    {
     "data": {
      "text/plain": [
       "tensor(0.9509)"
      ]
     },
     "execution_count": 471,
     "metadata": {},
     "output_type": "execute_result"
    }
   ],
   "source": [
    "patientwise_accuracy(model,patients_paths_by_id_x40.keys(),40, 1)"
   ]
  },
  {
   "cell_type": "markdown",
   "id": "3e3c9465",
   "metadata": {},
   "source": [
    "### Medium sized pretrained EffNetV2 with scheduler"
   ]
  },
  {
   "cell_type": "code",
   "execution_count": 37,
   "id": "eba918ab",
   "metadata": {},
   "outputs": [],
   "source": [
    "model_m = torchvision.models.efficientnet_v2_m(weights=torchvision.models.EfficientNet_V2_M_Weights.DEFAULT)\n",
    "#model = torchvision.models.efficientnet_v2_s()\n",
    "modelname=\"efficientnet_v2_m\"\n",
    "for param in model_m.features.parameters():\n",
    "    param.requires_grad = True"
   ]
  },
  {
   "cell_type": "code",
   "execution_count": 38,
   "id": "9060db07",
   "metadata": {},
   "outputs": [],
   "source": [
    "model_m.classifier = nn.Sequential( nn.Linear(1280, 512),nn.Dropout(0.3, inplace=True),nn.ReLU(), nn.Linear(512, 2))"
   ]
  },
  {
   "cell_type": "code",
   "execution_count": 39,
   "id": "bb0548d1",
   "metadata": {},
   "outputs": [],
   "source": [
    "loss_fn = nn.CrossEntropyLoss()\n",
    "optimizer = torch.optim.Adam(model_m.parameters(), lr= 1e-4)\n",
    "scheduler = torch.optim.lr_scheduler.MultiStepLR(optimizer, milestones=[10,20,40,60], gamma=0.3)"
   ]
  },
  {
   "cell_type": "code",
   "execution_count": 40,
   "id": "1c291aa5",
   "metadata": {},
   "outputs": [],
   "source": [
    "model_m = model_m.to(device)"
   ]
  },
  {
   "cell_type": "code",
   "execution_count": 41,
   "id": "c654564a",
   "metadata": {},
   "outputs": [
    {
     "name": "stdout",
     "output_type": "stream",
     "text": [
      "----------------------------------------------------------------\n",
      "        Layer (type)               Output Shape         Param #\n",
      "================================================================\n",
      "            Conv2d-1         [-1, 24, 230, 230]             648\n",
      "       BatchNorm2d-2         [-1, 24, 230, 230]              48\n",
      "              SiLU-3         [-1, 24, 230, 230]               0\n",
      "            Conv2d-4         [-1, 24, 230, 230]           5,184\n",
      "       BatchNorm2d-5         [-1, 24, 230, 230]              48\n",
      "              SiLU-6         [-1, 24, 230, 230]               0\n",
      "   StochasticDepth-7         [-1, 24, 230, 230]               0\n",
      "       FusedMBConv-8         [-1, 24, 230, 230]               0\n",
      "            Conv2d-9         [-1, 24, 230, 230]           5,184\n",
      "      BatchNorm2d-10         [-1, 24, 230, 230]              48\n",
      "             SiLU-11         [-1, 24, 230, 230]               0\n",
      "  StochasticDepth-12         [-1, 24, 230, 230]               0\n",
      "      FusedMBConv-13         [-1, 24, 230, 230]               0\n",
      "           Conv2d-14         [-1, 24, 230, 230]           5,184\n",
      "      BatchNorm2d-15         [-1, 24, 230, 230]              48\n",
      "             SiLU-16         [-1, 24, 230, 230]               0\n",
      "  StochasticDepth-17         [-1, 24, 230, 230]               0\n",
      "      FusedMBConv-18         [-1, 24, 230, 230]               0\n",
      "           Conv2d-19         [-1, 96, 115, 115]          20,736\n",
      "      BatchNorm2d-20         [-1, 96, 115, 115]             192\n",
      "             SiLU-21         [-1, 96, 115, 115]               0\n",
      "           Conv2d-22         [-1, 48, 115, 115]           4,608\n",
      "      BatchNorm2d-23         [-1, 48, 115, 115]              96\n",
      "      FusedMBConv-24         [-1, 48, 115, 115]               0\n",
      "           Conv2d-25        [-1, 192, 115, 115]          82,944\n",
      "      BatchNorm2d-26        [-1, 192, 115, 115]             384\n",
      "             SiLU-27        [-1, 192, 115, 115]               0\n",
      "           Conv2d-28         [-1, 48, 115, 115]           9,216\n",
      "      BatchNorm2d-29         [-1, 48, 115, 115]              96\n",
      "  StochasticDepth-30         [-1, 48, 115, 115]               0\n",
      "      FusedMBConv-31         [-1, 48, 115, 115]               0\n",
      "           Conv2d-32        [-1, 192, 115, 115]          82,944\n",
      "      BatchNorm2d-33        [-1, 192, 115, 115]             384\n",
      "             SiLU-34        [-1, 192, 115, 115]               0\n",
      "           Conv2d-35         [-1, 48, 115, 115]           9,216\n",
      "      BatchNorm2d-36         [-1, 48, 115, 115]              96\n",
      "  StochasticDepth-37         [-1, 48, 115, 115]               0\n",
      "      FusedMBConv-38         [-1, 48, 115, 115]               0\n",
      "           Conv2d-39        [-1, 192, 115, 115]          82,944\n",
      "      BatchNorm2d-40        [-1, 192, 115, 115]             384\n",
      "             SiLU-41        [-1, 192, 115, 115]               0\n",
      "           Conv2d-42         [-1, 48, 115, 115]           9,216\n",
      "      BatchNorm2d-43         [-1, 48, 115, 115]              96\n",
      "  StochasticDepth-44         [-1, 48, 115, 115]               0\n",
      "      FusedMBConv-45         [-1, 48, 115, 115]               0\n",
      "           Conv2d-46        [-1, 192, 115, 115]          82,944\n",
      "      BatchNorm2d-47        [-1, 192, 115, 115]             384\n",
      "             SiLU-48        [-1, 192, 115, 115]               0\n",
      "           Conv2d-49         [-1, 48, 115, 115]           9,216\n",
      "      BatchNorm2d-50         [-1, 48, 115, 115]              96\n",
      "  StochasticDepth-51         [-1, 48, 115, 115]               0\n",
      "      FusedMBConv-52         [-1, 48, 115, 115]               0\n",
      "           Conv2d-53          [-1, 192, 58, 58]          82,944\n",
      "      BatchNorm2d-54          [-1, 192, 58, 58]             384\n",
      "             SiLU-55          [-1, 192, 58, 58]               0\n",
      "           Conv2d-56           [-1, 80, 58, 58]          15,360\n",
      "      BatchNorm2d-57           [-1, 80, 58, 58]             160\n",
      "      FusedMBConv-58           [-1, 80, 58, 58]               0\n",
      "           Conv2d-59          [-1, 320, 58, 58]         230,400\n",
      "      BatchNorm2d-60          [-1, 320, 58, 58]             640\n",
      "             SiLU-61          [-1, 320, 58, 58]               0\n",
      "           Conv2d-62           [-1, 80, 58, 58]          25,600\n",
      "      BatchNorm2d-63           [-1, 80, 58, 58]             160\n",
      "  StochasticDepth-64           [-1, 80, 58, 58]               0\n",
      "      FusedMBConv-65           [-1, 80, 58, 58]               0\n",
      "           Conv2d-66          [-1, 320, 58, 58]         230,400\n",
      "      BatchNorm2d-67          [-1, 320, 58, 58]             640\n",
      "             SiLU-68          [-1, 320, 58, 58]               0\n",
      "           Conv2d-69           [-1, 80, 58, 58]          25,600\n",
      "      BatchNorm2d-70           [-1, 80, 58, 58]             160\n",
      "  StochasticDepth-71           [-1, 80, 58, 58]               0\n",
      "      FusedMBConv-72           [-1, 80, 58, 58]               0\n",
      "           Conv2d-73          [-1, 320, 58, 58]         230,400\n",
      "      BatchNorm2d-74          [-1, 320, 58, 58]             640\n",
      "             SiLU-75          [-1, 320, 58, 58]               0\n",
      "           Conv2d-76           [-1, 80, 58, 58]          25,600\n",
      "      BatchNorm2d-77           [-1, 80, 58, 58]             160\n",
      "  StochasticDepth-78           [-1, 80, 58, 58]               0\n",
      "      FusedMBConv-79           [-1, 80, 58, 58]               0\n",
      "           Conv2d-80          [-1, 320, 58, 58]         230,400\n",
      "      BatchNorm2d-81          [-1, 320, 58, 58]             640\n",
      "             SiLU-82          [-1, 320, 58, 58]               0\n",
      "           Conv2d-83           [-1, 80, 58, 58]          25,600\n",
      "      BatchNorm2d-84           [-1, 80, 58, 58]             160\n",
      "  StochasticDepth-85           [-1, 80, 58, 58]               0\n",
      "      FusedMBConv-86           [-1, 80, 58, 58]               0\n",
      "           Conv2d-87          [-1, 320, 58, 58]          25,600\n",
      "      BatchNorm2d-88          [-1, 320, 58, 58]             640\n",
      "             SiLU-89          [-1, 320, 58, 58]               0\n",
      "           Conv2d-90          [-1, 320, 29, 29]           2,880\n",
      "      BatchNorm2d-91          [-1, 320, 29, 29]             640\n",
      "             SiLU-92          [-1, 320, 29, 29]               0\n",
      "AdaptiveAvgPool2d-93            [-1, 320, 1, 1]               0\n",
      "           Conv2d-94             [-1, 20, 1, 1]           6,420\n",
      "             SiLU-95             [-1, 20, 1, 1]               0\n",
      "           Conv2d-96            [-1, 320, 1, 1]           6,720\n",
      "          Sigmoid-97            [-1, 320, 1, 1]               0\n",
      "SqueezeExcitation-98          [-1, 320, 29, 29]               0\n",
      "           Conv2d-99          [-1, 160, 29, 29]          51,200\n",
      "     BatchNorm2d-100          [-1, 160, 29, 29]             320\n",
      "          MBConv-101          [-1, 160, 29, 29]               0\n",
      "          Conv2d-102          [-1, 640, 29, 29]         102,400\n",
      "     BatchNorm2d-103          [-1, 640, 29, 29]           1,280\n",
      "            SiLU-104          [-1, 640, 29, 29]               0\n",
      "          Conv2d-105          [-1, 640, 29, 29]           5,760\n",
      "     BatchNorm2d-106          [-1, 640, 29, 29]           1,280\n",
      "            SiLU-107          [-1, 640, 29, 29]               0\n",
      "AdaptiveAvgPool2d-108            [-1, 640, 1, 1]               0\n",
      "          Conv2d-109             [-1, 40, 1, 1]          25,640\n",
      "            SiLU-110             [-1, 40, 1, 1]               0\n",
      "          Conv2d-111            [-1, 640, 1, 1]          26,240\n",
      "         Sigmoid-112            [-1, 640, 1, 1]               0\n",
      "SqueezeExcitation-113          [-1, 640, 29, 29]               0\n",
      "          Conv2d-114          [-1, 160, 29, 29]         102,400\n",
      "     BatchNorm2d-115          [-1, 160, 29, 29]             320\n",
      " StochasticDepth-116          [-1, 160, 29, 29]               0\n",
      "          MBConv-117          [-1, 160, 29, 29]               0\n",
      "          Conv2d-118          [-1, 640, 29, 29]         102,400\n",
      "     BatchNorm2d-119          [-1, 640, 29, 29]           1,280\n",
      "            SiLU-120          [-1, 640, 29, 29]               0\n",
      "          Conv2d-121          [-1, 640, 29, 29]           5,760\n",
      "     BatchNorm2d-122          [-1, 640, 29, 29]           1,280\n",
      "            SiLU-123          [-1, 640, 29, 29]               0\n",
      "AdaptiveAvgPool2d-124            [-1, 640, 1, 1]               0\n",
      "          Conv2d-125             [-1, 40, 1, 1]          25,640\n",
      "            SiLU-126             [-1, 40, 1, 1]               0\n",
      "          Conv2d-127            [-1, 640, 1, 1]          26,240\n",
      "         Sigmoid-128            [-1, 640, 1, 1]               0\n",
      "SqueezeExcitation-129          [-1, 640, 29, 29]               0\n",
      "          Conv2d-130          [-1, 160, 29, 29]         102,400\n",
      "     BatchNorm2d-131          [-1, 160, 29, 29]             320\n",
      " StochasticDepth-132          [-1, 160, 29, 29]               0\n",
      "          MBConv-133          [-1, 160, 29, 29]               0\n",
      "          Conv2d-134          [-1, 640, 29, 29]         102,400\n",
      "     BatchNorm2d-135          [-1, 640, 29, 29]           1,280\n",
      "            SiLU-136          [-1, 640, 29, 29]               0\n",
      "          Conv2d-137          [-1, 640, 29, 29]           5,760\n",
      "     BatchNorm2d-138          [-1, 640, 29, 29]           1,280\n",
      "            SiLU-139          [-1, 640, 29, 29]               0\n",
      "AdaptiveAvgPool2d-140            [-1, 640, 1, 1]               0\n",
      "          Conv2d-141             [-1, 40, 1, 1]          25,640\n",
      "            SiLU-142             [-1, 40, 1, 1]               0\n",
      "          Conv2d-143            [-1, 640, 1, 1]          26,240\n",
      "         Sigmoid-144            [-1, 640, 1, 1]               0\n",
      "SqueezeExcitation-145          [-1, 640, 29, 29]               0\n",
      "          Conv2d-146          [-1, 160, 29, 29]         102,400\n",
      "     BatchNorm2d-147          [-1, 160, 29, 29]             320\n",
      " StochasticDepth-148          [-1, 160, 29, 29]               0\n",
      "          MBConv-149          [-1, 160, 29, 29]               0\n",
      "          Conv2d-150          [-1, 640, 29, 29]         102,400\n",
      "     BatchNorm2d-151          [-1, 640, 29, 29]           1,280\n",
      "            SiLU-152          [-1, 640, 29, 29]               0\n",
      "          Conv2d-153          [-1, 640, 29, 29]           5,760\n",
      "     BatchNorm2d-154          [-1, 640, 29, 29]           1,280\n",
      "            SiLU-155          [-1, 640, 29, 29]               0\n",
      "AdaptiveAvgPool2d-156            [-1, 640, 1, 1]               0\n",
      "          Conv2d-157             [-1, 40, 1, 1]          25,640\n",
      "            SiLU-158             [-1, 40, 1, 1]               0\n",
      "          Conv2d-159            [-1, 640, 1, 1]          26,240\n",
      "         Sigmoid-160            [-1, 640, 1, 1]               0\n",
      "SqueezeExcitation-161          [-1, 640, 29, 29]               0\n",
      "          Conv2d-162          [-1, 160, 29, 29]         102,400\n",
      "     BatchNorm2d-163          [-1, 160, 29, 29]             320\n",
      " StochasticDepth-164          [-1, 160, 29, 29]               0\n",
      "          MBConv-165          [-1, 160, 29, 29]               0\n",
      "          Conv2d-166          [-1, 640, 29, 29]         102,400\n",
      "     BatchNorm2d-167          [-1, 640, 29, 29]           1,280\n",
      "            SiLU-168          [-1, 640, 29, 29]               0\n",
      "          Conv2d-169          [-1, 640, 29, 29]           5,760\n",
      "     BatchNorm2d-170          [-1, 640, 29, 29]           1,280\n",
      "            SiLU-171          [-1, 640, 29, 29]               0\n",
      "AdaptiveAvgPool2d-172            [-1, 640, 1, 1]               0\n",
      "          Conv2d-173             [-1, 40, 1, 1]          25,640\n",
      "            SiLU-174             [-1, 40, 1, 1]               0\n",
      "          Conv2d-175            [-1, 640, 1, 1]          26,240\n",
      "         Sigmoid-176            [-1, 640, 1, 1]               0\n",
      "SqueezeExcitation-177          [-1, 640, 29, 29]               0\n",
      "          Conv2d-178          [-1, 160, 29, 29]         102,400\n",
      "     BatchNorm2d-179          [-1, 160, 29, 29]             320\n",
      " StochasticDepth-180          [-1, 160, 29, 29]               0\n",
      "          MBConv-181          [-1, 160, 29, 29]               0\n",
      "          Conv2d-182          [-1, 640, 29, 29]         102,400\n",
      "     BatchNorm2d-183          [-1, 640, 29, 29]           1,280\n",
      "            SiLU-184          [-1, 640, 29, 29]               0\n",
      "          Conv2d-185          [-1, 640, 29, 29]           5,760\n",
      "     BatchNorm2d-186          [-1, 640, 29, 29]           1,280\n",
      "            SiLU-187          [-1, 640, 29, 29]               0\n",
      "AdaptiveAvgPool2d-188            [-1, 640, 1, 1]               0\n",
      "          Conv2d-189             [-1, 40, 1, 1]          25,640\n",
      "            SiLU-190             [-1, 40, 1, 1]               0\n",
      "          Conv2d-191            [-1, 640, 1, 1]          26,240\n",
      "         Sigmoid-192            [-1, 640, 1, 1]               0\n",
      "SqueezeExcitation-193          [-1, 640, 29, 29]               0\n",
      "          Conv2d-194          [-1, 160, 29, 29]         102,400\n",
      "     BatchNorm2d-195          [-1, 160, 29, 29]             320\n",
      " StochasticDepth-196          [-1, 160, 29, 29]               0\n",
      "          MBConv-197          [-1, 160, 29, 29]               0\n",
      "          Conv2d-198          [-1, 960, 29, 29]         153,600\n",
      "     BatchNorm2d-199          [-1, 960, 29, 29]           1,920\n",
      "            SiLU-200          [-1, 960, 29, 29]               0\n",
      "          Conv2d-201          [-1, 960, 29, 29]           8,640\n",
      "     BatchNorm2d-202          [-1, 960, 29, 29]           1,920\n",
      "            SiLU-203          [-1, 960, 29, 29]               0\n",
      "AdaptiveAvgPool2d-204            [-1, 960, 1, 1]               0\n",
      "          Conv2d-205             [-1, 40, 1, 1]          38,440\n",
      "            SiLU-206             [-1, 40, 1, 1]               0\n",
      "          Conv2d-207            [-1, 960, 1, 1]          39,360\n",
      "         Sigmoid-208            [-1, 960, 1, 1]               0\n",
      "SqueezeExcitation-209          [-1, 960, 29, 29]               0\n",
      "          Conv2d-210          [-1, 176, 29, 29]         168,960\n",
      "     BatchNorm2d-211          [-1, 176, 29, 29]             352\n",
      "          MBConv-212          [-1, 176, 29, 29]               0\n",
      "          Conv2d-213         [-1, 1056, 29, 29]         185,856\n",
      "     BatchNorm2d-214         [-1, 1056, 29, 29]           2,112\n",
      "            SiLU-215         [-1, 1056, 29, 29]               0\n",
      "          Conv2d-216         [-1, 1056, 29, 29]           9,504\n",
      "     BatchNorm2d-217         [-1, 1056, 29, 29]           2,112\n",
      "            SiLU-218         [-1, 1056, 29, 29]               0\n",
      "AdaptiveAvgPool2d-219           [-1, 1056, 1, 1]               0\n",
      "          Conv2d-220             [-1, 44, 1, 1]          46,508\n",
      "            SiLU-221             [-1, 44, 1, 1]               0\n",
      "          Conv2d-222           [-1, 1056, 1, 1]          47,520\n",
      "         Sigmoid-223           [-1, 1056, 1, 1]               0\n",
      "SqueezeExcitation-224         [-1, 1056, 29, 29]               0\n",
      "          Conv2d-225          [-1, 176, 29, 29]         185,856\n",
      "     BatchNorm2d-226          [-1, 176, 29, 29]             352\n",
      " StochasticDepth-227          [-1, 176, 29, 29]               0\n",
      "          MBConv-228          [-1, 176, 29, 29]               0\n",
      "          Conv2d-229         [-1, 1056, 29, 29]         185,856\n",
      "     BatchNorm2d-230         [-1, 1056, 29, 29]           2,112\n",
      "            SiLU-231         [-1, 1056, 29, 29]               0\n",
      "          Conv2d-232         [-1, 1056, 29, 29]           9,504\n",
      "     BatchNorm2d-233         [-1, 1056, 29, 29]           2,112\n",
      "            SiLU-234         [-1, 1056, 29, 29]               0\n",
      "AdaptiveAvgPool2d-235           [-1, 1056, 1, 1]               0\n",
      "          Conv2d-236             [-1, 44, 1, 1]          46,508\n",
      "            SiLU-237             [-1, 44, 1, 1]               0\n",
      "          Conv2d-238           [-1, 1056, 1, 1]          47,520\n",
      "         Sigmoid-239           [-1, 1056, 1, 1]               0\n",
      "SqueezeExcitation-240         [-1, 1056, 29, 29]               0\n",
      "          Conv2d-241          [-1, 176, 29, 29]         185,856\n",
      "     BatchNorm2d-242          [-1, 176, 29, 29]             352\n",
      " StochasticDepth-243          [-1, 176, 29, 29]               0\n",
      "          MBConv-244          [-1, 176, 29, 29]               0\n",
      "          Conv2d-245         [-1, 1056, 29, 29]         185,856\n",
      "     BatchNorm2d-246         [-1, 1056, 29, 29]           2,112\n",
      "            SiLU-247         [-1, 1056, 29, 29]               0\n",
      "          Conv2d-248         [-1, 1056, 29, 29]           9,504\n",
      "     BatchNorm2d-249         [-1, 1056, 29, 29]           2,112\n",
      "            SiLU-250         [-1, 1056, 29, 29]               0\n",
      "AdaptiveAvgPool2d-251           [-1, 1056, 1, 1]               0\n",
      "          Conv2d-252             [-1, 44, 1, 1]          46,508\n",
      "            SiLU-253             [-1, 44, 1, 1]               0\n",
      "          Conv2d-254           [-1, 1056, 1, 1]          47,520\n",
      "         Sigmoid-255           [-1, 1056, 1, 1]               0\n",
      "SqueezeExcitation-256         [-1, 1056, 29, 29]               0\n",
      "          Conv2d-257          [-1, 176, 29, 29]         185,856\n",
      "     BatchNorm2d-258          [-1, 176, 29, 29]             352\n",
      " StochasticDepth-259          [-1, 176, 29, 29]               0\n",
      "          MBConv-260          [-1, 176, 29, 29]               0\n",
      "          Conv2d-261         [-1, 1056, 29, 29]         185,856\n",
      "     BatchNorm2d-262         [-1, 1056, 29, 29]           2,112\n",
      "            SiLU-263         [-1, 1056, 29, 29]               0\n",
      "          Conv2d-264         [-1, 1056, 29, 29]           9,504\n",
      "     BatchNorm2d-265         [-1, 1056, 29, 29]           2,112\n",
      "            SiLU-266         [-1, 1056, 29, 29]               0\n",
      "AdaptiveAvgPool2d-267           [-1, 1056, 1, 1]               0\n",
      "          Conv2d-268             [-1, 44, 1, 1]          46,508\n",
      "            SiLU-269             [-1, 44, 1, 1]               0\n",
      "          Conv2d-270           [-1, 1056, 1, 1]          47,520\n",
      "         Sigmoid-271           [-1, 1056, 1, 1]               0\n",
      "SqueezeExcitation-272         [-1, 1056, 29, 29]               0\n",
      "          Conv2d-273          [-1, 176, 29, 29]         185,856\n",
      "     BatchNorm2d-274          [-1, 176, 29, 29]             352\n",
      " StochasticDepth-275          [-1, 176, 29, 29]               0\n",
      "          MBConv-276          [-1, 176, 29, 29]               0\n",
      "          Conv2d-277         [-1, 1056, 29, 29]         185,856\n",
      "     BatchNorm2d-278         [-1, 1056, 29, 29]           2,112\n",
      "            SiLU-279         [-1, 1056, 29, 29]               0\n",
      "          Conv2d-280         [-1, 1056, 29, 29]           9,504\n",
      "     BatchNorm2d-281         [-1, 1056, 29, 29]           2,112\n",
      "            SiLU-282         [-1, 1056, 29, 29]               0\n",
      "AdaptiveAvgPool2d-283           [-1, 1056, 1, 1]               0\n",
      "          Conv2d-284             [-1, 44, 1, 1]          46,508\n",
      "            SiLU-285             [-1, 44, 1, 1]               0\n",
      "          Conv2d-286           [-1, 1056, 1, 1]          47,520\n",
      "         Sigmoid-287           [-1, 1056, 1, 1]               0\n",
      "SqueezeExcitation-288         [-1, 1056, 29, 29]               0\n",
      "          Conv2d-289          [-1, 176, 29, 29]         185,856\n",
      "     BatchNorm2d-290          [-1, 176, 29, 29]             352\n",
      " StochasticDepth-291          [-1, 176, 29, 29]               0\n",
      "          MBConv-292          [-1, 176, 29, 29]               0\n",
      "          Conv2d-293         [-1, 1056, 29, 29]         185,856\n",
      "     BatchNorm2d-294         [-1, 1056, 29, 29]           2,112\n",
      "            SiLU-295         [-1, 1056, 29, 29]               0\n",
      "          Conv2d-296         [-1, 1056, 29, 29]           9,504\n",
      "     BatchNorm2d-297         [-1, 1056, 29, 29]           2,112\n",
      "            SiLU-298         [-1, 1056, 29, 29]               0\n",
      "AdaptiveAvgPool2d-299           [-1, 1056, 1, 1]               0\n",
      "          Conv2d-300             [-1, 44, 1, 1]          46,508\n",
      "            SiLU-301             [-1, 44, 1, 1]               0\n",
      "          Conv2d-302           [-1, 1056, 1, 1]          47,520\n",
      "         Sigmoid-303           [-1, 1056, 1, 1]               0\n",
      "SqueezeExcitation-304         [-1, 1056, 29, 29]               0\n",
      "          Conv2d-305          [-1, 176, 29, 29]         185,856\n",
      "     BatchNorm2d-306          [-1, 176, 29, 29]             352\n",
      " StochasticDepth-307          [-1, 176, 29, 29]               0\n",
      "          MBConv-308          [-1, 176, 29, 29]               0\n",
      "          Conv2d-309         [-1, 1056, 29, 29]         185,856\n",
      "     BatchNorm2d-310         [-1, 1056, 29, 29]           2,112\n",
      "            SiLU-311         [-1, 1056, 29, 29]               0\n",
      "          Conv2d-312         [-1, 1056, 29, 29]           9,504\n",
      "     BatchNorm2d-313         [-1, 1056, 29, 29]           2,112\n",
      "            SiLU-314         [-1, 1056, 29, 29]               0\n",
      "AdaptiveAvgPool2d-315           [-1, 1056, 1, 1]               0\n",
      "          Conv2d-316             [-1, 44, 1, 1]          46,508\n",
      "            SiLU-317             [-1, 44, 1, 1]               0\n",
      "          Conv2d-318           [-1, 1056, 1, 1]          47,520\n",
      "         Sigmoid-319           [-1, 1056, 1, 1]               0\n",
      "SqueezeExcitation-320         [-1, 1056, 29, 29]               0\n",
      "          Conv2d-321          [-1, 176, 29, 29]         185,856\n",
      "     BatchNorm2d-322          [-1, 176, 29, 29]             352\n",
      " StochasticDepth-323          [-1, 176, 29, 29]               0\n",
      "          MBConv-324          [-1, 176, 29, 29]               0\n",
      "          Conv2d-325         [-1, 1056, 29, 29]         185,856\n",
      "     BatchNorm2d-326         [-1, 1056, 29, 29]           2,112\n",
      "            SiLU-327         [-1, 1056, 29, 29]               0\n",
      "          Conv2d-328         [-1, 1056, 29, 29]           9,504\n",
      "     BatchNorm2d-329         [-1, 1056, 29, 29]           2,112\n",
      "            SiLU-330         [-1, 1056, 29, 29]               0\n",
      "AdaptiveAvgPool2d-331           [-1, 1056, 1, 1]               0\n",
      "          Conv2d-332             [-1, 44, 1, 1]          46,508\n",
      "            SiLU-333             [-1, 44, 1, 1]               0\n",
      "          Conv2d-334           [-1, 1056, 1, 1]          47,520\n",
      "         Sigmoid-335           [-1, 1056, 1, 1]               0\n",
      "SqueezeExcitation-336         [-1, 1056, 29, 29]               0\n",
      "          Conv2d-337          [-1, 176, 29, 29]         185,856\n",
      "     BatchNorm2d-338          [-1, 176, 29, 29]             352\n",
      " StochasticDepth-339          [-1, 176, 29, 29]               0\n",
      "          MBConv-340          [-1, 176, 29, 29]               0\n",
      "          Conv2d-341         [-1, 1056, 29, 29]         185,856\n",
      "     BatchNorm2d-342         [-1, 1056, 29, 29]           2,112\n",
      "            SiLU-343         [-1, 1056, 29, 29]               0\n",
      "          Conv2d-344         [-1, 1056, 29, 29]           9,504\n",
      "     BatchNorm2d-345         [-1, 1056, 29, 29]           2,112\n",
      "            SiLU-346         [-1, 1056, 29, 29]               0\n",
      "AdaptiveAvgPool2d-347           [-1, 1056, 1, 1]               0\n",
      "          Conv2d-348             [-1, 44, 1, 1]          46,508\n",
      "            SiLU-349             [-1, 44, 1, 1]               0\n",
      "          Conv2d-350           [-1, 1056, 1, 1]          47,520\n",
      "         Sigmoid-351           [-1, 1056, 1, 1]               0\n",
      "SqueezeExcitation-352         [-1, 1056, 29, 29]               0\n",
      "          Conv2d-353          [-1, 176, 29, 29]         185,856\n",
      "     BatchNorm2d-354          [-1, 176, 29, 29]             352\n",
      " StochasticDepth-355          [-1, 176, 29, 29]               0\n",
      "          MBConv-356          [-1, 176, 29, 29]               0\n",
      "          Conv2d-357         [-1, 1056, 29, 29]         185,856\n",
      "     BatchNorm2d-358         [-1, 1056, 29, 29]           2,112\n",
      "            SiLU-359         [-1, 1056, 29, 29]               0\n",
      "          Conv2d-360         [-1, 1056, 29, 29]           9,504\n",
      "     BatchNorm2d-361         [-1, 1056, 29, 29]           2,112\n",
      "            SiLU-362         [-1, 1056, 29, 29]               0\n",
      "AdaptiveAvgPool2d-363           [-1, 1056, 1, 1]               0\n",
      "          Conv2d-364             [-1, 44, 1, 1]          46,508\n",
      "            SiLU-365             [-1, 44, 1, 1]               0\n",
      "          Conv2d-366           [-1, 1056, 1, 1]          47,520\n",
      "         Sigmoid-367           [-1, 1056, 1, 1]               0\n",
      "SqueezeExcitation-368         [-1, 1056, 29, 29]               0\n",
      "          Conv2d-369          [-1, 176, 29, 29]         185,856\n",
      "     BatchNorm2d-370          [-1, 176, 29, 29]             352\n",
      " StochasticDepth-371          [-1, 176, 29, 29]               0\n",
      "          MBConv-372          [-1, 176, 29, 29]               0\n",
      "          Conv2d-373         [-1, 1056, 29, 29]         185,856\n",
      "     BatchNorm2d-374         [-1, 1056, 29, 29]           2,112\n",
      "            SiLU-375         [-1, 1056, 29, 29]               0\n",
      "          Conv2d-376         [-1, 1056, 29, 29]           9,504\n",
      "     BatchNorm2d-377         [-1, 1056, 29, 29]           2,112\n",
      "            SiLU-378         [-1, 1056, 29, 29]               0\n",
      "AdaptiveAvgPool2d-379           [-1, 1056, 1, 1]               0\n",
      "          Conv2d-380             [-1, 44, 1, 1]          46,508\n",
      "            SiLU-381             [-1, 44, 1, 1]               0\n",
      "          Conv2d-382           [-1, 1056, 1, 1]          47,520\n",
      "         Sigmoid-383           [-1, 1056, 1, 1]               0\n",
      "SqueezeExcitation-384         [-1, 1056, 29, 29]               0\n",
      "          Conv2d-385          [-1, 176, 29, 29]         185,856\n",
      "     BatchNorm2d-386          [-1, 176, 29, 29]             352\n",
      " StochasticDepth-387          [-1, 176, 29, 29]               0\n",
      "          MBConv-388          [-1, 176, 29, 29]               0\n",
      "          Conv2d-389         [-1, 1056, 29, 29]         185,856\n",
      "     BatchNorm2d-390         [-1, 1056, 29, 29]           2,112\n",
      "            SiLU-391         [-1, 1056, 29, 29]               0\n",
      "          Conv2d-392         [-1, 1056, 29, 29]           9,504\n",
      "     BatchNorm2d-393         [-1, 1056, 29, 29]           2,112\n",
      "            SiLU-394         [-1, 1056, 29, 29]               0\n",
      "AdaptiveAvgPool2d-395           [-1, 1056, 1, 1]               0\n",
      "          Conv2d-396             [-1, 44, 1, 1]          46,508\n",
      "            SiLU-397             [-1, 44, 1, 1]               0\n",
      "          Conv2d-398           [-1, 1056, 1, 1]          47,520\n",
      "         Sigmoid-399           [-1, 1056, 1, 1]               0\n",
      "SqueezeExcitation-400         [-1, 1056, 29, 29]               0\n",
      "          Conv2d-401          [-1, 176, 29, 29]         185,856\n",
      "     BatchNorm2d-402          [-1, 176, 29, 29]             352\n",
      " StochasticDepth-403          [-1, 176, 29, 29]               0\n",
      "          MBConv-404          [-1, 176, 29, 29]               0\n",
      "          Conv2d-405         [-1, 1056, 29, 29]         185,856\n",
      "     BatchNorm2d-406         [-1, 1056, 29, 29]           2,112\n",
      "            SiLU-407         [-1, 1056, 29, 29]               0\n",
      "          Conv2d-408         [-1, 1056, 29, 29]           9,504\n",
      "     BatchNorm2d-409         [-1, 1056, 29, 29]           2,112\n",
      "            SiLU-410         [-1, 1056, 29, 29]               0\n",
      "AdaptiveAvgPool2d-411           [-1, 1056, 1, 1]               0\n",
      "          Conv2d-412             [-1, 44, 1, 1]          46,508\n",
      "            SiLU-413             [-1, 44, 1, 1]               0\n",
      "          Conv2d-414           [-1, 1056, 1, 1]          47,520\n",
      "         Sigmoid-415           [-1, 1056, 1, 1]               0\n",
      "SqueezeExcitation-416         [-1, 1056, 29, 29]               0\n",
      "          Conv2d-417          [-1, 176, 29, 29]         185,856\n",
      "     BatchNorm2d-418          [-1, 176, 29, 29]             352\n",
      " StochasticDepth-419          [-1, 176, 29, 29]               0\n",
      "          MBConv-420          [-1, 176, 29, 29]               0\n",
      "          Conv2d-421         [-1, 1056, 29, 29]         185,856\n",
      "     BatchNorm2d-422         [-1, 1056, 29, 29]           2,112\n",
      "            SiLU-423         [-1, 1056, 29, 29]               0\n",
      "          Conv2d-424         [-1, 1056, 15, 15]           9,504\n",
      "     BatchNorm2d-425         [-1, 1056, 15, 15]           2,112\n",
      "            SiLU-426         [-1, 1056, 15, 15]               0\n",
      "AdaptiveAvgPool2d-427           [-1, 1056, 1, 1]               0\n",
      "          Conv2d-428             [-1, 44, 1, 1]          46,508\n",
      "            SiLU-429             [-1, 44, 1, 1]               0\n",
      "          Conv2d-430           [-1, 1056, 1, 1]          47,520\n",
      "         Sigmoid-431           [-1, 1056, 1, 1]               0\n",
      "SqueezeExcitation-432         [-1, 1056, 15, 15]               0\n",
      "          Conv2d-433          [-1, 304, 15, 15]         321,024\n",
      "     BatchNorm2d-434          [-1, 304, 15, 15]             608\n",
      "          MBConv-435          [-1, 304, 15, 15]               0\n",
      "          Conv2d-436         [-1, 1824, 15, 15]         554,496\n",
      "     BatchNorm2d-437         [-1, 1824, 15, 15]           3,648\n",
      "            SiLU-438         [-1, 1824, 15, 15]               0\n",
      "          Conv2d-439         [-1, 1824, 15, 15]          16,416\n",
      "     BatchNorm2d-440         [-1, 1824, 15, 15]           3,648\n",
      "            SiLU-441         [-1, 1824, 15, 15]               0\n",
      "AdaptiveAvgPool2d-442           [-1, 1824, 1, 1]               0\n",
      "          Conv2d-443             [-1, 76, 1, 1]         138,700\n",
      "            SiLU-444             [-1, 76, 1, 1]               0\n",
      "          Conv2d-445           [-1, 1824, 1, 1]         140,448\n",
      "         Sigmoid-446           [-1, 1824, 1, 1]               0\n",
      "SqueezeExcitation-447         [-1, 1824, 15, 15]               0\n",
      "          Conv2d-448          [-1, 304, 15, 15]         554,496\n",
      "     BatchNorm2d-449          [-1, 304, 15, 15]             608\n",
      " StochasticDepth-450          [-1, 304, 15, 15]               0\n",
      "          MBConv-451          [-1, 304, 15, 15]               0\n",
      "          Conv2d-452         [-1, 1824, 15, 15]         554,496\n",
      "     BatchNorm2d-453         [-1, 1824, 15, 15]           3,648\n",
      "            SiLU-454         [-1, 1824, 15, 15]               0\n",
      "          Conv2d-455         [-1, 1824, 15, 15]          16,416\n",
      "     BatchNorm2d-456         [-1, 1824, 15, 15]           3,648\n",
      "            SiLU-457         [-1, 1824, 15, 15]               0\n",
      "AdaptiveAvgPool2d-458           [-1, 1824, 1, 1]               0\n",
      "          Conv2d-459             [-1, 76, 1, 1]         138,700\n",
      "            SiLU-460             [-1, 76, 1, 1]               0\n",
      "          Conv2d-461           [-1, 1824, 1, 1]         140,448\n",
      "         Sigmoid-462           [-1, 1824, 1, 1]               0\n",
      "SqueezeExcitation-463         [-1, 1824, 15, 15]               0\n",
      "          Conv2d-464          [-1, 304, 15, 15]         554,496\n",
      "     BatchNorm2d-465          [-1, 304, 15, 15]             608\n",
      " StochasticDepth-466          [-1, 304, 15, 15]               0\n",
      "          MBConv-467          [-1, 304, 15, 15]               0\n",
      "          Conv2d-468         [-1, 1824, 15, 15]         554,496\n",
      "     BatchNorm2d-469         [-1, 1824, 15, 15]           3,648\n",
      "            SiLU-470         [-1, 1824, 15, 15]               0\n",
      "          Conv2d-471         [-1, 1824, 15, 15]          16,416\n",
      "     BatchNorm2d-472         [-1, 1824, 15, 15]           3,648\n",
      "            SiLU-473         [-1, 1824, 15, 15]               0\n",
      "AdaptiveAvgPool2d-474           [-1, 1824, 1, 1]               0\n",
      "          Conv2d-475             [-1, 76, 1, 1]         138,700\n",
      "            SiLU-476             [-1, 76, 1, 1]               0\n",
      "          Conv2d-477           [-1, 1824, 1, 1]         140,448\n",
      "         Sigmoid-478           [-1, 1824, 1, 1]               0\n",
      "SqueezeExcitation-479         [-1, 1824, 15, 15]               0\n",
      "          Conv2d-480          [-1, 304, 15, 15]         554,496\n",
      "     BatchNorm2d-481          [-1, 304, 15, 15]             608\n",
      " StochasticDepth-482          [-1, 304, 15, 15]               0\n",
      "          MBConv-483          [-1, 304, 15, 15]               0\n",
      "          Conv2d-484         [-1, 1824, 15, 15]         554,496\n",
      "     BatchNorm2d-485         [-1, 1824, 15, 15]           3,648\n",
      "            SiLU-486         [-1, 1824, 15, 15]               0\n",
      "          Conv2d-487         [-1, 1824, 15, 15]          16,416\n",
      "     BatchNorm2d-488         [-1, 1824, 15, 15]           3,648\n",
      "            SiLU-489         [-1, 1824, 15, 15]               0\n",
      "AdaptiveAvgPool2d-490           [-1, 1824, 1, 1]               0\n",
      "          Conv2d-491             [-1, 76, 1, 1]         138,700\n",
      "            SiLU-492             [-1, 76, 1, 1]               0\n",
      "          Conv2d-493           [-1, 1824, 1, 1]         140,448\n",
      "         Sigmoid-494           [-1, 1824, 1, 1]               0\n",
      "SqueezeExcitation-495         [-1, 1824, 15, 15]               0\n",
      "          Conv2d-496          [-1, 304, 15, 15]         554,496\n",
      "     BatchNorm2d-497          [-1, 304, 15, 15]             608\n",
      " StochasticDepth-498          [-1, 304, 15, 15]               0\n",
      "          MBConv-499          [-1, 304, 15, 15]               0\n",
      "          Conv2d-500         [-1, 1824, 15, 15]         554,496\n",
      "     BatchNorm2d-501         [-1, 1824, 15, 15]           3,648\n",
      "            SiLU-502         [-1, 1824, 15, 15]               0\n",
      "          Conv2d-503         [-1, 1824, 15, 15]          16,416\n",
      "     BatchNorm2d-504         [-1, 1824, 15, 15]           3,648\n",
      "            SiLU-505         [-1, 1824, 15, 15]               0\n",
      "AdaptiveAvgPool2d-506           [-1, 1824, 1, 1]               0\n",
      "          Conv2d-507             [-1, 76, 1, 1]         138,700\n",
      "            SiLU-508             [-1, 76, 1, 1]               0\n",
      "          Conv2d-509           [-1, 1824, 1, 1]         140,448\n",
      "         Sigmoid-510           [-1, 1824, 1, 1]               0\n",
      "SqueezeExcitation-511         [-1, 1824, 15, 15]               0\n",
      "          Conv2d-512          [-1, 304, 15, 15]         554,496\n",
      "     BatchNorm2d-513          [-1, 304, 15, 15]             608\n",
      " StochasticDepth-514          [-1, 304, 15, 15]               0\n",
      "          MBConv-515          [-1, 304, 15, 15]               0\n",
      "          Conv2d-516         [-1, 1824, 15, 15]         554,496\n",
      "     BatchNorm2d-517         [-1, 1824, 15, 15]           3,648\n",
      "            SiLU-518         [-1, 1824, 15, 15]               0\n",
      "          Conv2d-519         [-1, 1824, 15, 15]          16,416\n",
      "     BatchNorm2d-520         [-1, 1824, 15, 15]           3,648\n",
      "            SiLU-521         [-1, 1824, 15, 15]               0\n",
      "AdaptiveAvgPool2d-522           [-1, 1824, 1, 1]               0\n",
      "          Conv2d-523             [-1, 76, 1, 1]         138,700\n",
      "            SiLU-524             [-1, 76, 1, 1]               0\n",
      "          Conv2d-525           [-1, 1824, 1, 1]         140,448\n",
      "         Sigmoid-526           [-1, 1824, 1, 1]               0\n",
      "SqueezeExcitation-527         [-1, 1824, 15, 15]               0\n",
      "          Conv2d-528          [-1, 304, 15, 15]         554,496\n",
      "     BatchNorm2d-529          [-1, 304, 15, 15]             608\n",
      " StochasticDepth-530          [-1, 304, 15, 15]               0\n",
      "          MBConv-531          [-1, 304, 15, 15]               0\n",
      "          Conv2d-532         [-1, 1824, 15, 15]         554,496\n",
      "     BatchNorm2d-533         [-1, 1824, 15, 15]           3,648\n",
      "            SiLU-534         [-1, 1824, 15, 15]               0\n",
      "          Conv2d-535         [-1, 1824, 15, 15]          16,416\n",
      "     BatchNorm2d-536         [-1, 1824, 15, 15]           3,648\n",
      "            SiLU-537         [-1, 1824, 15, 15]               0\n",
      "AdaptiveAvgPool2d-538           [-1, 1824, 1, 1]               0\n",
      "          Conv2d-539             [-1, 76, 1, 1]         138,700\n",
      "            SiLU-540             [-1, 76, 1, 1]               0\n",
      "          Conv2d-541           [-1, 1824, 1, 1]         140,448\n",
      "         Sigmoid-542           [-1, 1824, 1, 1]               0\n",
      "SqueezeExcitation-543         [-1, 1824, 15, 15]               0\n",
      "          Conv2d-544          [-1, 304, 15, 15]         554,496\n",
      "     BatchNorm2d-545          [-1, 304, 15, 15]             608\n",
      " StochasticDepth-546          [-1, 304, 15, 15]               0\n",
      "          MBConv-547          [-1, 304, 15, 15]               0\n",
      "          Conv2d-548         [-1, 1824, 15, 15]         554,496\n",
      "     BatchNorm2d-549         [-1, 1824, 15, 15]           3,648\n",
      "            SiLU-550         [-1, 1824, 15, 15]               0\n",
      "          Conv2d-551         [-1, 1824, 15, 15]          16,416\n",
      "     BatchNorm2d-552         [-1, 1824, 15, 15]           3,648\n",
      "            SiLU-553         [-1, 1824, 15, 15]               0\n",
      "AdaptiveAvgPool2d-554           [-1, 1824, 1, 1]               0\n",
      "          Conv2d-555             [-1, 76, 1, 1]         138,700\n",
      "            SiLU-556             [-1, 76, 1, 1]               0\n",
      "          Conv2d-557           [-1, 1824, 1, 1]         140,448\n",
      "         Sigmoid-558           [-1, 1824, 1, 1]               0\n",
      "SqueezeExcitation-559         [-1, 1824, 15, 15]               0\n",
      "          Conv2d-560          [-1, 304, 15, 15]         554,496\n",
      "     BatchNorm2d-561          [-1, 304, 15, 15]             608\n",
      " StochasticDepth-562          [-1, 304, 15, 15]               0\n",
      "          MBConv-563          [-1, 304, 15, 15]               0\n",
      "          Conv2d-564         [-1, 1824, 15, 15]         554,496\n",
      "     BatchNorm2d-565         [-1, 1824, 15, 15]           3,648\n",
      "            SiLU-566         [-1, 1824, 15, 15]               0\n",
      "          Conv2d-567         [-1, 1824, 15, 15]          16,416\n",
      "     BatchNorm2d-568         [-1, 1824, 15, 15]           3,648\n",
      "            SiLU-569         [-1, 1824, 15, 15]               0\n",
      "AdaptiveAvgPool2d-570           [-1, 1824, 1, 1]               0\n",
      "          Conv2d-571             [-1, 76, 1, 1]         138,700\n",
      "            SiLU-572             [-1, 76, 1, 1]               0\n",
      "          Conv2d-573           [-1, 1824, 1, 1]         140,448\n",
      "         Sigmoid-574           [-1, 1824, 1, 1]               0\n",
      "SqueezeExcitation-575         [-1, 1824, 15, 15]               0\n",
      "          Conv2d-576          [-1, 304, 15, 15]         554,496\n",
      "     BatchNorm2d-577          [-1, 304, 15, 15]             608\n",
      " StochasticDepth-578          [-1, 304, 15, 15]               0\n",
      "          MBConv-579          [-1, 304, 15, 15]               0\n",
      "          Conv2d-580         [-1, 1824, 15, 15]         554,496\n",
      "     BatchNorm2d-581         [-1, 1824, 15, 15]           3,648\n",
      "            SiLU-582         [-1, 1824, 15, 15]               0\n",
      "          Conv2d-583         [-1, 1824, 15, 15]          16,416\n",
      "     BatchNorm2d-584         [-1, 1824, 15, 15]           3,648\n",
      "            SiLU-585         [-1, 1824, 15, 15]               0\n",
      "AdaptiveAvgPool2d-586           [-1, 1824, 1, 1]               0\n",
      "          Conv2d-587             [-1, 76, 1, 1]         138,700\n",
      "            SiLU-588             [-1, 76, 1, 1]               0\n",
      "          Conv2d-589           [-1, 1824, 1, 1]         140,448\n",
      "         Sigmoid-590           [-1, 1824, 1, 1]               0\n",
      "SqueezeExcitation-591         [-1, 1824, 15, 15]               0\n",
      "          Conv2d-592          [-1, 304, 15, 15]         554,496\n",
      "     BatchNorm2d-593          [-1, 304, 15, 15]             608\n",
      " StochasticDepth-594          [-1, 304, 15, 15]               0\n",
      "          MBConv-595          [-1, 304, 15, 15]               0\n",
      "          Conv2d-596         [-1, 1824, 15, 15]         554,496\n",
      "     BatchNorm2d-597         [-1, 1824, 15, 15]           3,648\n",
      "            SiLU-598         [-1, 1824, 15, 15]               0\n",
      "          Conv2d-599         [-1, 1824, 15, 15]          16,416\n",
      "     BatchNorm2d-600         [-1, 1824, 15, 15]           3,648\n",
      "            SiLU-601         [-1, 1824, 15, 15]               0\n",
      "AdaptiveAvgPool2d-602           [-1, 1824, 1, 1]               0\n",
      "          Conv2d-603             [-1, 76, 1, 1]         138,700\n",
      "            SiLU-604             [-1, 76, 1, 1]               0\n",
      "          Conv2d-605           [-1, 1824, 1, 1]         140,448\n",
      "         Sigmoid-606           [-1, 1824, 1, 1]               0\n",
      "SqueezeExcitation-607         [-1, 1824, 15, 15]               0\n",
      "          Conv2d-608          [-1, 304, 15, 15]         554,496\n",
      "     BatchNorm2d-609          [-1, 304, 15, 15]             608\n",
      " StochasticDepth-610          [-1, 304, 15, 15]               0\n",
      "          MBConv-611          [-1, 304, 15, 15]               0\n",
      "          Conv2d-612         [-1, 1824, 15, 15]         554,496\n",
      "     BatchNorm2d-613         [-1, 1824, 15, 15]           3,648\n",
      "            SiLU-614         [-1, 1824, 15, 15]               0\n",
      "          Conv2d-615         [-1, 1824, 15, 15]          16,416\n",
      "     BatchNorm2d-616         [-1, 1824, 15, 15]           3,648\n",
      "            SiLU-617         [-1, 1824, 15, 15]               0\n",
      "AdaptiveAvgPool2d-618           [-1, 1824, 1, 1]               0\n",
      "          Conv2d-619             [-1, 76, 1, 1]         138,700\n",
      "            SiLU-620             [-1, 76, 1, 1]               0\n",
      "          Conv2d-621           [-1, 1824, 1, 1]         140,448\n",
      "         Sigmoid-622           [-1, 1824, 1, 1]               0\n",
      "SqueezeExcitation-623         [-1, 1824, 15, 15]               0\n",
      "          Conv2d-624          [-1, 304, 15, 15]         554,496\n",
      "     BatchNorm2d-625          [-1, 304, 15, 15]             608\n",
      " StochasticDepth-626          [-1, 304, 15, 15]               0\n",
      "          MBConv-627          [-1, 304, 15, 15]               0\n",
      "          Conv2d-628         [-1, 1824, 15, 15]         554,496\n",
      "     BatchNorm2d-629         [-1, 1824, 15, 15]           3,648\n",
      "            SiLU-630         [-1, 1824, 15, 15]               0\n",
      "          Conv2d-631         [-1, 1824, 15, 15]          16,416\n",
      "     BatchNorm2d-632         [-1, 1824, 15, 15]           3,648\n",
      "            SiLU-633         [-1, 1824, 15, 15]               0\n",
      "AdaptiveAvgPool2d-634           [-1, 1824, 1, 1]               0\n",
      "          Conv2d-635             [-1, 76, 1, 1]         138,700\n",
      "            SiLU-636             [-1, 76, 1, 1]               0\n",
      "          Conv2d-637           [-1, 1824, 1, 1]         140,448\n",
      "         Sigmoid-638           [-1, 1824, 1, 1]               0\n",
      "SqueezeExcitation-639         [-1, 1824, 15, 15]               0\n",
      "          Conv2d-640          [-1, 304, 15, 15]         554,496\n",
      "     BatchNorm2d-641          [-1, 304, 15, 15]             608\n",
      " StochasticDepth-642          [-1, 304, 15, 15]               0\n",
      "          MBConv-643          [-1, 304, 15, 15]               0\n",
      "          Conv2d-644         [-1, 1824, 15, 15]         554,496\n",
      "     BatchNorm2d-645         [-1, 1824, 15, 15]           3,648\n",
      "            SiLU-646         [-1, 1824, 15, 15]               0\n",
      "          Conv2d-647         [-1, 1824, 15, 15]          16,416\n",
      "     BatchNorm2d-648         [-1, 1824, 15, 15]           3,648\n",
      "            SiLU-649         [-1, 1824, 15, 15]               0\n",
      "AdaptiveAvgPool2d-650           [-1, 1824, 1, 1]               0\n",
      "          Conv2d-651             [-1, 76, 1, 1]         138,700\n",
      "            SiLU-652             [-1, 76, 1, 1]               0\n",
      "          Conv2d-653           [-1, 1824, 1, 1]         140,448\n",
      "         Sigmoid-654           [-1, 1824, 1, 1]               0\n",
      "SqueezeExcitation-655         [-1, 1824, 15, 15]               0\n",
      "          Conv2d-656          [-1, 304, 15, 15]         554,496\n",
      "     BatchNorm2d-657          [-1, 304, 15, 15]             608\n",
      " StochasticDepth-658          [-1, 304, 15, 15]               0\n",
      "          MBConv-659          [-1, 304, 15, 15]               0\n",
      "          Conv2d-660         [-1, 1824, 15, 15]         554,496\n",
      "     BatchNorm2d-661         [-1, 1824, 15, 15]           3,648\n",
      "            SiLU-662         [-1, 1824, 15, 15]               0\n",
      "          Conv2d-663         [-1, 1824, 15, 15]          16,416\n",
      "     BatchNorm2d-664         [-1, 1824, 15, 15]           3,648\n",
      "            SiLU-665         [-1, 1824, 15, 15]               0\n",
      "AdaptiveAvgPool2d-666           [-1, 1824, 1, 1]               0\n",
      "          Conv2d-667             [-1, 76, 1, 1]         138,700\n",
      "            SiLU-668             [-1, 76, 1, 1]               0\n",
      "          Conv2d-669           [-1, 1824, 1, 1]         140,448\n",
      "         Sigmoid-670           [-1, 1824, 1, 1]               0\n",
      "SqueezeExcitation-671         [-1, 1824, 15, 15]               0\n",
      "          Conv2d-672          [-1, 304, 15, 15]         554,496\n",
      "     BatchNorm2d-673          [-1, 304, 15, 15]             608\n",
      " StochasticDepth-674          [-1, 304, 15, 15]               0\n",
      "          MBConv-675          [-1, 304, 15, 15]               0\n",
      "          Conv2d-676         [-1, 1824, 15, 15]         554,496\n",
      "     BatchNorm2d-677         [-1, 1824, 15, 15]           3,648\n",
      "            SiLU-678         [-1, 1824, 15, 15]               0\n",
      "          Conv2d-679         [-1, 1824, 15, 15]          16,416\n",
      "     BatchNorm2d-680         [-1, 1824, 15, 15]           3,648\n",
      "            SiLU-681         [-1, 1824, 15, 15]               0\n",
      "AdaptiveAvgPool2d-682           [-1, 1824, 1, 1]               0\n",
      "          Conv2d-683             [-1, 76, 1, 1]         138,700\n",
      "            SiLU-684             [-1, 76, 1, 1]               0\n",
      "          Conv2d-685           [-1, 1824, 1, 1]         140,448\n",
      "         Sigmoid-686           [-1, 1824, 1, 1]               0\n",
      "SqueezeExcitation-687         [-1, 1824, 15, 15]               0\n",
      "          Conv2d-688          [-1, 304, 15, 15]         554,496\n",
      "     BatchNorm2d-689          [-1, 304, 15, 15]             608\n",
      " StochasticDepth-690          [-1, 304, 15, 15]               0\n",
      "          MBConv-691          [-1, 304, 15, 15]               0\n",
      "          Conv2d-692         [-1, 1824, 15, 15]         554,496\n",
      "     BatchNorm2d-693         [-1, 1824, 15, 15]           3,648\n",
      "            SiLU-694         [-1, 1824, 15, 15]               0\n",
      "          Conv2d-695         [-1, 1824, 15, 15]          16,416\n",
      "     BatchNorm2d-696         [-1, 1824, 15, 15]           3,648\n",
      "            SiLU-697         [-1, 1824, 15, 15]               0\n",
      "AdaptiveAvgPool2d-698           [-1, 1824, 1, 1]               0\n",
      "          Conv2d-699             [-1, 76, 1, 1]         138,700\n",
      "            SiLU-700             [-1, 76, 1, 1]               0\n",
      "          Conv2d-701           [-1, 1824, 1, 1]         140,448\n",
      "         Sigmoid-702           [-1, 1824, 1, 1]               0\n",
      "SqueezeExcitation-703         [-1, 1824, 15, 15]               0\n",
      "          Conv2d-704          [-1, 304, 15, 15]         554,496\n",
      "     BatchNorm2d-705          [-1, 304, 15, 15]             608\n",
      " StochasticDepth-706          [-1, 304, 15, 15]               0\n",
      "          MBConv-707          [-1, 304, 15, 15]               0\n",
      "          Conv2d-708         [-1, 1824, 15, 15]         554,496\n",
      "     BatchNorm2d-709         [-1, 1824, 15, 15]           3,648\n",
      "            SiLU-710         [-1, 1824, 15, 15]               0\n",
      "          Conv2d-711         [-1, 1824, 15, 15]          16,416\n",
      "     BatchNorm2d-712         [-1, 1824, 15, 15]           3,648\n",
      "            SiLU-713         [-1, 1824, 15, 15]               0\n",
      "AdaptiveAvgPool2d-714           [-1, 1824, 1, 1]               0\n",
      "          Conv2d-715             [-1, 76, 1, 1]         138,700\n",
      "            SiLU-716             [-1, 76, 1, 1]               0\n",
      "          Conv2d-717           [-1, 1824, 1, 1]         140,448\n",
      "         Sigmoid-718           [-1, 1824, 1, 1]               0\n",
      "SqueezeExcitation-719         [-1, 1824, 15, 15]               0\n",
      "          Conv2d-720          [-1, 512, 15, 15]         933,888\n",
      "     BatchNorm2d-721          [-1, 512, 15, 15]           1,024\n",
      "          MBConv-722          [-1, 512, 15, 15]               0\n",
      "          Conv2d-723         [-1, 3072, 15, 15]       1,572,864\n",
      "     BatchNorm2d-724         [-1, 3072, 15, 15]           6,144\n",
      "            SiLU-725         [-1, 3072, 15, 15]               0\n",
      "          Conv2d-726         [-1, 3072, 15, 15]          27,648\n",
      "     BatchNorm2d-727         [-1, 3072, 15, 15]           6,144\n",
      "            SiLU-728         [-1, 3072, 15, 15]               0\n",
      "AdaptiveAvgPool2d-729           [-1, 3072, 1, 1]               0\n",
      "          Conv2d-730            [-1, 128, 1, 1]         393,344\n",
      "            SiLU-731            [-1, 128, 1, 1]               0\n",
      "          Conv2d-732           [-1, 3072, 1, 1]         396,288\n",
      "         Sigmoid-733           [-1, 3072, 1, 1]               0\n",
      "SqueezeExcitation-734         [-1, 3072, 15, 15]               0\n",
      "          Conv2d-735          [-1, 512, 15, 15]       1,572,864\n",
      "     BatchNorm2d-736          [-1, 512, 15, 15]           1,024\n",
      " StochasticDepth-737          [-1, 512, 15, 15]               0\n",
      "          MBConv-738          [-1, 512, 15, 15]               0\n",
      "          Conv2d-739         [-1, 3072, 15, 15]       1,572,864\n",
      "     BatchNorm2d-740         [-1, 3072, 15, 15]           6,144\n",
      "            SiLU-741         [-1, 3072, 15, 15]               0\n",
      "          Conv2d-742         [-1, 3072, 15, 15]          27,648\n",
      "     BatchNorm2d-743         [-1, 3072, 15, 15]           6,144\n",
      "            SiLU-744         [-1, 3072, 15, 15]               0\n",
      "AdaptiveAvgPool2d-745           [-1, 3072, 1, 1]               0\n",
      "          Conv2d-746            [-1, 128, 1, 1]         393,344\n",
      "            SiLU-747            [-1, 128, 1, 1]               0\n",
      "          Conv2d-748           [-1, 3072, 1, 1]         396,288\n",
      "         Sigmoid-749           [-1, 3072, 1, 1]               0\n",
      "SqueezeExcitation-750         [-1, 3072, 15, 15]               0\n",
      "          Conv2d-751          [-1, 512, 15, 15]       1,572,864\n",
      "     BatchNorm2d-752          [-1, 512, 15, 15]           1,024\n",
      " StochasticDepth-753          [-1, 512, 15, 15]               0\n",
      "          MBConv-754          [-1, 512, 15, 15]               0\n",
      "          Conv2d-755         [-1, 3072, 15, 15]       1,572,864\n",
      "     BatchNorm2d-756         [-1, 3072, 15, 15]           6,144\n",
      "            SiLU-757         [-1, 3072, 15, 15]               0\n",
      "          Conv2d-758         [-1, 3072, 15, 15]          27,648\n",
      "     BatchNorm2d-759         [-1, 3072, 15, 15]           6,144\n",
      "            SiLU-760         [-1, 3072, 15, 15]               0\n",
      "AdaptiveAvgPool2d-761           [-1, 3072, 1, 1]               0\n",
      "          Conv2d-762            [-1, 128, 1, 1]         393,344\n",
      "            SiLU-763            [-1, 128, 1, 1]               0\n",
      "          Conv2d-764           [-1, 3072, 1, 1]         396,288\n",
      "         Sigmoid-765           [-1, 3072, 1, 1]               0\n",
      "SqueezeExcitation-766         [-1, 3072, 15, 15]               0\n",
      "          Conv2d-767          [-1, 512, 15, 15]       1,572,864\n",
      "     BatchNorm2d-768          [-1, 512, 15, 15]           1,024\n",
      " StochasticDepth-769          [-1, 512, 15, 15]               0\n",
      "          MBConv-770          [-1, 512, 15, 15]               0\n",
      "          Conv2d-771         [-1, 3072, 15, 15]       1,572,864\n",
      "     BatchNorm2d-772         [-1, 3072, 15, 15]           6,144\n",
      "            SiLU-773         [-1, 3072, 15, 15]               0\n",
      "          Conv2d-774         [-1, 3072, 15, 15]          27,648\n",
      "     BatchNorm2d-775         [-1, 3072, 15, 15]           6,144\n",
      "            SiLU-776         [-1, 3072, 15, 15]               0\n",
      "AdaptiveAvgPool2d-777           [-1, 3072, 1, 1]               0\n",
      "          Conv2d-778            [-1, 128, 1, 1]         393,344\n",
      "            SiLU-779            [-1, 128, 1, 1]               0\n",
      "          Conv2d-780           [-1, 3072, 1, 1]         396,288\n",
      "         Sigmoid-781           [-1, 3072, 1, 1]               0\n",
      "SqueezeExcitation-782         [-1, 3072, 15, 15]               0\n",
      "          Conv2d-783          [-1, 512, 15, 15]       1,572,864\n",
      "     BatchNorm2d-784          [-1, 512, 15, 15]           1,024\n",
      " StochasticDepth-785          [-1, 512, 15, 15]               0\n",
      "          MBConv-786          [-1, 512, 15, 15]               0\n",
      "          Conv2d-787         [-1, 1280, 15, 15]         655,360\n",
      "     BatchNorm2d-788         [-1, 1280, 15, 15]           2,560\n",
      "            SiLU-789         [-1, 1280, 15, 15]               0\n",
      "AdaptiveAvgPool2d-790           [-1, 1280, 1, 1]               0\n",
      "          Linear-791                  [-1, 512]         655,872\n",
      "         Dropout-792                  [-1, 512]               0\n",
      "            ReLU-793                  [-1, 512]               0\n",
      "          Linear-794                    [-1, 2]           1,026\n",
      "================================================================\n",
      "Total params: 53,515,254\n",
      "Trainable params: 53,515,254\n",
      "Non-trainable params: 0\n",
      "----------------------------------------------------------------\n",
      "Input size (MB): 2.42\n",
      "Forward/backward pass size (MB): 2266.75\n",
      "Params size (MB): 204.14\n",
      "Estimated Total Size (MB): 2473.32\n",
      "----------------------------------------------------------------\n"
     ]
    }
   ],
   "source": [
    "summary(model_m, ( 3, 460,460))"
   ]
  },
  {
   "cell_type": "code",
   "execution_count": 21,
   "id": "c654d140",
   "metadata": {},
   "outputs": [],
   "source": [
    "from tqdm import tqdm"
   ]
  },
  {
   "cell_type": "code",
   "execution_count": 4,
   "id": "fdbf4994",
   "metadata": {},
   "outputs": [
    {
     "ename": "NameError",
     "evalue": "name 'model_m' is not defined",
     "output_type": "error",
     "traceback": [
      "\u001b[1;31m---------------------------------------------------------------------------\u001b[0m",
      "\u001b[1;31mNameError\u001b[0m                                 Traceback (most recent call last)",
      "Input \u001b[1;32mIn [4]\u001b[0m, in \u001b[0;36m<cell line: 49>\u001b[1;34m()\u001b[0m\n\u001b[0;32m     47\u001b[0m torch\u001b[38;5;241m.\u001b[39mmanual_seed(\u001b[38;5;241m42\u001b[39m)\n\u001b[0;32m     48\u001b[0m num_epochs \u001b[38;5;241m=\u001b[39m \u001b[38;5;241m80\u001b[39m\n\u001b[1;32m---> 49\u001b[0m hist \u001b[38;5;241m=\u001b[39m train(\u001b[43mmodel_m\u001b[49m, num_epochs, trn_dl, test_dl)\n",
      "\u001b[1;31mNameError\u001b[0m: name 'model_m' is not defined"
     ]
    }
   ],
   "source": [
    "tolerance = 0.83\n",
    "def train(model, num_epochs, train_dl, valid_dl):\n",
    "    loss_hist_train = [0] * num_epochs\n",
    "    accuracy_hist_train = [0] * num_epochs\n",
    "    loss_hist_valid = [0] * num_epochs\n",
    "    accuracy_hist_valid = [0] * num_epochs\n",
    "    for epoch in range(num_epochs):\n",
    "        model.train()\n",
    "        for x_batch, y_batch in tqdm(train_dl):\n",
    "            x_batch = x_batch.to(device) \n",
    "            y_batch = y_batch.to(device).squeeze()\n",
    "            pred = model(x_batch)\n",
    "            loss = loss_fn(pred, y_batch)\n",
    "            loss.backward()\n",
    "            optimizer.step()\n",
    "            optimizer.zero_grad()\n",
    "\n",
    "            loss_hist_train[epoch] += loss.item()*y_batch.size(0)\n",
    "            is_correct = (torch.argmax(pred, dim=1) == y_batch).float()\n",
    "            accuracy_hist_train[epoch] += is_correct.sum().cpu()\n",
    "        scheduler.step()\n",
    "        loss_hist_train[epoch] /= len(train_dl.dataset)\n",
    "        accuracy_hist_train[epoch] /= len(train_dl.dataset)\n",
    "        \n",
    "        model.eval()\n",
    "        with torch.no_grad():\n",
    "            for x_batch, y_batch in valid_dl:\n",
    "                x_batch = x_batch.to(device) \n",
    "                y_batch = y_batch.to(device).squeeze() \n",
    "                pred = model(x_batch)\n",
    "                loss = loss_fn(pred, y_batch)\n",
    "                loss_hist_valid[epoch] += loss.item()*y_batch.size(0) \n",
    "                is_correct = (torch.argmax(pred, dim=1) == y_batch).float() \n",
    "                accuracy_hist_valid[epoch] += is_correct.sum().cpu()\n",
    "        loss_hist_valid[epoch] /= len(valid_dl.dataset)\n",
    "        accuracy_hist_valid[epoch] /= len(valid_dl.dataset)\n",
    "        if epoch == 0:\n",
    "            bestAccVal = accuracy_hist_valid[epoch]\n",
    "        else:\n",
    "            if accuracy_hist_valid[epoch] > max(bestAccVal, tolerance):\n",
    "                bestAccVal = accuracy_hist_valid[epoch]\n",
    "                torch.save(model.state_dict(), f'{modelname}_val{bestAccVal}_ep{epoch}.pt')\n",
    "\n",
    "        print(f'Epoch {epoch+1} accuracy: {accuracy_hist_train[epoch]:.4f} val_accuracy: {accuracy_hist_valid[epoch]:.4f}')\n",
    "    return loss_hist_train, loss_hist_valid, accuracy_hist_train, accuracy_hist_valid\n",
    "\n",
    "torch.manual_seed(42)\n",
    "num_epochs = 80\n",
    "hist = train(model_m, num_epochs, trn_dl, test_dl)"
   ]
  },
  {
   "cell_type": "code",
   "execution_count": 44,
   "id": "25c118c1",
   "metadata": {},
   "outputs": [
    {
     "data": {
      "image/png": "[encoded data removed]",
      "text/plain": [
       "<Figure size 1200x400 with 1 Axes>"
      ]
     },
     "metadata": {},
     "output_type": "display_data"
    }
   ],
   "source": [
    "import matplotlib.pyplot as plt\n",
    "\n",
    "\n",
    "x_arr = np.arange(len(hist[0])) + 1\n",
    "\n",
    "fig = plt.figure(figsize=(12, 4))\n",
    "\n",
    "ax = fig.add_subplot(1, 2, 2)\n",
    "ax.plot(x_arr, hist[2], '-o', label='Train acc.')\n",
    "ax.plot(x_arr, hist[3], '--<', label='Validation acc.')\n",
    "ax.legend(fontsize=15)\n",
    "ax.set_title(\"Magnification scale x40 \")\n",
    "ax.set_xlabel('Epoch', size=15)\n",
    "ax.set_ylabel('Accuracy', size=15)\n",
    "#plt.savefig('figures/14_13.png')\n",
    "plt.show()"
   ]
  },
  {
   "cell_type": "code",
   "execution_count": 45,
   "id": "1e5a10ab",
   "metadata": {},
   "outputs": [
    {
     "data": {
      "image/png": "[encoded data removed]",
      "text/plain": [
       "<Figure size 1200x400 with 1 Axes>"
      ]
     },
     "metadata": {},
     "output_type": "display_data"
    }
   ],
   "source": [
    "x_arr = np.arange(len(hist[0])) + 1\n",
    "\n",
    "fig = plt.figure(figsize=(12, 4))\n",
    "\n",
    "ax = fig.add_subplot(1, 2, 2)\n",
    "ax.plot(x_arr, hist[0], '-o', label='Train loss')\n",
    "ax.plot(x_arr, hist[1], '--<', label='Validation loss')\n",
    "ax.legend(fontsize=15)\n",
    "ax.set_title(\"Magnification scale x40 \")\n",
    "ax.set_xlabel('Epoch', size=15)b\n",
    "ax.set_ylabel('Loss', size=15)\n",
    "#plt.savefig('figures/14_13.png')\n",
    "plt.show()"
   ]
  },
  {
   "cell_type": "code",
   "execution_count": 56,
   "id": "8373cfef",
   "metadata": {},
   "outputs": [
    {
     "name": "stdout",
     "output_type": "stream",
     "text": [
      "patient_id: SOB_M_DC_14-10926\n",
      "Accuracy: 1.0\n",
      "\n",
      "patient_id: SOB_M_DC_14-11031\n",
      "Accuracy: 1.0\n",
      "\n",
      "patient_id: SOB_M_DC_14-11520\n",
      "Accuracy: 1.0\n",
      "\n",
      "patient_id: SOB_M_DC_14-11951\n",
      "Accuracy: 1.0\n",
      "\n",
      "patient_id: SOB_M_DC_14-12312\n",
      "Accuracy: 1.0\n",
      "\n",
      "patient_id: SOB_M_DC_14-13412\n",
      "Accuracy: 1.0\n",
      "\n",
      "patient_id: SOB_M_DC_14-13993\n",
      "Accuracy: 1.0\n",
      "\n",
      "patient_id: SOB_M_DC_14-14015\n",
      "Accuracy: 1.0\n",
      "\n",
      "patient_id: SOB_M_DC_14-14926\n",
      "Accuracy: 1.0\n",
      "\n",
      "patient_id: SOB_M_DC_14-14946\n",
      "Accuracy: 1.0\n",
      "\n",
      "patient_id: SOB_M_DC_14-15572\n",
      "Accuracy: 1.0\n",
      "\n",
      "patient_id: SOB_M_DC_14-15696\n",
      "Accuracy: 1.0\n",
      "\n",
      "patient_id: SOB_M_DC_14-15792\n",
      "Accuracy: 1.0\n",
      "\n",
      "patient_id: SOB_M_DC_14-16188\n",
      "Accuracy: 1.0\n",
      "\n",
      "patient_id: SOB_M_DC_14-16336\n",
      "Accuracy: 1.0\n",
      "\n",
      "patient_id: SOB_M_DC_14-16448\n",
      "Accuracy: 1.0\n",
      "\n",
      "patient_id: SOB_M_DC_14-16601\n",
      "Accuracy: 1.0\n",
      "\n",
      "patient_id: SOB_M_DC_14-16716\n",
      "Accuracy: 1.0\n",
      "\n",
      "patient_id: SOB_M_DC_14-16875\n",
      "Accuracy: 1.0\n",
      "\n",
      "patient_id: SOB_M_DC_14-17614\n",
      "Accuracy: 1.0\n",
      "\n",
      "patient_id: SOB_M_DC_14-17901\n",
      "Accuracy: 1.0\n",
      "\n",
      "patient_id: SOB_M_DC_14-17915\n",
      "Accuracy: 1.0\n",
      "\n",
      "patient_id: SOB_M_DC_14-18650\n",
      "Accuracy: 1.0\n",
      "\n",
      "patient_id: SOB_M_DC_14-20629\n",
      "Accuracy: 1.0\n",
      "\n",
      "patient_id: SOB_M_DC_14-20636\n",
      "Accuracy: 1.0\n",
      "\n",
      "patient_id: SOB_M_DC_14-2523\n",
      "Accuracy: 1.0\n",
      "\n",
      "patient_id: SOB_M_DC_14-2773\n",
      "Accuracy: 1.0\n",
      "\n",
      "patient_id: SOB_M_DC_14-2980\n",
      "Accuracy: 1.0\n",
      "\n",
      "patient_id: SOB_M_DC_14-2985\n",
      "Accuracy: 1.0\n",
      "\n",
      "patient_id: SOB_M_DC_14-3909\n",
      "Accuracy: 1.0\n",
      "\n",
      "patient_id: SOB_M_DC_14-4364\n",
      "Accuracy: 1.0\n",
      "\n",
      "patient_id: SOB_M_DC_14-4372\n",
      "Accuracy: 1.0\n",
      "\n",
      "patient_id: SOB_M_DC_14-5287\n",
      "Accuracy: 1.0\n",
      "\n",
      "patient_id: SOB_M_DC_14-5694\n",
      "Accuracy: 1.0\n",
      "\n",
      "patient_id: SOB_M_DC_14-5695\n",
      "Accuracy: 1.0\n",
      "\n",
      "patient_id: SOB_M_DC_14-6241\n",
      "Accuracy: 1.0\n",
      "\n",
      "patient_id: SOB_M_DC_14-8168\n",
      "Accuracy: 1.0\n",
      "\n",
      "patient_id: SOB_M_DC_14-9461\n",
      "Accuracy: 1.0\n",
      "\n",
      "patient_id: SOB_M_LC_14-12204\n",
      "Accuracy: 1.0\n",
      "\n",
      "patient_id: SOB_M_LC_14-13412\n",
      "Accuracy: 1.0\n",
      "\n",
      "patient_id: SOB_M_LC_14-15570\n",
      "Accuracy: 1.0\n",
      "\n",
      "patient_id: SOB_M_LC_14-15570C\n",
      "Accuracy: 1.0\n",
      "\n",
      "patient_id: SOB_M_LC_14-16196\n",
      "Accuracy: 1.0\n",
      "\n",
      "patient_id: SOB_M_MC_14-10147\n",
      "Accuracy: 1.0\n",
      "\n",
      "patient_id: SOB_M_MC_14-12773\n",
      "Accuracy: 1.0\n",
      "\n",
      "patient_id: SOB_M_MC_14-13413\n",
      "Accuracy: 1.0\n",
      "\n",
      "patient_id: SOB_M_MC_14-13418DE\n",
      "Accuracy: 1.0\n",
      "\n",
      "patient_id: SOB_M_MC_14-16456\n",
      "Accuracy: 1.0\n",
      "\n",
      "patient_id: SOB_M_MC_14-18842\n",
      "Accuracy: 1.0\n",
      "\n",
      "patient_id: SOB_M_MC_14-18842D\n",
      "Accuracy: 1.0\n",
      "\n",
      "patient_id: SOB_M_MC_14-19979\n",
      "Accuracy: 1.0\n",
      "\n",
      "patient_id: SOB_M_MC_14-19979C\n",
      "Accuracy: 1.0\n",
      "\n",
      "patient_id: SOB_M_PC_14-12465\n",
      "Accuracy: 1.0\n",
      "\n",
      "patient_id: SOB_M_PC_14-15687B\n",
      "Accuracy: 0.7647058963775635\n",
      "\n",
      "patient_id: SOB_M_PC_14-15704\n",
      "Accuracy: 1.0\n",
      "\n",
      "patient_id: SOB_M_PC_14-19440\n",
      "Accuracy: 1.0\n",
      "\n",
      "patient_id: SOB_M_PC_14-9146\n",
      "Accuracy: 1.0\n",
      "\n",
      "patient_id: SOB_M_PC_15-190EF\n",
      "Accuracy: 1.0\n",
      "\n",
      "patient_id: SOB_B_A_14-22549AB\n",
      "Accuracy: 1.0\n",
      "\n",
      "patient_id: SOB_B_A_14-22549CD\n",
      "Accuracy: 1.0\n",
      "\n",
      "patient_id: SOB_B_A_14-22549G\n",
      "Accuracy: 1.0\n",
      "\n",
      "patient_id: SOB_B_A_14-29960CD\n",
      "Accuracy: 1.0\n",
      "\n",
      "patient_id: SOB_B_F_14-14134\n",
      "Accuracy: 0.9722222089767456\n",
      "\n",
      "patient_id: SOB_B_F_14-14134E\n",
      "Accuracy: 1.0\n",
      "\n",
      "patient_id: SOB_B_F_14-21998CD\n",
      "Accuracy: 1.0\n",
      "\n",
      "patient_id: SOB_B_F_14-21998EF\n",
      "Accuracy: 1.0\n",
      "\n",
      "patient_id: SOB_B_F_14-23060AB\n",
      "Accuracy: 1.0\n",
      "\n",
      "patient_id: SOB_B_F_14-23060CD\n",
      "Accuracy: 1.0\n",
      "\n",
      "patient_id: SOB_B_F_14-23222AB\n",
      "Accuracy: 1.0\n",
      "\n",
      "patient_id: SOB_B_F_14-25197\n",
      "Accuracy: 1.0\n",
      "\n",
      "patient_id: SOB_B_F_14-29960AB\n",
      "Accuracy: 0.0\n",
      "\n",
      "patient_id: SOB_B_F_14-9133\n",
      "Accuracy: 1.0\n",
      "\n",
      "patient_id: SOB_B_PT_14-21998AB\n",
      "Accuracy: 1.0\n",
      "\n",
      "patient_id: SOB_B_PT_14-22704\n",
      "Accuracy: 1.0\n",
      "\n",
      "patient_id: SOB_B_PT_14-29315EF\n",
      "Accuracy: 1.0\n",
      "\n",
      "patient_id: SOB_B_TA_14-13200\n",
      "Accuracy: 1.0\n",
      "\n",
      "patient_id: SOB_B_TA_14-15275\n",
      "Accuracy: 1.0\n",
      "\n",
      "patient_id: SOB_B_TA_14-16184\n",
      "Accuracy: 1.0\n",
      "\n",
      "patient_id: SOB_B_TA_14-16184CD\n",
      "Accuracy: 1.0\n",
      "\n",
      "patient_id: SOB_B_TA_14-19854C\n",
      "Accuracy: 1.0\n",
      "\n",
      "patient_id: SOB_B_TA_14-21978AB\n",
      "Accuracy: 1.0\n",
      "\n",
      "patient_id: SOB_B_TA_14-3411F\n",
      "Accuracy: 1.0\n",
      "\n"
     ]
    },
    {
     "data": {
      "text/plain": [
       "tensor(0.9846)"
      ]
     },
     "execution_count": 56,
     "metadata": {},
     "output_type": "execute_result"
    }
   ],
   "source": [
    "patientwise_accuracy(model_m,patients_paths_by_id_x40.keys(),40, 1)"
   ]
  },
  {
   "cell_type": "markdown",
   "id": "3858ae0f",
   "metadata": {},
   "source": [
    "Every patient has accuracy of 100% (though the majority from train set). Only 1 patient with 0% accuracy (see SOB_B_F_14-29960AB) and 1 with 97.2% accuracy and 1 with 76.5% accuracy. So the actual problem is that there is exactly 1 patient that is classified in a completely wrong way."
   ]
  },
  {
   "cell_type": "markdown",
   "id": "6a58754c",
   "metadata": {},
   "source": [
    "### Ensemble learning"
   ]
  },
  {
   "cell_type": "code",
   "execution_count": 22,
   "id": "5732ab1f",
   "metadata": {},
   "outputs": [],
   "source": [
    "import pandas as pd\n",
    "\n",
    "df = pd.read_csv(\"Folds.csv\")"
   ]
  },
  {
   "cell_type": "code",
   "execution_count": 23,
   "id": "62a19fed",
   "metadata": {},
   "outputs": [],
   "source": [
    "from torch.utils.data import DataLoader, Dataset\n",
    "class imagesXNN_train(Dataset):\n",
    "  def __init__(self, paths):\n",
    "    self.fpaths = paths\n",
    "\n",
    "  def __len__(self): return len(self.fpaths)\n",
    "\n",
    "  def __getitem__(self, ix):\n",
    "    f = self.fpaths[ix]\n",
    "    res = torch.tensor(int(\"malignant\" in f)).type(torch.LongTensor)\n",
    "    im = cv2.imread(f)[:,:,::-1]\n",
    "    return transforms.Compose([transforms.Resize((300, 300)), \n",
    "                               transforms.RandomHorizontalFlip(), \n",
    "                               transforms.RandomVerticalFlip()])(torch.tensor(im/255).permute(2,0,1).float()), res\n",
    "\n",
    "\n",
    "class imagesXNN_test(Dataset):\n",
    "  def __init__(self, paths):\n",
    "    self.fpaths = paths\n",
    "\n",
    "  def __len__(self): return len(self.fpaths)\n",
    "\n",
    "  def __getitem__(self, ix):\n",
    "    f = self.fpaths[ix]\n",
    "    res = torch.tensor(int(\"malignant\" in f)).type(torch.LongTensor)\n",
    "    im = cv2.imread(f)[:,:,::-1]\n",
    "    return transforms.Compose([transforms.Resize((300, 300))])(torch.tensor(im/255).permute(2,0,1).float()), res"
   ]
  },
  {
   "cell_type": "code",
   "execution_count": 24,
   "id": "4cba3a8f",
   "metadata": {},
   "outputs": [],
   "source": [
    "train_full = df.loc[(df.fold==FOLD) & (df.mag==40) & (df.grp==\"train\")][\"filename\"].values\n",
    "fold1 = df.loc[(df.fold==FOLD) & (df.mag==40) & (df.grp==\"train\")][\"filename\"].sample(frac=0.78).values\n",
    "fold2 = df.loc[(df.fold==FOLD) & (df.mag==40) & (df.grp==\"train\")][\"filename\"].sample(frac=0.78).values\n",
    "train_full = df.loc[(df.fold==FOLD) & (df.mag==40) & (df.grp==\"train\")][\"filename\"].values"
   ]
  },
  {
   "cell_type": "code",
   "execution_count": 105,
   "id": "a7a2d4fd",
   "metadata": {},
   "outputs": [],
   "source": [
    "def train_epoch(model, loader, criterion, scheduler,optim, local_metric_fn: Iterable):\n",
    "    local_metric = [0] * len(local_metric_fn)\n",
    "    local_loss = 0\n",
    "\n",
    "    model.train()\n",
    "    for step, (images, labels) in tqdm(enumerate(loader), total=625):\n",
    "        images = images.to(DEVICE)\n",
    "        labels = labels.to(DEVICE)\n",
    "        outputs = model(images)\n",
    "        local_loss = criterion(outputs, labels)\n",
    "        local_loss.backward()\n",
    "        optim.step()\n",
    "        optim.zero_grad()\n",
    "        local_loss += local_loss.item()\n",
    "        for i, metric in enumerate(local_metric_fn):\n",
    "            local_metric[i] += metric(outputs.cpu().detach().numpy().argmax(axis=1), labels.cpu().numpy())\n",
    "    scheduler.step()\n",
    "\n",
    "    return local_loss/(step + 1), [metric/(step + 1) for metric in local_metric]"
   ]
  },
  {
   "cell_type": "code",
   "execution_count": 106,
   "id": "d3a158db",
   "metadata": {},
   "outputs": [],
   "source": [
    "def valid_epoch(model, loader, criterion, local_metric_fn: Iterable):\n",
    "    local_metric = [0] * len(local_metric_fn)\n",
    "    local_loss = 0\n",
    "\n",
    "    model.eval()\n",
    "    for step, (images, labels) in enumerate(loader):\n",
    "        images = images.to(DEVICE)\n",
    "        labels = labels.to(DEVICE)\n",
    "        with torch.no_grad():\n",
    "            outputs = model(images)\n",
    "            local_loss = criterion(outputs, labels)\n",
    "            local_loss += local_loss.item()\n",
    "            for i, metric in enumerate(local_metric_fn):\n",
    "                local_metric[i] += metric(outputs.cpu().detach().numpy().argmax(axis=1), labels.cpu().numpy())\n",
    "    return local_loss/(step + 1), [metric/(step + 1) for metric in local_metric]"
   ]
  },
  {
   "cell_type": "code",
   "execution_count": 107,
   "id": "de56eaae",
   "metadata": {},
   "outputs": [],
   "source": [
    "\n",
    "def train(model, num_epochs, train_dl, valid_dl, loss_fn, scheduler,  optimizer,local_metric_fn, i=0, tolerance = 0.5):\n",
    "    loss_hist_train = [0] * num_epochs\n",
    "    accuracy_hist_train = [0] * num_epochs\n",
    "    loss_hist_valid = [0] * num_epochs\n",
    "    accuracy_hist_valid = [0] * num_epochs\n",
    "\n",
    "    for epoch in range(num_epochs):\n",
    "\n",
    "        loss_tr_ep, metrics_tr_ep = train_epoch(model, train_dl, loss_fn, scheduler, optimizer, local_metric_fn)\n",
    "\n",
    "        loss_hist_train[epoch] = loss_tr_ep\n",
    "        accuracy_hist_train[epoch] = metrics_tr_ep\n",
    "        \n",
    "        loss_ep, metrics_ep = valid_epoch(model, valid_dl, loss_fn, local_metric_fn)\n",
    "        \n",
    "        loss_hist_valid[epoch] = loss_ep\n",
    "        accuracy_hist_valid[epoch] = metrics_ep\n",
    "        if epoch == 0:\n",
    "            bestAccVal = accuracy_hist_valid[epoch][2]\n",
    "        else:\n",
    "            if accuracy_hist_valid[epoch][2] > max(bestAccVal, tolerance):\n",
    "                bestAccVal = accuracy_hist_valid[epoch][2]\n",
    "                torch.save(model.state_dict(), f'bestmodel{i}.pt')\n",
    "\n",
    "        print(f'Epoch {epoch+1} f1: {accuracy_hist_train[epoch][3]:{1}.{5}} val_f1: {accuracy_hist_valid[epoch][3]:{1}.{5}}')\n",
    "        print(f'         acc: {accuracy_hist_train[epoch][2]:{1}.{5}} val_acc: {accuracy_hist_valid[epoch][2]:{1}.{5}}')\n",
    "        print(f'         loss: {loss_tr_ep:{1}.{5}} val_loss: {loss_ep:{1}.{5}}\\n')\n",
    "    if os.path.exists(f'bestmodel{i}.pt'):\n",
    "        model.load_state_dict(torch.load(f'bestmodel{i}.pt'))\n",
    "    return loss_hist_train, loss_hist_valid, accuracy_hist_train, accuracy_hist_valid, bestAccVal"
   ]
  },
  {
   "cell_type": "code",
   "execution_count": 108,
   "id": "b9605a57",
   "metadata": {},
   "outputs": [],
   "source": [
    "class MyEnsemble(nn.Module):\n",
    "    def __init__(self, models):\n",
    "        super(MyEnsemble, self).__init__()\n",
    "        self.models = models\n",
    "\n",
    "    def forward(self, x):\n",
    "\n",
    "        pred = torch.Tensor([models[\"model\"](x).cpu().numpy() for models in self.models])\n",
    "        return pred\n",
    "        "
   ]
  },
  {
   "cell_type": "code",
   "execution_count": 29,
   "id": "4ad13964",
   "metadata": {},
   "outputs": [],
   "source": [
    "train_full = df.loc[(df.fold==FOLD) & (df.mag==40) & (df.grp==\"train\")][\"filename\"].values"
   ]
  },
  {
   "cell_type": "code",
   "execution_count": 30,
   "id": "f6a65459",
   "metadata": {},
   "outputs": [],
   "source": [
    "test_40 = imagesXNN_test(df.loc[(df.fold==FOLD) & (df.mag==40) & (df.grp==\"test\")][\"filename\"].values)\n",
    "test_dl = DataLoader(test_40, batch_size=2, shuffle=False, drop_last=True, num_workers = 0)\n",
    "\n",
    "trn_ds = imagesXNN_train(train_full)\n",
    "trn_dl = DataLoader(trn_ds, batch_size=2, shuffle=True, drop_last = True, num_workers = 0)"
   ]
  },
  {
   "cell_type": "code",
   "execution_count": 31,
   "id": "fd2edda7",
   "metadata": {},
   "outputs": [],
   "source": [
    "from tqdm import tqdm"
   ]
  },
  {
   "cell_type": "code",
   "execution_count": 25,
   "id": "4d6fd744",
   "metadata": {},
   "outputs": [],
   "source": [
    "model_constructor = [torchvision.models.efficientnet_v2_l(weights=torchvision.models.EfficientNet_V2_L_Weights.DEFAULT),\n",
    "                     torchvision.models.efficientnet_v2_m(weights=torchvision.models.EfficientNet_V2_M_Weights.DEFAULT),\n",
    "                     torchvision.models.efficientnet_v2_s(weights=torchvision.models.EfficientNet_V2_S_Weights.DEFAULT),\n",
    "                     torchvision.models.efficientnet_v2_l(),\n",
    "                     torchvision.models.efficientnet_v2_m(),\n",
    "                     torchvision.models.efficientnet_v2_s()\n",
    "                     ]\n",
    "\n",
    "\n",
    "\n",
    "def generate_model(i):\n",
    "    model = model_constructor[i]\n",
    "    model.classifier = nn.Sequential(nn.Linear(1280, 960), nn.Dropout(0.2, inplace=True), nn.ReLU(), nn.Linear(960, 480), nn.ReLU(), nn.Linear(480, 2),nn.Softmax(dim=1))\n",
    "    loss = nn.CrossEntropyLoss()\n",
    "    if i%3==0:\n",
    "        loss.weight = torch.tensor([1.5,0.5]).to(DEVICE)\n",
    "    if i%3==1:\n",
    "        loss.weight = torch.tensor([1.33,0.66]).to(DEVICE)\n",
    "    else:\n",
    "        loss.weight = torch.tensor([1.0,1.0]).to(DEVICE)\n",
    "    optimizer = torch.optim.Adam(model.parameters(), lr= 2e-4)\n",
    "    scheduler = torch.optim.lr_scheduler.StepLR(optimizer, step_size=2, gamma=0.8)\n",
    "    model.to(DEVICE)\n",
    "\n",
    "    return {\n",
    "        'model': model,\n",
    "        'centropy': loss,\n",
    "        'optimizer': optimizer,\n",
    "        'scheduler': scheduler\n",
    "        }\n"
   ]
  },
  {
   "cell_type": "code",
   "execution_count": 26,
   "id": "dec19758",
   "metadata": {},
   "outputs": [],
   "source": [
    "from sklearn.metrics import make_scorer\n",
    "\n",
    "def f1_macro(y_true, y_pred):\n",
    "    return f1_score(y_true, y_pred, average='macro')\n"
   ]
  },
  {
   "cell_type": "code",
   "execution_count": 34,
   "id": "a331e7ae",
   "metadata": {
    "scrolled": false
   },
   "outputs": [
    {
     "name": "stderr",
     "output_type": "stream",
     "text": [
      "100%|██████████| 625/625 [02:41<00:00,  3.86it/s]\n"
     ]
    },
    {
     "name": "stdout",
     "output_type": "stream",
     "text": [
      "Epoch 1 f1: 0.62613 val_f1: 0.65681\n",
      "         acc: 0.6976 val_acc: 0.65726\n",
      "         loss: 0.0010053 val_loss: 0.0025159\n",
      "\n"
     ]
    },
    {
     "name": "stderr",
     "output_type": "stream",
     "text": [
      "100%|██████████| 625/625 [02:38<00:00,  3.95it/s]\n"
     ]
    },
    {
     "name": "stdout",
     "output_type": "stream",
     "text": [
      "Epoch 2 f1: 0.63413 val_f1: 0.5233\n",
      "         acc: 0.7032 val_acc: 0.56452\n",
      "         loss: 0.001998 val_loss: 0.0025161\n",
      "\n"
     ]
    },
    {
     "name": "stderr",
     "output_type": "stream",
     "text": [
      "100%|██████████| 625/625 [02:38<00:00,  3.95it/s]\n"
     ]
    },
    {
     "name": "stdout",
     "output_type": "stream",
     "text": [
      "Epoch 3 f1: 0.62933 val_f1: 0.65681\n",
      "         acc: 0.7032 val_acc: 0.65726\n",
      "         loss: 0.0023267 val_loss: 0.0022738\n",
      "\n"
     ]
    },
    {
     "name": "stderr",
     "output_type": "stream",
     "text": [
      "100%|██████████| 625/625 [02:37<00:00,  3.96it/s]\n"
     ]
    },
    {
     "name": "stdout",
     "output_type": "stream",
     "text": [
      "Epoch 4 f1: 0.64693 val_f1: 0.70251\n",
      "         acc: 0.7192 val_acc: 0.73522\n",
      "         loss: 0.001049 val_loss: 0.0031157\n",
      "\n"
     ]
    },
    {
     "name": "stderr",
     "output_type": "stream",
     "text": [
      "100%|██████████| 625/625 [02:37<00:00,  3.96it/s]\n"
     ]
    },
    {
     "name": "stdout",
     "output_type": "stream",
     "text": [
      "Epoch 5 f1: 0.69653 val_f1: 0.74014\n",
      "         acc: 0.7592 val_acc: 0.76613\n",
      "         loss: 0.0010032 val_loss: 0.0042234\n",
      "\n"
     ]
    },
    {
     "name": "stderr",
     "output_type": "stream",
     "text": [
      "100%|██████████| 625/625 [02:38<00:00,  3.96it/s]\n"
     ]
    },
    {
     "name": "stdout",
     "output_type": "stream",
     "text": [
      "Epoch 6 f1: 0.7168 val_f1: 0.74194\n",
      "         acc: 0.7728 val_acc: 0.76344\n",
      "         loss: 0.0010596 val_loss: 0.0059777\n",
      "\n"
     ]
    },
    {
     "name": "stderr",
     "output_type": "stream",
     "text": [
      "100%|██████████| 625/625 [02:38<00:00,  3.95it/s]\n"
     ]
    },
    {
     "name": "stdout",
     "output_type": "stream",
     "text": [
      "Epoch 7 f1: 0.72373 val_f1: 0.8405\n",
      "         acc: 0.776 val_acc: 0.85753\n",
      "         loss: 0.0010236 val_loss: 0.0017559\n",
      "\n"
     ]
    },
    {
     "name": "stderr",
     "output_type": "stream",
     "text": [
      "100%|██████████| 625/625 [02:38<00:00,  3.95it/s]\n"
     ]
    },
    {
     "name": "stdout",
     "output_type": "stream",
     "text": [
      "Epoch 8 f1: 0.74613 val_f1: 0.819\n",
      "         acc: 0.796 val_acc: 0.83602\n",
      "         loss: 0.0010742 val_loss: 0.0017081\n",
      "\n"
     ]
    },
    {
     "name": "stderr",
     "output_type": "stream",
     "text": [
      "100%|██████████| 625/625 [02:38<00:00,  3.95it/s]\n"
     ]
    },
    {
     "name": "stdout",
     "output_type": "stream",
     "text": [
      "Epoch 9 f1: 0.7296 val_f1: 0.81183\n",
      "         acc: 0.7856 val_acc: 0.82661\n",
      "         loss: 0.0010289 val_loss: 0.002285\n",
      "\n"
     ]
    },
    {
     "name": "stderr",
     "output_type": "stream",
     "text": [
      "100%|██████████| 625/625 [02:38<00:00,  3.95it/s]\n"
     ]
    },
    {
     "name": "stdout",
     "output_type": "stream",
     "text": [
      "Epoch 10 f1: 0.77813 val_f1: 0.76523\n",
      "         acc: 0.8216 val_acc: 0.79301\n",
      "         loss: 0.0010024 val_loss: 0.0044067\n",
      "\n"
     ]
    },
    {
     "name": "stderr",
     "output_type": "stream",
     "text": [
      "100%|██████████| 625/625 [02:38<00:00,  3.95it/s]\n"
     ]
    },
    {
     "name": "stdout",
     "output_type": "stream",
     "text": [
      "Epoch 11 f1: 0.78133 val_f1: 0.81183\n",
      "         acc: 0.8264 val_acc: 0.83065\n",
      "         loss: 0.0025733 val_loss: 0.0050162\n",
      "\n"
     ]
    },
    {
     "name": "stderr",
     "output_type": "stream",
     "text": [
      "100%|██████████| 625/625 [02:38<00:00,  3.95it/s]\n"
     ]
    },
    {
     "name": "stdout",
     "output_type": "stream",
     "text": [
      "Epoch 12 f1: 0.7936 val_f1: 0.819\n",
      "         acc: 0.8344 val_acc: 0.83468\n",
      "         loss: 0.0025991 val_loss: 0.0043708\n",
      "\n"
     ]
    },
    {
     "name": "stderr",
     "output_type": "stream",
     "text": [
      "100%|██████████| 625/625 [02:38<00:00,  3.95it/s]\n"
     ]
    },
    {
     "name": "stdout",
     "output_type": "stream",
     "text": [
      "Epoch 13 f1: 0.79627 val_f1: 0.81272\n",
      "         acc: 0.8384 val_acc: 0.83065\n",
      "         loss: 0.0010025 val_loss: 0.0042545\n",
      "\n"
     ]
    },
    {
     "name": "stderr",
     "output_type": "stream",
     "text": [
      "100%|██████████| 625/625 [02:38<00:00,  3.95it/s]\n"
     ]
    },
    {
     "name": "stdout",
     "output_type": "stream",
     "text": [
      "Epoch 14 f1: 0.81333 val_f1: 0.8647\n",
      "         acc: 0.8536 val_acc: 0.87366\n",
      "         loss: 0.0026049 val_loss: 0.0016859\n",
      "\n"
     ]
    },
    {
     "name": "stderr",
     "output_type": "stream",
     "text": [
      "100%|██████████| 625/625 [02:38<00:00,  3.94it/s]\n"
     ]
    },
    {
     "name": "stdout",
     "output_type": "stream",
     "text": [
      "Epoch 15 f1: 0.8208 val_f1: 0.90681\n",
      "         acc: 0.8568 val_acc: 0.91398\n",
      "         loss: 0.0026026 val_loss: 0.0026442\n",
      "\n"
     ]
    },
    {
     "name": "stderr",
     "output_type": "stream",
     "text": [
      "100%|██████████| 625/625 [02:38<00:00,  3.94it/s]\n"
     ]
    },
    {
     "name": "stdout",
     "output_type": "stream",
     "text": [
      "Epoch 16 f1: 0.83467 val_f1: 0.83423\n",
      "         acc: 0.8696 val_acc: 0.84677\n",
      "         loss: 0.0023756 val_loss: 0.0024549\n",
      "\n"
     ]
    },
    {
     "name": "stderr",
     "output_type": "stream",
     "text": [
      "100%|██████████| 625/625 [02:38<00:00,  3.93it/s]\n"
     ]
    },
    {
     "name": "stdout",
     "output_type": "stream",
     "text": [
      "Epoch 17 f1: 0.8352 val_f1: 0.87545\n",
      "         acc: 0.8688 val_acc: 0.88441\n",
      "         loss: 0.0013513 val_loss: 0.0039544\n",
      "\n"
     ]
    },
    {
     "name": "stderr",
     "output_type": "stream",
     "text": [
      "100%|██████████| 625/625 [02:37<00:00,  3.96it/s]\n"
     ]
    },
    {
     "name": "stdout",
     "output_type": "stream",
     "text": [
      "Epoch 18 f1: 0.85387 val_f1: 0.83961\n",
      "         acc: 0.8808 val_acc: 0.84812\n",
      "         loss: 0.0039046 val_loss: 0.0016842\n",
      "\n"
     ]
    },
    {
     "name": "stderr",
     "output_type": "stream",
     "text": [
      "100%|██████████| 625/625 [02:38<00:00,  3.95it/s]\n"
     ]
    },
    {
     "name": "stdout",
     "output_type": "stream",
     "text": [
      "Epoch 19 f1: 0.87413 val_f1: 0.85663\n",
      "         acc: 0.9008 val_acc: 0.86694\n",
      "         loss: 0.0022978 val_loss: 0.0016842\n",
      "\n"
     ]
    },
    {
     "name": "stderr",
     "output_type": "stream",
     "text": [
      "100%|██████████| 625/625 [02:38<00:00,  3.94it/s]\n"
     ]
    },
    {
     "name": "stdout",
     "output_type": "stream",
     "text": [
      "Epoch 20 f1: 0.85813 val_f1: 0.83781\n",
      "         acc: 0.8864 val_acc: 0.85349\n",
      "         loss: 0.0010029 val_loss: 0.0016843\n",
      "\n"
     ]
    },
    {
     "name": "stderr",
     "output_type": "stream",
     "text": [
      "100%|██████████| 625/625 [02:03<00:00,  5.05it/s]\n"
     ]
    },
    {
     "name": "stdout",
     "output_type": "stream",
     "text": [
      "Epoch 1 f1: 0.62133 val_f1: 0.65681\n",
      "         acc: 0.6968 val_acc: 0.65726\n",
      "         loss: 0.0031382 val_loss: 0.001735\n",
      "\n"
     ]
    },
    {
     "name": "stderr",
     "output_type": "stream",
     "text": [
      "100%|██████████| 625/625 [02:03<00:00,  5.06it/s]\n"
     ]
    },
    {
     "name": "stdout",
     "output_type": "stream",
     "text": [
      "Epoch 2 f1: 0.632 val_f1: 0.65681\n",
      "         acc: 0.704 val_acc: 0.65726\n",
      "         loss: 0.0010025 val_loss: 0.0016844\n",
      "\n"
     ]
    },
    {
     "name": "stderr",
     "output_type": "stream",
     "text": [
      "100%|██████████| 625/625 [02:03<00:00,  5.05it/s]\n"
     ]
    },
    {
     "name": "stdout",
     "output_type": "stream",
     "text": [
      "Epoch 3 f1: 0.63733 val_f1: 0.65681\n",
      "         acc: 0.704 val_acc: 0.65726\n",
      "         loss: 0.0042024 val_loss: 0.0016844\n",
      "\n"
     ]
    },
    {
     "name": "stderr",
     "output_type": "stream",
     "text": [
      "100%|██████████| 625/625 [02:03<00:00,  5.06it/s]\n"
     ]
    },
    {
     "name": "stdout",
     "output_type": "stream",
     "text": [
      "Epoch 4 f1: 0.63093 val_f1: 0.65681\n",
      "         acc: 0.704 val_acc: 0.65726\n",
      "         loss: 0.0010024 val_loss: 0.0016842\n",
      "\n"
     ]
    },
    {
     "name": "stderr",
     "output_type": "stream",
     "text": [
      "100%|██████████| 625/625 [02:03<00:00,  5.06it/s]\n"
     ]
    },
    {
     "name": "stdout",
     "output_type": "stream",
     "text": [
      "Epoch 5 f1: 0.63093 val_f1: 0.65681\n",
      "         acc: 0.704 val_acc: 0.65726\n",
      "         loss: 0.0010024 val_loss: 0.0016854\n",
      "\n"
     ]
    },
    {
     "name": "stderr",
     "output_type": "stream",
     "text": [
      "100%|██████████| 625/625 [02:03<00:00,  5.04it/s]\n"
     ]
    },
    {
     "name": "stdout",
     "output_type": "stream",
     "text": [
      "Epoch 6 f1: 0.61547 val_f1: 0.65681\n",
      "         acc: 0.6872 val_acc: 0.65726\n",
      "         loss: 0.0011881 val_loss: 0.0023649\n",
      "\n"
     ]
    },
    {
     "name": "stderr",
     "output_type": "stream",
     "text": [
      "100%|██████████| 625/625 [02:03<00:00,  5.06it/s]\n"
     ]
    },
    {
     "name": "stdout",
     "output_type": "stream",
     "text": [
      "Epoch 7 f1: 0.63467 val_f1: 0.65233\n",
      "         acc: 0.704 val_acc: 0.66129\n",
      "         loss: 0.0034599 val_loss: 0.0034984\n",
      "\n"
     ]
    },
    {
     "name": "stderr",
     "output_type": "stream",
     "text": [
      "100%|██████████| 625/625 [02:03<00:00,  5.06it/s]\n"
     ]
    },
    {
     "name": "stdout",
     "output_type": "stream",
     "text": [
      "Epoch 8 f1: 0.60747 val_f1: 0.64068\n",
      "         acc: 0.6816 val_acc: 0.64919\n",
      "         loss: 0.0018085 val_loss: 0.0036288\n",
      "\n"
     ]
    },
    {
     "name": "stderr",
     "output_type": "stream",
     "text": [
      "100%|██████████| 625/625 [02:03<00:00,  5.06it/s]\n"
     ]
    },
    {
     "name": "stdout",
     "output_type": "stream",
     "text": [
      "Epoch 9 f1: 0.63307 val_f1: 0.68996\n",
      "         acc: 0.7024 val_acc: 0.71102\n",
      "         loss: 0.0011745 val_loss: 0.0029054\n",
      "\n"
     ]
    },
    {
     "name": "stderr",
     "output_type": "stream",
     "text": [
      "100%|██████████| 625/625 [02:03<00:00,  5.06it/s]\n"
     ]
    },
    {
     "name": "stdout",
     "output_type": "stream",
     "text": [
      "Epoch 10 f1: 0.62133 val_f1: 0.62993\n",
      "         acc: 0.692 val_acc: 0.6586\n",
      "         loss: 0.0020508 val_loss: 0.0057653\n",
      "\n"
     ]
    },
    {
     "name": "stderr",
     "output_type": "stream",
     "text": [
      "100%|██████████| 625/625 [02:03<00:00,  5.05it/s]\n"
     ]
    },
    {
     "name": "stdout",
     "output_type": "stream",
     "text": [
      "Epoch 11 f1: 0.68853 val_f1: 0.77419\n",
      "         acc: 0.7504 val_acc: 0.79704\n",
      "         loss: 0.0025745 val_loss: 0.0059569\n",
      "\n"
     ]
    },
    {
     "name": "stderr",
     "output_type": "stream",
     "text": [
      "100%|██████████| 625/625 [02:03<00:00,  5.04it/s]\n"
     ]
    },
    {
     "name": "stdout",
     "output_type": "stream",
     "text": [
      "Epoch 12 f1: 0.70187 val_f1: 0.71864\n",
      "         acc: 0.756 val_acc: 0.7379\n",
      "         loss: 0.0030236 val_loss: 0.0057648\n",
      "\n"
     ]
    },
    {
     "name": "stderr",
     "output_type": "stream",
     "text": [
      "100%|██████████| 625/625 [02:03<00:00,  5.05it/s]\n"
     ]
    },
    {
     "name": "stdout",
     "output_type": "stream",
     "text": [
      "Epoch 13 f1: 0.7488 val_f1: 0.69534\n",
      "         acc: 0.7992 val_acc: 0.71774\n",
      "         loss: 0.0038969 val_loss: 0.0020806\n",
      "\n"
     ]
    },
    {
     "name": "stderr",
     "output_type": "stream",
     "text": [
      "100%|██████████| 625/625 [02:03<00:00,  5.05it/s]\n"
     ]
    },
    {
     "name": "stdout",
     "output_type": "stream",
     "text": [
      "Epoch 14 f1: 0.7408 val_f1: 0.78136\n",
      "         acc: 0.7896 val_acc: 0.80242\n",
      "         loss: 0.0028586 val_loss: 0.0070435\n",
      "\n"
     ]
    },
    {
     "name": "stderr",
     "output_type": "stream",
     "text": [
      "100%|██████████| 625/625 [02:03<00:00,  5.05it/s]\n"
     ]
    },
    {
     "name": "stdout",
     "output_type": "stream",
     "text": [
      "Epoch 15 f1: 0.7728 val_f1: 0.76254\n",
      "         acc: 0.8208 val_acc: 0.77823\n",
      "         loss: 0.0031343 val_loss: 0.0044471\n",
      "\n"
     ]
    },
    {
     "name": "stderr",
     "output_type": "stream",
     "text": [
      "100%|██████████| 625/625 [02:04<00:00,  5.04it/s]\n"
     ]
    },
    {
     "name": "stdout",
     "output_type": "stream",
     "text": [
      "Epoch 16 f1: 0.78347 val_f1: 0.77419\n",
      "         acc: 0.8272 val_acc: 0.7957\n",
      "         loss: 0.0010121 val_loss: 0.0041017\n",
      "\n"
     ]
    },
    {
     "name": "stderr",
     "output_type": "stream",
     "text": [
      "100%|██████████| 625/625 [02:03<00:00,  5.05it/s]\n"
     ]
    },
    {
     "name": "stdout",
     "output_type": "stream",
     "text": [
      "Epoch 17 f1: 0.78773 val_f1: 0.84409\n",
      "         acc: 0.8296 val_acc: 0.86425\n",
      "         loss: 0.0010055 val_loss: 0.0043755\n",
      "\n"
     ]
    },
    {
     "name": "stderr",
     "output_type": "stream",
     "text": [
      "100%|██████████| 625/625 [02:03<00:00,  5.04it/s]\n"
     ]
    },
    {
     "name": "stdout",
     "output_type": "stream",
     "text": [
      "Epoch 18 f1: 0.8096 val_f1: 0.70161\n",
      "         acc: 0.8456 val_acc: 0.71371\n",
      "         loss: 0.0010029 val_loss: 0.0043702\n",
      "\n"
     ]
    },
    {
     "name": "stderr",
     "output_type": "stream",
     "text": [
      "100%|██████████| 625/625 [02:04<00:00,  5.04it/s]\n"
     ]
    },
    {
     "name": "stdout",
     "output_type": "stream",
     "text": [
      "Epoch 19 f1: 0.80587 val_f1: 0.79122\n",
      "         acc: 0.8448 val_acc: 0.81452\n",
      "         loss: 0.0010053 val_loss: 0.004892\n",
      "\n"
     ]
    },
    {
     "name": "stderr",
     "output_type": "stream",
     "text": [
      "100%|██████████| 625/625 [02:03<00:00,  5.04it/s]\n"
     ]
    },
    {
     "name": "stdout",
     "output_type": "stream",
     "text": [
      "Epoch 20 f1: 0.84 val_f1: 0.69176\n",
      "         acc: 0.8712 val_acc: 0.71102\n",
      "         loss: 0.0010028 val_loss: 0.0043653\n",
      "\n"
     ]
    },
    {
     "name": "stderr",
     "output_type": "stream",
     "text": [
      "100%|██████████| 625/625 [01:33<00:00,  6.69it/s]\n"
     ]
    },
    {
     "name": "stdout",
     "output_type": "stream",
     "text": [
      "Epoch 1 f1: 0.648 val_f1: 0.67204\n",
      "         acc: 0.7136 val_acc: 0.70968\n",
      "         loss: 0.0030788 val_loss: 0.0038459\n",
      "\n"
     ]
    },
    {
     "name": "stderr",
     "output_type": "stream",
     "text": [
      "100%|██████████| 625/625 [01:33<00:00,  6.68it/s]\n"
     ]
    },
    {
     "name": "stdout",
     "output_type": "stream",
     "text": [
      "Epoch 2 f1: 0.66667 val_f1: 0.68907\n",
      "         acc: 0.732 val_acc: 0.72312\n",
      "         loss: 0.0011071 val_loss: 0.0026262\n",
      "\n"
     ]
    },
    {
     "name": "stderr",
     "output_type": "stream",
     "text": [
      "100%|██████████| 625/625 [01:33<00:00,  6.71it/s]\n"
     ]
    },
    {
     "name": "stdout",
     "output_type": "stream",
     "text": [
      "Epoch 3 f1: 0.70827 val_f1: 0.82616\n",
      "         acc: 0.7656 val_acc: 0.84274\n",
      "         loss: 0.0011669 val_loss: 0.0016985\n",
      "\n"
     ]
    },
    {
     "name": "stderr",
     "output_type": "stream",
     "text": [
      "100%|██████████| 625/625 [01:33<00:00,  6.72it/s]\n"
     ]
    },
    {
     "name": "stdout",
     "output_type": "stream",
     "text": [
      "Epoch 4 f1: 0.70773 val_f1: 0.84498\n",
      "         acc: 0.7616 val_acc: 0.86559\n",
      "         loss: 0.0015908 val_loss: 0.004299\n",
      "\n"
     ]
    },
    {
     "name": "stderr",
     "output_type": "stream",
     "text": [
      "100%|██████████| 625/625 [01:33<00:00,  6.70it/s]\n"
     ]
    },
    {
     "name": "stdout",
     "output_type": "stream",
     "text": [
      "Epoch 5 f1: 0.76907 val_f1: 0.75448\n",
      "         acc: 0.812 val_acc: 0.78091\n",
      "         loss: 0.0026016 val_loss: 0.0019543\n",
      "\n"
     ]
    },
    {
     "name": "stderr",
     "output_type": "stream",
     "text": [
      "100%|██████████| 625/625 [01:33<00:00,  6.72it/s]\n"
     ]
    },
    {
     "name": "stdout",
     "output_type": "stream",
     "text": [
      "Epoch 6 f1: 0.75787 val_f1: 0.77509\n",
      "         acc: 0.8064 val_acc: 0.79167\n",
      "         loss: 0.0026238 val_loss: 0.0016842\n",
      "\n"
     ]
    },
    {
     "name": "stderr",
     "output_type": "stream",
     "text": [
      "100%|██████████| 625/625 [01:33<00:00,  6.70it/s]\n"
     ]
    },
    {
     "name": "stdout",
     "output_type": "stream",
     "text": [
      "Epoch 7 f1: 0.78453 val_f1: 0.83423\n",
      "         acc: 0.8264 val_acc: 0.85887\n",
      "         loss: 0.0015375 val_loss: 0.0043392\n",
      "\n"
     ]
    },
    {
     "name": "stderr",
     "output_type": "stream",
     "text": [
      "100%|██████████| 625/625 [01:33<00:00,  6.71it/s]\n"
     ]
    },
    {
     "name": "stdout",
     "output_type": "stream",
     "text": [
      "Epoch 8 f1: 0.79787 val_f1: 0.80376\n",
      "         acc: 0.836 val_acc: 0.81855\n",
      "         loss: 0.0026058 val_loss: 0.0016857\n",
      "\n"
     ]
    },
    {
     "name": "stderr",
     "output_type": "stream",
     "text": [
      "100%|██████████| 625/625 [01:33<00:00,  6.70it/s]\n"
     ]
    },
    {
     "name": "stdout",
     "output_type": "stream",
     "text": [
      "Epoch 9 f1: 0.7744 val_f1: 0.78405\n",
      "         acc: 0.8208 val_acc: 0.79973\n",
      "         loss: 0.0012209 val_loss: 0.0021442\n",
      "\n"
     ]
    },
    {
     "name": "stderr",
     "output_type": "stream",
     "text": [
      "100%|██████████| 625/625 [01:33<00:00,  6.67it/s]\n"
     ]
    },
    {
     "name": "stdout",
     "output_type": "stream",
     "text": [
      "Epoch 10 f1: 0.80853 val_f1: 0.75\n",
      "         acc: 0.8464 val_acc: 0.7621\n",
      "         loss: 0.0039472 val_loss: 0.0016842\n",
      "\n"
     ]
    },
    {
     "name": "stderr",
     "output_type": "stream",
     "text": [
      "100%|██████████| 625/625 [01:33<00:00,  6.71it/s]\n"
     ]
    },
    {
     "name": "stdout",
     "output_type": "stream",
     "text": [
      "Epoch 11 f1: 0.83733 val_f1: 0.76165\n",
      "         acc: 0.8672 val_acc: 0.77554\n",
      "         loss: 0.0010029 val_loss: 0.0016842\n",
      "\n"
     ]
    },
    {
     "name": "stderr",
     "output_type": "stream",
     "text": [
      "100%|██████████| 625/625 [01:33<00:00,  6.69it/s]\n"
     ]
    },
    {
     "name": "stdout",
     "output_type": "stream",
     "text": [
      "Epoch 12 f1: 0.80107 val_f1: 0.74104\n",
      "         acc: 0.8368 val_acc: 0.75269\n",
      "         loss: 0.0010935 val_loss: 0.0016842\n",
      "\n"
     ]
    },
    {
     "name": "stderr",
     "output_type": "stream",
     "text": [
      "100%|██████████| 625/625 [01:33<00:00,  6.69it/s]\n"
     ]
    },
    {
     "name": "stdout",
     "output_type": "stream",
     "text": [
      "Epoch 13 f1: 0.83307 val_f1: 0.78853\n",
      "         acc: 0.8632 val_acc: 0.79839\n",
      "         loss: 0.0010025 val_loss: 0.0016842\n",
      "\n"
     ]
    },
    {
     "name": "stderr",
     "output_type": "stream",
     "text": [
      "100%|██████████| 625/625 [01:33<00:00,  6.71it/s]\n"
     ]
    },
    {
     "name": "stdout",
     "output_type": "stream",
     "text": [
      "Epoch 14 f1: 0.84107 val_f1: 0.73297\n",
      "         acc: 0.8696 val_acc: 0.74866\n",
      "         loss: 0.0010112 val_loss: 0.0018742\n",
      "\n"
     ]
    },
    {
     "name": "stderr",
     "output_type": "stream",
     "text": [
      "100%|██████████| 625/625 [01:33<00:00,  6.71it/s]\n"
     ]
    },
    {
     "name": "stdout",
     "output_type": "stream",
     "text": [
      "Epoch 15 f1: 0.83947 val_f1: 0.73387\n",
      "         acc: 0.8696 val_acc: 0.74328\n",
      "         loss: 0.0041398 val_loss: 0.0016867\n",
      "\n"
     ]
    },
    {
     "name": "stderr",
     "output_type": "stream",
     "text": [
      "100%|██████████| 625/625 [01:33<00:00,  6.70it/s]\n"
     ]
    },
    {
     "name": "stdout",
     "output_type": "stream",
     "text": [
      "Epoch 16 f1: 0.84427 val_f1: 0.7948\n",
      "         acc: 0.8736 val_acc: 0.81586\n",
      "         loss: 0.0010026 val_loss: 0.0021927\n",
      "\n"
     ]
    },
    {
     "name": "stderr",
     "output_type": "stream",
     "text": [
      "100%|██████████| 625/625 [01:33<00:00,  6.68it/s]\n"
     ]
    },
    {
     "name": "stdout",
     "output_type": "stream",
     "text": [
      "Epoch 17 f1: 0.85013 val_f1: 0.7948\n",
      "         acc: 0.88 val_acc: 0.81183\n",
      "         loss: 0.0026027 val_loss: 0.001832\n",
      "\n"
     ]
    },
    {
     "name": "stderr",
     "output_type": "stream",
     "text": [
      "100%|██████████| 625/625 [01:33<00:00,  6.70it/s]\n"
     ]
    },
    {
     "name": "stdout",
     "output_type": "stream",
     "text": [
      "Epoch 18 f1: 0.8608 val_f1: 0.80556\n",
      "         acc: 0.8888 val_acc: 0.82527\n",
      "         loss: 0.001003 val_loss: 0.0016852\n",
      "\n"
     ]
    },
    {
     "name": "stderr",
     "output_type": "stream",
     "text": [
      "100%|██████████| 625/625 [01:33<00:00,  6.67it/s]\n"
     ]
    },
    {
     "name": "stdout",
     "output_type": "stream",
     "text": [
      "Epoch 19 f1: 0.8768 val_f1: 0.7724\n",
      "         acc: 0.8992 val_acc: 0.78898\n",
      "         loss: 0.0010026 val_loss: 0.0016842\n",
      "\n"
     ]
    },
    {
     "name": "stderr",
     "output_type": "stream",
     "text": [
      "100%|██████████| 625/625 [01:33<00:00,  6.70it/s]\n"
     ]
    },
    {
     "name": "stdout",
     "output_type": "stream",
     "text": [
      "Epoch 20 f1: 0.88693 val_f1: 0.75986\n",
      "         acc: 0.9096 val_acc: 0.77016\n",
      "         loss: 0.0010024 val_loss: 0.0016842\n",
      "\n"
     ]
    },
    {
     "name": "stderr",
     "output_type": "stream",
     "text": [
      "100%|██████████| 625/625 [02:38<00:00,  3.95it/s]\n"
     ]
    },
    {
     "name": "stdout",
     "output_type": "stream",
     "text": [
      "Epoch 1 f1: 0.62347 val_f1: 0.65681\n",
      "         acc: 0.6968 val_acc: 0.65726\n",
      "         loss: 0.0037151 val_loss: 0.0016842\n",
      "\n"
     ]
    },
    {
     "name": "stderr",
     "output_type": "stream",
     "text": [
      "100%|██████████| 625/625 [02:37<00:00,  3.96it/s]\n"
     ]
    },
    {
     "name": "stdout",
     "output_type": "stream",
     "text": [
      "Epoch 2 f1: 0.62827 val_f1: 0.65681\n",
      "         acc: 0.7024 val_acc: 0.65726\n",
      "         loss: 0.0010077 val_loss: 0.0016842\n",
      "\n"
     ]
    },
    {
     "name": "stderr",
     "output_type": "stream",
     "text": [
      "100%|██████████| 625/625 [02:38<00:00,  3.95it/s]\n"
     ]
    },
    {
     "name": "stdout",
     "output_type": "stream",
     "text": [
      "Epoch 3 f1: 0.63573 val_f1: 0.65681\n",
      "         acc: 0.704 val_acc: 0.65726\n",
      "         loss: 0.0010091 val_loss: 0.0016842\n",
      "\n"
     ]
    },
    {
     "name": "stderr",
     "output_type": "stream",
     "text": [
      "100%|██████████| 625/625 [02:38<00:00,  3.95it/s]\n"
     ]
    },
    {
     "name": "stdout",
     "output_type": "stream",
     "text": [
      "Epoch 4 f1: 0.63413 val_f1: 0.65681\n",
      "         acc: 0.704 val_acc: 0.65726\n",
      "         loss: 0.0024737 val_loss: 0.0016843\n",
      "\n"
     ]
    },
    {
     "name": "stderr",
     "output_type": "stream",
     "text": [
      "100%|██████████| 625/625 [02:37<00:00,  3.96it/s]\n"
     ]
    },
    {
     "name": "stdout",
     "output_type": "stream",
     "text": [
      "Epoch 5 f1: 0.63147 val_f1: 0.65681\n",
      "         acc: 0.704 val_acc: 0.65726\n",
      "         loss: 0.00258 val_loss: 0.0016842\n",
      "\n"
     ]
    },
    {
     "name": "stderr",
     "output_type": "stream",
     "text": [
      "100%|██████████| 625/625 [02:38<00:00,  3.95it/s]\n"
     ]
    },
    {
     "name": "stdout",
     "output_type": "stream",
     "text": [
      "Epoch 6 f1: 0.63467 val_f1: 0.65681\n",
      "         acc: 0.704 val_acc: 0.65726\n",
      "         loss: 0.0010194 val_loss: 0.0016842\n",
      "\n"
     ]
    },
    {
     "name": "stderr",
     "output_type": "stream",
     "text": [
      "100%|██████████| 625/625 [02:38<00:00,  3.95it/s]\n"
     ]
    },
    {
     "name": "stdout",
     "output_type": "stream",
     "text": [
      "Epoch 7 f1: 0.64 val_f1: 0.65681\n",
      "         acc: 0.704 val_acc: 0.65726\n",
      "         loss: 0.0013246 val_loss: 0.0023536\n",
      "\n"
     ]
    },
    {
     "name": "stderr",
     "output_type": "stream",
     "text": [
      "100%|██████████| 625/625 [02:38<00:00,  3.94it/s]\n"
     ]
    },
    {
     "name": "stdout",
     "output_type": "stream",
     "text": [
      "Epoch 8 f1: 0.6336 val_f1: 0.65681\n",
      "         acc: 0.704 val_acc: 0.65726\n",
      "         loss: 0.0012996 val_loss: 0.0016842\n",
      "\n"
     ]
    },
    {
     "name": "stderr",
     "output_type": "stream",
     "text": [
      "100%|██████████| 625/625 [02:38<00:00,  3.94it/s]\n"
     ]
    },
    {
     "name": "stdout",
     "output_type": "stream",
     "text": [
      "Epoch 9 f1: 0.62827 val_f1: 0.65681\n",
      "         acc: 0.704 val_acc: 0.65726\n",
      "         loss: 0.0026051 val_loss: 0.0016842\n",
      "\n"
     ]
    },
    {
     "name": "stderr",
     "output_type": "stream",
     "text": [
      "100%|██████████| 625/625 [02:38<00:00,  3.95it/s]\n"
     ]
    },
    {
     "name": "stdout",
     "output_type": "stream",
     "text": [
      "Epoch 10 f1: 0.6336 val_f1: 0.65681\n",
      "         acc: 0.704 val_acc: 0.65726\n",
      "         loss: 0.0026027 val_loss: 0.0016843\n",
      "\n"
     ]
    },
    {
     "name": "stderr",
     "output_type": "stream",
     "text": [
      "100%|██████████| 625/625 [02:38<00:00,  3.94it/s]\n"
     ]
    },
    {
     "name": "stdout",
     "output_type": "stream",
     "text": [
      "Epoch 11 f1: 0.63307 val_f1: 0.65681\n",
      "         acc: 0.704 val_acc: 0.65726\n",
      "         loss: 0.0026026 val_loss: 0.0016842\n",
      "\n"
     ]
    },
    {
     "name": "stderr",
     "output_type": "stream",
     "text": [
      "100%|██████████| 625/625 [02:38<00:00,  3.95it/s]\n"
     ]
    },
    {
     "name": "stdout",
     "output_type": "stream",
     "text": [
      "Epoch 12 f1: 0.62987 val_f1: 0.65681\n",
      "         acc: 0.704 val_acc: 0.65726\n",
      "         loss: 0.0010029 val_loss: 0.0016842\n",
      "\n"
     ]
    },
    {
     "name": "stderr",
     "output_type": "stream",
     "text": [
      "100%|██████████| 625/625 [02:38<00:00,  3.94it/s]\n"
     ]
    },
    {
     "name": "stdout",
     "output_type": "stream",
     "text": [
      "Epoch 13 f1: 0.63253 val_f1: 0.65681\n",
      "         acc: 0.704 val_acc: 0.65726\n",
      "         loss: 0.0012109 val_loss: 0.0016842\n",
      "\n"
     ]
    },
    {
     "name": "stderr",
     "output_type": "stream",
     "text": [
      "100%|██████████| 625/625 [02:38<00:00,  3.94it/s]\n"
     ]
    },
    {
     "name": "stdout",
     "output_type": "stream",
     "text": [
      "Epoch 14 f1: 0.63627 val_f1: 0.65681\n",
      "         acc: 0.704 val_acc: 0.65726\n",
      "         loss: 0.0010291 val_loss: 0.0016842\n",
      "\n"
     ]
    },
    {
     "name": "stderr",
     "output_type": "stream",
     "text": [
      "100%|██████████| 625/625 [02:38<00:00,  3.95it/s]\n"
     ]
    },
    {
     "name": "stdout",
     "output_type": "stream",
     "text": [
      "Epoch 15 f1: 0.6352 val_f1: 0.65681\n",
      "         acc: 0.704 val_acc: 0.65726\n",
      "         loss: 0.0010194 val_loss: 0.0016842\n",
      "\n"
     ]
    },
    {
     "name": "stderr",
     "output_type": "stream",
     "text": [
      "100%|██████████| 625/625 [02:38<00:00,  3.94it/s]\n"
     ]
    },
    {
     "name": "stdout",
     "output_type": "stream",
     "text": [
      "Epoch 16 f1: 0.6368 val_f1: 0.65681\n",
      "         acc: 0.704 val_acc: 0.65726\n",
      "         loss: 0.0010038 val_loss: 0.0016842\n",
      "\n"
     ]
    },
    {
     "name": "stderr",
     "output_type": "stream",
     "text": [
      "100%|██████████| 625/625 [02:38<00:00,  3.94it/s]\n"
     ]
    },
    {
     "name": "stdout",
     "output_type": "stream",
     "text": [
      "Epoch 17 f1: 0.63893 val_f1: 0.65681\n",
      "         acc: 0.704 val_acc: 0.65726\n",
      "         loss: 0.0010029 val_loss: 0.0016842\n",
      "\n"
     ]
    },
    {
     "name": "stderr",
     "output_type": "stream",
     "text": [
      "100%|██████████| 625/625 [02:38<00:00,  3.94it/s]\n"
     ]
    },
    {
     "name": "stdout",
     "output_type": "stream",
     "text": [
      "Epoch 18 f1: 0.62933 val_f1: 0.65681\n",
      "         acc: 0.704 val_acc: 0.65726\n",
      "         loss: 0.0010026 val_loss: 0.0016842\n",
      "\n"
     ]
    },
    {
     "name": "stderr",
     "output_type": "stream",
     "text": [
      "100%|██████████| 625/625 [02:38<00:00,  3.94it/s]\n"
     ]
    },
    {
     "name": "stdout",
     "output_type": "stream",
     "text": [
      "Epoch 19 f1: 0.63627 val_f1: 0.65681\n",
      "         acc: 0.704 val_acc: 0.65726\n",
      "         loss: 0.0025916 val_loss: 0.0016842\n",
      "\n"
     ]
    },
    {
     "name": "stderr",
     "output_type": "stream",
     "text": [
      "100%|██████████| 625/625 [02:38<00:00,  3.94it/s]\n"
     ]
    },
    {
     "name": "stdout",
     "output_type": "stream",
     "text": [
      "Epoch 20 f1: 0.62987 val_f1: 0.65681\n",
      "         acc: 0.704 val_acc: 0.65726\n",
      "         loss: 0.001003 val_loss: 0.0016842\n",
      "\n"
     ]
    },
    {
     "name": "stderr",
     "output_type": "stream",
     "text": [
      "100%|██████████| 625/625 [02:38<00:00,  3.95it/s]\n"
     ]
    },
    {
     "name": "stdout",
     "output_type": "stream",
     "text": [
      "Epoch 21 f1: 0.63413 val_f1: 0.65681\n",
      "         acc: 0.704 val_acc: 0.65726\n",
      "         loss: 0.0010025 val_loss: 0.0016848\n",
      "\n"
     ]
    },
    {
     "name": "stderr",
     "output_type": "stream",
     "text": [
      "100%|██████████| 625/625 [02:39<00:00,  3.93it/s]\n"
     ]
    },
    {
     "name": "stdout",
     "output_type": "stream",
     "text": [
      "Epoch 22 f1: 0.63147 val_f1: 0.65681\n",
      "         acc: 0.704 val_acc: 0.65726\n",
      "         loss: 0.0010026 val_loss: 0.0016842\n",
      "\n"
     ]
    },
    {
     "name": "stderr",
     "output_type": "stream",
     "text": [
      "100%|██████████| 625/625 [02:38<00:00,  3.94it/s]\n"
     ]
    },
    {
     "name": "stdout",
     "output_type": "stream",
     "text": [
      "Epoch 23 f1: 0.62987 val_f1: 0.65681\n",
      "         acc: 0.704 val_acc: 0.65726\n",
      "         loss: 0.0010025 val_loss: 0.0016842\n",
      "\n"
     ]
    },
    {
     "name": "stderr",
     "output_type": "stream",
     "text": [
      "100%|██████████| 625/625 [02:38<00:00,  3.94it/s]\n"
     ]
    },
    {
     "name": "stdout",
     "output_type": "stream",
     "text": [
      "Epoch 24 f1: 0.63093 val_f1: 0.65681\n",
      "         acc: 0.704 val_acc: 0.65726\n",
      "         loss: 0.0010025 val_loss: 0.0016842\n",
      "\n"
     ]
    },
    {
     "name": "stderr",
     "output_type": "stream",
     "text": [
      "100%|██████████| 625/625 [02:38<00:00,  3.94it/s]\n"
     ]
    },
    {
     "name": "stdout",
     "output_type": "stream",
     "text": [
      "Epoch 25 f1: 0.6352 val_f1: 0.65681\n",
      "         acc: 0.704 val_acc: 0.65726\n",
      "         loss: 0.0026025 val_loss: 0.0016842\n",
      "\n"
     ]
    },
    {
     "name": "stderr",
     "output_type": "stream",
     "text": [
      "100%|██████████| 625/625 [02:38<00:00,  3.93it/s]\n"
     ]
    },
    {
     "name": "stdout",
     "output_type": "stream",
     "text": [
      "Epoch 26 f1: 0.63467 val_f1: 0.65681\n",
      "         acc: 0.704 val_acc: 0.65726\n",
      "         loss: 0.0010025 val_loss: 0.0016842\n",
      "\n"
     ]
    },
    {
     "name": "stderr",
     "output_type": "stream",
     "text": [
      "100%|██████████| 625/625 [02:38<00:00,  3.94it/s]\n"
     ]
    },
    {
     "name": "stdout",
     "output_type": "stream",
     "text": [
      "Epoch 27 f1: 0.63573 val_f1: 0.65681\n",
      "         acc: 0.704 val_acc: 0.65726\n",
      "         loss: 0.0026025 val_loss: 0.0016843\n",
      "\n"
     ]
    },
    {
     "name": "stderr",
     "output_type": "stream",
     "text": [
      "100%|██████████| 625/625 [02:38<00:00,  3.94it/s]\n"
     ]
    },
    {
     "name": "stdout",
     "output_type": "stream",
     "text": [
      "Epoch 28 f1: 0.63413 val_f1: 0.65681\n",
      "         acc: 0.704 val_acc: 0.65726\n",
      "         loss: 0.0010025 val_loss: 0.0016842\n",
      "\n"
     ]
    },
    {
     "name": "stderr",
     "output_type": "stream",
     "text": [
      "100%|██████████| 625/625 [02:38<00:00,  3.94it/s]\n"
     ]
    },
    {
     "name": "stdout",
     "output_type": "stream",
     "text": [
      "Epoch 29 f1: 0.63307 val_f1: 0.65681\n",
      "         acc: 0.704 val_acc: 0.65726\n",
      "         loss: 0.0010024 val_loss: 0.0016842\n",
      "\n"
     ]
    },
    {
     "name": "stderr",
     "output_type": "stream",
     "text": [
      "100%|██████████| 625/625 [02:38<00:00,  3.93it/s]\n"
     ]
    },
    {
     "name": "stdout",
     "output_type": "stream",
     "text": [
      "Epoch 30 f1: 0.6352 val_f1: 0.65681\n",
      "         acc: 0.704 val_acc: 0.65726\n",
      "         loss: 0.0026024 val_loss: 0.0016842\n",
      "\n"
     ]
    },
    {
     "name": "stderr",
     "output_type": "stream",
     "text": [
      "100%|██████████| 625/625 [02:39<00:00,  3.93it/s]\n"
     ]
    },
    {
     "name": "stdout",
     "output_type": "stream",
     "text": [
      "Epoch 31 f1: 0.63147 val_f1: 0.65681\n",
      "         acc: 0.704 val_acc: 0.65726\n",
      "         loss: 0.0010025 val_loss: 0.0016901\n",
      "\n"
     ]
    },
    {
     "name": "stderr",
     "output_type": "stream",
     "text": [
      "100%|██████████| 625/625 [02:38<00:00,  3.93it/s]\n"
     ]
    },
    {
     "name": "stdout",
     "output_type": "stream",
     "text": [
      "Epoch 32 f1: 0.63253 val_f1: 0.65681\n",
      "         acc: 0.704 val_acc: 0.65726\n",
      "         loss: 0.0026024 val_loss: 0.0016845\n",
      "\n"
     ]
    },
    {
     "name": "stderr",
     "output_type": "stream",
     "text": [
      "100%|██████████| 625/625 [02:38<00:00,  3.94it/s]\n"
     ]
    },
    {
     "name": "stdout",
     "output_type": "stream",
     "text": [
      "Epoch 33 f1: 0.63253 val_f1: 0.65681\n",
      "         acc: 0.704 val_acc: 0.65726\n",
      "         loss: 0.0010024 val_loss: 0.0016848\n",
      "\n"
     ]
    },
    {
     "name": "stderr",
     "output_type": "stream",
     "text": [
      "100%|██████████| 625/625 [02:38<00:00,  3.94it/s]\n"
     ]
    },
    {
     "name": "stdout",
     "output_type": "stream",
     "text": [
      "Epoch 34 f1: 0.63627 val_f1: 0.65681\n",
      "         acc: 0.704 val_acc: 0.65726\n",
      "         loss: 0.0010025 val_loss: 0.0016842\n",
      "\n"
     ]
    },
    {
     "name": "stderr",
     "output_type": "stream",
     "text": [
      "100%|██████████| 625/625 [02:38<00:00,  3.94it/s]\n"
     ]
    },
    {
     "name": "stdout",
     "output_type": "stream",
     "text": [
      "Epoch 35 f1: 0.62987 val_f1: 0.65681\n",
      "         acc: 0.704 val_acc: 0.65726\n",
      "         loss: 0.0026024 val_loss: 0.0016844\n",
      "\n"
     ]
    },
    {
     "name": "stderr",
     "output_type": "stream",
     "text": [
      "100%|██████████| 625/625 [02:38<00:00,  3.93it/s]\n"
     ]
    },
    {
     "name": "stdout",
     "output_type": "stream",
     "text": [
      "Epoch 36 f1: 0.63573 val_f1: 0.65681\n",
      "         acc: 0.704 val_acc: 0.65726\n",
      "         loss: 0.0010024 val_loss: 0.0016843\n",
      "\n"
     ]
    },
    {
     "name": "stderr",
     "output_type": "stream",
     "text": [
      "100%|██████████| 625/625 [02:38<00:00,  3.93it/s]\n"
     ]
    },
    {
     "name": "stdout",
     "output_type": "stream",
     "text": [
      "Epoch 37 f1: 0.63573 val_f1: 0.65681\n",
      "         acc: 0.704 val_acc: 0.65726\n",
      "         loss: 0.0042024 val_loss: 0.0016842\n",
      "\n"
     ]
    },
    {
     "name": "stderr",
     "output_type": "stream",
     "text": [
      "100%|██████████| 625/625 [02:38<00:00,  3.93it/s]\n"
     ]
    },
    {
     "name": "stdout",
     "output_type": "stream",
     "text": [
      "Epoch 38 f1: 0.6352 val_f1: 0.65681\n",
      "         acc: 0.704 val_acc: 0.65726\n",
      "         loss: 0.0026024 val_loss: 0.0016842\n",
      "\n"
     ]
    },
    {
     "name": "stderr",
     "output_type": "stream",
     "text": [
      "100%|██████████| 625/625 [02:39<00:00,  3.93it/s]\n"
     ]
    },
    {
     "name": "stdout",
     "output_type": "stream",
     "text": [
      "Epoch 39 f1: 0.63253 val_f1: 0.65681\n",
      "         acc: 0.704 val_acc: 0.65726\n",
      "         loss: 0.0010024 val_loss: 0.0016842\n",
      "\n"
     ]
    },
    {
     "name": "stderr",
     "output_type": "stream",
     "text": [
      "100%|██████████| 625/625 [02:38<00:00,  3.93it/s]\n"
     ]
    },
    {
     "name": "stdout",
     "output_type": "stream",
     "text": [
      "Epoch 40 f1: 0.6304 val_f1: 0.65681\n",
      "         acc: 0.704 val_acc: 0.65726\n",
      "         loss: 0.0010024 val_loss: 0.0016842\n",
      "\n"
     ]
    },
    {
     "name": "stderr",
     "output_type": "stream",
     "text": [
      "100%|██████████| 625/625 [02:03<00:00,  5.06it/s]\n"
     ]
    },
    {
     "name": "stdout",
     "output_type": "stream",
     "text": [
      "Epoch 1 f1: 0.62187 val_f1: 0.65681\n",
      "         acc: 0.6904 val_acc: 0.65726\n",
      "         loss: 0.0016345 val_loss: 0.0021076\n",
      "\n"
     ]
    },
    {
     "name": "stderr",
     "output_type": "stream",
     "text": [
      "100%|██████████| 625/625 [02:03<00:00,  5.07it/s]\n"
     ]
    },
    {
     "name": "stdout",
     "output_type": "stream",
     "text": [
      "Epoch 2 f1: 0.62507 val_f1: 0.65681\n",
      "         acc: 0.6992 val_acc: 0.65726\n",
      "         loss: 0.0026356 val_loss: 0.0021775\n",
      "\n"
     ]
    },
    {
     "name": "stderr",
     "output_type": "stream",
     "text": [
      "100%|██████████| 625/625 [02:03<00:00,  5.06it/s]\n"
     ]
    },
    {
     "name": "stdout",
     "output_type": "stream",
     "text": [
      "Epoch 3 f1: 0.63733 val_f1: 0.61111\n",
      "         acc: 0.7048 val_acc: 0.65054\n",
      "         loss: 0.0022433 val_loss: 0.0044574\n",
      "\n"
     ]
    },
    {
     "name": "stderr",
     "output_type": "stream",
     "text": [
      "100%|██████████| 625/625 [02:03<00:00,  5.06it/s]\n"
     ]
    },
    {
     "name": "stdout",
     "output_type": "stream",
     "text": [
      "Epoch 4 f1: 0.6 val_f1: 0.65681\n",
      "         acc: 0.6744 val_acc: 0.65726\n",
      "         loss: 0.001255 val_loss: 0.0016842\n",
      "\n"
     ]
    },
    {
     "name": "stderr",
     "output_type": "stream",
     "text": [
      "100%|██████████| 625/625 [02:03<00:00,  5.06it/s]\n"
     ]
    },
    {
     "name": "stdout",
     "output_type": "stream",
     "text": [
      "Epoch 5 f1: 0.624 val_f1: 0.55018\n",
      "         acc: 0.6968 val_acc: 0.57124\n",
      "         loss: 0.0017923 val_loss: 0.0038796\n",
      "\n"
     ]
    },
    {
     "name": "stderr",
     "output_type": "stream",
     "text": [
      "100%|██████████| 625/625 [02:03<00:00,  5.05it/s]\n"
     ]
    },
    {
     "name": "stdout",
     "output_type": "stream",
     "text": [
      "Epoch 6 f1: 0.62133 val_f1: 0.65681\n",
      "         acc: 0.6952 val_acc: 0.65726\n",
      "         loss: 0.0021677 val_loss: 0.0019395\n",
      "\n"
     ]
    },
    {
     "name": "stderr",
     "output_type": "stream",
     "text": [
      "100%|██████████| 625/625 [02:03<00:00,  5.06it/s]\n"
     ]
    },
    {
     "name": "stdout",
     "output_type": "stream",
     "text": [
      "Epoch 7 f1: 0.61653 val_f1: 0.65591\n",
      "         acc: 0.6952 val_acc: 0.68011\n",
      "         loss: 0.0016619 val_loss: 0.0040232\n",
      "\n"
     ]
    },
    {
     "name": "stderr",
     "output_type": "stream",
     "text": [
      "100%|██████████| 625/625 [02:03<00:00,  5.07it/s]\n"
     ]
    },
    {
     "name": "stdout",
     "output_type": "stream",
     "text": [
      "Epoch 8 f1: 0.5968 val_f1: 0.76434\n",
      "         acc: 0.6752 val_acc: 0.77419\n",
      "         loss: 0.0017755 val_loss: 0.0028159\n",
      "\n"
     ]
    },
    {
     "name": "stderr",
     "output_type": "stream",
     "text": [
      "100%|██████████| 625/625 [02:03<00:00,  5.06it/s]\n"
     ]
    },
    {
     "name": "stdout",
     "output_type": "stream",
     "text": [
      "Epoch 9 f1: 0.6048 val_f1: 0.70968\n",
      "         acc: 0.6872 val_acc: 0.73522\n",
      "         loss: 0.0016985 val_loss: 0.0031482\n",
      "\n"
     ]
    },
    {
     "name": "stderr",
     "output_type": "stream",
     "text": [
      "100%|██████████| 625/625 [02:03<00:00,  5.06it/s]\n"
     ]
    },
    {
     "name": "stdout",
     "output_type": "stream",
     "text": [
      "Epoch 10 f1: 0.60053 val_f1: 0.69444\n",
      "         acc: 0.6816 val_acc: 0.71774\n",
      "         loss: 0.0016942 val_loss: 0.0042083\n",
      "\n"
     ]
    },
    {
     "name": "stderr",
     "output_type": "stream",
     "text": [
      "100%|██████████| 625/625 [02:03<00:00,  5.06it/s]\n"
     ]
    },
    {
     "name": "stdout",
     "output_type": "stream",
     "text": [
      "Epoch 11 f1: 0.64853 val_f1: 0.73477\n",
      "         acc: 0.7176 val_acc: 0.75\n",
      "         loss: 0.0016148 val_loss: 0.0029839\n",
      "\n"
     ]
    },
    {
     "name": "stderr",
     "output_type": "stream",
     "text": [
      "100%|██████████| 625/625 [02:03<00:00,  5.06it/s]\n"
     ]
    },
    {
     "name": "stdout",
     "output_type": "stream",
     "text": [
      "Epoch 12 f1: 0.62133 val_f1: 0.71326\n",
      "         acc: 0.6936 val_acc: 0.72849\n",
      "         loss: 0.0019199 val_loss: 0.003318\n",
      "\n"
     ]
    },
    {
     "name": "stderr",
     "output_type": "stream",
     "text": [
      "100%|██████████| 625/625 [02:03<00:00,  5.06it/s]\n"
     ]
    },
    {
     "name": "stdout",
     "output_type": "stream",
     "text": [
      "Epoch 13 f1: 0.62507 val_f1: 0.70609\n",
      "         acc: 0.7016 val_acc: 0.72984\n",
      "         loss: 0.0030242 val_loss: 0.0044143\n",
      "\n"
     ]
    },
    {
     "name": "stderr",
     "output_type": "stream",
     "text": [
      "100%|██████████| 625/625 [02:03<00:00,  5.05it/s]\n"
     ]
    },
    {
     "name": "stdout",
     "output_type": "stream",
     "text": [
      "Epoch 14 f1: 0.632 val_f1: 0.66846\n",
      "         acc: 0.7072 val_acc: 0.69489\n",
      "         loss: 0.0013487 val_loss: 0.0054864\n",
      "\n"
     ]
    },
    {
     "name": "stderr",
     "output_type": "stream",
     "text": [
      "100%|██████████| 625/625 [02:03<00:00,  5.06it/s]\n"
     ]
    },
    {
     "name": "stdout",
     "output_type": "stream",
     "text": [
      "Epoch 15 f1: 0.6432 val_f1: 0.67025\n",
      "         acc: 0.7104 val_acc: 0.6922\n",
      "         loss: 0.0015918 val_loss: 0.0046203\n",
      "\n"
     ]
    },
    {
     "name": "stderr",
     "output_type": "stream",
     "text": [
      "100%|██████████| 625/625 [02:03<00:00,  5.05it/s]\n"
     ]
    },
    {
     "name": "stdout",
     "output_type": "stream",
     "text": [
      "Epoch 16 f1: 0.6384 val_f1: 0.62366\n",
      "         acc: 0.7128 val_acc: 0.65591\n",
      "         loss: 0.001195 val_loss: 0.0035068\n",
      "\n"
     ]
    },
    {
     "name": "stderr",
     "output_type": "stream",
     "text": [
      "100%|██████████| 625/625 [02:03<00:00,  5.05it/s]\n"
     ]
    },
    {
     "name": "stdout",
     "output_type": "stream",
     "text": [
      "Epoch 17 f1: 0.64587 val_f1: 0.71237\n",
      "         acc: 0.7176 val_acc: 0.72849\n",
      "         loss: 0.0013589 val_loss: 0.0056156\n",
      "\n"
     ]
    },
    {
     "name": "stderr",
     "output_type": "stream",
     "text": [
      "100%|██████████| 625/625 [02:03<00:00,  5.06it/s]\n"
     ]
    },
    {
     "name": "stdout",
     "output_type": "stream",
     "text": [
      "Epoch 18 f1: 0.62293 val_f1: 0.681\n",
      "         acc: 0.7 val_acc: 0.71102\n",
      "         loss: 0.001722 val_loss: 0.0033025\n",
      "\n"
     ]
    },
    {
     "name": "stderr",
     "output_type": "stream",
     "text": [
      "100%|██████████| 625/625 [02:03<00:00,  5.06it/s]\n"
     ]
    },
    {
     "name": "stdout",
     "output_type": "stream",
     "text": [
      "Epoch 19 f1: 0.67147 val_f1: 0.59767\n",
      "         acc: 0.7408 val_acc: 0.62769\n",
      "         loss: 0.0011768 val_loss: 0.0038467\n",
      "\n"
     ]
    },
    {
     "name": "stderr",
     "output_type": "stream",
     "text": [
      "100%|██████████| 625/625 [02:03<00:00,  5.06it/s]\n"
     ]
    },
    {
     "name": "stdout",
     "output_type": "stream",
     "text": [
      "Epoch 20 f1: 0.68213 val_f1: 0.7052\n",
      "         acc: 0.7432 val_acc: 0.72984\n",
      "         loss: 0.0033891 val_loss: 0.0031908\n",
      "\n"
     ]
    },
    {
     "name": "stderr",
     "output_type": "stream",
     "text": [
      "100%|██████████| 625/625 [02:03<00:00,  5.07it/s]\n"
     ]
    },
    {
     "name": "stdout",
     "output_type": "stream",
     "text": [
      "Epoch 21 f1: 0.68853 val_f1: 0.72491\n",
      "         acc: 0.752 val_acc: 0.7379\n",
      "         loss: 0.0011843 val_loss: 0.0054233\n",
      "\n"
     ]
    },
    {
     "name": "stderr",
     "output_type": "stream",
     "text": [
      "100%|██████████| 625/625 [02:03<00:00,  5.05it/s]\n"
     ]
    },
    {
     "name": "stdout",
     "output_type": "stream",
     "text": [
      "Epoch 22 f1: 0.69173 val_f1: 0.71595\n",
      "         acc: 0.752 val_acc: 0.73253\n",
      "         loss: 0.0031841 val_loss: 0.0035733\n",
      "\n"
     ]
    },
    {
     "name": "stderr",
     "output_type": "stream",
     "text": [
      "100%|██████████| 625/625 [02:03<00:00,  5.05it/s]\n"
     ]
    },
    {
     "name": "stdout",
     "output_type": "stream",
     "text": [
      "Epoch 23 f1: 0.69227 val_f1: 0.77151\n",
      "         acc: 0.756 val_acc: 0.79032\n",
      "         loss: 0.0010848 val_loss: 0.0051205\n",
      "\n"
     ]
    },
    {
     "name": "stderr",
     "output_type": "stream",
     "text": [
      "100%|██████████| 625/625 [02:03<00:00,  5.07it/s]\n"
     ]
    },
    {
     "name": "stdout",
     "output_type": "stream",
     "text": [
      "Epoch 24 f1: 0.6976 val_f1: 0.73925\n",
      "         acc: 0.7568 val_acc: 0.75941\n",
      "         loss: 0.0010701 val_loss: 0.0059077\n",
      "\n"
     ]
    },
    {
     "name": "stderr",
     "output_type": "stream",
     "text": [
      "100%|██████████| 625/625 [02:03<00:00,  5.05it/s]\n"
     ]
    },
    {
     "name": "stdout",
     "output_type": "stream",
     "text": [
      "Epoch 25 f1: 0.72 val_f1: 0.74462\n",
      "         acc: 0.776 val_acc: 0.76478\n",
      "         loss: 0.0028665 val_loss: 0.0054792\n",
      "\n"
     ]
    },
    {
     "name": "stderr",
     "output_type": "stream",
     "text": [
      "100%|██████████| 625/625 [02:03<00:00,  5.05it/s]\n"
     ]
    },
    {
     "name": "stdout",
     "output_type": "stream",
     "text": [
      "Epoch 26 f1: 0.70827 val_f1: 0.78405\n",
      "         acc: 0.7656 val_acc: 0.79973\n",
      "         loss: 0.0010578 val_loss: 0.0047401\n",
      "\n"
     ]
    },
    {
     "name": "stderr",
     "output_type": "stream",
     "text": [
      "100%|██████████| 625/625 [02:03<00:00,  5.05it/s]\n"
     ]
    },
    {
     "name": "stdout",
     "output_type": "stream",
     "text": [
      "Epoch 27 f1: 0.72053 val_f1: 0.7276\n",
      "         acc: 0.7744 val_acc: 0.75\n",
      "         loss: 0.0031966 val_loss: 0.0059187\n",
      "\n"
     ]
    },
    {
     "name": "stderr",
     "output_type": "stream",
     "text": [
      "100%|██████████| 625/625 [02:03<00:00,  5.05it/s]\n"
     ]
    },
    {
     "name": "stdout",
     "output_type": "stream",
     "text": [
      "Epoch 28 f1: 0.73387 val_f1: 0.7267\n",
      "         acc: 0.788 val_acc: 0.74194\n",
      "         loss: 0.0010077 val_loss: 0.0060102\n",
      "\n"
     ]
    },
    {
     "name": "stderr",
     "output_type": "stream",
     "text": [
      "100%|██████████| 625/625 [02:03<00:00,  5.06it/s]\n"
     ]
    },
    {
     "name": "stdout",
     "output_type": "stream",
     "text": [
      "Epoch 29 f1: 0.7472 val_f1: 0.76882\n",
      "         acc: 0.796 val_acc: 0.7836\n",
      "         loss: 0.0041667 val_loss: 0.0060699\n",
      "\n"
     ]
    },
    {
     "name": "stderr",
     "output_type": "stream",
     "text": [
      "100%|██████████| 625/625 [02:03<00:00,  5.05it/s]\n"
     ]
    },
    {
     "name": "stdout",
     "output_type": "stream",
     "text": [
      "Epoch 30 f1: 0.7248 val_f1: 0.73387\n",
      "         acc: 0.7824 val_acc: 0.75269\n",
      "         loss: 0.0010483 val_loss: 0.0066676\n",
      "\n"
     ]
    },
    {
     "name": "stderr",
     "output_type": "stream",
     "text": [
      "100%|██████████| 625/625 [02:03<00:00,  5.05it/s]\n"
     ]
    },
    {
     "name": "stdout",
     "output_type": "stream",
     "text": [
      "Epoch 31 f1: 0.75413 val_f1: 0.72401\n",
      "         acc: 0.8032 val_acc: 0.74328\n",
      "         loss: 0.0010037 val_loss: 0.0067451\n",
      "\n"
     ]
    },
    {
     "name": "stderr",
     "output_type": "stream",
     "text": [
      "100%|██████████| 625/625 [02:03<00:00,  5.06it/s]\n"
     ]
    },
    {
     "name": "stdout",
     "output_type": "stream",
     "text": [
      "Epoch 32 f1: 0.76267 val_f1: 0.78136\n",
      "         acc: 0.8088 val_acc: 0.79839\n",
      "         loss: 0.0011106 val_loss: 0.0052657\n",
      "\n"
     ]
    },
    {
     "name": "stderr",
     "output_type": "stream",
     "text": [
      "100%|██████████| 625/625 [02:03<00:00,  5.06it/s]\n"
     ]
    },
    {
     "name": "stdout",
     "output_type": "stream",
     "text": [
      "Epoch 33 f1: 0.74507 val_f1: 0.74731\n",
      "         acc: 0.7992 val_acc: 0.76613\n",
      "         loss: 0.0031267 val_loss: 0.0065552\n",
      "\n"
     ]
    },
    {
     "name": "stderr",
     "output_type": "stream",
     "text": [
      "100%|██████████| 625/625 [02:03<00:00,  5.05it/s]\n"
     ]
    },
    {
     "name": "stdout",
     "output_type": "stream",
     "text": [
      "Epoch 34 f1: 0.73813 val_f1: 0.77599\n",
      "         acc: 0.7912 val_acc: 0.79301\n",
      "         loss: 0.0023964 val_loss: 0.0061606\n",
      "\n"
     ]
    },
    {
     "name": "stderr",
     "output_type": "stream",
     "text": [
      "100%|██████████| 625/625 [02:03<00:00,  5.07it/s]\n"
     ]
    },
    {
     "name": "stdout",
     "output_type": "stream",
     "text": [
      "Epoch 35 f1: 0.752 val_f1: 0.81093\n",
      "         acc: 0.8048 val_acc: 0.81989\n",
      "         loss: 0.0010212 val_loss: 0.0042966\n",
      "\n"
     ]
    },
    {
     "name": "stderr",
     "output_type": "stream",
     "text": [
      "100%|██████████| 625/625 [02:03<00:00,  5.06it/s]\n"
     ]
    },
    {
     "name": "stdout",
     "output_type": "stream",
     "text": [
      "Epoch 36 f1: 0.76427 val_f1: 0.80018\n",
      "         acc: 0.8144 val_acc: 0.81183\n",
      "         loss: 0.0026043 val_loss: 0.0044211\n",
      "\n"
     ]
    },
    {
     "name": "stderr",
     "output_type": "stream",
     "text": [
      "100%|██████████| 625/625 [02:03<00:00,  5.05it/s]\n"
     ]
    },
    {
     "name": "stdout",
     "output_type": "stream",
     "text": [
      "Epoch 37 f1: 0.7472 val_f1: 0.7267\n",
      "         acc: 0.8 val_acc: 0.74462\n",
      "         loss: 0.0010132 val_loss: 0.0067617\n",
      "\n"
     ]
    },
    {
     "name": "stderr",
     "output_type": "stream",
     "text": [
      "100%|██████████| 625/625 [02:03<00:00,  5.05it/s]\n"
     ]
    },
    {
     "name": "stdout",
     "output_type": "stream",
     "text": [
      "Epoch 38 f1: 0.75947 val_f1: 0.7957\n",
      "         acc: 0.8072 val_acc: 0.80511\n",
      "         loss: 0.0010067 val_loss: 0.0039315\n",
      "\n"
     ]
    },
    {
     "name": "stderr",
     "output_type": "stream",
     "text": [
      "100%|██████████| 625/625 [02:03<00:00,  5.06it/s]\n"
     ]
    },
    {
     "name": "stdout",
     "output_type": "stream",
     "text": [
      "Epoch 39 f1: 0.7696 val_f1: 0.77419\n",
      "         acc: 0.8168 val_acc: 0.78898\n",
      "         loss: 0.0010035 val_loss: 0.0062933\n",
      "\n"
     ]
    },
    {
     "name": "stderr",
     "output_type": "stream",
     "text": [
      "100%|██████████| 625/625 [02:03<00:00,  5.05it/s]\n"
     ]
    },
    {
     "name": "stdout",
     "output_type": "stream",
     "text": [
      "Epoch 40 f1: 0.752 val_f1: 0.7491\n",
      "         acc: 0.8048 val_acc: 0.76747\n",
      "         loss: 0.0010029 val_loss: 0.0065468\n",
      "\n"
     ]
    },
    {
     "name": "stderr",
     "output_type": "stream",
     "text": [
      "100%|██████████| 625/625 [01:33<00:00,  6.71it/s]\n"
     ]
    },
    {
     "name": "stdout",
     "output_type": "stream",
     "text": [
      "Epoch 1 f1: 0.63147 val_f1: 0.65681\n",
      "         acc: 0.6992 val_acc: 0.65726\n",
      "         loss: 0.0010285 val_loss: 0.0016842\n",
      "\n"
     ]
    },
    {
     "name": "stderr",
     "output_type": "stream",
     "text": [
      "100%|██████████| 625/625 [01:33<00:00,  6.72it/s]\n"
     ]
    },
    {
     "name": "stdout",
     "output_type": "stream",
     "text": [
      "Epoch 2 f1: 0.632 val_f1: 0.65681\n",
      "         acc: 0.7032 val_acc: 0.65726\n",
      "         loss: 0.002603 val_loss: 0.0016842\n",
      "\n"
     ]
    },
    {
     "name": "stderr",
     "output_type": "stream",
     "text": [
      "100%|██████████| 625/625 [01:32<00:00,  6.73it/s]\n"
     ]
    },
    {
     "name": "stdout",
     "output_type": "stream",
     "text": [
      "Epoch 3 f1: 0.63573 val_f1: 0.65681\n",
      "         acc: 0.704 val_acc: 0.65726\n",
      "         loss: 0.0010034 val_loss: 0.0016842\n",
      "\n"
     ]
    },
    {
     "name": "stderr",
     "output_type": "stream",
     "text": [
      "100%|██████████| 625/625 [01:33<00:00,  6.72it/s]\n"
     ]
    },
    {
     "name": "stdout",
     "output_type": "stream",
     "text": [
      "Epoch 4 f1: 0.6352 val_f1: 0.65681\n",
      "         acc: 0.704 val_acc: 0.65726\n",
      "         loss: 0.0010028 val_loss: 0.0016842\n",
      "\n"
     ]
    },
    {
     "name": "stderr",
     "output_type": "stream",
     "text": [
      "100%|██████████| 625/625 [01:33<00:00,  6.72it/s]\n"
     ]
    },
    {
     "name": "stdout",
     "output_type": "stream",
     "text": [
      "Epoch 5 f1: 0.63787 val_f1: 0.65681\n",
      "         acc: 0.704 val_acc: 0.65726\n",
      "         loss: 0.0026025 val_loss: 0.0016842\n",
      "\n"
     ]
    },
    {
     "name": "stderr",
     "output_type": "stream",
     "text": [
      "100%|██████████| 625/625 [01:33<00:00,  6.70it/s]\n"
     ]
    },
    {
     "name": "stdout",
     "output_type": "stream",
     "text": [
      "Epoch 6 f1: 0.63253 val_f1: 0.65681\n",
      "         acc: 0.704 val_acc: 0.65726\n",
      "         loss: 0.0010026 val_loss: 0.0016842\n",
      "\n"
     ]
    },
    {
     "name": "stderr",
     "output_type": "stream",
     "text": [
      "100%|██████████| 625/625 [01:33<00:00,  6.71it/s]\n"
     ]
    },
    {
     "name": "stdout",
     "output_type": "stream",
     "text": [
      "Epoch 7 f1: 0.63787 val_f1: 0.65681\n",
      "         acc: 0.704 val_acc: 0.65726\n",
      "         loss: 0.0026024 val_loss: 0.0016842\n",
      "\n"
     ]
    },
    {
     "name": "stderr",
     "output_type": "stream",
     "text": [
      "100%|██████████| 625/625 [01:33<00:00,  6.70it/s]\n"
     ]
    },
    {
     "name": "stdout",
     "output_type": "stream",
     "text": [
      "Epoch 8 f1: 0.64107 val_f1: 0.65681\n",
      "         acc: 0.704 val_acc: 0.65726\n",
      "         loss: 0.0042024 val_loss: 0.0016842\n",
      "\n"
     ]
    },
    {
     "name": "stderr",
     "output_type": "stream",
     "text": [
      "100%|██████████| 625/625 [01:33<00:00,  6.72it/s]\n"
     ]
    },
    {
     "name": "stdout",
     "output_type": "stream",
     "text": [
      "Epoch 9 f1: 0.6352 val_f1: 0.65681\n",
      "         acc: 0.704 val_acc: 0.65726\n",
      "         loss: 0.0010025 val_loss: 0.0016842\n",
      "\n"
     ]
    },
    {
     "name": "stderr",
     "output_type": "stream",
     "text": [
      "100%|██████████| 625/625 [01:33<00:00,  6.72it/s]\n"
     ]
    },
    {
     "name": "stdout",
     "output_type": "stream",
     "text": [
      "Epoch 10 f1: 0.63893 val_f1: 0.65681\n",
      "         acc: 0.704 val_acc: 0.65726\n",
      "         loss: 0.0010024 val_loss: 0.0016842\n",
      "\n"
     ]
    },
    {
     "name": "stderr",
     "output_type": "stream",
     "text": [
      "100%|██████████| 625/625 [01:33<00:00,  6.69it/s]\n"
     ]
    },
    {
     "name": "stdout",
     "output_type": "stream",
     "text": [
      "Epoch 11 f1: 0.63787 val_f1: 0.65681\n",
      "         acc: 0.704 val_acc: 0.65726\n",
      "         loss: 0.0026024 val_loss: 0.0016842\n",
      "\n"
     ]
    },
    {
     "name": "stderr",
     "output_type": "stream",
     "text": [
      "100%|██████████| 625/625 [01:33<00:00,  6.71it/s]\n"
     ]
    },
    {
     "name": "stdout",
     "output_type": "stream",
     "text": [
      "Epoch 12 f1: 0.63467 val_f1: 0.65681\n",
      "         acc: 0.704 val_acc: 0.65726\n",
      "         loss: 0.0042024 val_loss: 0.0016842\n",
      "\n"
     ]
    },
    {
     "name": "stderr",
     "output_type": "stream",
     "text": [
      "100%|██████████| 625/625 [01:33<00:00,  6.69it/s]\n"
     ]
    },
    {
     "name": "stdout",
     "output_type": "stream",
     "text": [
      "Epoch 13 f1: 0.62933 val_f1: 0.65681\n",
      "         acc: 0.704 val_acc: 0.65726\n",
      "         loss: 0.0010024 val_loss: 0.0016842\n",
      "\n"
     ]
    },
    {
     "name": "stderr",
     "output_type": "stream",
     "text": [
      "100%|██████████| 625/625 [01:33<00:00,  6.71it/s]\n"
     ]
    },
    {
     "name": "stdout",
     "output_type": "stream",
     "text": [
      "Epoch 14 f1: 0.6352 val_f1: 0.65681\n",
      "         acc: 0.704 val_acc: 0.65726\n",
      "         loss: 0.0026024 val_loss: 0.0016842\n",
      "\n"
     ]
    },
    {
     "name": "stderr",
     "output_type": "stream",
     "text": [
      "100%|██████████| 625/625 [01:33<00:00,  6.68it/s]\n"
     ]
    },
    {
     "name": "stdout",
     "output_type": "stream",
     "text": [
      "Epoch 15 f1: 0.63253 val_f1: 0.65681\n",
      "         acc: 0.704 val_acc: 0.65726\n",
      "         loss: 0.0010024 val_loss: 0.0016842\n",
      "\n"
     ]
    },
    {
     "name": "stderr",
     "output_type": "stream",
     "text": [
      "100%|██████████| 625/625 [01:33<00:00,  6.71it/s]\n"
     ]
    },
    {
     "name": "stdout",
     "output_type": "stream",
     "text": [
      "Epoch 16 f1: 0.63467 val_f1: 0.65681\n",
      "         acc: 0.704 val_acc: 0.65726\n",
      "         loss: 0.0010024 val_loss: 0.0016842\n",
      "\n"
     ]
    },
    {
     "name": "stderr",
     "output_type": "stream",
     "text": [
      "100%|██████████| 625/625 [01:33<00:00,  6.70it/s]\n"
     ]
    },
    {
     "name": "stdout",
     "output_type": "stream",
     "text": [
      "Epoch 17 f1: 0.63627 val_f1: 0.65681\n",
      "         acc: 0.704 val_acc: 0.65726\n",
      "         loss: 0.0026024 val_loss: 0.0016842\n",
      "\n"
     ]
    },
    {
     "name": "stderr",
     "output_type": "stream",
     "text": [
      "100%|██████████| 625/625 [01:33<00:00,  6.69it/s]\n"
     ]
    },
    {
     "name": "stdout",
     "output_type": "stream",
     "text": [
      "Epoch 18 f1: 0.63413 val_f1: 0.65681\n",
      "         acc: 0.704 val_acc: 0.65726\n",
      "         loss: 0.0010024 val_loss: 0.0016842\n",
      "\n"
     ]
    },
    {
     "name": "stderr",
     "output_type": "stream",
     "text": [
      "100%|██████████| 625/625 [01:33<00:00,  6.70it/s]\n"
     ]
    },
    {
     "name": "stdout",
     "output_type": "stream",
     "text": [
      "Epoch 19 f1: 0.6384 val_f1: 0.65681\n",
      "         acc: 0.704 val_acc: 0.65726\n",
      "         loss: 0.0026024 val_loss: 0.0016842\n",
      "\n"
     ]
    },
    {
     "name": "stderr",
     "output_type": "stream",
     "text": [
      "100%|██████████| 625/625 [01:33<00:00,  6.70it/s]\n"
     ]
    },
    {
     "name": "stdout",
     "output_type": "stream",
     "text": [
      "Epoch 20 f1: 0.6336 val_f1: 0.65681\n",
      "         acc: 0.704 val_acc: 0.65726\n",
      "         loss: 0.0010024 val_loss: 0.0016842\n",
      "\n"
     ]
    },
    {
     "name": "stderr",
     "output_type": "stream",
     "text": [
      "100%|██████████| 625/625 [01:33<00:00,  6.71it/s]\n"
     ]
    },
    {
     "name": "stdout",
     "output_type": "stream",
     "text": [
      "Epoch 21 f1: 0.63787 val_f1: 0.65681\n",
      "         acc: 0.704 val_acc: 0.65726\n",
      "         loss: 0.0010024 val_loss: 0.0016842\n",
      "\n"
     ]
    },
    {
     "name": "stderr",
     "output_type": "stream",
     "text": [
      "100%|██████████| 625/625 [01:33<00:00,  6.71it/s]\n"
     ]
    },
    {
     "name": "stdout",
     "output_type": "stream",
     "text": [
      "Epoch 22 f1: 0.6352 val_f1: 0.65681\n",
      "         acc: 0.704 val_acc: 0.65726\n",
      "         loss: 0.0010024 val_loss: 0.0016842\n",
      "\n"
     ]
    },
    {
     "name": "stderr",
     "output_type": "stream",
     "text": [
      "100%|██████████| 625/625 [01:33<00:00,  6.70it/s]\n"
     ]
    },
    {
     "name": "stdout",
     "output_type": "stream",
     "text": [
      "Epoch 23 f1: 0.63627 val_f1: 0.65681\n",
      "         acc: 0.704 val_acc: 0.65726\n",
      "         loss: 0.0010024 val_loss: 0.0016842\n",
      "\n"
     ]
    },
    {
     "name": "stderr",
     "output_type": "stream",
     "text": [
      "100%|██████████| 625/625 [01:33<00:00,  6.70it/s]\n"
     ]
    },
    {
     "name": "stdout",
     "output_type": "stream",
     "text": [
      "Epoch 24 f1: 0.63627 val_f1: 0.65681\n",
      "         acc: 0.704 val_acc: 0.65726\n",
      "         loss: 0.0026024 val_loss: 0.0016842\n",
      "\n"
     ]
    },
    {
     "name": "stderr",
     "output_type": "stream",
     "text": [
      "100%|██████████| 625/625 [01:33<00:00,  6.69it/s]\n"
     ]
    },
    {
     "name": "stdout",
     "output_type": "stream",
     "text": [
      "Epoch 25 f1: 0.63413 val_f1: 0.65681\n",
      "         acc: 0.704 val_acc: 0.65726\n",
      "         loss: 0.0010024 val_loss: 0.0016842\n",
      "\n"
     ]
    },
    {
     "name": "stderr",
     "output_type": "stream",
     "text": [
      "100%|██████████| 625/625 [01:33<00:00,  6.70it/s]\n"
     ]
    },
    {
     "name": "stdout",
     "output_type": "stream",
     "text": [
      "Epoch 26 f1: 0.63093 val_f1: 0.65681\n",
      "         acc: 0.704 val_acc: 0.65726\n",
      "         loss: 0.0010024 val_loss: 0.0016842\n",
      "\n"
     ]
    },
    {
     "name": "stderr",
     "output_type": "stream",
     "text": [
      "100%|██████████| 625/625 [01:33<00:00,  6.69it/s]\n"
     ]
    },
    {
     "name": "stdout",
     "output_type": "stream",
     "text": [
      "Epoch 27 f1: 0.62987 val_f1: 0.65681\n",
      "         acc: 0.704 val_acc: 0.65726\n",
      "         loss: 0.0010024 val_loss: 0.0016842\n",
      "\n"
     ]
    },
    {
     "name": "stderr",
     "output_type": "stream",
     "text": [
      "100%|██████████| 625/625 [01:33<00:00,  6.71it/s]\n"
     ]
    },
    {
     "name": "stdout",
     "output_type": "stream",
     "text": [
      "Epoch 28 f1: 0.63413 val_f1: 0.65681\n",
      "         acc: 0.704 val_acc: 0.65726\n",
      "         loss: 0.0026024 val_loss: 0.0016842\n",
      "\n"
     ]
    },
    {
     "name": "stderr",
     "output_type": "stream",
     "text": [
      "100%|██████████| 625/625 [01:33<00:00,  6.70it/s]\n"
     ]
    },
    {
     "name": "stdout",
     "output_type": "stream",
     "text": [
      "Epoch 29 f1: 0.62933 val_f1: 0.65681\n",
      "         acc: 0.704 val_acc: 0.65726\n",
      "         loss: 0.0026024 val_loss: 0.0016842\n",
      "\n"
     ]
    },
    {
     "name": "stderr",
     "output_type": "stream",
     "text": [
      "100%|██████████| 625/625 [01:33<00:00,  6.69it/s]\n"
     ]
    },
    {
     "name": "stdout",
     "output_type": "stream",
     "text": [
      "Epoch 30 f1: 0.63253 val_f1: 0.65681\n",
      "         acc: 0.704 val_acc: 0.65726\n",
      "         loss: 0.0026024 val_loss: 0.0016842\n",
      "\n"
     ]
    },
    {
     "name": "stderr",
     "output_type": "stream",
     "text": [
      "100%|██████████| 625/625 [01:33<00:00,  6.71it/s]\n"
     ]
    },
    {
     "name": "stdout",
     "output_type": "stream",
     "text": [
      "Epoch 31 f1: 0.63573 val_f1: 0.65681\n",
      "         acc: 0.704 val_acc: 0.65726\n",
      "         loss: 0.0010024 val_loss: 0.0016842\n",
      "\n"
     ]
    },
    {
     "name": "stderr",
     "output_type": "stream",
     "text": [
      "100%|██████████| 625/625 [01:33<00:00,  6.70it/s]\n"
     ]
    },
    {
     "name": "stdout",
     "output_type": "stream",
     "text": [
      "Epoch 32 f1: 0.6352 val_f1: 0.65681\n",
      "         acc: 0.704 val_acc: 0.65726\n",
      "         loss: 0.0026024 val_loss: 0.0016842\n",
      "\n"
     ]
    },
    {
     "name": "stderr",
     "output_type": "stream",
     "text": [
      "100%|██████████| 625/625 [01:33<00:00,  6.72it/s]\n"
     ]
    },
    {
     "name": "stdout",
     "output_type": "stream",
     "text": [
      "Epoch 33 f1: 0.63147 val_f1: 0.65681\n",
      "         acc: 0.704 val_acc: 0.65726\n",
      "         loss: 0.0026024 val_loss: 0.0016842\n",
      "\n"
     ]
    },
    {
     "name": "stderr",
     "output_type": "stream",
     "text": [
      "100%|██████████| 625/625 [01:33<00:00,  6.69it/s]\n"
     ]
    },
    {
     "name": "stdout",
     "output_type": "stream",
     "text": [
      "Epoch 34 f1: 0.63947 val_f1: 0.65681\n",
      "         acc: 0.704 val_acc: 0.65726\n",
      "         loss: 0.0010024 val_loss: 0.0016842\n",
      "\n"
     ]
    },
    {
     "name": "stderr",
     "output_type": "stream",
     "text": [
      "100%|██████████| 625/625 [01:33<00:00,  6.69it/s]\n"
     ]
    },
    {
     "name": "stdout",
     "output_type": "stream",
     "text": [
      "Epoch 35 f1: 0.632 val_f1: 0.65681\n",
      "         acc: 0.704 val_acc: 0.65726\n",
      "         loss: 0.0026024 val_loss: 0.0016842\n",
      "\n"
     ]
    },
    {
     "name": "stderr",
     "output_type": "stream",
     "text": [
      "100%|██████████| 625/625 [01:33<00:00,  6.70it/s]\n"
     ]
    },
    {
     "name": "stdout",
     "output_type": "stream",
     "text": [
      "Epoch 36 f1: 0.6352 val_f1: 0.65681\n",
      "         acc: 0.704 val_acc: 0.65726\n",
      "         loss: 0.0010024 val_loss: 0.0016842\n",
      "\n"
     ]
    },
    {
     "name": "stderr",
     "output_type": "stream",
     "text": [
      "100%|██████████| 625/625 [01:33<00:00,  6.71it/s]\n"
     ]
    },
    {
     "name": "stdout",
     "output_type": "stream",
     "text": [
      "Epoch 37 f1: 0.63253 val_f1: 0.65681\n",
      "         acc: 0.704 val_acc: 0.65726\n",
      "         loss: 0.0026024 val_loss: 0.0016842\n",
      "\n"
     ]
    },
    {
     "name": "stderr",
     "output_type": "stream",
     "text": [
      "100%|██████████| 625/625 [01:32<00:00,  6.72it/s]\n"
     ]
    },
    {
     "name": "stdout",
     "output_type": "stream",
     "text": [
      "Epoch 38 f1: 0.63627 val_f1: 0.65681\n",
      "         acc: 0.704 val_acc: 0.65726\n",
      "         loss: 0.0010024 val_loss: 0.0016842\n",
      "\n"
     ]
    },
    {
     "name": "stderr",
     "output_type": "stream",
     "text": [
      "100%|██████████| 625/625 [01:33<00:00,  6.71it/s]\n"
     ]
    },
    {
     "name": "stdout",
     "output_type": "stream",
     "text": [
      "Epoch 39 f1: 0.63787 val_f1: 0.65681\n",
      "         acc: 0.704 val_acc: 0.65726\n",
      "         loss: 0.0010024 val_loss: 0.0016842\n",
      "\n"
     ]
    },
    {
     "name": "stderr",
     "output_type": "stream",
     "text": [
      "100%|██████████| 625/625 [01:33<00:00,  6.68it/s]\n"
     ]
    },
    {
     "name": "stdout",
     "output_type": "stream",
     "text": [
      "Epoch 40 f1: 0.63573 val_f1: 0.65681\n",
      "         acc: 0.704 val_acc: 0.65726\n",
      "         loss: 0.0026024 val_loss: 0.0016842\n",
      "\n"
     ]
    }
   ],
   "source": [
    "models = [generate_model(j) for j in range(6)]\n",
    "hist = []\n",
    "i = 0\n",
    "epochs = [20,20,20,40,40,40]\n",
    "\n",
    "local_metric_fn = [recall_score, precision_score, accuracy_score, f1_macro]\n",
    "local_metric = [0] * len(local_metric_fn)\n",
    "for mdict, epoch in zip(models, epochs):\n",
    "    i += 1\n",
    "    hist.append(train(model = mdict[\"model\"], \n",
    "                        num_epochs= epoch, \n",
    "                        train_dl = trn_dl, \n",
    "                        valid_dl=test_dl, \n",
    "                        loss_fn=mdict[\"centropy\"],\n",
    "                        scheduler = mdict[\"scheduler\"],\n",
    "                        optimizer=mdict[\"optimizer\"], \n",
    "                        local_metric_fn=local_metric_fn,\n",
    "                        i=i)) \n",
    "scores = [i[4] for i in hist]\n"
   ]
  },
  {
   "cell_type": "code",
   "execution_count": 35,
   "id": "feed760d",
   "metadata": {},
   "outputs": [
    {
     "data": {
      "text/plain": [
       "[0.9139784946236559,\n",
       " 0.864247311827957,\n",
       " 0.8655913978494624,\n",
       " 0.657258064516129,\n",
       " 0.8198924731182796,\n",
       " 0.657258064516129]"
      ]
     },
     "execution_count": 35,
     "metadata": {},
     "output_type": "execute_result"
    }
   ],
   "source": [
    "scores #validation accuracies"
   ]
  },
  {
   "cell_type": "code",
   "execution_count": 140,
   "id": "fa978956",
   "metadata": {},
   "outputs": [],
   "source": [
    "\n",
    "ensemble = MyEnsemble(models[:3])\n",
    "\n",
    "local_metric_fn = [recall_score, precision_score, accuracy_score, f1_score]\n",
    "local_metric = [0] * len(local_metric_fn)\n",
    "metrics_individuals = [[0]*len(local_metric_fn) for i in range(3)]\n",
    "\n",
    "accuracy_hist_validv1 = 0\n",
    "accuracy_hist_validv2 = 0\n",
    "with torch.no_grad():\n",
    "    for step, (images, labels) in enumerate(test_dl):\n",
    "        images = images.to(DEVICE) \n",
    "        labels = labels.squeeze() \n",
    "        outputs = ensemble.forward(images)\n",
    "        #print(outputs)\n",
    "        #outputs = (torch.Tensor(outputs)).mean(axis=0).argmax(axis=1)\n",
    "        outputs = outputs.sum(axis=0).argmax(axis=1)\n",
    "        #print(\"predicted: \",outputs)\n",
    "        #print(\"expected: \", labels)\n",
    "\n",
    "    \n",
    "        outputs_individual = [list(models[i][\"model\"].forward(images).argmax(axis=1).cpu().numpy()) for i in range(3)]\n",
    "        #print(outputs_individual)\n",
    "        #print()\n",
    "        for k in range(3):\n",
    "            for i, metric in enumerate(local_metric_fn):\n",
    "                metrics_individuals[k][i] += metric(outputs_individual[k], labels)\n",
    "        \n",
    "        for i, metric in enumerate(local_metric_fn):\n",
    "            local_metric[i] += metric(outputs, labels)\n",
    "local_metric = [metric/(step + 1) for metric in local_metric]\n",
    "for k in range(3):\n",
    "    metrics_individuals[k] = [metric/(step+1) for metric in metrics_individuals[k]]"
   ]
  },
  {
   "cell_type": "code",
   "execution_count": 141,
   "id": "eb706dee",
   "metadata": {},
   "outputs": [
    {
     "data": {
      "text/plain": [
       "[0.6559139784946236,\n",
       " 0.6438172043010753,\n",
       " 0.9099462365591398,\n",
       " 0.6478494623655913]"
      ]
     },
     "execution_count": 141,
     "metadata": {},
     "output_type": "execute_result"
    }
   ],
   "source": [
    "local_metric #recall precision accuracy and f1 score of the ensemble for validation dataset "
   ]
  },
  {
   "cell_type": "code",
   "execution_count": 142,
   "id": "d8899af7",
   "metadata": {},
   "outputs": [
    {
     "data": {
      "text/plain": [
       "[[0.6505376344086021,\n",
       "  0.6424731182795699,\n",
       "  0.9139784946236559,\n",
       "  0.6451612903225805],\n",
       " [0.6505376344086021,\n",
       "  0.6290322580645161,\n",
       "  0.864247311827957,\n",
       "  0.636200716845878],\n",
       " [0.6451612903225806,\n",
       "  0.6169354838709677,\n",
       "  0.8655913978494624,\n",
       "  0.626344086021505]]"
      ]
     },
     "execution_count": 142,
     "metadata": {},
     "output_type": "execute_result"
    }
   ],
   "source": [
    "metrics_individuals # same metrics for each individual classifier (1st,2nd,3rd)"
   ]
  },
  {
   "cell_type": "code",
   "execution_count": 157,
   "id": "d976dc7a",
   "metadata": {},
   "outputs": [
    {
     "data": {
      "text/plain": [
       "Text(0.5, 1.0, 'Individual model 1')"
      ]
     },
     "execution_count": 157,
     "metadata": {},
     "output_type": "execute_result"
    },
    {
     "data": {
      "image/png": "[encoded data removed]",
      "text/plain": [
       "<Figure size 640x480 with 1 Axes>"
      ]
     },
     "metadata": {},
     "output_type": "display_data"
    }
   ],
   "source": [
    "plt.plot(np.arange(1,21), [x[0] for x in hist[0][-2]], label=\"val recall\")\n",
    "plt.plot(np.arange(1,21), [x[1] for x in hist[0][-2]], label=\"val precision\")\n",
    "plt.plot(np.arange(1,21), [x[2] for x in hist[0][-2]], label=\"val accuracy\")\n",
    "plt.plot(np.arange(1,21), [x[3] for x in hist[0][-2]], label=\"val f1\")\n",
    "plt.legend()\n",
    "plt.title(\"Individual model 1\")"
   ]
  },
  {
   "cell_type": "code",
   "execution_count": 158,
   "id": "b2608cc4",
   "metadata": {},
   "outputs": [
    {
     "data": {
      "text/plain": [
       "Text(0.5, 1.0, 'Individual model 2')"
      ]
     },
     "execution_count": 158,
     "metadata": {},
     "output_type": "execute_result"
    },
    {
     "data": {
      "image/png": "[encoded data removed]",
      "text/plain": [
       "<Figure size 640x480 with 1 Axes>"
      ]
     },
     "metadata": {},
     "output_type": "display_data"
    }
   ],
   "source": [
    "plt.plot(np.arange(1,21), [x[0] for x in hist[1][-2]], label=\"val recall\")\n",
    "plt.plot(np.arange(1,21), [x[1] for x in hist[1][-2]], label=\"val precision\")\n",
    "plt.plot(np.arange(1,21), [x[2] for x in hist[1][-2]], label=\"val accuracy\")\n",
    "plt.plot(np.arange(1,21), [x[3] for x in hist[1][-2]], label=\"val f1\")\n",
    "plt.legend()\n",
    "plt.title(\"Individual model 2\")"
   ]
  },
  {
   "cell_type": "code",
   "execution_count": 159,
   "id": "9b6b5b3c",
   "metadata": {
    "scrolled": true
   },
   "outputs": [
    {
     "data": {
      "text/plain": [
       "Text(0.5, 1.0, 'Individual model 3')"
      ]
     },
     "execution_count": 159,
     "metadata": {},
     "output_type": "execute_result"
    },
    {
     "data": {
      "image/png": "[encoded data removed]",
      "text/plain": [
       "<Figure size 640x480 with 1 Axes>"
      ]
     },
     "metadata": {},
     "output_type": "display_data"
    }
   ],
   "source": [
    "plt.plot(np.arange(1,21), [x[0] for x in hist[2][-2]], label=\"val recall\")\n",
    "plt.plot(np.arange(1,21), [x[1] for x in hist[2][-2]], label=\"val precision\")\n",
    "plt.plot(np.arange(1,21), [x[2] for x in hist[2][-2]], label=\"val accuracy\")\n",
    "plt.plot(np.arange(1,21), [x[3] for x in hist[2][-2]], label=\"val f1\")\n",
    "plt.legend()\n",
    "plt.title(\"Individual model 3\")"
   ]
  },
  {
   "cell_type": "markdown",
   "id": "c5b775e5",
   "metadata": {},
   "source": [
    "### Extended augmentation, attempt to balance classes"
   ]
  },
  {
   "cell_type": "code",
   "execution_count": 79,
   "id": "5887400c",
   "metadata": {},
   "outputs": [],
   "source": [
    "from torch.utils.data import DataLoader, Dataset\n",
    "class imagesXNN_train(Dataset):\n",
    "  def __init__(self, paths):\n",
    "    self.fpaths = paths\n",
    "\n",
    "  def __len__(self): return len(self.fpaths)\n",
    "\n",
    "  def __getitem__(self, ix):\n",
    "    f = self.fpaths[ix]\n",
    "    res = torch.tensor(int(\"malignant\" in f)).type(torch.LongTensor)\n",
    "    im = cv2.imread(f)[:,:,::-1]\n",
    "    \n",
    "    if res.item()==0:\n",
    "        r = random.random()\n",
    "        if r<0.33:\n",
    "            im = torch.tensor(im/255).permute(2,0,1).float()\n",
    "            im = transforms.functional.rotate(angle=90, img=im)\n",
    "            return transforms.Compose([ transforms.CenterCrop((440, 440)), \n",
    "                               transforms.RandomHorizontalFlip(), \n",
    "                               transforms.RandomVerticalFlip()])(im), res\n",
    "        elif r<0.67:\n",
    "            im = torch.tensor(im/255).permute(2,0,1).float()\n",
    "            im = transforms.functional.rotate(angle=90, img=im)\n",
    "            return transforms.Compose([transforms.CenterCrop((440, 440)), \n",
    "                               transforms.RandomHorizontalFlip(), \n",
    "                               transforms.RandomVerticalFlip()])(im), res\n",
    "        else:\n",
    "            return transforms.Compose([transforms.CenterCrop((440, 440)), \n",
    "                               transforms.RandomHorizontalFlip(), \n",
    "                               transforms.RandomVerticalFlip()])(torch.tensor(im/255).permute(2,0,1).float()), res\n",
    "    else:\n",
    "        return transforms.Compose([transforms.CenterCrop((440, 440)), \n",
    "                               transforms.RandomHorizontalFlip(), \n",
    "                               transforms.RandomVerticalFlip()])(torch.tensor(im/255).permute(2,0,1).float()), res\n",
    "\n",
    "\n",
    "class imagesXNN_test(Dataset):\n",
    "  def __init__(self, paths):\n",
    "    self.fpaths = paths\n",
    "\n",
    "  def __len__(self): return len(self.fpaths)\n",
    "\n",
    "  def __getitem__(self, ix):\n",
    "    f = self.fpaths[ix]\n",
    "    res = torch.tensor(int(\"malignant\" in f)).type(torch.LongTensor)\n",
    "    im = cv2.imread(f)[:,:,::-1]\n",
    "    return transforms.Compose([transforms.CenterCrop((440, 440))])(torch.tensor(im/255).permute(2,0,1).float()), res"
   ]
  },
  {
   "cell_type": "code",
   "execution_count": 80,
   "id": "0b4a36fe",
   "metadata": {},
   "outputs": [],
   "source": [
    "train_full = df.loc[(df.fold==FOLD) & (df.mag==40) & (df.grp==\"train\")][\"filename\"].values\n",
    "fold1 = df.loc[(df.fold==FOLD) & (df.mag==40) & (df.grp==\"train\")][\"filename\"].sample(frac=0.78).values\n",
    "fold2 = df.loc[(df.fold==FOLD) & (df.mag==40) & (df.grp==\"train\")][\"filename\"].sample(frac=0.78).values\n",
    "train_full = df.loc[(df.fold==FOLD) & (df.mag==40) & (df.grp==\"train\")][\"filename\"].values"
   ]
  },
  {
   "cell_type": "code",
   "execution_count": 81,
   "id": "3e80e7b6",
   "metadata": {},
   "outputs": [],
   "source": [
    "def train_epoch(model, loader, criterion, scheduler,optim, local_metric_fn: Iterable):\n",
    "    local_metric = [0] * len(local_metric_fn)\n",
    "    local_loss = 0\n",
    "\n",
    "    model.train()\n",
    "    for step, (images, labels) in tqdm(enumerate(loader), total=995):\n",
    "        images = images.to(DEVICE)\n",
    "        labels = labels.to(DEVICE)\n",
    "        outputs = model(images)\n",
    "        local_loss = criterion(outputs, labels)\n",
    "        local_loss.backward()\n",
    "        optim.step()\n",
    "        optim.zero_grad()\n",
    "        local_loss += local_loss.item()\n",
    "        for i, metric in enumerate(local_metric_fn):\n",
    "            local_metric[i] += metric(outputs.cpu().detach().numpy().argmax(axis=1), labels.cpu().numpy())\n",
    "    scheduler.step()\n",
    "\n",
    "    return local_loss/(step + 1), [metric/(step + 1) for metric in local_metric]"
   ]
  },
  {
   "cell_type": "code",
   "execution_count": 82,
   "id": "4fbeac30",
   "metadata": {},
   "outputs": [],
   "source": [
    "def valid_epoch(model, loader, criterion, local_metric_fn: Iterable):\n",
    "    local_metric = [0] * len(local_metric_fn)\n",
    "    local_loss = 0\n",
    "\n",
    "    model.eval()\n",
    "    for step, (images, labels) in enumerate(loader):\n",
    "        images = images.to(DEVICE)\n",
    "        labels = labels.to(DEVICE)\n",
    "        with torch.no_grad():\n",
    "            outputs = model(images)\n",
    "            local_loss = criterion(outputs, labels)\n",
    "            local_loss += local_loss.item()\n",
    "            for i, metric in enumerate(local_metric_fn):\n",
    "                local_metric[i] += metric(outputs.cpu().detach().numpy().argmax(axis=1), labels.cpu().numpy())\n",
    "    return local_loss/(step + 1), [metric/(step + 1) for metric in local_metric]"
   ]
  },
  {
   "cell_type": "code",
   "execution_count": 83,
   "id": "b2a43bd7",
   "metadata": {},
   "outputs": [],
   "source": [
    "\n",
    "def train(model, num_epochs, train_dl, valid_dl, loss_fn, scheduler,  optimizer,local_metric_fn, i=0, tolerance = 0.5):\n",
    "    loss_hist_train = [0] * num_epochs\n",
    "    accuracy_hist_train = [0] * num_epochs\n",
    "    loss_hist_valid = [0] * num_epochs\n",
    "    accuracy_hist_valid = [0] * num_epochs\n",
    "\n",
    "    for epoch in range(num_epochs):\n",
    "\n",
    "        loss_tr_ep, metrics_tr_ep = train_epoch(model, train_dl, loss_fn, scheduler, optimizer, local_metric_fn)\n",
    "\n",
    "        loss_hist_train[epoch] = loss_tr_ep\n",
    "        accuracy_hist_train[epoch] = metrics_tr_ep\n",
    "        \n",
    "        loss_ep, metrics_ep = valid_epoch(model, valid_dl, loss_fn, local_metric_fn)\n",
    "        \n",
    "        loss_hist_valid[epoch] = loss_ep\n",
    "        accuracy_hist_valid[epoch] = metrics_ep\n",
    "        if epoch == 0:\n",
    "            bestAccVal = accuracy_hist_valid[epoch][2]\n",
    "        else:\n",
    "            if accuracy_hist_valid[epoch][2] > max(bestAccVal, tolerance):\n",
    "                bestAccVal = accuracy_hist_valid[epoch][2]\n",
    "                torch.save(model.state_dict(), f'bestmodel{i}.pt')\n",
    "\n",
    "        print(f'Epoch {epoch+1} f1: {accuracy_hist_train[epoch][3]:{1}.{5}} val_f1: {accuracy_hist_valid[epoch][3]:{1}.{5}}')\n",
    "        print(f'         acc: {accuracy_hist_train[epoch][2]:{1}.{5}} val_acc: {accuracy_hist_valid[epoch][2]:{1}.{5}}')\n",
    "        print(f'         loss: {loss_tr_ep:{1}.{5}} val_loss: {loss_ep:{1}.{5}}\\n')\n",
    "    if os.path.exists(f'bestmodel{i}.pt'):\n",
    "        model.load_state_dict(torch.load(f'bestmodel{i}.pt'))\n",
    "    return loss_hist_train, loss_hist_valid, accuracy_hist_train, accuracy_hist_valid, bestAccVal"
   ]
  },
  {
   "cell_type": "code",
   "execution_count": 84,
   "id": "1a6606f9",
   "metadata": {},
   "outputs": [],
   "source": [
    "class MyEnsemble(nn.Module):\n",
    "    def __init__(self, models):\n",
    "        super(MyEnsemble, self).__init__()\n",
    "        self.models = models\n",
    "\n",
    "    def forward(self, x):\n",
    "\n",
    "        pred = torch.Tensor([models[\"model\"](x).cpu().numpy() for models in self.models])\n",
    "        return pred\n",
    "        "
   ]
  },
  {
   "cell_type": "code",
   "execution_count": 85,
   "id": "09587f55",
   "metadata": {},
   "outputs": [],
   "source": [
    "import pandas as pd\n",
    "\n",
    "df = pd.read_csv(\"Folds.csv\")"
   ]
  },
  {
   "cell_type": "code",
   "execution_count": 86,
   "id": "3b460193",
   "metadata": {},
   "outputs": [],
   "source": [
    "fold1 = df.loc[(df.fold==FOLD) & (df.mag==40) & (df.grp==\"train\")][\"filename\"].sample(frac=0.78).values\n",
    "fold2 = df.loc[(df.fold==FOLD) & (df.mag==40) & (df.grp==\"train\")][\"filename\"].sample(frac=0.78).values\n",
    "train_full = list(df.loc[(df.fold==FOLD) & (df.mag==40) & (df.grp==\"train\")][\"filename\"].values)"
   ]
  },
  {
   "cell_type": "code",
   "execution_count": 87,
   "id": "5249d606",
   "metadata": {},
   "outputs": [
    {
     "data": {
      "text/plain": [
       "'benign'"
      ]
     },
     "execution_count": 87,
     "metadata": {},
     "output_type": "execute_result"
    }
   ],
   "source": [
    "train_full[0].split(\"/\")[3]"
   ]
  },
  {
   "cell_type": "code",
   "execution_count": 88,
   "id": "72fd7beb",
   "metadata": {},
   "outputs": [],
   "source": [
    "for i in range(len(train_full)):\n",
    "    if train_full[i].split(\"/\")[3]==\"benign\":\n",
    "        train_full.append(train_full[i])\n",
    "        train_full.append(train_full[i])\n",
    "\n"
   ]
  },
  {
   "cell_type": "code",
   "execution_count": 89,
   "id": "4e6dff16",
   "metadata": {},
   "outputs": [
    {
     "data": {
      "text/plain": [
       "1990"
      ]
     },
     "execution_count": 89,
     "metadata": {},
     "output_type": "execute_result"
    }
   ],
   "source": [
    "len(train_full)"
   ]
  },
  {
   "cell_type": "code",
   "execution_count": 90,
   "id": "28b4243d",
   "metadata": {},
   "outputs": [],
   "source": [
    "test_40 = imagesXNN_test(df.loc[(df.fold==FOLD) & (df.mag==40) & (df.grp==\"test\")][\"filename\"].values)\n",
    "test_dl = DataLoader(test_40, batch_size=4, shuffle=False, drop_last=True, num_workers = 0)\n",
    "\n",
    "trn_ds = imagesXNN_train(train_full)\n",
    "trn_dl = DataLoader(trn_ds, batch_size=4, shuffle=True, drop_last = True, num_workers = 0)"
   ]
  },
  {
   "cell_type": "code",
   "execution_count": 91,
   "id": "a47ab40d",
   "metadata": {},
   "outputs": [],
   "source": [
    "from tqdm import tqdm"
   ]
  },
  {
   "cell_type": "code",
   "execution_count": 92,
   "id": "2f7e0a26",
   "metadata": {},
   "outputs": [
    {
     "name": "stderr",
     "output_type": "stream",
     "text": [
      "100%|██████████| 995/995 [04:24<00:00,  3.76it/s]\n"
     ]
    },
    {
     "name": "stdout",
     "output_type": "stream",
     "text": [
      "Epoch 1 f1: 0.45494 val_f1: 0.43817\n",
      "         acc: 0.62161 val_acc: 0.68414\n",
      "         loss: 0.0010097 val_loss: 0.0070549\n",
      "\n"
     ]
    },
    {
     "name": "stderr",
     "output_type": "stream",
     "text": [
      "100%|██████████| 995/995 [04:25<00:00,  3.75it/s]\n"
     ]
    },
    {
     "name": "stdout",
     "output_type": "stream",
     "text": [
      "Epoch 2 f1: 0.5129 val_f1: 0.14158\n",
      "         acc: 0.66784 val_acc: 0.28763\n",
      "         loss: 0.0013373 val_loss: 0.005353\n",
      "\n"
     ]
    },
    {
     "name": "stderr",
     "output_type": "stream",
     "text": [
      "100%|██████████| 995/995 [04:26<00:00,  3.73it/s]\n"
     ]
    },
    {
     "name": "stdout",
     "output_type": "stream",
     "text": [
      "Epoch 3 f1: 0.49715 val_f1: 0.44624\n",
      "         acc: 0.6196 val_acc: 0.67473\n",
      "         loss: 0.0014253 val_loss: 0.0042409\n",
      "\n"
     ]
    },
    {
     "name": "stderr",
     "output_type": "stream",
     "text": [
      "100%|██████████| 995/995 [04:26<00:00,  3.74it/s]\n"
     ]
    },
    {
     "name": "stdout",
     "output_type": "stream",
     "text": [
      "Epoch 4 f1: 0.39397 val_f1: 0.078853\n",
      "         acc: 0.58392 val_acc: 0.36694\n",
      "         loss: 0.0012085 val_loss: 0.0043289\n",
      "\n"
     ]
    },
    {
     "name": "stderr",
     "output_type": "stream",
     "text": [
      "100%|██████████| 995/995 [04:26<00:00,  3.73it/s]\n"
     ]
    },
    {
     "name": "stdout",
     "output_type": "stream",
     "text": [
      "Epoch 5 f1: 0.45729 val_f1: 0.52509\n",
      "         acc: 0.64824 val_acc: 0.7621\n",
      "         loss: 0.0017831 val_loss: 0.0060373\n",
      "\n"
     ]
    },
    {
     "name": "stderr",
     "output_type": "stream",
     "text": [
      "100%|██████████| 995/995 [04:26<00:00,  3.73it/s]\n"
     ]
    },
    {
     "name": "stdout",
     "output_type": "stream",
     "text": [
      "Epoch 6 f1: 0.53367 val_f1: 0.4776\n",
      "         acc: 0.69447 val_acc: 0.67876\n",
      "         loss: 0.00065531 val_loss: 0.0070206\n",
      "\n"
     ]
    },
    {
     "name": "stderr",
     "output_type": "stream",
     "text": [
      "100%|██████████| 995/995 [04:27<00:00,  3.72it/s]\n"
     ]
    },
    {
     "name": "stdout",
     "output_type": "stream",
     "text": [
      "Epoch 7 f1: 0.55343 val_f1: 0.5914\n",
      "         acc: 0.70704 val_acc: 0.77957\n",
      "         loss: 0.00064184 val_loss: 0.0049312\n",
      "\n"
     ]
    },
    {
     "name": "stderr",
     "output_type": "stream",
     "text": [
      "100%|██████████| 995/995 [04:27<00:00,  3.72it/s]\n"
     ]
    },
    {
     "name": "stdout",
     "output_type": "stream",
     "text": [
      "Epoch 8 f1: 0.55678 val_f1: 0.60663\n",
      "         acc: 0.71508 val_acc: 0.6922\n",
      "         loss: 0.00086653 val_loss: 0.0020511\n",
      "\n"
     ]
    },
    {
     "name": "stderr",
     "output_type": "stream",
     "text": [
      "100%|██████████| 995/995 [04:28<00:00,  3.70it/s]\n"
     ]
    },
    {
     "name": "stdout",
     "output_type": "stream",
     "text": [
      "Epoch 9 f1: 0.58358 val_f1: 0.58333\n",
      "         acc: 0.73015 val_acc: 0.7164\n",
      "         loss: 0.0014456 val_loss: 0.0038624\n",
      "\n"
     ]
    },
    {
     "name": "stderr",
     "output_type": "stream",
     "text": [
      "100%|██████████| 995/995 [04:27<00:00,  3.72it/s]\n"
     ]
    },
    {
     "name": "stdout",
     "output_type": "stream",
     "text": [
      "Epoch 10 f1: 0.58827 val_f1: 0.60125\n",
      "         acc: 0.72362 val_acc: 0.69355\n",
      "         loss: 0.00062984 val_loss: 0.0045433\n",
      "\n"
     ]
    },
    {
     "name": "stderr",
     "output_type": "stream",
     "text": [
      "100%|██████████| 995/995 [04:27<00:00,  3.72it/s]\n"
     ]
    },
    {
     "name": "stdout",
     "output_type": "stream",
     "text": [
      "Epoch 11 f1: 0.58559 val_f1: 0.60394\n",
      "         acc: 0.80151 val_acc: 0.73522\n",
      "         loss: 0.00063339 val_loss: 0.0018411\n",
      "\n"
     ]
    },
    {
     "name": "stderr",
     "output_type": "stream",
     "text": [
      "100%|██████████| 995/995 [05:46<00:00,  2.87it/s]\n"
     ]
    },
    {
     "name": "stdout",
     "output_type": "stream",
     "text": [
      "Epoch 12 f1: 0.57286 val_f1: 0.55466\n",
      "         acc: 0.82211 val_acc: 0.73656\n",
      "         loss: 0.00064795 val_loss: 0.0039706\n",
      "\n"
     ]
    },
    {
     "name": "stderr",
     "output_type": "stream",
     "text": [
      "100%|██████████| 995/995 [06:04<00:00,  2.73it/s]\n"
     ]
    },
    {
     "name": "stdout",
     "output_type": "stream",
     "text": [
      "Epoch 13 f1: 0.58995 val_f1: 0.57348\n",
      "         acc: 0.86784 val_acc: 0.75672\n",
      "         loss: 0.000637 val_loss: 0.0030075\n",
      "\n"
     ]
    },
    {
     "name": "stderr",
     "output_type": "stream",
     "text": [
      "100%|██████████| 995/995 [04:39<00:00,  3.56it/s]\n"
     ]
    },
    {
     "name": "stdout",
     "output_type": "stream",
     "text": [
      "Epoch 14 f1: 0.58995 val_f1: 0.53584\n",
      "         acc: 0.85879 val_acc: 0.75538\n",
      "         loss: 0.00075857 val_loss: 0.0054798\n",
      "\n"
     ]
    },
    {
     "name": "stderr",
     "output_type": "stream",
     "text": [
      "100%|██████████| 995/995 [04:27<00:00,  3.71it/s]\n"
     ]
    },
    {
     "name": "stdout",
     "output_type": "stream",
     "text": [
      "Epoch 15 f1: 0.59799 val_f1: 0.60573\n",
      "         acc: 0.88241 val_acc: 0.74866\n",
      "         loss: 0.00063084 val_loss: 0.0021393\n",
      "\n"
     ]
    },
    {
     "name": "stderr",
     "output_type": "stream",
     "text": [
      "100%|██████████| 995/995 [04:27<00:00,  3.72it/s]\n"
     ]
    },
    {
     "name": "stdout",
     "output_type": "stream",
     "text": [
      "Epoch 16 f1: 0.60335 val_f1: 0.6129\n",
      "         acc: 0.88693 val_acc: 0.74597\n",
      "         loss: 0.0019381 val_loss: 0.0043573\n",
      "\n"
     ]
    },
    {
     "name": "stderr",
     "output_type": "stream",
     "text": [
      "100%|██████████| 995/995 [04:27<00:00,  3.72it/s]\n"
     ]
    },
    {
     "name": "stdout",
     "output_type": "stream",
     "text": [
      "Epoch 17 f1: 0.61407 val_f1: 0.5233\n",
      "         acc: 0.89749 val_acc: 0.76882\n",
      "         loss: 0.00063054 val_loss: 0.0063467\n",
      "\n"
     ]
    },
    {
     "name": "stderr",
     "output_type": "stream",
     "text": [
      "100%|██████████| 995/995 [04:28<00:00,  3.71it/s]\n"
     ]
    },
    {
     "name": "stdout",
     "output_type": "stream",
     "text": [
      "Epoch 18 f1: 0.6258 val_f1: 0.6147\n",
      "         acc: 0.90302 val_acc: 0.75538\n",
      "         loss: 0.00067928 val_loss: 0.0038034\n",
      "\n"
     ]
    },
    {
     "name": "stderr",
     "output_type": "stream",
     "text": [
      "100%|██████████| 995/995 [04:28<00:00,  3.71it/s]\n"
     ]
    },
    {
     "name": "stdout",
     "output_type": "stream",
     "text": [
      "Epoch 19 f1: 0.6258 val_f1: 0.6147\n",
      "         acc: 0.90955 val_acc: 0.76075\n",
      "         loss: 0.00063081 val_loss: 0.0039141\n",
      "\n"
     ]
    },
    {
     "name": "stderr",
     "output_type": "stream",
     "text": [
      "100%|██████████| 995/995 [04:27<00:00,  3.72it/s]\n"
     ]
    },
    {
     "name": "stdout",
     "output_type": "stream",
     "text": [
      "Epoch 20 f1: 0.62546 val_f1: 0.6138\n",
      "         acc: 0.89347 val_acc: 0.72177\n",
      "         loss: 0.00063005 val_loss: 0.0029594\n",
      "\n"
     ]
    },
    {
     "data": {
      "text/plain": [
       "([tensor(0.0010, device='cuda:0', grad_fn=<DivBackward0>),\n",
       "  tensor(0.0013, device='cuda:0', grad_fn=<DivBackward0>),\n",
       "  tensor(0.0014, device='cuda:0', grad_fn=<DivBackward0>),\n",
       "  tensor(0.0012, device='cuda:0', grad_fn=<DivBackward0>),\n",
       "  tensor(0.0018, device='cuda:0', grad_fn=<DivBackward0>),\n",
       "  tensor(0.0007, device='cuda:0', grad_fn=<DivBackward0>),\n",
       "  tensor(0.0006, device='cuda:0', grad_fn=<DivBackward0>),\n",
       "  tensor(0.0009, device='cuda:0', grad_fn=<DivBackward0>),\n",
       "  tensor(0.0014, device='cuda:0', grad_fn=<DivBackward0>),\n",
       "  tensor(0.0006, device='cuda:0', grad_fn=<DivBackward0>),\n",
       "  tensor(0.0006, device='cuda:0', grad_fn=<DivBackward0>),\n",
       "  tensor(0.0006, device='cuda:0', grad_fn=<DivBackward0>),\n",
       "  tensor(0.0006, device='cuda:0', grad_fn=<DivBackward0>),\n",
       "  tensor(0.0008, device='cuda:0', grad_fn=<DivBackward0>),\n",
       "  tensor(0.0006, device='cuda:0', grad_fn=<DivBackward0>),\n",
       "  tensor(0.0019, device='cuda:0', grad_fn=<DivBackward0>),\n",
       "  tensor(0.0006, device='cuda:0', grad_fn=<DivBackward0>),\n",
       "  tensor(0.0007, device='cuda:0', grad_fn=<DivBackward0>),\n",
       "  tensor(0.0006, device='cuda:0', grad_fn=<DivBackward0>),\n",
       "  tensor(0.0006, device='cuda:0', grad_fn=<DivBackward0>)],\n",
       " [tensor(0.0071, device='cuda:0'),\n",
       "  tensor(0.0054, device='cuda:0'),\n",
       "  tensor(0.0042, device='cuda:0'),\n",
       "  tensor(0.0043, device='cuda:0'),\n",
       "  tensor(0.0060, device='cuda:0'),\n",
       "  tensor(0.0070, device='cuda:0'),\n",
       "  tensor(0.0049, device='cuda:0'),\n",
       "  tensor(0.0021, device='cuda:0'),\n",
       "  tensor(0.0039, device='cuda:0'),\n",
       "  tensor(0.0045, device='cuda:0'),\n",
       "  tensor(0.0018, device='cuda:0'),\n",
       "  tensor(0.0040, device='cuda:0'),\n",
       "  tensor(0.0030, device='cuda:0'),\n",
       "  tensor(0.0055, device='cuda:0'),\n",
       "  tensor(0.0021, device='cuda:0'),\n",
       "  tensor(0.0044, device='cuda:0'),\n",
       "  tensor(0.0063, device='cuda:0'),\n",
       "  tensor(0.0038, device='cuda:0'),\n",
       "  tensor(0.0039, device='cuda:0'),\n",
       "  tensor(0.0030, device='cuda:0')],\n",
       " [[0.49899497487437183,\n",
       "   0.44472361809045224,\n",
       "   0.621608040201005,\n",
       "   0.45494137353433944],\n",
       "  [0.5678391959798995,\n",
       "   0.48542713567839196,\n",
       "   0.6678391959798995,\n",
       "   0.5128978224455624],\n",
       "  [0.5517587939698493,\n",
       "   0.47688442211055276,\n",
       "   0.6195979899497488,\n",
       "   0.4971524288107219],\n",
       "  [0.44271356783919597,\n",
       "   0.3748743718592965,\n",
       "   0.5839195979899497,\n",
       "   0.39396984924623196],\n",
       "  [0.5115577889447236,\n",
       "   0.43165829145728646,\n",
       "   0.6482412060301508,\n",
       "   0.4572864321608051],\n",
       "  [0.5884422110552764,\n",
       "   0.5090452261306533,\n",
       "   0.6944723618090453,\n",
       "   0.5336683417085437],\n",
       "  [0.606532663316583,\n",
       "   0.5271356783919598,\n",
       "   0.707035175879397,\n",
       "   0.553433835845897],\n",
       "  [0.6110552763819096,\n",
       "   0.5296482412060302,\n",
       "   0.7150753768844221,\n",
       "   0.5567839195979905],\n",
       "  [0.6351758793969849,\n",
       "   0.5577889447236181,\n",
       "   0.7301507537688442,\n",
       "   0.5835845896147405],\n",
       "  [0.6396984924623116,\n",
       "   0.5658291457286432,\n",
       "   0.7236180904522613,\n",
       "   0.5882747068676718],\n",
       "  [0.6100502512562814,\n",
       "   0.5844221105527638,\n",
       "   0.8015075376884422,\n",
       "   0.585594639865997],\n",
       "  [0.5894472361809046,\n",
       "   0.5733668341708543,\n",
       "   0.8221105527638191,\n",
       "   0.5728643216080405],\n",
       "  [0.5969849246231156,\n",
       "   0.5969849246231156,\n",
       "   0.8678391959798994,\n",
       "   0.5899497487437186],\n",
       "  [0.5949748743718593,\n",
       "   0.6045226130653266,\n",
       "   0.8587939698492463,\n",
       "   0.5899497487437187],\n",
       "  [0.6040201005025125,\n",
       "   0.607035175879397,\n",
       "   0.8824120603015075,\n",
       "   0.5979899497487439],\n",
       "  [0.6010050251256281,\n",
       "   0.6185929648241206,\n",
       "   0.8869346733668342,\n",
       "   0.603350083752094],\n",
       "  [0.6206030150753769,\n",
       "   0.621608040201005,\n",
       "   0.8974874371859296,\n",
       "   0.6140703517587944],\n",
       "  [0.6326633165829145,\n",
       "   0.6321608040201006,\n",
       "   0.9030150753768844,\n",
       "   0.6257956448911228],\n",
       "  [0.6276381909547739,\n",
       "   0.635678391959799,\n",
       "   0.9095477386934674,\n",
       "   0.6257956448911224],\n",
       "  [0.6256281407035176,\n",
       "   0.6412060301507537,\n",
       "   0.893467336683417,\n",
       "   0.6254606365159127]],\n",
       " [[0.478494623655914,\n",
       "   0.41801075268817206,\n",
       "   0.6841397849462365,\n",
       "   0.43817204301075263],\n",
       "  [0.1774193548387097,\n",
       "   0.12365591397849462,\n",
       "   0.28763440860215056,\n",
       "   0.1415770609318996],\n",
       "  [0.49193548387096775,\n",
       "   0.42338709677419356,\n",
       "   0.6747311827956989,\n",
       "   0.44623655913978466],\n",
       "  [0.11021505376344086,\n",
       "   0.06317204301075269,\n",
       "   0.36693548387096775,\n",
       "   0.07885304659498212],\n",
       "  [0.5591397849462365,\n",
       "   0.5080645161290323,\n",
       "   0.7620967741935484,\n",
       "   0.5250896057347665],\n",
       "  [0.5, 0.46639784946236557, 0.678763440860215, 0.47759856630824354],\n",
       "  [0.603494623655914,\n",
       "   0.5860215053763441,\n",
       "   0.7795698924731183,\n",
       "   0.5913978494623654],\n",
       "  [0.6223118279569892,\n",
       "   0.5994623655913979,\n",
       "   0.6922043010752689,\n",
       "   0.6066308243727597],\n",
       "  [0.6088709677419355,\n",
       "   0.571236559139785,\n",
       "   0.7163978494623656,\n",
       "   0.5833333333333331],\n",
       "  [0.6196236559139785,\n",
       "   0.592741935483871,\n",
       "   0.6935483870967742,\n",
       "   0.6012544802867382],\n",
       "  [0.6196236559139785,\n",
       "   0.5967741935483871,\n",
       "   0.7352150537634409,\n",
       "   0.603942652329749],\n",
       "  [0.5873655913978495,\n",
       "   0.5389784946236559,\n",
       "   0.7365591397849462,\n",
       "   0.5546594982078851],\n",
       "  [0.603494623655914,\n",
       "   0.5591397849462365,\n",
       "   0.7567204301075269,\n",
       "   0.5734767025089603],\n",
       "  [0.5766129032258065,\n",
       "   0.5161290322580645,\n",
       "   0.7553763440860215,\n",
       "   0.5358422939068097],\n",
       "  [0.614247311827957,\n",
       "   0.6021505376344086,\n",
       "   0.7486559139784946,\n",
       "   0.6057347670250894],\n",
       "  [0.6223118279569892,\n",
       "   0.6088709677419355,\n",
       "   0.7459677419354839,\n",
       "   0.6129032258064513],\n",
       "  [0.5591397849462365,\n",
       "   0.5053763440860215,\n",
       "   0.7688172043010753,\n",
       "   0.5232974910394262],\n",
       "  [0.6196236559139785,\n",
       "   0.6129032258064516,\n",
       "   0.7553763440860215,\n",
       "   0.614695340501792],\n",
       "  [0.6196236559139785,\n",
       "   0.6129032258064516,\n",
       "   0.760752688172043,\n",
       "   0.614695340501792],\n",
       "  [0.6223118279569892,\n",
       "   0.6102150537634409,\n",
       "   0.7217741935483871,\n",
       "   0.6137992831541216]],\n",
       " 0.7795698924731183)"
      ]
     },
     "execution_count": 92,
     "metadata": {},
     "output_type": "execute_result"
    }
   ],
   "source": [
    "model = torchvision.models.efficientnet_v2_l(weights=torchvision.models.EfficientNet_V2_L_Weights.DEFAULT)\n",
    "model.classifier = nn.Sequential(nn.Linear(1280, 960), nn.ReLU(), nn.Dropout(0.2), \n",
    "                                 nn.Linear(960, 540), nn.ReLU(), nn.Dropout(0.2),\n",
    "                                 nn.Linear(540, 320), nn.ReLU(), nn.Dropout(0.2),\n",
    "                                 nn.Linear(320, 100), nn.ReLU(), nn.Dropout(0.2), \n",
    "                                 nn.Linear(100, 2), nn.Softmax(dim=1))\n",
    "\n",
    "loss = nn.CrossEntropyLoss()\n",
    "optimizer = torch.optim.Adam(model.parameters(), lr= 2e-4)\n",
    "scheduler = torch.optim.lr_scheduler.StepLR(optimizer, step_size=2, gamma=0.6)\n",
    "model.to(DEVICE)\n",
    "local_metric_fn = [recall_score, precision_score, accuracy_score, f1_score]\n",
    "\n",
    "train(model,20,trn_dl,test_dl,loss,scheduler,optimizer,local_metric_fn,i=100)"
   ]
  },
  {
   "cell_type": "markdown",
   "id": "ef7864b3",
   "metadata": {},
   "source": [
    "### Frozen layers"
   ]
  },
  {
   "cell_type": "code",
   "execution_count": 94,
   "id": "8bdea299",
   "metadata": {},
   "outputs": [
    {
     "name": "stderr",
     "output_type": "stream",
     "text": [
      "100%|██████████| 995/995 [04:15<00:00,  3.89it/s]\n"
     ]
    },
    {
     "name": "stdout",
     "output_type": "stream",
     "text": [
      "Epoch 1 f1: 0.52127 val_f1: 0.40502\n",
      "         acc: 0.70151 val_acc: 0.65054\n",
      "         loss: 0.00082393 val_loss: 0.028489\n",
      "\n"
     ]
    },
    {
     "name": "stderr",
     "output_type": "stream",
     "text": [
      "100%|██████████| 995/995 [04:15<00:00,  3.89it/s]\n"
     ]
    },
    {
     "name": "stdout",
     "output_type": "stream",
     "text": [
      "Epoch 2 f1: 0.57856 val_f1: 0.56183\n",
      "         acc: 0.8196 val_acc: 0.65726\n",
      "         loss: 0.00015438 val_loss: 0.0088318\n",
      "\n"
     ]
    },
    {
     "name": "stderr",
     "output_type": "stream",
     "text": [
      "100%|██████████| 995/995 [04:16<00:00,  3.88it/s]\n"
     ]
    },
    {
     "name": "stdout",
     "output_type": "stream",
     "text": [
      "Epoch 3 f1: 0.62647 val_f1: 0.65233\n",
      "         acc: 0.9005 val_acc: 0.6828\n",
      "         loss: 0.00057441 val_loss: 0.0028024\n",
      "\n"
     ]
    },
    {
     "name": "stderr",
     "output_type": "stream",
     "text": [
      "100%|██████████| 995/995 [04:15<00:00,  3.89it/s]\n"
     ]
    },
    {
     "name": "stdout",
     "output_type": "stream",
     "text": [
      "Epoch 4 f1: 0.64255 val_f1: 0.62366\n",
      "         acc: 0.93116 val_acc: 0.77554\n",
      "         loss: 0.0005061 val_loss: 0.0081029\n",
      "\n"
     ]
    },
    {
     "data": {
      "text/plain": [
       "([tensor(0.0008, device='cuda:0', grad_fn=<DivBackward0>),\n",
       "  tensor(0.0002, device='cuda:0', grad_fn=<DivBackward0>),\n",
       "  tensor(0.0006, device='cuda:0', grad_fn=<DivBackward0>),\n",
       "  tensor(0.0005, device='cuda:0', grad_fn=<DivBackward0>)],\n",
       " [tensor(0.0285, device='cuda:0'),\n",
       "  tensor(0.0088, device='cuda:0'),\n",
       "  tensor(0.0028, device='cuda:0'),\n",
       "  tensor(0.0081, device='cuda:0')],\n",
       " [[0.5608040201005026,\n",
       "   0.5065326633165829,\n",
       "   0.7015075376884422,\n",
       "   0.5212730318257964],\n",
       "  [0.6025125628140704,\n",
       "   0.5753768844221105,\n",
       "   0.8195979899497488,\n",
       "   0.5785594639866001],\n",
       "  [0.6346733668341709,\n",
       "   0.6331658291457286,\n",
       "   0.9005025125628141,\n",
       "   0.6264656616415408],\n",
       "  [0.6477386934673367,\n",
       "   0.6472361809045226,\n",
       "   0.9311557788944723,\n",
       "   0.6425460636515911]],\n",
       " [[0.4543010752688172,\n",
       "   0.3803763440860215,\n",
       "   0.6505376344086021,\n",
       "   0.4050179211469533],\n",
       "  [0.5860215053763441,\n",
       "   0.5497311827956989,\n",
       "   0.657258064516129,\n",
       "   0.561827956989247],\n",
       "  [0.6586021505376344,\n",
       "   0.6491935483870968,\n",
       "   0.6827956989247311,\n",
       "   0.6523297491039426],\n",
       "  [0.6424731182795699,\n",
       "   0.614247311827957,\n",
       "   0.7755376344086021,\n",
       "   0.6236559139784943]],\n",
       " 0.7755376344086021)"
      ]
     },
     "execution_count": 94,
     "metadata": {},
     "output_type": "execute_result"
    }
   ],
   "source": [
    "model1 = torchvision.models.efficientnet_v2_l(weights=torchvision.models.EfficientNet_V2_L_Weights.DEFAULT)\n",
    "for param in model1.features[7].parameters():\n",
    "    param.requires_grad = False\n",
    "model1.classifier = nn.Sequential(nn.Linear(1280, 512), nn.ReLU(), nn.Dropout(0.2),nn.Linear(512, 2))\n",
    "\n",
    "loss = nn.CrossEntropyLoss()\n",
    "optimizer = torch.optim.Adam(model1.parameters(), lr= 2e-4)\n",
    "scheduler = torch.optim.lr_scheduler.StepLR(optimizer, step_size=2, gamma=0.6)\n",
    "model1.to(DEVICE)\n",
    "local_metric_fn = [recall_score, precision_score, accuracy_score, f1_score]\n",
    "\n",
    "train(model1,4,trn_dl,test_dl,loss,scheduler,optimizer,local_metric_fn,i=100)"
   ]
  },
  {
   "cell_type": "code",
   "execution_count": null,
   "id": "5cb6136a",
   "metadata": {},
   "outputs": [],
   "source": []
  }
 ],
 "metadata": {
  "kernelspec": {
   "display_name": "Python 3 (ipykernel)",
   "language": "python",
   "name": "python3"
  },
  "language_info": {
   "codemirror_mode": {
    "name": "ipython",
    "version": 3
   },
   "file_extension": ".py",
   "mimetype": "text/x-python",
   "name": "python",
   "nbconvert_exporter": "python",
   "pygments_lexer": "ipython3",
   "version": "3.9.13"
  }
 },
 "nbformat": 4,
 "nbformat_minor": 5
}
